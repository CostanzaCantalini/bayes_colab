{
 "cells": [
  {
   "cell_type": "code",
   "execution_count": 1,
   "id": "d55eaeaa-be70-4f4f-aea1-74ec3833ac01",
   "metadata": {},
   "outputs": [
    {
     "name": "stderr",
     "output_type": "stream",
     "text": [
      "18:42:41 - cmdstanpy - INFO - compiling stan file /home/br1/PythonProjects/PythonStats/ARIMA_last_computation/Spatial/code.stan to exe file /home/br1/PythonProjects/PythonStats/ARIMA_last_computation/Spatial/code\n",
      "18:43:17 - cmdstanpy - INFO - compiled model executable: /home/br1/PythonProjects/PythonStats/ARIMA_last_computation/Spatial/code\n"
     ]
    }
   ],
   "source": [
    "from cmdstanpy import cmdstan_path, CmdStanModel\n",
    "stan_model = CmdStanModel(stan_file='code.stan', compile=\"force\",stanc_options={\"O1\":\"\"})"
   ]
  },
  {
   "cell_type": "code",
   "execution_count": null,
   "id": "463130fb-919a-418a-849c-8fbef318bd04",
   "metadata": {},
   "outputs": [],
   "source": []
  }
 ],
 "metadata": {
  "kernelspec": {
   "display_name": "Python 3 (ipykernel)",
   "language": "python",
   "name": "python3"
  },
  "language_info": {
   "codemirror_mode": {
    "name": "ipython",
    "version": 3
   },
   "file_extension": ".py",
   "mimetype": "text/x-python",
   "name": "python",
   "nbconvert_exporter": "python",
   "pygments_lexer": "ipython3",
   "version": "3.10.6"
  }
 },
 "nbformat": 4,
 "nbformat_minor": 5
}
