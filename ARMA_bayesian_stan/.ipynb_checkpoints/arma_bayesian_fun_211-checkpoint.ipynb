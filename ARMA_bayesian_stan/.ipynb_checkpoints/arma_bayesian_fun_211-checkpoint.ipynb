{
 "cells": [
  {
   "cell_type": "code",
   "execution_count": 1,
   "id": "679f5520-bab3-443b-a55f-5a34d26a60ad",
   "metadata": {},
   "outputs": [],
   "source": [
    "import pandas as pd\n",
    "import numpy as np\n",
    "import scipy as sp\n",
    "import scipy.stats as spst\n",
    "import matplotlib as mpl\n",
    "import matplotlib.pyplot as plt\n",
    "import seaborn as sns\n",
    "\n",
    "import datetime\n",
    "\n",
    "import arviz as az\n",
    "from cmdstanpy import cmdstan_path, CmdStanModel"
   ]
  },
  {
   "cell_type": "code",
   "execution_count": 2,
   "id": "ea48e291",
   "metadata": {},
   "outputs": [
    {
     "data": {
      "text/html": [
       "<div>\n",
       "<style scoped>\n",
       "    .dataframe tbody tr th:only-of-type {\n",
       "        vertical-align: middle;\n",
       "    }\n",
       "\n",
       "    .dataframe tbody tr th {\n",
       "        vertical-align: top;\n",
       "    }\n",
       "\n",
       "    .dataframe thead th {\n",
       "        text-align: right;\n",
       "    }\n",
       "</style>\n",
       "<table border=\"1\" class=\"dataframe\">\n",
       "  <thead>\n",
       "    <tr style=\"text-align: right;\">\n",
       "      <th></th>\n",
       "      <th>02000003_005_202007.csv</th>\n",
       "      <th>COD_STAZ</th>\n",
       "      <th>ID_PARAM</th>\n",
       "      <th>DATA_INIZIO</th>\n",
       "      <th>DATA_FINE</th>\n",
       "      <th>VALORE</th>\n",
       "      <th>UM</th>\n",
       "      <th>Anno</th>\n",
       "      <th>Mese</th>\n",
       "      <th>Giorno</th>\n",
       "      <th>...</th>\n",
       "      <th>Mesenome</th>\n",
       "      <th>Stazione</th>\n",
       "      <th>COMUNE</th>\n",
       "      <th>INDIRIZZO</th>\n",
       "      <th>PROVINCIA</th>\n",
       "      <th>Altezza</th>\n",
       "      <th>PARAMETRO</th>\n",
       "      <th>TipoStazione</th>\n",
       "      <th>TipoArea</th>\n",
       "      <th>Zonizzazione</th>\n",
       "    </tr>\n",
       "  </thead>\n",
       "  <tbody>\n",
       "    <tr>\n",
       "      <th>0</th>\n",
       "      <td>02000003_005_202007.txt</td>\n",
       "      <td>2000003</td>\n",
       "      <td>5</td>\n",
       "      <td>43831</td>\n",
       "      <td>43832</td>\n",
       "      <td>52</td>\n",
       "      <td>ug/m3</td>\n",
       "      <td>2020</td>\n",
       "      <td>1</td>\n",
       "      <td>1</td>\n",
       "      <td>...</td>\n",
       "      <td>gennaio</td>\n",
       "      <td>CITTADELLA</td>\n",
       "      <td>PARMA</td>\n",
       "      <td>PARCO CITTADELLA</td>\n",
       "      <td>PR</td>\n",
       "      <td>60.0</td>\n",
       "      <td>PM10</td>\n",
       "      <td>Fondo</td>\n",
       "      <td>Urbano</td>\n",
       "      <td>Pianura Ovest</td>\n",
       "    </tr>\n",
       "    <tr>\n",
       "      <th>1</th>\n",
       "      <td>02000003_005_202007.txt</td>\n",
       "      <td>2000003</td>\n",
       "      <td>5</td>\n",
       "      <td>43832</td>\n",
       "      <td>43833</td>\n",
       "      <td>59</td>\n",
       "      <td>ug/m3</td>\n",
       "      <td>2020</td>\n",
       "      <td>1</td>\n",
       "      <td>2</td>\n",
       "      <td>...</td>\n",
       "      <td>gennaio</td>\n",
       "      <td>CITTADELLA</td>\n",
       "      <td>PARMA</td>\n",
       "      <td>PARCO CITTADELLA</td>\n",
       "      <td>PR</td>\n",
       "      <td>60.0</td>\n",
       "      <td>PM10</td>\n",
       "      <td>Fondo</td>\n",
       "      <td>Urbano</td>\n",
       "      <td>Pianura Ovest</td>\n",
       "    </tr>\n",
       "    <tr>\n",
       "      <th>2</th>\n",
       "      <td>02000003_005_202007.txt</td>\n",
       "      <td>2000003</td>\n",
       "      <td>5</td>\n",
       "      <td>43833</td>\n",
       "      <td>43834</td>\n",
       "      <td>45</td>\n",
       "      <td>ug/m3</td>\n",
       "      <td>2020</td>\n",
       "      <td>1</td>\n",
       "      <td>3</td>\n",
       "      <td>...</td>\n",
       "      <td>gennaio</td>\n",
       "      <td>CITTADELLA</td>\n",
       "      <td>PARMA</td>\n",
       "      <td>PARCO CITTADELLA</td>\n",
       "      <td>PR</td>\n",
       "      <td>60.0</td>\n",
       "      <td>PM10</td>\n",
       "      <td>Fondo</td>\n",
       "      <td>Urbano</td>\n",
       "      <td>Pianura Ovest</td>\n",
       "    </tr>\n",
       "    <tr>\n",
       "      <th>3</th>\n",
       "      <td>02000003_005_202007.txt</td>\n",
       "      <td>2000003</td>\n",
       "      <td>5</td>\n",
       "      <td>43834</td>\n",
       "      <td>43835</td>\n",
       "      <td>42</td>\n",
       "      <td>ug/m3</td>\n",
       "      <td>2020</td>\n",
       "      <td>1</td>\n",
       "      <td>4</td>\n",
       "      <td>...</td>\n",
       "      <td>gennaio</td>\n",
       "      <td>CITTADELLA</td>\n",
       "      <td>PARMA</td>\n",
       "      <td>PARCO CITTADELLA</td>\n",
       "      <td>PR</td>\n",
       "      <td>60.0</td>\n",
       "      <td>PM10</td>\n",
       "      <td>Fondo</td>\n",
       "      <td>Urbano</td>\n",
       "      <td>Pianura Ovest</td>\n",
       "    </tr>\n",
       "    <tr>\n",
       "      <th>4</th>\n",
       "      <td>02000003_005_202007.txt</td>\n",
       "      <td>2000003</td>\n",
       "      <td>5</td>\n",
       "      <td>43835</td>\n",
       "      <td>43836</td>\n",
       "      <td>31</td>\n",
       "      <td>ug/m3</td>\n",
       "      <td>2020</td>\n",
       "      <td>1</td>\n",
       "      <td>5</td>\n",
       "      <td>...</td>\n",
       "      <td>gennaio</td>\n",
       "      <td>CITTADELLA</td>\n",
       "      <td>PARMA</td>\n",
       "      <td>PARCO CITTADELLA</td>\n",
       "      <td>PR</td>\n",
       "      <td>60.0</td>\n",
       "      <td>PM10</td>\n",
       "      <td>Fondo</td>\n",
       "      <td>Urbano</td>\n",
       "      <td>Pianura Ovest</td>\n",
       "    </tr>\n",
       "  </tbody>\n",
       "</table>\n",
       "<p>5 rows × 21 columns</p>\n",
       "</div>"
      ],
      "text/plain": [
       "   02000003_005_202007.csv  COD_STAZ  ID_PARAM DATA_INIZIO  DATA_FINE  VALORE  \\\n",
       "0  02000003_005_202007.txt   2000003         5       43831      43832      52   \n",
       "1  02000003_005_202007.txt   2000003         5       43832      43833      59   \n",
       "2  02000003_005_202007.txt   2000003         5       43833      43834      45   \n",
       "3  02000003_005_202007.txt   2000003         5       43834      43835      42   \n",
       "4  02000003_005_202007.txt   2000003         5       43835      43836      31   \n",
       "\n",
       "      UM  Anno  Mese  Giorno  ... Mesenome    Stazione COMUNE  \\\n",
       "0  ug/m3  2020     1       1  ...  gennaio  CITTADELLA  PARMA   \n",
       "1  ug/m3  2020     1       2  ...  gennaio  CITTADELLA  PARMA   \n",
       "2  ug/m3  2020     1       3  ...  gennaio  CITTADELLA  PARMA   \n",
       "3  ug/m3  2020     1       4  ...  gennaio  CITTADELLA  PARMA   \n",
       "4  ug/m3  2020     1       5  ...  gennaio  CITTADELLA  PARMA   \n",
       "\n",
       "          INDIRIZZO PROVINCIA Altezza  PARAMETRO TipoStazione TipoArea  \\\n",
       "0  PARCO CITTADELLA        PR    60.0       PM10        Fondo   Urbano   \n",
       "1  PARCO CITTADELLA        PR    60.0       PM10        Fondo   Urbano   \n",
       "2  PARCO CITTADELLA        PR    60.0       PM10        Fondo   Urbano   \n",
       "3  PARCO CITTADELLA        PR    60.0       PM10        Fondo   Urbano   \n",
       "4  PARCO CITTADELLA        PR    60.0       PM10        Fondo   Urbano   \n",
       "\n",
       "    Zonizzazione  \n",
       "0  Pianura Ovest  \n",
       "1  Pianura Ovest  \n",
       "2  Pianura Ovest  \n",
       "3  Pianura Ovest  \n",
       "4  Pianura Ovest  \n",
       "\n",
       "[5 rows x 21 columns]"
      ]
     },
     "execution_count": 2,
     "metadata": {},
     "output_type": "execute_result"
    }
   ],
   "source": [
    "df = pd.read_csv(\"./dati_polveri/polveri_emilia_PM10.csv\")\n",
    "df.head()"
   ]
  },
  {
   "cell_type": "code",
   "execution_count": 3,
   "id": "ffb108ca-ba28-4869-a66f-43eedef97d8b",
   "metadata": {},
   "outputs": [],
   "source": [
    "def string_date(anno,mese,giorno):\n",
    "    return str(anno)+\"-\"+str(mese).zfill(2)+\"-\"+str(giorno).zfill(2)"
   ]
  },
  {
   "cell_type": "code",
   "execution_count": 4,
   "id": "4ee348d0-736a-42c9-b0cf-2621fafb3845",
   "metadata": {},
   "outputs": [
    {
     "data": {
      "text/html": [
       "<div>\n",
       "<style scoped>\n",
       "    .dataframe tbody tr th:only-of-type {\n",
       "        vertical-align: middle;\n",
       "    }\n",
       "\n",
       "    .dataframe tbody tr th {\n",
       "        vertical-align: top;\n",
       "    }\n",
       "\n",
       "    .dataframe thead th {\n",
       "        text-align: right;\n",
       "    }\n",
       "</style>\n",
       "<table border=\"1\" class=\"dataframe\">\n",
       "  <thead>\n",
       "    <tr style=\"text-align: right;\">\n",
       "      <th></th>\n",
       "      <th>Stazione</th>\n",
       "      <th>VALORE</th>\n",
       "      <th>TipoStazione</th>\n",
       "      <th>TipoArea</th>\n",
       "      <th>Zonizzazione</th>\n",
       "      <th>Altezza</th>\n",
       "      <th>Mese</th>\n",
       "      <th>Date</th>\n",
       "      <th>LogVal</th>\n",
       "    </tr>\n",
       "  </thead>\n",
       "  <tbody>\n",
       "    <tr>\n",
       "      <th>75727</th>\n",
       "      <td>BADIA</td>\n",
       "      <td>39</td>\n",
       "      <td>Fondo</td>\n",
       "      <td>Rurale</td>\n",
       "      <td>Pianura Ovest</td>\n",
       "      <td>202.0</td>\n",
       "      <td>Gennaio</td>\n",
       "      <td>2018-01-01</td>\n",
       "      <td>3.663562</td>\n",
       "    </tr>\n",
       "    <tr>\n",
       "      <th>75728</th>\n",
       "      <td>BADIA</td>\n",
       "      <td>13</td>\n",
       "      <td>Fondo</td>\n",
       "      <td>Rurale</td>\n",
       "      <td>Pianura Ovest</td>\n",
       "      <td>202.0</td>\n",
       "      <td>Gennaio</td>\n",
       "      <td>2018-01-02</td>\n",
       "      <td>2.564949</td>\n",
       "    </tr>\n",
       "    <tr>\n",
       "      <th>75729</th>\n",
       "      <td>BADIA</td>\n",
       "      <td>12</td>\n",
       "      <td>Fondo</td>\n",
       "      <td>Rurale</td>\n",
       "      <td>Pianura Ovest</td>\n",
       "      <td>202.0</td>\n",
       "      <td>Gennaio</td>\n",
       "      <td>2018-01-03</td>\n",
       "      <td>2.484907</td>\n",
       "    </tr>\n",
       "    <tr>\n",
       "      <th>75730</th>\n",
       "      <td>BADIA</td>\n",
       "      <td>15</td>\n",
       "      <td>Fondo</td>\n",
       "      <td>Rurale</td>\n",
       "      <td>Pianura Ovest</td>\n",
       "      <td>202.0</td>\n",
       "      <td>Gennaio</td>\n",
       "      <td>2018-01-04</td>\n",
       "      <td>2.708050</td>\n",
       "    </tr>\n",
       "    <tr>\n",
       "      <th>75731</th>\n",
       "      <td>BADIA</td>\n",
       "      <td>34</td>\n",
       "      <td>Fondo</td>\n",
       "      <td>Rurale</td>\n",
       "      <td>Pianura Ovest</td>\n",
       "      <td>202.0</td>\n",
       "      <td>Gennaio</td>\n",
       "      <td>2018-01-05</td>\n",
       "      <td>3.526361</td>\n",
       "    </tr>\n",
       "  </tbody>\n",
       "</table>\n",
       "</div>"
      ],
      "text/plain": [
       "      Stazione  VALORE TipoStazione TipoArea   Zonizzazione  Altezza     Mese  \\\n",
       "75727    BADIA      39        Fondo   Rurale  Pianura Ovest    202.0  Gennaio   \n",
       "75728    BADIA      13        Fondo   Rurale  Pianura Ovest    202.0  Gennaio   \n",
       "75729    BADIA      12        Fondo   Rurale  Pianura Ovest    202.0  Gennaio   \n",
       "75730    BADIA      15        Fondo   Rurale  Pianura Ovest    202.0  Gennaio   \n",
       "75731    BADIA      34        Fondo   Rurale  Pianura Ovest    202.0  Gennaio   \n",
       "\n",
       "             Date    LogVal  \n",
       "75727  2018-01-01  3.663562  \n",
       "75728  2018-01-02  2.564949  \n",
       "75729  2018-01-03  2.484907  \n",
       "75730  2018-01-04  2.708050  \n",
       "75731  2018-01-05  3.526361  "
      ]
     },
     "execution_count": 4,
     "metadata": {},
     "output_type": "execute_result"
    }
   ],
   "source": [
    "#res = df[(df['Stazione']=='MARECCHIA')]\n",
    "res = df[df['Anno'] == 2018].copy()\n",
    "aux_df = res[['Anno','Mese', 'Giorno', 'Stazione', 'VALORE']].copy()\n",
    "aux_df['VALORE'].replace(to_replace=0, value=1, inplace=True)\n",
    "lista_date = aux_df.apply(lambda vec : string_date(vec[0],vec[1],vec[2]),axis=1).tolist()\n",
    "lista_log = aux_df.apply(lambda vec : np.log(vec[4]),axis=1).tolist()\n",
    "\n",
    "final_df = res[['Stazione','VALORE','TipoStazione','TipoArea','Zonizzazione','Altezza','Mese']].copy()\n",
    "final_df['Date'] = lista_date\n",
    "final_df['LogVal'] = lista_log\n",
    "\n",
    "final_df['Mese'].replace(to_replace=1, value='Gennaio', inplace=True)\n",
    "final_df['Mese'].replace(to_replace=2, value='Febbraio', inplace=True)\n",
    "final_df['Mese'].replace(to_replace=3, value='Marzo', inplace=True)\n",
    "final_df['Mese'].replace(to_replace=4, value='Aprile', inplace=True)\n",
    "final_df['Mese'].replace(to_replace=5, value='Maggio', inplace=True)\n",
    "final_df['Mese'].replace(to_replace=6, value='Giugno', inplace=True)\n",
    "final_df['Mese'].replace(to_replace=7, value='Luglio', inplace=True)\n",
    "final_df['Mese'].replace(to_replace=8, value='Agosto', inplace=True)\n",
    "final_df['Mese'].replace(to_replace=9, value='Settembre', inplace=True)\n",
    "final_df['Mese'].replace(to_replace=10, value='Ottobre', inplace=True)\n",
    "final_df['Mese'].replace(to_replace=11, value='Novembre', inplace=True)\n",
    "final_df['Mese'].replace(to_replace=12, value='Dicembre', inplace=True)\n",
    "\n",
    "\n",
    "final_df = final_df.sort_values(by=['Stazione','Date'])\n",
    "final_df.head()"
   ]
  },
  {
   "cell_type": "code",
   "execution_count": 5,
   "id": "3d371c8e-3870-4354-a57e-0d4c5fff6650",
   "metadata": {},
   "outputs": [],
   "source": [
    "stazioni_df = final_df.copy()\n",
    "stazioni_df = stazioni_df.sort_values(by=['Stazione'])\n",
    "## Ordine: alfabetico\n",
    "stazioni_df = stazioni_df[['Stazione']]\n",
    "stazioni_df.drop_duplicates(inplace=True)\n",
    "stazioni_df = stazioni_df.reset_index()\n",
    "stazioni_df = stazioni_df[['Stazione']]\n",
    "lista_stazioni = stazioni_df['Stazione'].tolist()"
   ]
  },
  {
   "cell_type": "code",
   "execution_count": 6,
   "id": "58eb9111-eca1-49aa-a3b4-b33f3a006268",
   "metadata": {},
   "outputs": [
    {
     "name": "stdout",
     "output_type": "stream",
     "text": [
      "[2.8903717578961645, 3.1354942159291497, 3.2188758248682006, 3.1354942159291497, 3.091042453358316, 2.1972245773362196, 3.2188758248682006, 3.1780538303479458, 3.332204510175204, 2.302585092994046, 2.995732273553991, 3.1354942159291497, 2.302585092994046, 3.295836866004329, 3.044522437723423, 3.091042453358316, 3.4011973816621555, 3.1354942159291497, 3.332204510175204, 2.9444389791664403, 3.258096538021482, 3.2188758248682006, 3.044522437723423, 3.295836866004329, 2.995732273553991, 3.332204510175204, 3.2188758248682006, 2.995732273553991, 3.091042453358316, 3.1780538303479458, 3.1780538303479458, 2.9700856263602153, 3.1354942159291497, 3.2188758248682006, 3.091042453358316, 3.258096538021482, 3.295836866004329, 3.367295829986474, 3.044522437723423, 2.70805020110221, 3.044522437723423, 3.2188758248682006, 3.044522437723423, 2.3978952727983707, 3.4657359027997265, 2.833213344056216, 3.044522437723423, 3.1354942159291497, 3.1354942159291497]\n"
     ]
    }
   ],
   "source": [
    "lista_mediane_stazioni = []\n",
    "for stazione in lista_stazioni:\n",
    "    aux_df = final_df[final_df['Stazione'] == stazione]\n",
    "    aux_df = aux_df[['LogVal']]\n",
    "    logvalori = aux_df.to_numpy()\n",
    "    lista_mediane_stazioni.append(np.median(logvalori))\n",
    "    \n",
    "    \n",
    "print(lista_mediane_stazioni)"
   ]
  },
  {
   "cell_type": "code",
   "execution_count": 7,
   "id": "1c3c1313-1be2-4849-8a34-75fbaa7e7695",
   "metadata": {},
   "outputs": [
    {
     "data": {
      "text/html": [
       "<div>\n",
       "<style scoped>\n",
       "    .dataframe tbody tr th:only-of-type {\n",
       "        vertical-align: middle;\n",
       "    }\n",
       "\n",
       "    .dataframe tbody tr th {\n",
       "        vertical-align: top;\n",
       "    }\n",
       "\n",
       "    .dataframe thead th {\n",
       "        text-align: right;\n",
       "    }\n",
       "</style>\n",
       "<table border=\"1\" class=\"dataframe\">\n",
       "  <thead>\n",
       "    <tr style=\"text-align: right;\">\n",
       "      <th></th>\n",
       "      <th>Stazione</th>\n",
       "      <th>Mediana</th>\n",
       "    </tr>\n",
       "  </thead>\n",
       "  <tbody>\n",
       "    <tr>\n",
       "      <th>5</th>\n",
       "      <td>CASTELLUCCIO</td>\n",
       "      <td>2.197225</td>\n",
       "    </tr>\n",
       "    <tr>\n",
       "      <th>12</th>\n",
       "      <td>FEBBIO</td>\n",
       "      <td>2.302585</td>\n",
       "    </tr>\n",
       "    <tr>\n",
       "      <th>9</th>\n",
       "      <td>CORTE BRUGNATELLA</td>\n",
       "      <td>2.302585</td>\n",
       "    </tr>\n",
       "    <tr>\n",
       "      <th>43</th>\n",
       "      <td>SAVIGNANO DI RIGO</td>\n",
       "      <td>2.397895</td>\n",
       "    </tr>\n",
       "    <tr>\n",
       "      <th>39</th>\n",
       "      <td>SAN LEO</td>\n",
       "      <td>2.708050</td>\n",
       "    </tr>\n",
       "  </tbody>\n",
       "</table>\n",
       "</div>"
      ],
      "text/plain": [
       "             Stazione   Mediana\n",
       "5        CASTELLUCCIO  2.197225\n",
       "12             FEBBIO  2.302585\n",
       "9   CORTE BRUGNATELLA  2.302585\n",
       "43  SAVIGNANO DI RIGO  2.397895\n",
       "39            SAN LEO  2.708050"
      ]
     },
     "execution_count": 7,
     "metadata": {},
     "output_type": "execute_result"
    }
   ],
   "source": [
    "stazioni_df['Mediana'] = lista_mediane_stazioni\n",
    "stazioni_df = stazioni_df.sort_values(by='Mediana')\n",
    "stazioni_df.head()"
   ]
  },
  {
   "cell_type": "code",
   "execution_count": 8,
   "id": "58d6c38f-3ea4-47de-bcf5-173e255f4efc",
   "metadata": {},
   "outputs": [],
   "source": [
    "lista_stazioni_ordinata_per_mediana = stazioni_df['Stazione'].tolist()\n",
    "final_df['Cat_Stazione_Order_By_Median'] = pd.Categorical(final_df['Stazione'], lista_stazioni_ordinata_per_mediana)\n",
    "sorted_final_df = final_df.sort_values(by='Cat_Stazione_Order_By_Median')"
   ]
  },
  {
   "cell_type": "code",
   "execution_count": 9,
   "id": "f019292d-93a5-4080-b02b-dacf87bdd6fb",
   "metadata": {},
   "outputs": [
    {
     "data": {
      "text/html": [
       "<div>\n",
       "<style scoped>\n",
       "    .dataframe tbody tr th:only-of-type {\n",
       "        vertical-align: middle;\n",
       "    }\n",
       "\n",
       "    .dataframe tbody tr th {\n",
       "        vertical-align: top;\n",
       "    }\n",
       "\n",
       "    .dataframe thead th {\n",
       "        text-align: right;\n",
       "    }\n",
       "</style>\n",
       "<table border=\"1\" class=\"dataframe\">\n",
       "  <thead>\n",
       "    <tr style=\"text-align: right;\">\n",
       "      <th></th>\n",
       "      <th>Stazione</th>\n",
       "      <th>VALORE</th>\n",
       "      <th>TipoStazione</th>\n",
       "      <th>TipoArea</th>\n",
       "      <th>Zonizzazione</th>\n",
       "      <th>Altezza</th>\n",
       "      <th>Mese</th>\n",
       "      <th>Date</th>\n",
       "    </tr>\n",
       "  </thead>\n",
       "  <tbody>\n",
       "    <tr>\n",
       "      <th>75727</th>\n",
       "      <td>BADIA</td>\n",
       "      <td>39</td>\n",
       "      <td>Fondo</td>\n",
       "      <td>Rurale</td>\n",
       "      <td>Pianura Ovest</td>\n",
       "      <td>202.0</td>\n",
       "      <td>Gennaio</td>\n",
       "      <td>2018-01-01</td>\n",
       "    </tr>\n",
       "    <tr>\n",
       "      <th>75728</th>\n",
       "      <td>BADIA</td>\n",
       "      <td>13</td>\n",
       "      <td>Fondo</td>\n",
       "      <td>Rurale</td>\n",
       "      <td>Pianura Ovest</td>\n",
       "      <td>202.0</td>\n",
       "      <td>Gennaio</td>\n",
       "      <td>2018-01-02</td>\n",
       "    </tr>\n",
       "    <tr>\n",
       "      <th>75729</th>\n",
       "      <td>BADIA</td>\n",
       "      <td>12</td>\n",
       "      <td>Fondo</td>\n",
       "      <td>Rurale</td>\n",
       "      <td>Pianura Ovest</td>\n",
       "      <td>202.0</td>\n",
       "      <td>Gennaio</td>\n",
       "      <td>2018-01-03</td>\n",
       "    </tr>\n",
       "    <tr>\n",
       "      <th>75730</th>\n",
       "      <td>BADIA</td>\n",
       "      <td>15</td>\n",
       "      <td>Fondo</td>\n",
       "      <td>Rurale</td>\n",
       "      <td>Pianura Ovest</td>\n",
       "      <td>202.0</td>\n",
       "      <td>Gennaio</td>\n",
       "      <td>2018-01-04</td>\n",
       "    </tr>\n",
       "    <tr>\n",
       "      <th>75731</th>\n",
       "      <td>BADIA</td>\n",
       "      <td>34</td>\n",
       "      <td>Fondo</td>\n",
       "      <td>Rurale</td>\n",
       "      <td>Pianura Ovest</td>\n",
       "      <td>202.0</td>\n",
       "      <td>Gennaio</td>\n",
       "      <td>2018-01-05</td>\n",
       "    </tr>\n",
       "  </tbody>\n",
       "</table>\n",
       "</div>"
      ],
      "text/plain": [
       "      Stazione  VALORE TipoStazione TipoArea   Zonizzazione  Altezza     Mese  \\\n",
       "75727    BADIA      39        Fondo   Rurale  Pianura Ovest    202.0  Gennaio   \n",
       "75728    BADIA      13        Fondo   Rurale  Pianura Ovest    202.0  Gennaio   \n",
       "75729    BADIA      12        Fondo   Rurale  Pianura Ovest    202.0  Gennaio   \n",
       "75730    BADIA      15        Fondo   Rurale  Pianura Ovest    202.0  Gennaio   \n",
       "75731    BADIA      34        Fondo   Rurale  Pianura Ovest    202.0  Gennaio   \n",
       "\n",
       "             Date  \n",
       "75727  2018-01-01  \n",
       "75728  2018-01-02  \n",
       "75729  2018-01-03  \n",
       "75730  2018-01-04  \n",
       "75731  2018-01-05  "
      ]
     },
     "execution_count": 9,
     "metadata": {},
     "output_type": "execute_result"
    }
   ],
   "source": [
    "#res = df[(df['Stazione']=='MARECCHIA')]\n",
    "res = df[df['Anno'] == 2018].copy()\n",
    "aux_df = res[['Anno','Mese', 'Giorno', 'Stazione', 'VALORE']].copy()\n",
    "\n",
    "lista_date = aux_df.apply(lambda vec : string_date(vec[0],vec[1],vec[2]),axis=1).tolist()\n",
    "\n",
    "final_df = res[['Stazione','VALORE','TipoStazione','TipoArea','Zonizzazione','Altezza','Mese']].copy()\n",
    "final_df['Date'] = lista_date\n",
    "\n",
    "final_df['Mese'].replace(to_replace=1, value='Gennaio', inplace=True)\n",
    "final_df['Mese'].replace(to_replace=2, value='Febbraio', inplace=True)\n",
    "final_df['Mese'].replace(to_replace=3, value='Marzo', inplace=True)\n",
    "final_df['Mese'].replace(to_replace=4, value='Aprile', inplace=True)\n",
    "final_df['Mese'].replace(to_replace=5, value='Maggio', inplace=True)\n",
    "final_df['Mese'].replace(to_replace=6, value='Giugno', inplace=True)\n",
    "final_df['Mese'].replace(to_replace=7, value='Luglio', inplace=True)\n",
    "final_df['Mese'].replace(to_replace=8, value='Agosto', inplace=True)\n",
    "final_df['Mese'].replace(to_replace=9, value='Settembre', inplace=True)\n",
    "final_df['Mese'].replace(to_replace=10, value='Ottobre', inplace=True)\n",
    "final_df['Mese'].replace(to_replace=11, value='Novembre', inplace=True)\n",
    "final_df['Mese'].replace(to_replace=12, value='Dicembre', inplace=True)\n",
    "\n",
    "\n",
    "final_df = final_df.sort_values(by=['Stazione','Date'])\n",
    "final_df.head()"
   ]
  },
  {
   "cell_type": "code",
   "execution_count": 10,
   "id": "a37094b5-689b-451c-8ad0-c4ca459e0479",
   "metadata": {},
   "outputs": [],
   "source": [
    "lista_stazioni_ordinata_per_mediana = stazioni_df['Stazione'].tolist()\n",
    "final_df['Cat_Stazione_Order_By_Median'] = pd.Categorical(final_df['Stazione'], lista_stazioni_ordinata_per_mediana)\n",
    "sorted_final_df = final_df.sort_values(by='Cat_Stazione_Order_By_Median')"
   ]
  },
  {
   "cell_type": "code",
   "execution_count": 11,
   "id": "50432fb6-0296-4e99-873c-59c4d9a7870a",
   "metadata": {},
   "outputs": [],
   "source": [
    "date_list = [datetime.date(2018,1,1)]\n",
    "for i in range(1,365):\n",
    "    date_list.append(datetime.date(2018,1,1) + datetime.timedelta(days=i))\n",
    "    \n",
    "#df_with_stations_as_cols = pd.DataFrame()\n",
    "#df_with_stations_as_cols['Date'] = date_list\n",
    "#df_with_stations_as_cols.tail()"
   ]
  },
  {
   "cell_type": "code",
   "execution_count": 12,
   "id": "196b2053-6667-4254-a90d-3be986121e24",
   "metadata": {},
   "outputs": [
    {
     "name": "stdout",
     "output_type": "stream",
     "text": [
      "(365, 49)\n"
     ]
    }
   ],
   "source": [
    "aux_df = final_df.copy()\n",
    "aux_df = aux_df.sort_values(by=['Cat_Stazione_Order_By_Median'])\n",
    "## Ordine: alfabetico\n",
    "aux_df = aux_df[['Stazione']]\n",
    "aux_df.drop_duplicates(inplace=True)\n",
    "aux_df = aux_df.reset_index()\n",
    "aux_df = aux_df[['Stazione']]\n",
    "\n",
    "N_stazioni = aux_df.size\n",
    "\n",
    "matrix_with_stations_as_cols = np.empty((365,N_stazioni))\n",
    "matrix_with_stations_as_cols[:] = np.nan\n",
    "print(matrix_with_stations_as_cols.shape)"
   ]
  },
  {
   "cell_type": "code",
   "execution_count": 13,
   "id": "49c61e8d-c151-482c-bbe0-b507f0be1cf1",
   "metadata": {},
   "outputs": [
    {
     "data": {
      "text/html": [
       "<div>\n",
       "<style scoped>\n",
       "    .dataframe tbody tr th:only-of-type {\n",
       "        vertical-align: middle;\n",
       "    }\n",
       "\n",
       "    .dataframe tbody tr th {\n",
       "        vertical-align: top;\n",
       "    }\n",
       "\n",
       "    .dataframe thead th {\n",
       "        text-align: right;\n",
       "    }\n",
       "</style>\n",
       "<table border=\"1\" class=\"dataframe\">\n",
       "  <thead>\n",
       "    <tr style=\"text-align: right;\">\n",
       "      <th></th>\n",
       "      <th>Stazione</th>\n",
       "    </tr>\n",
       "  </thead>\n",
       "  <tbody>\n",
       "    <tr>\n",
       "      <th>0</th>\n",
       "      <td>CASTELLUCCIO</td>\n",
       "    </tr>\n",
       "    <tr>\n",
       "      <th>1</th>\n",
       "      <td>FEBBIO</td>\n",
       "    </tr>\n",
       "    <tr>\n",
       "      <th>2</th>\n",
       "      <td>CORTE BRUGNATELLA</td>\n",
       "    </tr>\n",
       "    <tr>\n",
       "      <th>3</th>\n",
       "      <td>SAVIGNANO DI RIGO</td>\n",
       "    </tr>\n",
       "    <tr>\n",
       "      <th>4</th>\n",
       "      <td>SAN LEO</td>\n",
       "    </tr>\n",
       "  </tbody>\n",
       "</table>\n",
       "</div>"
      ],
      "text/plain": [
       "            Stazione\n",
       "0       CASTELLUCCIO\n",
       "1             FEBBIO\n",
       "2  CORTE BRUGNATELLA\n",
       "3  SAVIGNANO DI RIGO\n",
       "4            SAN LEO"
      ]
     },
     "execution_count": 13,
     "metadata": {},
     "output_type": "execute_result"
    }
   ],
   "source": [
    "aux_df.head()"
   ]
  },
  {
   "cell_type": "code",
   "execution_count": 14,
   "id": "8b63d94f-77fd-44ea-9a9c-bf4ddb672252",
   "metadata": {},
   "outputs": [],
   "source": [
    "primo_giorno = datetime.date(2018,1,1)\n",
    "\n",
    "for stazione_idx in range(N_stazioni):\n",
    "    #print(stazione[0])\n",
    "    stazione = aux_df.values.tolist()[stazione_idx]\n",
    "    staz_internal = stazione[0]\n",
    "    df_solo_stazione = final_df[final_df['Stazione'] == staz_internal]\n",
    "    \n",
    "    for val in df_solo_stazione.values.tolist():\n",
    "        giorno = datetime.date.fromisoformat(val[7])   \n",
    "        giorno_idx = (giorno - primo_giorno).days        \n",
    "        matrix_with_stations_as_cols[giorno_idx,stazione_idx] = val[1]\n",
    "            "
   ]
  },
  {
   "cell_type": "code",
   "execution_count": 15,
   "id": "b5c09789-ab68-44e9-827b-50307d7fcc74",
   "metadata": {},
   "outputs": [
    {
     "data": {
      "text/plain": [
       "array([[ 4.,  6., 10., ..., nan, 47., 62.],\n",
       "       [ 3.,  3.,  4., ..., nan, 27., 40.],\n",
       "       [ 0.,  5.,  5., ..., nan, 37., 36.],\n",
       "       ...,\n",
       "       [ 8., 12.,  4., ..., 39., 59., 56.],\n",
       "       [ 7.,  6.,  5., ..., 32., 54., 57.],\n",
       "       [nan, nan, nan, ..., nan, nan, nan]])"
      ]
     },
     "execution_count": 15,
     "metadata": {},
     "output_type": "execute_result"
    }
   ],
   "source": [
    "matrix_with_stations_as_cols"
   ]
  },
  {
   "cell_type": "code",
   "execution_count": 16,
   "id": "459f1328-d9ee-49ef-9864-06aba0a1708b",
   "metadata": {},
   "outputs": [],
   "source": [
    "lista_stazioni = []\n",
    "for val in aux_df.values.tolist():\n",
    "    lista_stazioni.append(val[0])\n",
    "\n",
    "df_with_stations_as_cols = pd.DataFrame(matrix_with_stations_as_cols, columns = lista_stazioni, index = date_list)"
   ]
  },
  {
   "cell_type": "code",
   "execution_count": 17,
   "id": "77181c2a-5348-41d7-a517-5c1d08e92ae0",
   "metadata": {
    "tags": []
   },
   "outputs": [
    {
     "data": {
      "text/html": [
       "<div>\n",
       "<style scoped>\n",
       "    .dataframe tbody tr th:only-of-type {\n",
       "        vertical-align: middle;\n",
       "    }\n",
       "\n",
       "    .dataframe tbody tr th {\n",
       "        vertical-align: top;\n",
       "    }\n",
       "\n",
       "    .dataframe thead th {\n",
       "        text-align: right;\n",
       "    }\n",
       "</style>\n",
       "<table border=\"1\" class=\"dataframe\">\n",
       "  <thead>\n",
       "    <tr style=\"text-align: right;\">\n",
       "      <th></th>\n",
       "      <th>CASTELLUCCIO</th>\n",
       "      <th>FEBBIO</th>\n",
       "      <th>CORTE BRUGNATELLA</th>\n",
       "      <th>SAVIGNANO DI RIGO</th>\n",
       "      <th>SAN LEO</th>\n",
       "      <th>VERUCCHIO</th>\n",
       "      <th>BADIA</th>\n",
       "      <th>GIARDINI MARGHERITA</th>\n",
       "      <th>PARCO RESISTENZA</th>\n",
       "      <th>PARCO BERTOZZI</th>\n",
       "      <th>...</th>\n",
       "      <th>S. LAZZARO</th>\n",
       "      <th>S. ROCCO</th>\n",
       "      <th>MALCANTONE</th>\n",
       "      <th>FLAMINIA</th>\n",
       "      <th>GIARDINI</th>\n",
       "      <th>MONTEBELLO</th>\n",
       "      <th>CITTADELLA</th>\n",
       "      <th>SAN FRANCESCO</th>\n",
       "      <th>GERBIDO</th>\n",
       "      <th>TIMAVO</th>\n",
       "    </tr>\n",
       "  </thead>\n",
       "  <tbody>\n",
       "    <tr>\n",
       "      <th>2018-01-01</th>\n",
       "      <td>4.0</td>\n",
       "      <td>6.0</td>\n",
       "      <td>10.0</td>\n",
       "      <td>12.0</td>\n",
       "      <td>13.0</td>\n",
       "      <td>25.0</td>\n",
       "      <td>39.0</td>\n",
       "      <td>43.0</td>\n",
       "      <td>51.0</td>\n",
       "      <td>44.0</td>\n",
       "      <td>...</td>\n",
       "      <td>48.0</td>\n",
       "      <td>45.0</td>\n",
       "      <td>44.0</td>\n",
       "      <td>45.0</td>\n",
       "      <td>61.0</td>\n",
       "      <td>51.0</td>\n",
       "      <td>53.0</td>\n",
       "      <td>NaN</td>\n",
       "      <td>47.0</td>\n",
       "      <td>62.0</td>\n",
       "    </tr>\n",
       "    <tr>\n",
       "      <th>2018-01-02</th>\n",
       "      <td>3.0</td>\n",
       "      <td>3.0</td>\n",
       "      <td>4.0</td>\n",
       "      <td>3.0</td>\n",
       "      <td>7.0</td>\n",
       "      <td>12.0</td>\n",
       "      <td>13.0</td>\n",
       "      <td>18.0</td>\n",
       "      <td>28.0</td>\n",
       "      <td>22.0</td>\n",
       "      <td>...</td>\n",
       "      <td>22.0</td>\n",
       "      <td>25.0</td>\n",
       "      <td>26.0</td>\n",
       "      <td>36.0</td>\n",
       "      <td>26.0</td>\n",
       "      <td>35.0</td>\n",
       "      <td>25.0</td>\n",
       "      <td>NaN</td>\n",
       "      <td>27.0</td>\n",
       "      <td>40.0</td>\n",
       "    </tr>\n",
       "    <tr>\n",
       "      <th>2018-01-03</th>\n",
       "      <td>0.0</td>\n",
       "      <td>5.0</td>\n",
       "      <td>5.0</td>\n",
       "      <td>2.0</td>\n",
       "      <td>0.0</td>\n",
       "      <td>6.0</td>\n",
       "      <td>12.0</td>\n",
       "      <td>16.0</td>\n",
       "      <td>17.0</td>\n",
       "      <td>19.0</td>\n",
       "      <td>...</td>\n",
       "      <td>26.0</td>\n",
       "      <td>28.0</td>\n",
       "      <td>25.0</td>\n",
       "      <td>27.0</td>\n",
       "      <td>30.0</td>\n",
       "      <td>25.0</td>\n",
       "      <td>22.0</td>\n",
       "      <td>NaN</td>\n",
       "      <td>37.0</td>\n",
       "      <td>36.0</td>\n",
       "    </tr>\n",
       "    <tr>\n",
       "      <th>2018-01-04</th>\n",
       "      <td>0.0</td>\n",
       "      <td>2.0</td>\n",
       "      <td>3.0</td>\n",
       "      <td>5.0</td>\n",
       "      <td>5.0</td>\n",
       "      <td>21.0</td>\n",
       "      <td>15.0</td>\n",
       "      <td>23.0</td>\n",
       "      <td>39.0</td>\n",
       "      <td>37.0</td>\n",
       "      <td>...</td>\n",
       "      <td>34.0</td>\n",
       "      <td>35.0</td>\n",
       "      <td>30.0</td>\n",
       "      <td>NaN</td>\n",
       "      <td>42.0</td>\n",
       "      <td>37.0</td>\n",
       "      <td>29.0</td>\n",
       "      <td>36.0</td>\n",
       "      <td>38.0</td>\n",
       "      <td>37.0</td>\n",
       "    </tr>\n",
       "    <tr>\n",
       "      <th>2018-01-05</th>\n",
       "      <td>4.0</td>\n",
       "      <td>5.0</td>\n",
       "      <td>13.0</td>\n",
       "      <td>7.0</td>\n",
       "      <td>13.0</td>\n",
       "      <td>45.0</td>\n",
       "      <td>34.0</td>\n",
       "      <td>43.0</td>\n",
       "      <td>58.0</td>\n",
       "      <td>51.0</td>\n",
       "      <td>...</td>\n",
       "      <td>52.0</td>\n",
       "      <td>40.0</td>\n",
       "      <td>39.0</td>\n",
       "      <td>71.0</td>\n",
       "      <td>62.0</td>\n",
       "      <td>52.0</td>\n",
       "      <td>48.0</td>\n",
       "      <td>57.0</td>\n",
       "      <td>50.0</td>\n",
       "      <td>53.0</td>\n",
       "    </tr>\n",
       "    <tr>\n",
       "      <th>...</th>\n",
       "      <td>...</td>\n",
       "      <td>...</td>\n",
       "      <td>...</td>\n",
       "      <td>...</td>\n",
       "      <td>...</td>\n",
       "      <td>...</td>\n",
       "      <td>...</td>\n",
       "      <td>...</td>\n",
       "      <td>...</td>\n",
       "      <td>...</td>\n",
       "      <td>...</td>\n",
       "      <td>...</td>\n",
       "      <td>...</td>\n",
       "      <td>...</td>\n",
       "      <td>...</td>\n",
       "      <td>...</td>\n",
       "      <td>...</td>\n",
       "      <td>...</td>\n",
       "      <td>...</td>\n",
       "      <td>...</td>\n",
       "      <td>...</td>\n",
       "    </tr>\n",
       "    <tr>\n",
       "      <th>2018-12-27</th>\n",
       "      <td>8.0</td>\n",
       "      <td>6.0</td>\n",
       "      <td>8.0</td>\n",
       "      <td>8.0</td>\n",
       "      <td>NaN</td>\n",
       "      <td>NaN</td>\n",
       "      <td>19.0</td>\n",
       "      <td>NaN</td>\n",
       "      <td>23.0</td>\n",
       "      <td>21.0</td>\n",
       "      <td>...</td>\n",
       "      <td>24.0</td>\n",
       "      <td>30.0</td>\n",
       "      <td>27.0</td>\n",
       "      <td>30.0</td>\n",
       "      <td>28.0</td>\n",
       "      <td>38.0</td>\n",
       "      <td>34.0</td>\n",
       "      <td>44.0</td>\n",
       "      <td>41.0</td>\n",
       "      <td>34.0</td>\n",
       "    </tr>\n",
       "    <tr>\n",
       "      <th>2018-12-28</th>\n",
       "      <td>5.0</td>\n",
       "      <td>6.0</td>\n",
       "      <td>6.0</td>\n",
       "      <td>7.0</td>\n",
       "      <td>NaN</td>\n",
       "      <td>NaN</td>\n",
       "      <td>16.0</td>\n",
       "      <td>NaN</td>\n",
       "      <td>39.0</td>\n",
       "      <td>36.0</td>\n",
       "      <td>...</td>\n",
       "      <td>44.0</td>\n",
       "      <td>48.0</td>\n",
       "      <td>43.0</td>\n",
       "      <td>52.0</td>\n",
       "      <td>59.0</td>\n",
       "      <td>50.0</td>\n",
       "      <td>45.0</td>\n",
       "      <td>33.0</td>\n",
       "      <td>57.0</td>\n",
       "      <td>57.0</td>\n",
       "    </tr>\n",
       "    <tr>\n",
       "      <th>2018-12-29</th>\n",
       "      <td>8.0</td>\n",
       "      <td>12.0</td>\n",
       "      <td>4.0</td>\n",
       "      <td>10.0</td>\n",
       "      <td>12.0</td>\n",
       "      <td>24.0</td>\n",
       "      <td>14.0</td>\n",
       "      <td>NaN</td>\n",
       "      <td>43.0</td>\n",
       "      <td>42.0</td>\n",
       "      <td>...</td>\n",
       "      <td>48.0</td>\n",
       "      <td>54.0</td>\n",
       "      <td>49.0</td>\n",
       "      <td>51.0</td>\n",
       "      <td>57.0</td>\n",
       "      <td>48.0</td>\n",
       "      <td>48.0</td>\n",
       "      <td>39.0</td>\n",
       "      <td>59.0</td>\n",
       "      <td>56.0</td>\n",
       "    </tr>\n",
       "    <tr>\n",
       "      <th>2018-12-30</th>\n",
       "      <td>7.0</td>\n",
       "      <td>6.0</td>\n",
       "      <td>5.0</td>\n",
       "      <td>11.0</td>\n",
       "      <td>16.0</td>\n",
       "      <td>33.0</td>\n",
       "      <td>19.0</td>\n",
       "      <td>NaN</td>\n",
       "      <td>52.0</td>\n",
       "      <td>48.0</td>\n",
       "      <td>...</td>\n",
       "      <td>49.0</td>\n",
       "      <td>66.0</td>\n",
       "      <td>58.0</td>\n",
       "      <td>60.0</td>\n",
       "      <td>64.0</td>\n",
       "      <td>51.0</td>\n",
       "      <td>51.0</td>\n",
       "      <td>32.0</td>\n",
       "      <td>54.0</td>\n",
       "      <td>57.0</td>\n",
       "    </tr>\n",
       "    <tr>\n",
       "      <th>2018-12-31</th>\n",
       "      <td>NaN</td>\n",
       "      <td>NaN</td>\n",
       "      <td>NaN</td>\n",
       "      <td>NaN</td>\n",
       "      <td>NaN</td>\n",
       "      <td>NaN</td>\n",
       "      <td>NaN</td>\n",
       "      <td>NaN</td>\n",
       "      <td>NaN</td>\n",
       "      <td>NaN</td>\n",
       "      <td>...</td>\n",
       "      <td>NaN</td>\n",
       "      <td>NaN</td>\n",
       "      <td>NaN</td>\n",
       "      <td>NaN</td>\n",
       "      <td>NaN</td>\n",
       "      <td>NaN</td>\n",
       "      <td>NaN</td>\n",
       "      <td>NaN</td>\n",
       "      <td>NaN</td>\n",
       "      <td>NaN</td>\n",
       "    </tr>\n",
       "  </tbody>\n",
       "</table>\n",
       "<p>365 rows × 49 columns</p>\n",
       "</div>"
      ],
      "text/plain": [
       "            CASTELLUCCIO  FEBBIO  CORTE BRUGNATELLA  SAVIGNANO DI RIGO  \\\n",
       "2018-01-01           4.0     6.0               10.0               12.0   \n",
       "2018-01-02           3.0     3.0                4.0                3.0   \n",
       "2018-01-03           0.0     5.0                5.0                2.0   \n",
       "2018-01-04           0.0     2.0                3.0                5.0   \n",
       "2018-01-05           4.0     5.0               13.0                7.0   \n",
       "...                  ...     ...                ...                ...   \n",
       "2018-12-27           8.0     6.0                8.0                8.0   \n",
       "2018-12-28           5.0     6.0                6.0                7.0   \n",
       "2018-12-29           8.0    12.0                4.0               10.0   \n",
       "2018-12-30           7.0     6.0                5.0               11.0   \n",
       "2018-12-31           NaN     NaN                NaN                NaN   \n",
       "\n",
       "            SAN LEO  VERUCCHIO  BADIA  GIARDINI MARGHERITA  PARCO RESISTENZA  \\\n",
       "2018-01-01     13.0       25.0   39.0                 43.0              51.0   \n",
       "2018-01-02      7.0       12.0   13.0                 18.0              28.0   \n",
       "2018-01-03      0.0        6.0   12.0                 16.0              17.0   \n",
       "2018-01-04      5.0       21.0   15.0                 23.0              39.0   \n",
       "2018-01-05     13.0       45.0   34.0                 43.0              58.0   \n",
       "...             ...        ...    ...                  ...               ...   \n",
       "2018-12-27      NaN        NaN   19.0                  NaN              23.0   \n",
       "2018-12-28      NaN        NaN   16.0                  NaN              39.0   \n",
       "2018-12-29     12.0       24.0   14.0                  NaN              43.0   \n",
       "2018-12-30     16.0       33.0   19.0                  NaN              52.0   \n",
       "2018-12-31      NaN        NaN    NaN                  NaN               NaN   \n",
       "\n",
       "            PARCO BERTOZZI  ...  S. LAZZARO  S. ROCCO  MALCANTONE  FLAMINIA  \\\n",
       "2018-01-01            44.0  ...        48.0      45.0        44.0      45.0   \n",
       "2018-01-02            22.0  ...        22.0      25.0        26.0      36.0   \n",
       "2018-01-03            19.0  ...        26.0      28.0        25.0      27.0   \n",
       "2018-01-04            37.0  ...        34.0      35.0        30.0       NaN   \n",
       "2018-01-05            51.0  ...        52.0      40.0        39.0      71.0   \n",
       "...                    ...  ...         ...       ...         ...       ...   \n",
       "2018-12-27            21.0  ...        24.0      30.0        27.0      30.0   \n",
       "2018-12-28            36.0  ...        44.0      48.0        43.0      52.0   \n",
       "2018-12-29            42.0  ...        48.0      54.0        49.0      51.0   \n",
       "2018-12-30            48.0  ...        49.0      66.0        58.0      60.0   \n",
       "2018-12-31             NaN  ...         NaN       NaN         NaN       NaN   \n",
       "\n",
       "            GIARDINI  MONTEBELLO  CITTADELLA  SAN FRANCESCO  GERBIDO  TIMAVO  \n",
       "2018-01-01      61.0        51.0        53.0            NaN     47.0    62.0  \n",
       "2018-01-02      26.0        35.0        25.0            NaN     27.0    40.0  \n",
       "2018-01-03      30.0        25.0        22.0            NaN     37.0    36.0  \n",
       "2018-01-04      42.0        37.0        29.0           36.0     38.0    37.0  \n",
       "2018-01-05      62.0        52.0        48.0           57.0     50.0    53.0  \n",
       "...              ...         ...         ...            ...      ...     ...  \n",
       "2018-12-27      28.0        38.0        34.0           44.0     41.0    34.0  \n",
       "2018-12-28      59.0        50.0        45.0           33.0     57.0    57.0  \n",
       "2018-12-29      57.0        48.0        48.0           39.0     59.0    56.0  \n",
       "2018-12-30      64.0        51.0        51.0           32.0     54.0    57.0  \n",
       "2018-12-31       NaN         NaN         NaN            NaN      NaN     NaN  \n",
       "\n",
       "[365 rows x 49 columns]"
      ]
     },
     "execution_count": 17,
     "metadata": {},
     "output_type": "execute_result"
    }
   ],
   "source": [
    "df_with_stations_as_cols"
   ]
  },
  {
   "cell_type": "code",
   "execution_count": 18,
   "id": "49c05cc3-b298-4e9a-a570-a17978efa031",
   "metadata": {},
   "outputs": [],
   "source": [
    "df = df_with_stations_as_cols.copy()"
   ]
  },
  {
   "cell_type": "code",
   "execution_count": 19,
   "id": "109d6de3-bac7-4bb7-a56b-516ab6c9e9e0",
   "metadata": {},
   "outputs": [],
   "source": [
    "df['day'] = np.arange(0,365,1)"
   ]
  },
  {
   "cell_type": "code",
   "execution_count": 20,
   "id": "4803b726-8955-4c6f-a33e-c3d70cc27f42",
   "metadata": {},
   "outputs": [],
   "source": [
    "df = df.set_index('day')"
   ]
  },
  {
   "cell_type": "code",
   "execution_count": 21,
   "id": "20ffc6d7-8248-4952-a535-1cd4cccf2ac9",
   "metadata": {},
   "outputs": [
    {
     "data": {
      "text/html": [
       "<div>\n",
       "<style scoped>\n",
       "    .dataframe tbody tr th:only-of-type {\n",
       "        vertical-align: middle;\n",
       "    }\n",
       "\n",
       "    .dataframe tbody tr th {\n",
       "        vertical-align: top;\n",
       "    }\n",
       "\n",
       "    .dataframe thead th {\n",
       "        text-align: right;\n",
       "    }\n",
       "</style>\n",
       "<table border=\"1\" class=\"dataframe\">\n",
       "  <thead>\n",
       "    <tr style=\"text-align: right;\">\n",
       "      <th></th>\n",
       "      <th>CASTELLUCCIO</th>\n",
       "      <th>FEBBIO</th>\n",
       "      <th>CORTE BRUGNATELLA</th>\n",
       "      <th>SAVIGNANO DI RIGO</th>\n",
       "      <th>SAN LEO</th>\n",
       "      <th>VERUCCHIO</th>\n",
       "      <th>BADIA</th>\n",
       "      <th>GIARDINI MARGHERITA</th>\n",
       "      <th>PARCO RESISTENZA</th>\n",
       "      <th>PARCO BERTOZZI</th>\n",
       "      <th>...</th>\n",
       "      <th>S. LAZZARO</th>\n",
       "      <th>S. ROCCO</th>\n",
       "      <th>MALCANTONE</th>\n",
       "      <th>FLAMINIA</th>\n",
       "      <th>GIARDINI</th>\n",
       "      <th>MONTEBELLO</th>\n",
       "      <th>CITTADELLA</th>\n",
       "      <th>SAN FRANCESCO</th>\n",
       "      <th>GERBIDO</th>\n",
       "      <th>TIMAVO</th>\n",
       "    </tr>\n",
       "    <tr>\n",
       "      <th>day</th>\n",
       "      <th></th>\n",
       "      <th></th>\n",
       "      <th></th>\n",
       "      <th></th>\n",
       "      <th></th>\n",
       "      <th></th>\n",
       "      <th></th>\n",
       "      <th></th>\n",
       "      <th></th>\n",
       "      <th></th>\n",
       "      <th></th>\n",
       "      <th></th>\n",
       "      <th></th>\n",
       "      <th></th>\n",
       "      <th></th>\n",
       "      <th></th>\n",
       "      <th></th>\n",
       "      <th></th>\n",
       "      <th></th>\n",
       "      <th></th>\n",
       "      <th></th>\n",
       "    </tr>\n",
       "  </thead>\n",
       "  <tbody>\n",
       "    <tr>\n",
       "      <th>0</th>\n",
       "      <td>4.0</td>\n",
       "      <td>6.0</td>\n",
       "      <td>10.0</td>\n",
       "      <td>12.0</td>\n",
       "      <td>13.0</td>\n",
       "      <td>25.0</td>\n",
       "      <td>39.0</td>\n",
       "      <td>43.0</td>\n",
       "      <td>51.0</td>\n",
       "      <td>44.0</td>\n",
       "      <td>...</td>\n",
       "      <td>48.0</td>\n",
       "      <td>45.0</td>\n",
       "      <td>44.0</td>\n",
       "      <td>45.0</td>\n",
       "      <td>61.0</td>\n",
       "      <td>51.0</td>\n",
       "      <td>53.0</td>\n",
       "      <td>NaN</td>\n",
       "      <td>47.0</td>\n",
       "      <td>62.0</td>\n",
       "    </tr>\n",
       "    <tr>\n",
       "      <th>1</th>\n",
       "      <td>3.0</td>\n",
       "      <td>3.0</td>\n",
       "      <td>4.0</td>\n",
       "      <td>3.0</td>\n",
       "      <td>7.0</td>\n",
       "      <td>12.0</td>\n",
       "      <td>13.0</td>\n",
       "      <td>18.0</td>\n",
       "      <td>28.0</td>\n",
       "      <td>22.0</td>\n",
       "      <td>...</td>\n",
       "      <td>22.0</td>\n",
       "      <td>25.0</td>\n",
       "      <td>26.0</td>\n",
       "      <td>36.0</td>\n",
       "      <td>26.0</td>\n",
       "      <td>35.0</td>\n",
       "      <td>25.0</td>\n",
       "      <td>NaN</td>\n",
       "      <td>27.0</td>\n",
       "      <td>40.0</td>\n",
       "    </tr>\n",
       "    <tr>\n",
       "      <th>2</th>\n",
       "      <td>0.0</td>\n",
       "      <td>5.0</td>\n",
       "      <td>5.0</td>\n",
       "      <td>2.0</td>\n",
       "      <td>0.0</td>\n",
       "      <td>6.0</td>\n",
       "      <td>12.0</td>\n",
       "      <td>16.0</td>\n",
       "      <td>17.0</td>\n",
       "      <td>19.0</td>\n",
       "      <td>...</td>\n",
       "      <td>26.0</td>\n",
       "      <td>28.0</td>\n",
       "      <td>25.0</td>\n",
       "      <td>27.0</td>\n",
       "      <td>30.0</td>\n",
       "      <td>25.0</td>\n",
       "      <td>22.0</td>\n",
       "      <td>NaN</td>\n",
       "      <td>37.0</td>\n",
       "      <td>36.0</td>\n",
       "    </tr>\n",
       "    <tr>\n",
       "      <th>3</th>\n",
       "      <td>0.0</td>\n",
       "      <td>2.0</td>\n",
       "      <td>3.0</td>\n",
       "      <td>5.0</td>\n",
       "      <td>5.0</td>\n",
       "      <td>21.0</td>\n",
       "      <td>15.0</td>\n",
       "      <td>23.0</td>\n",
       "      <td>39.0</td>\n",
       "      <td>37.0</td>\n",
       "      <td>...</td>\n",
       "      <td>34.0</td>\n",
       "      <td>35.0</td>\n",
       "      <td>30.0</td>\n",
       "      <td>NaN</td>\n",
       "      <td>42.0</td>\n",
       "      <td>37.0</td>\n",
       "      <td>29.0</td>\n",
       "      <td>36.0</td>\n",
       "      <td>38.0</td>\n",
       "      <td>37.0</td>\n",
       "    </tr>\n",
       "    <tr>\n",
       "      <th>4</th>\n",
       "      <td>4.0</td>\n",
       "      <td>5.0</td>\n",
       "      <td>13.0</td>\n",
       "      <td>7.0</td>\n",
       "      <td>13.0</td>\n",
       "      <td>45.0</td>\n",
       "      <td>34.0</td>\n",
       "      <td>43.0</td>\n",
       "      <td>58.0</td>\n",
       "      <td>51.0</td>\n",
       "      <td>...</td>\n",
       "      <td>52.0</td>\n",
       "      <td>40.0</td>\n",
       "      <td>39.0</td>\n",
       "      <td>71.0</td>\n",
       "      <td>62.0</td>\n",
       "      <td>52.0</td>\n",
       "      <td>48.0</td>\n",
       "      <td>57.0</td>\n",
       "      <td>50.0</td>\n",
       "      <td>53.0</td>\n",
       "    </tr>\n",
       "    <tr>\n",
       "      <th>...</th>\n",
       "      <td>...</td>\n",
       "      <td>...</td>\n",
       "      <td>...</td>\n",
       "      <td>...</td>\n",
       "      <td>...</td>\n",
       "      <td>...</td>\n",
       "      <td>...</td>\n",
       "      <td>...</td>\n",
       "      <td>...</td>\n",
       "      <td>...</td>\n",
       "      <td>...</td>\n",
       "      <td>...</td>\n",
       "      <td>...</td>\n",
       "      <td>...</td>\n",
       "      <td>...</td>\n",
       "      <td>...</td>\n",
       "      <td>...</td>\n",
       "      <td>...</td>\n",
       "      <td>...</td>\n",
       "      <td>...</td>\n",
       "      <td>...</td>\n",
       "    </tr>\n",
       "    <tr>\n",
       "      <th>360</th>\n",
       "      <td>8.0</td>\n",
       "      <td>6.0</td>\n",
       "      <td>8.0</td>\n",
       "      <td>8.0</td>\n",
       "      <td>NaN</td>\n",
       "      <td>NaN</td>\n",
       "      <td>19.0</td>\n",
       "      <td>NaN</td>\n",
       "      <td>23.0</td>\n",
       "      <td>21.0</td>\n",
       "      <td>...</td>\n",
       "      <td>24.0</td>\n",
       "      <td>30.0</td>\n",
       "      <td>27.0</td>\n",
       "      <td>30.0</td>\n",
       "      <td>28.0</td>\n",
       "      <td>38.0</td>\n",
       "      <td>34.0</td>\n",
       "      <td>44.0</td>\n",
       "      <td>41.0</td>\n",
       "      <td>34.0</td>\n",
       "    </tr>\n",
       "    <tr>\n",
       "      <th>361</th>\n",
       "      <td>5.0</td>\n",
       "      <td>6.0</td>\n",
       "      <td>6.0</td>\n",
       "      <td>7.0</td>\n",
       "      <td>NaN</td>\n",
       "      <td>NaN</td>\n",
       "      <td>16.0</td>\n",
       "      <td>NaN</td>\n",
       "      <td>39.0</td>\n",
       "      <td>36.0</td>\n",
       "      <td>...</td>\n",
       "      <td>44.0</td>\n",
       "      <td>48.0</td>\n",
       "      <td>43.0</td>\n",
       "      <td>52.0</td>\n",
       "      <td>59.0</td>\n",
       "      <td>50.0</td>\n",
       "      <td>45.0</td>\n",
       "      <td>33.0</td>\n",
       "      <td>57.0</td>\n",
       "      <td>57.0</td>\n",
       "    </tr>\n",
       "    <tr>\n",
       "      <th>362</th>\n",
       "      <td>8.0</td>\n",
       "      <td>12.0</td>\n",
       "      <td>4.0</td>\n",
       "      <td>10.0</td>\n",
       "      <td>12.0</td>\n",
       "      <td>24.0</td>\n",
       "      <td>14.0</td>\n",
       "      <td>NaN</td>\n",
       "      <td>43.0</td>\n",
       "      <td>42.0</td>\n",
       "      <td>...</td>\n",
       "      <td>48.0</td>\n",
       "      <td>54.0</td>\n",
       "      <td>49.0</td>\n",
       "      <td>51.0</td>\n",
       "      <td>57.0</td>\n",
       "      <td>48.0</td>\n",
       "      <td>48.0</td>\n",
       "      <td>39.0</td>\n",
       "      <td>59.0</td>\n",
       "      <td>56.0</td>\n",
       "    </tr>\n",
       "    <tr>\n",
       "      <th>363</th>\n",
       "      <td>7.0</td>\n",
       "      <td>6.0</td>\n",
       "      <td>5.0</td>\n",
       "      <td>11.0</td>\n",
       "      <td>16.0</td>\n",
       "      <td>33.0</td>\n",
       "      <td>19.0</td>\n",
       "      <td>NaN</td>\n",
       "      <td>52.0</td>\n",
       "      <td>48.0</td>\n",
       "      <td>...</td>\n",
       "      <td>49.0</td>\n",
       "      <td>66.0</td>\n",
       "      <td>58.0</td>\n",
       "      <td>60.0</td>\n",
       "      <td>64.0</td>\n",
       "      <td>51.0</td>\n",
       "      <td>51.0</td>\n",
       "      <td>32.0</td>\n",
       "      <td>54.0</td>\n",
       "      <td>57.0</td>\n",
       "    </tr>\n",
       "    <tr>\n",
       "      <th>364</th>\n",
       "      <td>NaN</td>\n",
       "      <td>NaN</td>\n",
       "      <td>NaN</td>\n",
       "      <td>NaN</td>\n",
       "      <td>NaN</td>\n",
       "      <td>NaN</td>\n",
       "      <td>NaN</td>\n",
       "      <td>NaN</td>\n",
       "      <td>NaN</td>\n",
       "      <td>NaN</td>\n",
       "      <td>...</td>\n",
       "      <td>NaN</td>\n",
       "      <td>NaN</td>\n",
       "      <td>NaN</td>\n",
       "      <td>NaN</td>\n",
       "      <td>NaN</td>\n",
       "      <td>NaN</td>\n",
       "      <td>NaN</td>\n",
       "      <td>NaN</td>\n",
       "      <td>NaN</td>\n",
       "      <td>NaN</td>\n",
       "    </tr>\n",
       "  </tbody>\n",
       "</table>\n",
       "<p>365 rows × 49 columns</p>\n",
       "</div>"
      ],
      "text/plain": [
       "     CASTELLUCCIO  FEBBIO  CORTE BRUGNATELLA  SAVIGNANO DI RIGO  SAN LEO  \\\n",
       "day                                                                        \n",
       "0             4.0     6.0               10.0               12.0     13.0   \n",
       "1             3.0     3.0                4.0                3.0      7.0   \n",
       "2             0.0     5.0                5.0                2.0      0.0   \n",
       "3             0.0     2.0                3.0                5.0      5.0   \n",
       "4             4.0     5.0               13.0                7.0     13.0   \n",
       "..            ...     ...                ...                ...      ...   \n",
       "360           8.0     6.0                8.0                8.0      NaN   \n",
       "361           5.0     6.0                6.0                7.0      NaN   \n",
       "362           8.0    12.0                4.0               10.0     12.0   \n",
       "363           7.0     6.0                5.0               11.0     16.0   \n",
       "364           NaN     NaN                NaN                NaN      NaN   \n",
       "\n",
       "     VERUCCHIO  BADIA  GIARDINI MARGHERITA  PARCO RESISTENZA  PARCO BERTOZZI  \\\n",
       "day                                                                            \n",
       "0         25.0   39.0                 43.0              51.0            44.0   \n",
       "1         12.0   13.0                 18.0              28.0            22.0   \n",
       "2          6.0   12.0                 16.0              17.0            19.0   \n",
       "3         21.0   15.0                 23.0              39.0            37.0   \n",
       "4         45.0   34.0                 43.0              58.0            51.0   \n",
       "..         ...    ...                  ...               ...             ...   \n",
       "360        NaN   19.0                  NaN              23.0            21.0   \n",
       "361        NaN   16.0                  NaN              39.0            36.0   \n",
       "362       24.0   14.0                  NaN              43.0            42.0   \n",
       "363       33.0   19.0                  NaN              52.0            48.0   \n",
       "364        NaN    NaN                  NaN               NaN             NaN   \n",
       "\n",
       "     ...  S. LAZZARO  S. ROCCO  MALCANTONE  FLAMINIA  GIARDINI  MONTEBELLO  \\\n",
       "day  ...                                                                     \n",
       "0    ...        48.0      45.0        44.0      45.0      61.0        51.0   \n",
       "1    ...        22.0      25.0        26.0      36.0      26.0        35.0   \n",
       "2    ...        26.0      28.0        25.0      27.0      30.0        25.0   \n",
       "3    ...        34.0      35.0        30.0       NaN      42.0        37.0   \n",
       "4    ...        52.0      40.0        39.0      71.0      62.0        52.0   \n",
       "..   ...         ...       ...         ...       ...       ...         ...   \n",
       "360  ...        24.0      30.0        27.0      30.0      28.0        38.0   \n",
       "361  ...        44.0      48.0        43.0      52.0      59.0        50.0   \n",
       "362  ...        48.0      54.0        49.0      51.0      57.0        48.0   \n",
       "363  ...        49.0      66.0        58.0      60.0      64.0        51.0   \n",
       "364  ...         NaN       NaN         NaN       NaN       NaN         NaN   \n",
       "\n",
       "     CITTADELLA  SAN FRANCESCO  GERBIDO  TIMAVO  \n",
       "day                                              \n",
       "0          53.0            NaN     47.0    62.0  \n",
       "1          25.0            NaN     27.0    40.0  \n",
       "2          22.0            NaN     37.0    36.0  \n",
       "3          29.0           36.0     38.0    37.0  \n",
       "4          48.0           57.0     50.0    53.0  \n",
       "..          ...            ...      ...     ...  \n",
       "360        34.0           44.0     41.0    34.0  \n",
       "361        45.0           33.0     57.0    57.0  \n",
       "362        48.0           39.0     59.0    56.0  \n",
       "363        51.0           32.0     54.0    57.0  \n",
       "364         NaN            NaN      NaN     NaN  \n",
       "\n",
       "[365 rows x 49 columns]"
      ]
     },
     "execution_count": 21,
     "metadata": {},
     "output_type": "execute_result"
    }
   ],
   "source": [
    "df"
   ]
  },
  {
   "cell_type": "markdown",
   "id": "7f17517b-434b-48c9-8d93-fb2009041ae4",
   "metadata": {},
   "source": [
    "## Temporaneo per non avere a che fare coi NaN"
   ]
  },
  {
   "cell_type": "code",
   "execution_count": 22,
   "id": "4ab61e1e-b128-4cbb-a0ee-a380fc4d2947",
   "metadata": {},
   "outputs": [],
   "source": [
    "df.replace(to_replace=0.0, value=np.nanmean(df.to_numpy()), inplace=True)\n",
    "df.fillna(np.nanmean(df.to_numpy()),inplace=True)\n",
    "df = df.apply(np.log10)\n",
    "df = df.diff()\n",
    "df = df.iloc[1:,:]"
   ]
  },
  {
   "cell_type": "code",
   "execution_count": 23,
   "id": "f9fdb4f6-b7bf-46fb-a372-f33038393868",
   "metadata": {},
   "outputs": [
    {
     "data": {
      "text/plain": [
       "<seaborn.axisgrid.FacetGrid at 0x7f0a9032ed70>"
      ]
     },
     "execution_count": 23,
     "metadata": {},
     "output_type": "execute_result"
    },
    {
     "data": {
      "image/png": "[encoded data removed]",
      "text/plain": [
       "<Figure size 500x500 with 1 Axes>"
      ]
     },
     "metadata": {},
     "output_type": "display_data"
    }
   ],
   "source": [
    "sns.relplot(df['BADIA'], kind='line')"
   ]
  },
  {
   "cell_type": "code",
   "execution_count": 24,
   "id": "992340c4-b7e5-4230-b9d9-642b696b31c5",
   "metadata": {
    "tags": []
   },
   "outputs": [
    {
     "name": "stderr",
     "output_type": "stream",
     "text": [
      "09:33:44 - cmdstanpy - INFO - compiling stan file /home/br1/PythonProjects/bayesian_project/git_dir/bayes_colab/ARMA_bayesian_stan/code.stan to exe file /home/br1/PythonProjects/bayesian_project/git_dir/bayes_colab/ARMA_bayesian_stan/code\n",
      "09:33:52 - cmdstanpy - INFO - compiled model executable: /home/br1/PythonProjects/bayesian_project/git_dir/bayes_colab/ARMA_bayesian_stan/code\n",
      "09:33:52 - cmdstanpy - INFO - CmdStan start processing\n"
     ]
    },
    {
     "data": {
      "application/vnd.jupyter.widget-view+json": {
       "model_id": "a763eac6ea26455e9518d711fe43eaf8",
       "version_major": 2,
       "version_minor": 0
      },
      "text/plain": [
       "chain 1 |          | 00:00 Status"
      ]
     },
     "metadata": {},
     "output_type": "display_data"
    },
    {
     "data": {
      "application/vnd.jupyter.widget-view+json": {
       "model_id": "0bada154afaa4b11acd2468919e1bed6",
       "version_major": 2,
       "version_minor": 0
      },
      "text/plain": [
       "chain 2 |          | 00:00 Status"
      ]
     },
     "metadata": {},
     "output_type": "display_data"
    },
    {
     "data": {
      "application/vnd.jupyter.widget-view+json": {
       "model_id": "b1faf32a26c344609ee08a5d2216e102",
       "version_major": 2,
       "version_minor": 0
      },
      "text/plain": [
       "chain 3 |          | 00:00 Status"
      ]
     },
     "metadata": {},
     "output_type": "display_data"
    },
    {
     "data": {
      "application/vnd.jupyter.widget-view+json": {
       "model_id": "ffdab7d3769649b383ddc31684dfb9c9",
       "version_major": 2,
       "version_minor": 0
      },
      "text/plain": [
       "chain 4 |          | 00:00 Status"
      ]
     },
     "metadata": {},
     "output_type": "display_data"
    },
    {
     "name": "stdout",
     "output_type": "stream",
     "text": [
      "                                                                                                                                                                                                                                                                                                                                "
     ]
    },
    {
     "name": "stderr",
     "output_type": "stream",
     "text": [
      "09:33:59 - cmdstanpy - INFO - CmdStan done processing.\n",
      "09:33:59 - cmdstanpy - WARNING - Non-fatal error during sampling:\n",
      "Exception: normal_lpdf: Scale parameter is 0, but must be positive! (in '/home/br1/PythonProjects/bayesian_project/git_dir/bayes_colab/ARMA_bayesian_stan/code.stan', line 33, column 8 to column 31)\n",
      "Exception: normal_lpdf: Scale parameter is 0, but must be positive! (in '/home/br1/PythonProjects/bayesian_project/git_dir/bayes_colab/ARMA_bayesian_stan/code.stan', line 33, column 8 to column 31)\n",
      "Consider re-running with show_console=True if the above output is unclear!\n"
     ]
    },
    {
     "name": "stdout",
     "output_type": "stream",
     "text": [
      "\n"
     ]
    },
    {
     "name": "stderr",
     "output_type": "stream",
     "text": [
      "09:33:59 - cmdstanpy - INFO - CmdStan start processing\n"
     ]
    },
    {
     "data": {
      "application/vnd.jupyter.widget-view+json": {
       "model_id": "ff2a2ec015d84d10ab006bd50a16a086",
       "version_major": 2,
       "version_minor": 0
      },
      "text/plain": [
       "chain 1 |          | 00:00 Status"
      ]
     },
     "metadata": {},
     "output_type": "display_data"
    },
    {
     "data": {
      "application/vnd.jupyter.widget-view+json": {
       "model_id": "da9bdbc4bd384c28aae5aabc496dac06",
       "version_major": 2,
       "version_minor": 0
      },
      "text/plain": [
       "chain 2 |          | 00:00 Status"
      ]
     },
     "metadata": {},
     "output_type": "display_data"
    },
    {
     "data": {
      "application/vnd.jupyter.widget-view+json": {
       "model_id": "fef4206f52f84779a7186b1743815241",
       "version_major": 2,
       "version_minor": 0
      },
      "text/plain": [
       "chain 3 |          | 00:00 Status"
      ]
     },
     "metadata": {},
     "output_type": "display_data"
    },
    {
     "data": {
      "application/vnd.jupyter.widget-view+json": {
       "model_id": "11d9f5a2028c4a758aa6635c1ed95ab1",
       "version_major": 2,
       "version_minor": 0
      },
      "text/plain": [
       "chain 4 |          | 00:00 Status"
      ]
     },
     "metadata": {},
     "output_type": "display_data"
    },
    {
     "name": "stdout",
     "output_type": "stream",
     "text": [
      "                                                                                                                                                                                                                                                                                                                                "
     ]
    },
    {
     "name": "stderr",
     "output_type": "stream",
     "text": [
      "09:34:14 - cmdstanpy - INFO - CmdStan done processing.\n",
      "09:34:14 - cmdstanpy - WARNING - Non-fatal error during sampling:\n",
      "Exception: normal_lpdf: Scale parameter is 0, but must be positive! (in '/home/br1/PythonProjects/bayesian_project/git_dir/bayes_colab/ARMA_bayesian_stan/code.stan', line 33, column 8 to column 31)\n",
      "Exception: normal_lpdf: Scale parameter is 0, but must be positive! (in '/home/br1/PythonProjects/bayesian_project/git_dir/bayes_colab/ARMA_bayesian_stan/code.stan', line 33, column 8 to column 31)\n",
      "Consider re-running with show_console=True if the above output is unclear!\n"
     ]
    },
    {
     "name": "stdout",
     "output_type": "stream",
     "text": [
      "\n"
     ]
    },
    {
     "name": "stderr",
     "output_type": "stream",
     "text": [
      "09:34:14 - cmdstanpy - INFO - CmdStan start processing\n"
     ]
    },
    {
     "data": {
      "application/vnd.jupyter.widget-view+json": {
       "model_id": "84e4d271c4d54457b691564612ebc47f",
       "version_major": 2,
       "version_minor": 0
      },
      "text/plain": [
       "chain 1 |          | 00:00 Status"
      ]
     },
     "metadata": {},
     "output_type": "display_data"
    },
    {
     "data": {
      "application/vnd.jupyter.widget-view+json": {
       "model_id": "2191203a74bd48f8891ecce8de5baa60",
       "version_major": 2,
       "version_minor": 0
      },
      "text/plain": [
       "chain 2 |          | 00:00 Status"
      ]
     },
     "metadata": {},
     "output_type": "display_data"
    },
    {
     "data": {
      "application/vnd.jupyter.widget-view+json": {
       "model_id": "50ec1a5141ab46dd8943dd29a17f9b8f",
       "version_major": 2,
       "version_minor": 0
      },
      "text/plain": [
       "chain 3 |          | 00:00 Status"
      ]
     },
     "metadata": {},
     "output_type": "display_data"
    },
    {
     "data": {
      "application/vnd.jupyter.widget-view+json": {
       "model_id": "ca1aad940935484a8074077635b10727",
       "version_major": 2,
       "version_minor": 0
      },
      "text/plain": [
       "chain 4 |          | 00:00 Status"
      ]
     },
     "metadata": {},
     "output_type": "display_data"
    },
    {
     "name": "stdout",
     "output_type": "stream",
     "text": [
      "                                                                                                                                                                                                                                                                                                                                "
     ]
    },
    {
     "name": "stderr",
     "output_type": "stream",
     "text": [
      "09:34:30 - cmdstanpy - INFO - CmdStan done processing.\n",
      "09:34:30 - cmdstanpy - WARNING - Non-fatal error during sampling:\n",
      "Exception: normal_lpdf: Scale parameter is 0, but must be positive! (in '/home/br1/PythonProjects/bayesian_project/git_dir/bayes_colab/ARMA_bayesian_stan/code.stan', line 33, column 8 to column 31)\n",
      "Exception: normal_lpdf: Scale parameter is 0, but must be positive! (in '/home/br1/PythonProjects/bayesian_project/git_dir/bayes_colab/ARMA_bayesian_stan/code.stan', line 33, column 8 to column 31)\n",
      "Exception: normal_lpdf: Scale parameter is 0, but must be positive! (in '/home/br1/PythonProjects/bayesian_project/git_dir/bayes_colab/ARMA_bayesian_stan/code.stan', line 33, column 8 to column 31)\n",
      "Consider re-running with show_console=True if the above output is unclear!\n"
     ]
    },
    {
     "name": "stdout",
     "output_type": "stream",
     "text": [
      "\n"
     ]
    },
    {
     "name": "stderr",
     "output_type": "stream",
     "text": [
      "09:34:30 - cmdstanpy - INFO - CmdStan start processing\n"
     ]
    },
    {
     "data": {
      "application/vnd.jupyter.widget-view+json": {
       "model_id": "17180817c5ed410f823a2b5041dd65de",
       "version_major": 2,
       "version_minor": 0
      },
      "text/plain": [
       "chain 1 |          | 00:00 Status"
      ]
     },
     "metadata": {},
     "output_type": "display_data"
    },
    {
     "data": {
      "application/vnd.jupyter.widget-view+json": {
       "model_id": "7a98eef1f45f42c4918ec937de8a51c1",
       "version_major": 2,
       "version_minor": 0
      },
      "text/plain": [
       "chain 2 |          | 00:00 Status"
      ]
     },
     "metadata": {},
     "output_type": "display_data"
    },
    {
     "data": {
      "application/vnd.jupyter.widget-view+json": {
       "model_id": "a8cfea68ada04fd8a6ad3e8b5eab0f71",
       "version_major": 2,
       "version_minor": 0
      },
      "text/plain": [
       "chain 3 |          | 00:00 Status"
      ]
     },
     "metadata": {},
     "output_type": "display_data"
    },
    {
     "data": {
      "application/vnd.jupyter.widget-view+json": {
       "model_id": "e980f6c55f1944888579de96deb4e4ee",
       "version_major": 2,
       "version_minor": 0
      },
      "text/plain": [
       "chain 4 |          | 00:00 Status"
      ]
     },
     "metadata": {},
     "output_type": "display_data"
    },
    {
     "name": "stdout",
     "output_type": "stream",
     "text": [
      "                                                                                                                                                                                                                                                                                                                                "
     ]
    },
    {
     "name": "stderr",
     "output_type": "stream",
     "text": [
      "09:34:42 - cmdstanpy - INFO - CmdStan done processing.\n",
      "09:34:42 - cmdstanpy - WARNING - Non-fatal error during sampling:\n",
      "Exception: normal_lpdf: Scale parameter is 0, but must be positive! (in '/home/br1/PythonProjects/bayesian_project/git_dir/bayes_colab/ARMA_bayesian_stan/code.stan', line 33, column 8 to column 31)\n",
      "Exception: normal_lpdf: Scale parameter is 0, but must be positive! (in '/home/br1/PythonProjects/bayesian_project/git_dir/bayes_colab/ARMA_bayesian_stan/code.stan', line 33, column 8 to column 31)\n",
      "Consider re-running with show_console=True if the above output is unclear!\n"
     ]
    },
    {
     "name": "stdout",
     "output_type": "stream",
     "text": [
      "\n"
     ]
    },
    {
     "name": "stderr",
     "output_type": "stream",
     "text": [
      "09:34:43 - cmdstanpy - INFO - CmdStan start processing\n"
     ]
    },
    {
     "data": {
      "application/vnd.jupyter.widget-view+json": {
       "model_id": "8c45308edcab4c42a5efb4ea09262583",
       "version_major": 2,
       "version_minor": 0
      },
      "text/plain": [
       "chain 1 |          | 00:00 Status"
      ]
     },
     "metadata": {},
     "output_type": "display_data"
    },
    {
     "data": {
      "application/vnd.jupyter.widget-view+json": {
       "model_id": "653d86f5f894469b80078a7c73d92c7f",
       "version_major": 2,
       "version_minor": 0
      },
      "text/plain": [
       "chain 2 |          | 00:00 Status"
      ]
     },
     "metadata": {},
     "output_type": "display_data"
    },
    {
     "data": {
      "application/vnd.jupyter.widget-view+json": {
       "model_id": "a509168243244508acd3ced123f0e1df",
       "version_major": 2,
       "version_minor": 0
      },
      "text/plain": [
       "chain 3 |          | 00:00 Status"
      ]
     },
     "metadata": {},
     "output_type": "display_data"
    },
    {
     "data": {
      "application/vnd.jupyter.widget-view+json": {
       "model_id": "3e24c8b6b82f46fa82bed2baf7e3ebf9",
       "version_major": 2,
       "version_minor": 0
      },
      "text/plain": [
       "chain 4 |          | 00:00 Status"
      ]
     },
     "metadata": {},
     "output_type": "display_data"
    },
    {
     "name": "stdout",
     "output_type": "stream",
     "text": [
      "                                                                                                                                                                                                                                                                                                                                "
     ]
    },
    {
     "name": "stderr",
     "output_type": "stream",
     "text": [
      "09:34:56 - cmdstanpy - INFO - CmdStan done processing.\n",
      "09:34:56 - cmdstanpy - WARNING - Non-fatal error during sampling:\n",
      "Exception: normal_lpdf: Scale parameter is 0, but must be positive! (in '/home/br1/PythonProjects/bayesian_project/git_dir/bayes_colab/ARMA_bayesian_stan/code.stan', line 33, column 8 to column 31)\n",
      "Exception: normal_lpdf: Scale parameter is 0, but must be positive! (in '/home/br1/PythonProjects/bayesian_project/git_dir/bayes_colab/ARMA_bayesian_stan/code.stan', line 33, column 8 to column 31)\n",
      "Exception: normal_lpdf: Scale parameter is 0, but must be positive! (in '/home/br1/PythonProjects/bayesian_project/git_dir/bayes_colab/ARMA_bayesian_stan/code.stan', line 33, column 8 to column 31)\n",
      "Consider re-running with show_console=True if the above output is unclear!\n"
     ]
    },
    {
     "name": "stdout",
     "output_type": "stream",
     "text": [
      "\n"
     ]
    },
    {
     "name": "stderr",
     "output_type": "stream",
     "text": [
      "09:34:57 - cmdstanpy - INFO - CmdStan start processing\n"
     ]
    },
    {
     "data": {
      "application/vnd.jupyter.widget-view+json": {
       "model_id": "c7c87a29f4014ba5900b9c6572d31b21",
       "version_major": 2,
       "version_minor": 0
      },
      "text/plain": [
       "chain 1 |          | 00:00 Status"
      ]
     },
     "metadata": {},
     "output_type": "display_data"
    },
    {
     "data": {
      "application/vnd.jupyter.widget-view+json": {
       "model_id": "99b2f30a0e0946ddb88926f87af669ce",
       "version_major": 2,
       "version_minor": 0
      },
      "text/plain": [
       "chain 2 |          | 00:00 Status"
      ]
     },
     "metadata": {},
     "output_type": "display_data"
    },
    {
     "data": {
      "application/vnd.jupyter.widget-view+json": {
       "model_id": "fe70cb7c8aa74755b9b6e6e93b0ed36e",
       "version_major": 2,
       "version_minor": 0
      },
      "text/plain": [
       "chain 3 |          | 00:00 Status"
      ]
     },
     "metadata": {},
     "output_type": "display_data"
    },
    {
     "data": {
      "application/vnd.jupyter.widget-view+json": {
       "model_id": "198d106407e2408f85d2ad07dbb3425c",
       "version_major": 2,
       "version_minor": 0
      },
      "text/plain": [
       "chain 4 |          | 00:00 Status"
      ]
     },
     "metadata": {},
     "output_type": "display_data"
    },
    {
     "name": "stdout",
     "output_type": "stream",
     "text": [
      "                                                                                                                                                                                                                                                                                                                                "
     ]
    },
    {
     "name": "stderr",
     "output_type": "stream",
     "text": [
      "09:35:11 - cmdstanpy - INFO - CmdStan done processing.\n",
      "09:35:11 - cmdstanpy - WARNING - Non-fatal error during sampling:\n",
      "Exception: normal_lpdf: Scale parameter is 0, but must be positive! (in '/home/br1/PythonProjects/bayesian_project/git_dir/bayes_colab/ARMA_bayesian_stan/code.stan', line 33, column 8 to column 31)\n",
      "Exception: normal_lpdf: Scale parameter is 0, but must be positive! (in '/home/br1/PythonProjects/bayesian_project/git_dir/bayes_colab/ARMA_bayesian_stan/code.stan', line 33, column 8 to column 31)\n",
      "Exception: normal_lpdf: Scale parameter is 0, but must be positive! (in '/home/br1/PythonProjects/bayesian_project/git_dir/bayes_colab/ARMA_bayesian_stan/code.stan', line 33, column 8 to column 31)\n",
      "Consider re-running with show_console=True if the above output is unclear!\n"
     ]
    },
    {
     "name": "stdout",
     "output_type": "stream",
     "text": [
      "\n"
     ]
    },
    {
     "name": "stderr",
     "output_type": "stream",
     "text": [
      "09:35:11 - cmdstanpy - INFO - CmdStan start processing\n"
     ]
    },
    {
     "data": {
      "application/vnd.jupyter.widget-view+json": {
       "model_id": "54fc4f7d2c2b4835859b7457c7dcfe07",
       "version_major": 2,
       "version_minor": 0
      },
      "text/plain": [
       "chain 1 |          | 00:00 Status"
      ]
     },
     "metadata": {},
     "output_type": "display_data"
    },
    {
     "data": {
      "application/vnd.jupyter.widget-view+json": {
       "model_id": "23dce2750127429d8586f73af871e7a5",
       "version_major": 2,
       "version_minor": 0
      },
      "text/plain": [
       "chain 2 |          | 00:00 Status"
      ]
     },
     "metadata": {},
     "output_type": "display_data"
    },
    {
     "data": {
      "application/vnd.jupyter.widget-view+json": {
       "model_id": "e1d7d19277b246d9afa2727b52958324",
       "version_major": 2,
       "version_minor": 0
      },
      "text/plain": [
       "chain 3 |          | 00:00 Status"
      ]
     },
     "metadata": {},
     "output_type": "display_data"
    },
    {
     "data": {
      "application/vnd.jupyter.widget-view+json": {
       "model_id": "8cfeee9ed6994dc580437e423f4abab9",
       "version_major": 2,
       "version_minor": 0
      },
      "text/plain": [
       "chain 4 |          | 00:00 Status"
      ]
     },
     "metadata": {},
     "output_type": "display_data"
    },
    {
     "name": "stdout",
     "output_type": "stream",
     "text": [
      "                                                                                                                                                                                                                                                                                                                                "
     ]
    },
    {
     "name": "stderr",
     "output_type": "stream",
     "text": [
      "09:35:25 - cmdstanpy - INFO - CmdStan done processing.\n",
      "09:35:25 - cmdstanpy - WARNING - Non-fatal error during sampling:\n",
      "Exception: normal_lpdf: Scale parameter is 0, but must be positive! (in '/home/br1/PythonProjects/bayesian_project/git_dir/bayes_colab/ARMA_bayesian_stan/code.stan', line 33, column 8 to column 31)\n",
      "Exception: normal_lpdf: Scale parameter is 0, but must be positive! (in '/home/br1/PythonProjects/bayesian_project/git_dir/bayes_colab/ARMA_bayesian_stan/code.stan', line 33, column 8 to column 31)\n",
      "Consider re-running with show_console=True if the above output is unclear!\n"
     ]
    },
    {
     "name": "stdout",
     "output_type": "stream",
     "text": [
      "\n"
     ]
    },
    {
     "name": "stderr",
     "output_type": "stream",
     "text": [
      "09:35:26 - cmdstanpy - INFO - CmdStan start processing\n"
     ]
    },
    {
     "data": {
      "application/vnd.jupyter.widget-view+json": {
       "model_id": "ca5f008e8d444d04964d8ad56a8e0ac7",
       "version_major": 2,
       "version_minor": 0
      },
      "text/plain": [
       "chain 1 |          | 00:00 Status"
      ]
     },
     "metadata": {},
     "output_type": "display_data"
    },
    {
     "data": {
      "application/vnd.jupyter.widget-view+json": {
       "model_id": "d1ab8dac80b1426e83ef6e0cf03d8abf",
       "version_major": 2,
       "version_minor": 0
      },
      "text/plain": [
       "chain 2 |          | 00:00 Status"
      ]
     },
     "metadata": {},
     "output_type": "display_data"
    },
    {
     "data": {
      "application/vnd.jupyter.widget-view+json": {
       "model_id": "6237d9df45fd4185ab20bb120cc892b1",
       "version_major": 2,
       "version_minor": 0
      },
      "text/plain": [
       "chain 3 |          | 00:00 Status"
      ]
     },
     "metadata": {},
     "output_type": "display_data"
    },
    {
     "data": {
      "application/vnd.jupyter.widget-view+json": {
       "model_id": "3445006baefe40428bd8746046ec9531",
       "version_major": 2,
       "version_minor": 0
      },
      "text/plain": [
       "chain 4 |          | 00:00 Status"
      ]
     },
     "metadata": {},
     "output_type": "display_data"
    },
    {
     "name": "stdout",
     "output_type": "stream",
     "text": [
      "                                                                                                                                                                                                                                                                                                                                "
     ]
    },
    {
     "name": "stderr",
     "output_type": "stream",
     "text": [
      "09:35:38 - cmdstanpy - INFO - CmdStan done processing.\n",
      "09:35:38 - cmdstanpy - WARNING - Non-fatal error during sampling:\n",
      "Exception: normal_lpdf: Scale parameter is 0, but must be positive! (in '/home/br1/PythonProjects/bayesian_project/git_dir/bayes_colab/ARMA_bayesian_stan/code.stan', line 33, column 8 to column 31)\n",
      "Exception: normal_lpdf: Scale parameter is 0, but must be positive! (in '/home/br1/PythonProjects/bayesian_project/git_dir/bayes_colab/ARMA_bayesian_stan/code.stan', line 33, column 8 to column 31)\n",
      "Consider re-running with show_console=True if the above output is unclear!\n"
     ]
    },
    {
     "name": "stdout",
     "output_type": "stream",
     "text": [
      "\n"
     ]
    },
    {
     "name": "stderr",
     "output_type": "stream",
     "text": [
      "09:35:38 - cmdstanpy - INFO - CmdStan start processing\n"
     ]
    },
    {
     "data": {
      "application/vnd.jupyter.widget-view+json": {
       "model_id": "e5870130223849e78abced37fa5b9ad7",
       "version_major": 2,
       "version_minor": 0
      },
      "text/plain": [
       "chain 1 |          | 00:00 Status"
      ]
     },
     "metadata": {},
     "output_type": "display_data"
    },
    {
     "data": {
      "application/vnd.jupyter.widget-view+json": {
       "model_id": "1f57ef388b8e4c1f98e31469eba2c901",
       "version_major": 2,
       "version_minor": 0
      },
      "text/plain": [
       "chain 2 |          | 00:00 Status"
      ]
     },
     "metadata": {},
     "output_type": "display_data"
    },
    {
     "data": {
      "application/vnd.jupyter.widget-view+json": {
       "model_id": "7adf358ccb2a4373a1edaa910ee3fe99",
       "version_major": 2,
       "version_minor": 0
      },
      "text/plain": [
       "chain 3 |          | 00:00 Status"
      ]
     },
     "metadata": {},
     "output_type": "display_data"
    },
    {
     "data": {
      "application/vnd.jupyter.widget-view+json": {
       "model_id": "12ff5934c3f34c369e8b2847f3824b23",
       "version_major": 2,
       "version_minor": 0
      },
      "text/plain": [
       "chain 4 |          | 00:00 Status"
      ]
     },
     "metadata": {},
     "output_type": "display_data"
    },
    {
     "name": "stdout",
     "output_type": "stream",
     "text": [
      "                                                                                                                                                                                                                                                                                                                                "
     ]
    },
    {
     "name": "stderr",
     "output_type": "stream",
     "text": [
      "09:35:47 - cmdstanpy - INFO - CmdStan done processing.\n",
      "09:35:47 - cmdstanpy - WARNING - Non-fatal error during sampling:\n",
      "Exception: normal_lpdf: Scale parameter is 0, but must be positive! (in '/home/br1/PythonProjects/bayesian_project/git_dir/bayes_colab/ARMA_bayesian_stan/code.stan', line 33, column 8 to column 31)\n",
      "Exception: normal_lpdf: Scale parameter is 0, but must be positive! (in '/home/br1/PythonProjects/bayesian_project/git_dir/bayes_colab/ARMA_bayesian_stan/code.stan', line 33, column 8 to column 31)\n",
      "Consider re-running with show_console=True if the above output is unclear!\n"
     ]
    },
    {
     "name": "stdout",
     "output_type": "stream",
     "text": [
      "\n"
     ]
    },
    {
     "name": "stderr",
     "output_type": "stream",
     "text": [
      "09:35:47 - cmdstanpy - INFO - CmdStan start processing\n"
     ]
    },
    {
     "data": {
      "application/vnd.jupyter.widget-view+json": {
       "model_id": "563fd7ada8994263ac50a1b40c02832e",
       "version_major": 2,
       "version_minor": 0
      },
      "text/plain": [
       "chain 1 |          | 00:00 Status"
      ]
     },
     "metadata": {},
     "output_type": "display_data"
    },
    {
     "data": {
      "application/vnd.jupyter.widget-view+json": {
       "model_id": "4b697fdd89434b088e644359cfd1132f",
       "version_major": 2,
       "version_minor": 0
      },
      "text/plain": [
       "chain 2 |          | 00:00 Status"
      ]
     },
     "metadata": {},
     "output_type": "display_data"
    },
    {
     "data": {
      "application/vnd.jupyter.widget-view+json": {
       "model_id": "3d0eeda8b1aa4828aa872879358d107c",
       "version_major": 2,
       "version_minor": 0
      },
      "text/plain": [
       "chain 3 |          | 00:00 Status"
      ]
     },
     "metadata": {},
     "output_type": "display_data"
    },
    {
     "data": {
      "application/vnd.jupyter.widget-view+json": {
       "model_id": "c482c5cccc754b48955fabb6bfac81e5",
       "version_major": 2,
       "version_minor": 0
      },
      "text/plain": [
       "chain 4 |          | 00:00 Status"
      ]
     },
     "metadata": {},
     "output_type": "display_data"
    },
    {
     "name": "stdout",
     "output_type": "stream",
     "text": [
      "                                                                                                                                                                                                                                                                                                                                "
     ]
    },
    {
     "name": "stderr",
     "output_type": "stream",
     "text": [
      "09:36:00 - cmdstanpy - INFO - CmdStan done processing.\n",
      "09:36:00 - cmdstanpy - WARNING - Non-fatal error during sampling:\n",
      "Exception: normal_lpdf: Scale parameter is 0, but must be positive! (in '/home/br1/PythonProjects/bayesian_project/git_dir/bayes_colab/ARMA_bayesian_stan/code.stan', line 33, column 8 to column 31)\n",
      "Exception: normal_lpdf: Scale parameter is 0, but must be positive! (in '/home/br1/PythonProjects/bayesian_project/git_dir/bayes_colab/ARMA_bayesian_stan/code.stan', line 33, column 8 to column 31)\n",
      "Exception: normal_lpdf: Scale parameter is 0, but must be positive! (in '/home/br1/PythonProjects/bayesian_project/git_dir/bayes_colab/ARMA_bayesian_stan/code.stan', line 33, column 8 to column 31)\n",
      "Consider re-running with show_console=True if the above output is unclear!\n"
     ]
    },
    {
     "name": "stdout",
     "output_type": "stream",
     "text": [
      "\n"
     ]
    },
    {
     "name": "stderr",
     "output_type": "stream",
     "text": [
      "09:36:00 - cmdstanpy - INFO - CmdStan start processing\n"
     ]
    },
    {
     "data": {
      "application/vnd.jupyter.widget-view+json": {
       "model_id": "d4eb0dd972bb4a59b2aeffd3213cdf36",
       "version_major": 2,
       "version_minor": 0
      },
      "text/plain": [
       "chain 1 |          | 00:00 Status"
      ]
     },
     "metadata": {},
     "output_type": "display_data"
    },
    {
     "data": {
      "application/vnd.jupyter.widget-view+json": {
       "model_id": "6dfbd44cba8a4239ba1b107cafd3172a",
       "version_major": 2,
       "version_minor": 0
      },
      "text/plain": [
       "chain 2 |          | 00:00 Status"
      ]
     },
     "metadata": {},
     "output_type": "display_data"
    },
    {
     "data": {
      "application/vnd.jupyter.widget-view+json": {
       "model_id": "46890b6c6cb34306960485f9d7e112c7",
       "version_major": 2,
       "version_minor": 0
      },
      "text/plain": [
       "chain 3 |          | 00:00 Status"
      ]
     },
     "metadata": {},
     "output_type": "display_data"
    },
    {
     "data": {
      "application/vnd.jupyter.widget-view+json": {
       "model_id": "1bf906498ed9497ab35b43c231d5100d",
       "version_major": 2,
       "version_minor": 0
      },
      "text/plain": [
       "chain 4 |          | 00:00 Status"
      ]
     },
     "metadata": {},
     "output_type": "display_data"
    },
    {
     "name": "stdout",
     "output_type": "stream",
     "text": [
      "                                                                                                                                                                                                                                                                                                                                "
     ]
    },
    {
     "name": "stderr",
     "output_type": "stream",
     "text": [
      "09:36:12 - cmdstanpy - INFO - CmdStan done processing.\n",
      "09:36:12 - cmdstanpy - WARNING - Non-fatal error during sampling:\n",
      "Exception: normal_lpdf: Scale parameter is 0, but must be positive! (in '/home/br1/PythonProjects/bayesian_project/git_dir/bayes_colab/ARMA_bayesian_stan/code.stan', line 33, column 8 to column 31)\n",
      "Exception: normal_lpdf: Scale parameter is 0, but must be positive! (in '/home/br1/PythonProjects/bayesian_project/git_dir/bayes_colab/ARMA_bayesian_stan/code.stan', line 33, column 8 to column 31)\n",
      "Exception: normal_lpdf: Scale parameter is 0, but must be positive! (in '/home/br1/PythonProjects/bayesian_project/git_dir/bayes_colab/ARMA_bayesian_stan/code.stan', line 33, column 8 to column 31)\n",
      "Consider re-running with show_console=True if the above output is unclear!\n"
     ]
    },
    {
     "name": "stdout",
     "output_type": "stream",
     "text": [
      "\n"
     ]
    },
    {
     "name": "stderr",
     "output_type": "stream",
     "text": [
      "09:36:13 - cmdstanpy - INFO - CmdStan start processing\n"
     ]
    },
    {
     "data": {
      "application/vnd.jupyter.widget-view+json": {
       "model_id": "17bfce3e6ba44765ae008f7dd39c8a00",
       "version_major": 2,
       "version_minor": 0
      },
      "text/plain": [
       "chain 1 |          | 00:00 Status"
      ]
     },
     "metadata": {},
     "output_type": "display_data"
    },
    {
     "data": {
      "application/vnd.jupyter.widget-view+json": {
       "model_id": "51b24ce0a0c24dd484436c4d8d64ef48",
       "version_major": 2,
       "version_minor": 0
      },
      "text/plain": [
       "chain 2 |          | 00:00 Status"
      ]
     },
     "metadata": {},
     "output_type": "display_data"
    },
    {
     "data": {
      "application/vnd.jupyter.widget-view+json": {
       "model_id": "865f8ee4b8e64159b28cb7e641353e10",
       "version_major": 2,
       "version_minor": 0
      },
      "text/plain": [
       "chain 3 |          | 00:00 Status"
      ]
     },
     "metadata": {},
     "output_type": "display_data"
    },
    {
     "data": {
      "application/vnd.jupyter.widget-view+json": {
       "model_id": "eb7800d6ad00446baada7530b112cfaf",
       "version_major": 2,
       "version_minor": 0
      },
      "text/plain": [
       "chain 4 |          | 00:00 Status"
      ]
     },
     "metadata": {},
     "output_type": "display_data"
    },
    {
     "name": "stdout",
     "output_type": "stream",
     "text": [
      "                                                                                                                                                                                                                                                                                                                                "
     ]
    },
    {
     "name": "stderr",
     "output_type": "stream",
     "text": [
      "09:36:21 - cmdstanpy - INFO - CmdStan done processing.\n",
      "09:36:21 - cmdstanpy - WARNING - Non-fatal error during sampling:\n",
      "Exception: normal_lpdf: Scale parameter is 0, but must be positive! (in '/home/br1/PythonProjects/bayesian_project/git_dir/bayes_colab/ARMA_bayesian_stan/code.stan', line 33, column 8 to column 31)\n",
      "Consider re-running with show_console=True if the above output is unclear!\n"
     ]
    },
    {
     "name": "stdout",
     "output_type": "stream",
     "text": [
      "\n"
     ]
    },
    {
     "name": "stderr",
     "output_type": "stream",
     "text": [
      "09:36:21 - cmdstanpy - INFO - CmdStan start processing\n"
     ]
    },
    {
     "data": {
      "application/vnd.jupyter.widget-view+json": {
       "model_id": "1b498643595c411ca8198a867c92ce64",
       "version_major": 2,
       "version_minor": 0
      },
      "text/plain": [
       "chain 1 |          | 00:00 Status"
      ]
     },
     "metadata": {},
     "output_type": "display_data"
    },
    {
     "data": {
      "application/vnd.jupyter.widget-view+json": {
       "model_id": "38c4a9351ab34a7ca0fc1745961950ad",
       "version_major": 2,
       "version_minor": 0
      },
      "text/plain": [
       "chain 2 |          | 00:00 Status"
      ]
     },
     "metadata": {},
     "output_type": "display_data"
    },
    {
     "data": {
      "application/vnd.jupyter.widget-view+json": {
       "model_id": "a46435b070d7493aaf079cb86bc4b987",
       "version_major": 2,
       "version_minor": 0
      },
      "text/plain": [
       "chain 3 |          | 00:00 Status"
      ]
     },
     "metadata": {},
     "output_type": "display_data"
    },
    {
     "data": {
      "application/vnd.jupyter.widget-view+json": {
       "model_id": "02d0f8843a744c2dbbea799f3ef059e1",
       "version_major": 2,
       "version_minor": 0
      },
      "text/plain": [
       "chain 4 |          | 00:00 Status"
      ]
     },
     "metadata": {},
     "output_type": "display_data"
    },
    {
     "name": "stdout",
     "output_type": "stream",
     "text": [
      "                                                                                                                                                                                                                                                                                                                                "
     ]
    },
    {
     "name": "stderr",
     "output_type": "stream",
     "text": [
      "09:36:33 - cmdstanpy - INFO - CmdStan done processing.\n",
      "09:36:33 - cmdstanpy - WARNING - Non-fatal error during sampling:\n",
      "Exception: normal_lpdf: Scale parameter is 0, but must be positive! (in '/home/br1/PythonProjects/bayesian_project/git_dir/bayes_colab/ARMA_bayesian_stan/code.stan', line 33, column 8 to column 31)\n",
      "Exception: normal_lpdf: Scale parameter is 0, but must be positive! (in '/home/br1/PythonProjects/bayesian_project/git_dir/bayes_colab/ARMA_bayesian_stan/code.stan', line 33, column 8 to column 31)\n",
      "Exception: normal_lpdf: Scale parameter is 0, but must be positive! (in '/home/br1/PythonProjects/bayesian_project/git_dir/bayes_colab/ARMA_bayesian_stan/code.stan', line 33, column 8 to column 31)\n",
      "Consider re-running with show_console=True if the above output is unclear!\n"
     ]
    },
    {
     "name": "stdout",
     "output_type": "stream",
     "text": [
      "\n"
     ]
    },
    {
     "name": "stderr",
     "output_type": "stream",
     "text": [
      "09:36:33 - cmdstanpy - INFO - CmdStan start processing\n"
     ]
    },
    {
     "data": {
      "application/vnd.jupyter.widget-view+json": {
       "model_id": "fc3f709af6ff4e99859d0d346f0a344b",
       "version_major": 2,
       "version_minor": 0
      },
      "text/plain": [
       "chain 1 |          | 00:00 Status"
      ]
     },
     "metadata": {},
     "output_type": "display_data"
    },
    {
     "data": {
      "application/vnd.jupyter.widget-view+json": {
       "model_id": "0fbc7f74b146496da3f6c5f0c51bcfcc",
       "version_major": 2,
       "version_minor": 0
      },
      "text/plain": [
       "chain 2 |          | 00:00 Status"
      ]
     },
     "metadata": {},
     "output_type": "display_data"
    },
    {
     "data": {
      "application/vnd.jupyter.widget-view+json": {
       "model_id": "bf8842e1cb9642fea4722ff543d1ab25",
       "version_major": 2,
       "version_minor": 0
      },
      "text/plain": [
       "chain 3 |          | 00:00 Status"
      ]
     },
     "metadata": {},
     "output_type": "display_data"
    },
    {
     "data": {
      "application/vnd.jupyter.widget-view+json": {
       "model_id": "02a6eef94d844d7b9ec59461b178e6ec",
       "version_major": 2,
       "version_minor": 0
      },
      "text/plain": [
       "chain 4 |          | 00:00 Status"
      ]
     },
     "metadata": {},
     "output_type": "display_data"
    },
    {
     "name": "stdout",
     "output_type": "stream",
     "text": [
      "                                                                                                                                                                                                                                                                                                                                "
     ]
    },
    {
     "name": "stderr",
     "output_type": "stream",
     "text": [
      "09:36:48 - cmdstanpy - INFO - CmdStan done processing.\n",
      "09:36:48 - cmdstanpy - WARNING - Non-fatal error during sampling:\n",
      "Exception: normal_lpdf: Scale parameter is 0, but must be positive! (in '/home/br1/PythonProjects/bayesian_project/git_dir/bayes_colab/ARMA_bayesian_stan/code.stan', line 33, column 8 to column 31)\n",
      "Exception: normal_lpdf: Scale parameter is 0, but must be positive! (in '/home/br1/PythonProjects/bayesian_project/git_dir/bayes_colab/ARMA_bayesian_stan/code.stan', line 33, column 8 to column 31)\n",
      "Exception: normal_lpdf: Scale parameter is 0, but must be positive! (in '/home/br1/PythonProjects/bayesian_project/git_dir/bayes_colab/ARMA_bayesian_stan/code.stan', line 33, column 8 to column 31)\n",
      "Exception: normal_lpdf: Scale parameter is 0, but must be positive! (in '/home/br1/PythonProjects/bayesian_project/git_dir/bayes_colab/ARMA_bayesian_stan/code.stan', line 33, column 8 to column 31)\n",
      "Consider re-running with show_console=True if the above output is unclear!\n"
     ]
    },
    {
     "name": "stdout",
     "output_type": "stream",
     "text": [
      "\n"
     ]
    },
    {
     "name": "stderr",
     "output_type": "stream",
     "text": [
      "09:36:48 - cmdstanpy - INFO - CmdStan start processing\n"
     ]
    },
    {
     "data": {
      "application/vnd.jupyter.widget-view+json": {
       "model_id": "0efdea29dcfb4c018a37e0e65190a363",
       "version_major": 2,
       "version_minor": 0
      },
      "text/plain": [
       "chain 1 |          | 00:00 Status"
      ]
     },
     "metadata": {},
     "output_type": "display_data"
    },
    {
     "data": {
      "application/vnd.jupyter.widget-view+json": {
       "model_id": "4539d0a8df934ff78260948288b9c220",
       "version_major": 2,
       "version_minor": 0
      },
      "text/plain": [
       "chain 2 |          | 00:00 Status"
      ]
     },
     "metadata": {},
     "output_type": "display_data"
    },
    {
     "data": {
      "application/vnd.jupyter.widget-view+json": {
       "model_id": "f4f6d941424a4d3e9b558aca641dfaaf",
       "version_major": 2,
       "version_minor": 0
      },
      "text/plain": [
       "chain 3 |          | 00:00 Status"
      ]
     },
     "metadata": {},
     "output_type": "display_data"
    },
    {
     "data": {
      "application/vnd.jupyter.widget-view+json": {
       "model_id": "a3e70d86119745f1aa1ec8824e9eca2b",
       "version_major": 2,
       "version_minor": 0
      },
      "text/plain": [
       "chain 4 |          | 00:00 Status"
      ]
     },
     "metadata": {},
     "output_type": "display_data"
    },
    {
     "name": "stdout",
     "output_type": "stream",
     "text": [
      "                                                                                                                                                                                                                                                                                                                                "
     ]
    },
    {
     "name": "stderr",
     "output_type": "stream",
     "text": [
      "09:37:03 - cmdstanpy - INFO - CmdStan done processing.\n",
      "09:37:03 - cmdstanpy - WARNING - Non-fatal error during sampling:\n",
      "Exception: normal_lpdf: Scale parameter is 0, but must be positive! (in '/home/br1/PythonProjects/bayesian_project/git_dir/bayes_colab/ARMA_bayesian_stan/code.stan', line 33, column 8 to column 31)\n",
      "Exception: normal_lpdf: Scale parameter is 0, but must be positive! (in '/home/br1/PythonProjects/bayesian_project/git_dir/bayes_colab/ARMA_bayesian_stan/code.stan', line 33, column 8 to column 31)\n",
      "Exception: normal_lpdf: Scale parameter is 0, but must be positive! (in '/home/br1/PythonProjects/bayesian_project/git_dir/bayes_colab/ARMA_bayesian_stan/code.stan', line 33, column 8 to column 31)\n",
      "Consider re-running with show_console=True if the above output is unclear!\n"
     ]
    },
    {
     "name": "stdout",
     "output_type": "stream",
     "text": [
      "\n"
     ]
    },
    {
     "name": "stderr",
     "output_type": "stream",
     "text": [
      "09:37:03 - cmdstanpy - INFO - CmdStan start processing\n"
     ]
    },
    {
     "data": {
      "application/vnd.jupyter.widget-view+json": {
       "model_id": "24ed6201a0bf45ee8bc33d53b9ac2f19",
       "version_major": 2,
       "version_minor": 0
      },
      "text/plain": [
       "chain 1 |          | 00:00 Status"
      ]
     },
     "metadata": {},
     "output_type": "display_data"
    },
    {
     "data": {
      "application/vnd.jupyter.widget-view+json": {
       "model_id": "df2c0510a1db487e92645e8fae998b36",
       "version_major": 2,
       "version_minor": 0
      },
      "text/plain": [
       "chain 2 |          | 00:00 Status"
      ]
     },
     "metadata": {},
     "output_type": "display_data"
    },
    {
     "data": {
      "application/vnd.jupyter.widget-view+json": {
       "model_id": "0a97a385024a4606853f6641be59d162",
       "version_major": 2,
       "version_minor": 0
      },
      "text/plain": [
       "chain 3 |          | 00:00 Status"
      ]
     },
     "metadata": {},
     "output_type": "display_data"
    },
    {
     "data": {
      "application/vnd.jupyter.widget-view+json": {
       "model_id": "3d99e86e9b6f48b9a5f274d783df8c10",
       "version_major": 2,
       "version_minor": 0
      },
      "text/plain": [
       "chain 4 |          | 00:00 Status"
      ]
     },
     "metadata": {},
     "output_type": "display_data"
    },
    {
     "name": "stdout",
     "output_type": "stream",
     "text": [
      "                                                                                                                                                                                                                                                                                                                                "
     ]
    },
    {
     "name": "stderr",
     "output_type": "stream",
     "text": [
      "09:37:15 - cmdstanpy - INFO - CmdStan done processing.\n"
     ]
    },
    {
     "name": "stdout",
     "output_type": "stream",
     "text": [
      "\n"
     ]
    },
    {
     "name": "stderr",
     "output_type": "stream",
     "text": [
      "09:37:15 - cmdstanpy - INFO - CmdStan start processing\n"
     ]
    },
    {
     "data": {
      "application/vnd.jupyter.widget-view+json": {
       "model_id": "db95bcb28cf24f46a2600cd623d61bf9",
       "version_major": 2,
       "version_minor": 0
      },
      "text/plain": [
       "chain 1 |          | 00:00 Status"
      ]
     },
     "metadata": {},
     "output_type": "display_data"
    },
    {
     "data": {
      "application/vnd.jupyter.widget-view+json": {
       "model_id": "dfceb3936bfb4c599610460962353725",
       "version_major": 2,
       "version_minor": 0
      },
      "text/plain": [
       "chain 2 |          | 00:00 Status"
      ]
     },
     "metadata": {},
     "output_type": "display_data"
    },
    {
     "data": {
      "application/vnd.jupyter.widget-view+json": {
       "model_id": "5b8274bf7da5412abb1e2ea33747f833",
       "version_major": 2,
       "version_minor": 0
      },
      "text/plain": [
       "chain 3 |          | 00:00 Status"
      ]
     },
     "metadata": {},
     "output_type": "display_data"
    },
    {
     "data": {
      "application/vnd.jupyter.widget-view+json": {
       "model_id": "d18a2ab34a6f491aa297d6ba0d007370",
       "version_major": 2,
       "version_minor": 0
      },
      "text/plain": [
       "chain 4 |          | 00:00 Status"
      ]
     },
     "metadata": {},
     "output_type": "display_data"
    },
    {
     "name": "stdout",
     "output_type": "stream",
     "text": [
      "                                                                                                                                                                                                                                                                                                                                "
     ]
    },
    {
     "name": "stderr",
     "output_type": "stream",
     "text": [
      "09:37:22 - cmdstanpy - INFO - CmdStan done processing.\n",
      "09:37:22 - cmdstanpy - WARNING - Non-fatal error during sampling:\n",
      "Exception: normal_lpdf: Scale parameter is 0, but must be positive! (in '/home/br1/PythonProjects/bayesian_project/git_dir/bayes_colab/ARMA_bayesian_stan/code.stan', line 33, column 8 to column 31)\n",
      "Exception: normal_lpdf: Scale parameter is 0, but must be positive! (in '/home/br1/PythonProjects/bayesian_project/git_dir/bayes_colab/ARMA_bayesian_stan/code.stan', line 33, column 8 to column 31)\n",
      "Exception: normal_lpdf: Scale parameter is 0, but must be positive! (in '/home/br1/PythonProjects/bayesian_project/git_dir/bayes_colab/ARMA_bayesian_stan/code.stan', line 33, column 8 to column 31)\n",
      "Consider re-running with show_console=True if the above output is unclear!\n"
     ]
    },
    {
     "name": "stdout",
     "output_type": "stream",
     "text": [
      "\n"
     ]
    },
    {
     "name": "stderr",
     "output_type": "stream",
     "text": [
      "09:37:23 - cmdstanpy - INFO - CmdStan start processing\n"
     ]
    },
    {
     "data": {
      "application/vnd.jupyter.widget-view+json": {
       "model_id": "d243212f0cc448bb996ea634a9625138",
       "version_major": 2,
       "version_minor": 0
      },
      "text/plain": [
       "chain 1 |          | 00:00 Status"
      ]
     },
     "metadata": {},
     "output_type": "display_data"
    },
    {
     "data": {
      "application/vnd.jupyter.widget-view+json": {
       "model_id": "83853492d9324fac8fd25895de0e301e",
       "version_major": 2,
       "version_minor": 0
      },
      "text/plain": [
       "chain 2 |          | 00:00 Status"
      ]
     },
     "metadata": {},
     "output_type": "display_data"
    },
    {
     "data": {
      "application/vnd.jupyter.widget-view+json": {
       "model_id": "44081b9d43d34fb09b4548ba8f33b90e",
       "version_major": 2,
       "version_minor": 0
      },
      "text/plain": [
       "chain 3 |          | 00:00 Status"
      ]
     },
     "metadata": {},
     "output_type": "display_data"
    },
    {
     "data": {
      "application/vnd.jupyter.widget-view+json": {
       "model_id": "4585e26d5a8f4e2c82d0ce742fcfde65",
       "version_major": 2,
       "version_minor": 0
      },
      "text/plain": [
       "chain 4 |          | 00:00 Status"
      ]
     },
     "metadata": {},
     "output_type": "display_data"
    },
    {
     "name": "stdout",
     "output_type": "stream",
     "text": [
      "                                                                                                                                                                                                                                                                                                                                "
     ]
    },
    {
     "name": "stderr",
     "output_type": "stream",
     "text": [
      "09:37:36 - cmdstanpy - INFO - CmdStan done processing.\n",
      "09:37:36 - cmdstanpy - WARNING - Non-fatal error during sampling:\n",
      "Exception: normal_lpdf: Scale parameter is 0, but must be positive! (in '/home/br1/PythonProjects/bayesian_project/git_dir/bayes_colab/ARMA_bayesian_stan/code.stan', line 33, column 8 to column 31)\n",
      "Exception: normal_lpdf: Scale parameter is 0, but must be positive! (in '/home/br1/PythonProjects/bayesian_project/git_dir/bayes_colab/ARMA_bayesian_stan/code.stan', line 33, column 8 to column 31)\n",
      "Exception: normal_lpdf: Scale parameter is 0, but must be positive! (in '/home/br1/PythonProjects/bayesian_project/git_dir/bayes_colab/ARMA_bayesian_stan/code.stan', line 33, column 8 to column 31)\n",
      "Exception: normal_lpdf: Scale parameter is 0, but must be positive! (in '/home/br1/PythonProjects/bayesian_project/git_dir/bayes_colab/ARMA_bayesian_stan/code.stan', line 33, column 8 to column 31)\n",
      "Consider re-running with show_console=True if the above output is unclear!\n"
     ]
    },
    {
     "name": "stdout",
     "output_type": "stream",
     "text": [
      "\n"
     ]
    },
    {
     "name": "stderr",
     "output_type": "stream",
     "text": [
      "09:37:37 - cmdstanpy - INFO - CmdStan start processing\n"
     ]
    },
    {
     "data": {
      "application/vnd.jupyter.widget-view+json": {
       "model_id": "8b01a00e2d5a4b9d87b5dfdeceb28a81",
       "version_major": 2,
       "version_minor": 0
      },
      "text/plain": [
       "chain 1 |          | 00:00 Status"
      ]
     },
     "metadata": {},
     "output_type": "display_data"
    },
    {
     "data": {
      "application/vnd.jupyter.widget-view+json": {
       "model_id": "0c737ebb6f204d8ab723120acd8f7112",
       "version_major": 2,
       "version_minor": 0
      },
      "text/plain": [
       "chain 2 |          | 00:00 Status"
      ]
     },
     "metadata": {},
     "output_type": "display_data"
    },
    {
     "data": {
      "application/vnd.jupyter.widget-view+json": {
       "model_id": "433dc3215dba459cae15f96fa89e4371",
       "version_major": 2,
       "version_minor": 0
      },
      "text/plain": [
       "chain 3 |          | 00:00 Status"
      ]
     },
     "metadata": {},
     "output_type": "display_data"
    },
    {
     "data": {
      "application/vnd.jupyter.widget-view+json": {
       "model_id": "03f39525ab6149a1944a13983ccfa498",
       "version_major": 2,
       "version_minor": 0
      },
      "text/plain": [
       "chain 4 |          | 00:00 Status"
      ]
     },
     "metadata": {},
     "output_type": "display_data"
    },
    {
     "name": "stdout",
     "output_type": "stream",
     "text": [
      "                                                                                                                                                                                                                                                                                                                                "
     ]
    },
    {
     "name": "stderr",
     "output_type": "stream",
     "text": [
      "09:37:49 - cmdstanpy - INFO - CmdStan done processing.\n",
      "09:37:49 - cmdstanpy - WARNING - Non-fatal error during sampling:\n",
      "Exception: normal_lpdf: Scale parameter is 0, but must be positive! (in '/home/br1/PythonProjects/bayesian_project/git_dir/bayes_colab/ARMA_bayesian_stan/code.stan', line 33, column 8 to column 31)\n",
      "Exception: normal_lpdf: Scale parameter is 0, but must be positive! (in '/home/br1/PythonProjects/bayesian_project/git_dir/bayes_colab/ARMA_bayesian_stan/code.stan', line 33, column 8 to column 31)\n",
      "Exception: normal_lpdf: Scale parameter is 0, but must be positive! (in '/home/br1/PythonProjects/bayesian_project/git_dir/bayes_colab/ARMA_bayesian_stan/code.stan', line 33, column 8 to column 31)\n",
      "Consider re-running with show_console=True if the above output is unclear!\n"
     ]
    },
    {
     "name": "stdout",
     "output_type": "stream",
     "text": [
      "\n"
     ]
    },
    {
     "name": "stderr",
     "output_type": "stream",
     "text": [
      "09:37:50 - cmdstanpy - INFO - CmdStan start processing\n"
     ]
    },
    {
     "data": {
      "application/vnd.jupyter.widget-view+json": {
       "model_id": "2a96072b49284a33b7714d48c5a3a306",
       "version_major": 2,
       "version_minor": 0
      },
      "text/plain": [
       "chain 1 |          | 00:00 Status"
      ]
     },
     "metadata": {},
     "output_type": "display_data"
    },
    {
     "data": {
      "application/vnd.jupyter.widget-view+json": {
       "model_id": "bcbd1bfa2c0c438cb0c33561e7039c14",
       "version_major": 2,
       "version_minor": 0
      },
      "text/plain": [
       "chain 2 |          | 00:00 Status"
      ]
     },
     "metadata": {},
     "output_type": "display_data"
    },
    {
     "data": {
      "application/vnd.jupyter.widget-view+json": {
       "model_id": "b662ca6c682c4e9b8a82799762a044cf",
       "version_major": 2,
       "version_minor": 0
      },
      "text/plain": [
       "chain 3 |          | 00:00 Status"
      ]
     },
     "metadata": {},
     "output_type": "display_data"
    },
    {
     "data": {
      "application/vnd.jupyter.widget-view+json": {
       "model_id": "1de6cc0cd57c41aaa34f4069b53362b6",
       "version_major": 2,
       "version_minor": 0
      },
      "text/plain": [
       "chain 4 |          | 00:00 Status"
      ]
     },
     "metadata": {},
     "output_type": "display_data"
    },
    {
     "name": "stdout",
     "output_type": "stream",
     "text": [
      "                                                                                                                                                                                                                                                                                                                                "
     ]
    },
    {
     "name": "stderr",
     "output_type": "stream",
     "text": [
      "09:37:58 - cmdstanpy - INFO - CmdStan done processing.\n",
      "09:37:58 - cmdstanpy - WARNING - Non-fatal error during sampling:\n",
      "Exception: normal_lpdf: Scale parameter is 0, but must be positive! (in '/home/br1/PythonProjects/bayesian_project/git_dir/bayes_colab/ARMA_bayesian_stan/code.stan', line 33, column 8 to column 31)\n",
      "Exception: normal_lpdf: Scale parameter is 0, but must be positive! (in '/home/br1/PythonProjects/bayesian_project/git_dir/bayes_colab/ARMA_bayesian_stan/code.stan', line 33, column 8 to column 31)\n",
      "Consider re-running with show_console=True if the above output is unclear!\n"
     ]
    },
    {
     "name": "stdout",
     "output_type": "stream",
     "text": [
      "\n"
     ]
    },
    {
     "name": "stderr",
     "output_type": "stream",
     "text": [
      "09:37:58 - cmdstanpy - INFO - CmdStan start processing\n"
     ]
    },
    {
     "data": {
      "application/vnd.jupyter.widget-view+json": {
       "model_id": "e858c72468444e62ab8957588edb4c3a",
       "version_major": 2,
       "version_minor": 0
      },
      "text/plain": [
       "chain 1 |          | 00:00 Status"
      ]
     },
     "metadata": {},
     "output_type": "display_data"
    },
    {
     "data": {
      "application/vnd.jupyter.widget-view+json": {
       "model_id": "e8f68fb8e9224f099da167bdb181ae1b",
       "version_major": 2,
       "version_minor": 0
      },
      "text/plain": [
       "chain 2 |          | 00:00 Status"
      ]
     },
     "metadata": {},
     "output_type": "display_data"
    },
    {
     "data": {
      "application/vnd.jupyter.widget-view+json": {
       "model_id": "30fd414495bb4a1fa7a5e3e4485a9a20",
       "version_major": 2,
       "version_minor": 0
      },
      "text/plain": [
       "chain 3 |          | 00:00 Status"
      ]
     },
     "metadata": {},
     "output_type": "display_data"
    },
    {
     "data": {
      "application/vnd.jupyter.widget-view+json": {
       "model_id": "51fafe0c562f4f68919ef3b6ce80c256",
       "version_major": 2,
       "version_minor": 0
      },
      "text/plain": [
       "chain 4 |          | 00:00 Status"
      ]
     },
     "metadata": {},
     "output_type": "display_data"
    },
    {
     "name": "stdout",
     "output_type": "stream",
     "text": [
      "                                                                                                                                                                                                                                                                                                                                "
     ]
    },
    {
     "name": "stderr",
     "output_type": "stream",
     "text": [
      "09:38:11 - cmdstanpy - INFO - CmdStan done processing.\n",
      "09:38:11 - cmdstanpy - WARNING - Non-fatal error during sampling:\n",
      "Exception: normal_lpdf: Scale parameter is 0, but must be positive! (in '/home/br1/PythonProjects/bayesian_project/git_dir/bayes_colab/ARMA_bayesian_stan/code.stan', line 33, column 8 to column 31)\n",
      "Exception: normal_lpdf: Scale parameter is 0, but must be positive! (in '/home/br1/PythonProjects/bayesian_project/git_dir/bayes_colab/ARMA_bayesian_stan/code.stan', line 33, column 8 to column 31)\n",
      "Consider re-running with show_console=True if the above output is unclear!\n"
     ]
    },
    {
     "name": "stdout",
     "output_type": "stream",
     "text": [
      "\n"
     ]
    },
    {
     "name": "stderr",
     "output_type": "stream",
     "text": [
      "09:38:11 - cmdstanpy - INFO - CmdStan start processing\n"
     ]
    },
    {
     "data": {
      "application/vnd.jupyter.widget-view+json": {
       "model_id": "5989972e4ed944e1856ab681b14ccd01",
       "version_major": 2,
       "version_minor": 0
      },
      "text/plain": [
       "chain 1 |          | 00:00 Status"
      ]
     },
     "metadata": {},
     "output_type": "display_data"
    },
    {
     "data": {
      "application/vnd.jupyter.widget-view+json": {
       "model_id": "88a189b77bab4129a002841396f78384",
       "version_major": 2,
       "version_minor": 0
      },
      "text/plain": [
       "chain 2 |          | 00:00 Status"
      ]
     },
     "metadata": {},
     "output_type": "display_data"
    },
    {
     "data": {
      "application/vnd.jupyter.widget-view+json": {
       "model_id": "908caffab9ad40a08d4aaf0bbee13f7c",
       "version_major": 2,
       "version_minor": 0
      },
      "text/plain": [
       "chain 3 |          | 00:00 Status"
      ]
     },
     "metadata": {},
     "output_type": "display_data"
    },
    {
     "data": {
      "application/vnd.jupyter.widget-view+json": {
       "model_id": "d2bb4b715157439abbf4f52f450a85f9",
       "version_major": 2,
       "version_minor": 0
      },
      "text/plain": [
       "chain 4 |          | 00:00 Status"
      ]
     },
     "metadata": {},
     "output_type": "display_data"
    },
    {
     "name": "stdout",
     "output_type": "stream",
     "text": [
      "                                                                                                                                                                                                                                                                                                                                "
     ]
    },
    {
     "name": "stderr",
     "output_type": "stream",
     "text": [
      "09:38:25 - cmdstanpy - INFO - CmdStan done processing.\n",
      "09:38:25 - cmdstanpy - WARNING - Non-fatal error during sampling:\n",
      "Exception: normal_lpdf: Scale parameter is 0, but must be positive! (in '/home/br1/PythonProjects/bayesian_project/git_dir/bayes_colab/ARMA_bayesian_stan/code.stan', line 33, column 8 to column 31)\n",
      "Exception: normal_lpdf: Scale parameter is 0, but must be positive! (in '/home/br1/PythonProjects/bayesian_project/git_dir/bayes_colab/ARMA_bayesian_stan/code.stan', line 33, column 8 to column 31)\n",
      "Exception: normal_lpdf: Scale parameter is 0, but must be positive! (in '/home/br1/PythonProjects/bayesian_project/git_dir/bayes_colab/ARMA_bayesian_stan/code.stan', line 33, column 8 to column 31)\n",
      "Consider re-running with show_console=True if the above output is unclear!\n"
     ]
    },
    {
     "name": "stdout",
     "output_type": "stream",
     "text": [
      "\n"
     ]
    },
    {
     "name": "stderr",
     "output_type": "stream",
     "text": [
      "09:38:26 - cmdstanpy - INFO - CmdStan start processing\n"
     ]
    },
    {
     "data": {
      "application/vnd.jupyter.widget-view+json": {
       "model_id": "158e69f2fc48434b9205d9d21272461b",
       "version_major": 2,
       "version_minor": 0
      },
      "text/plain": [
       "chain 1 |          | 00:00 Status"
      ]
     },
     "metadata": {},
     "output_type": "display_data"
    },
    {
     "data": {
      "application/vnd.jupyter.widget-view+json": {
       "model_id": "7b89c00af0a744df8e42fd6b71598a0f",
       "version_major": 2,
       "version_minor": 0
      },
      "text/plain": [
       "chain 2 |          | 00:00 Status"
      ]
     },
     "metadata": {},
     "output_type": "display_data"
    },
    {
     "data": {
      "application/vnd.jupyter.widget-view+json": {
       "model_id": "41ac8328df904540bd759bb9b6aff307",
       "version_major": 2,
       "version_minor": 0
      },
      "text/plain": [
       "chain 3 |          | 00:00 Status"
      ]
     },
     "metadata": {},
     "output_type": "display_data"
    },
    {
     "data": {
      "application/vnd.jupyter.widget-view+json": {
       "model_id": "906570f1f10f4d139073398a3c17ceda",
       "version_major": 2,
       "version_minor": 0
      },
      "text/plain": [
       "chain 4 |          | 00:00 Status"
      ]
     },
     "metadata": {},
     "output_type": "display_data"
    },
    {
     "name": "stdout",
     "output_type": "stream",
     "text": [
      "                                                                                                                                                                                                                                                                                                                                "
     ]
    },
    {
     "name": "stderr",
     "output_type": "stream",
     "text": [
      "09:38:40 - cmdstanpy - INFO - CmdStan done processing.\n",
      "09:38:40 - cmdstanpy - WARNING - Non-fatal error during sampling:\n",
      "Exception: normal_lpdf: Scale parameter is 0, but must be positive! (in '/home/br1/PythonProjects/bayesian_project/git_dir/bayes_colab/ARMA_bayesian_stan/code.stan', line 33, column 8 to column 31)\n",
      "Exception: normal_lpdf: Scale parameter is 0, but must be positive! (in '/home/br1/PythonProjects/bayesian_project/git_dir/bayes_colab/ARMA_bayesian_stan/code.stan', line 33, column 8 to column 31)\n",
      "Consider re-running with show_console=True if the above output is unclear!\n"
     ]
    },
    {
     "name": "stdout",
     "output_type": "stream",
     "text": [
      "\n"
     ]
    },
    {
     "name": "stderr",
     "output_type": "stream",
     "text": [
      "09:38:40 - cmdstanpy - INFO - CmdStan start processing\n"
     ]
    },
    {
     "data": {
      "application/vnd.jupyter.widget-view+json": {
       "model_id": "72bb82c99d7f407c8da22ac05db9323d",
       "version_major": 2,
       "version_minor": 0
      },
      "text/plain": [
       "chain 1 |          | 00:00 Status"
      ]
     },
     "metadata": {},
     "output_type": "display_data"
    },
    {
     "data": {
      "application/vnd.jupyter.widget-view+json": {
       "model_id": "636d151aeeb144c1a9cffb21d752bfde",
       "version_major": 2,
       "version_minor": 0
      },
      "text/plain": [
       "chain 2 |          | 00:00 Status"
      ]
     },
     "metadata": {},
     "output_type": "display_data"
    },
    {
     "data": {
      "application/vnd.jupyter.widget-view+json": {
       "model_id": "69a9c802e0144d63882334efcbc622fe",
       "version_major": 2,
       "version_minor": 0
      },
      "text/plain": [
       "chain 3 |          | 00:00 Status"
      ]
     },
     "metadata": {},
     "output_type": "display_data"
    },
    {
     "data": {
      "application/vnd.jupyter.widget-view+json": {
       "model_id": "f2e5aed523744643a917c290baf0fc04",
       "version_major": 2,
       "version_minor": 0
      },
      "text/plain": [
       "chain 4 |          | 00:00 Status"
      ]
     },
     "metadata": {},
     "output_type": "display_data"
    },
    {
     "name": "stdout",
     "output_type": "stream",
     "text": [
      "                                                                                                                                                                                                                                                                                                                                "
     ]
    },
    {
     "name": "stderr",
     "output_type": "stream",
     "text": [
      "09:38:56 - cmdstanpy - INFO - CmdStan done processing.\n",
      "09:38:56 - cmdstanpy - WARNING - Non-fatal error during sampling:\n",
      "Exception: normal_lpdf: Scale parameter is 0, but must be positive! (in '/home/br1/PythonProjects/bayesian_project/git_dir/bayes_colab/ARMA_bayesian_stan/code.stan', line 33, column 8 to column 31)\n",
      "Exception: normal_lpdf: Scale parameter is 0, but must be positive! (in '/home/br1/PythonProjects/bayesian_project/git_dir/bayes_colab/ARMA_bayesian_stan/code.stan', line 33, column 8 to column 31)\n",
      "Consider re-running with show_console=True if the above output is unclear!\n"
     ]
    },
    {
     "name": "stdout",
     "output_type": "stream",
     "text": [
      "\n"
     ]
    },
    {
     "name": "stderr",
     "output_type": "stream",
     "text": [
      "09:38:56 - cmdstanpy - INFO - CmdStan start processing\n"
     ]
    },
    {
     "data": {
      "application/vnd.jupyter.widget-view+json": {
       "model_id": "09febf54212246c084c2c2591d18a9ee",
       "version_major": 2,
       "version_minor": 0
      },
      "text/plain": [
       "chain 1 |          | 00:00 Status"
      ]
     },
     "metadata": {},
     "output_type": "display_data"
    },
    {
     "data": {
      "application/vnd.jupyter.widget-view+json": {
       "model_id": "8d6b3c5478a945f9b05055eea7f2441f",
       "version_major": 2,
       "version_minor": 0
      },
      "text/plain": [
       "chain 2 |          | 00:00 Status"
      ]
     },
     "metadata": {},
     "output_type": "display_data"
    },
    {
     "data": {
      "application/vnd.jupyter.widget-view+json": {
       "model_id": "4f4ded1a7b9a46a08748b30c2d69aba1",
       "version_major": 2,
       "version_minor": 0
      },
      "text/plain": [
       "chain 3 |          | 00:00 Status"
      ]
     },
     "metadata": {},
     "output_type": "display_data"
    },
    {
     "data": {
      "application/vnd.jupyter.widget-view+json": {
       "model_id": "d311611ba42b4aaf800e15210de5437e",
       "version_major": 2,
       "version_minor": 0
      },
      "text/plain": [
       "chain 4 |          | 00:00 Status"
      ]
     },
     "metadata": {},
     "output_type": "display_data"
    },
    {
     "name": "stdout",
     "output_type": "stream",
     "text": [
      "                                                                                                                                                                                                                                                                                                                                "
     ]
    },
    {
     "name": "stderr",
     "output_type": "stream",
     "text": [
      "09:39:10 - cmdstanpy - INFO - CmdStan done processing.\n",
      "09:39:10 - cmdstanpy - WARNING - Non-fatal error during sampling:\n",
      "Exception: normal_lpdf: Scale parameter is 0, but must be positive! (in '/home/br1/PythonProjects/bayesian_project/git_dir/bayes_colab/ARMA_bayesian_stan/code.stan', line 33, column 8 to column 31)\n",
      "Exception: normal_lpdf: Scale parameter is 0, but must be positive! (in '/home/br1/PythonProjects/bayesian_project/git_dir/bayes_colab/ARMA_bayesian_stan/code.stan', line 33, column 8 to column 31)\n",
      "Exception: normal_lpdf: Scale parameter is 0, but must be positive! (in '/home/br1/PythonProjects/bayesian_project/git_dir/bayes_colab/ARMA_bayesian_stan/code.stan', line 33, column 8 to column 31)\n",
      "Consider re-running with show_console=True if the above output is unclear!\n"
     ]
    },
    {
     "name": "stdout",
     "output_type": "stream",
     "text": [
      "\n"
     ]
    },
    {
     "name": "stderr",
     "output_type": "stream",
     "text": [
      "09:39:10 - cmdstanpy - INFO - CmdStan start processing\n"
     ]
    },
    {
     "data": {
      "application/vnd.jupyter.widget-view+json": {
       "model_id": "13b4c72130f24b6190a674c51fe099a3",
       "version_major": 2,
       "version_minor": 0
      },
      "text/plain": [
       "chain 1 |          | 00:00 Status"
      ]
     },
     "metadata": {},
     "output_type": "display_data"
    },
    {
     "data": {
      "application/vnd.jupyter.widget-view+json": {
       "model_id": "5e1f19e488c54be38e6ff642152ceef4",
       "version_major": 2,
       "version_minor": 0
      },
      "text/plain": [
       "chain 2 |          | 00:00 Status"
      ]
     },
     "metadata": {},
     "output_type": "display_data"
    },
    {
     "data": {
      "application/vnd.jupyter.widget-view+json": {
       "model_id": "5cc29aed11b9491db603bfca3814af88",
       "version_major": 2,
       "version_minor": 0
      },
      "text/plain": [
       "chain 3 |          | 00:00 Status"
      ]
     },
     "metadata": {},
     "output_type": "display_data"
    },
    {
     "data": {
      "application/vnd.jupyter.widget-view+json": {
       "model_id": "570a2833f1394fc591c62bf2fd121055",
       "version_major": 2,
       "version_minor": 0
      },
      "text/plain": [
       "chain 4 |          | 00:00 Status"
      ]
     },
     "metadata": {},
     "output_type": "display_data"
    },
    {
     "name": "stdout",
     "output_type": "stream",
     "text": [
      "                                                                                                                                                                                                                                                                                                                                "
     ]
    },
    {
     "name": "stderr",
     "output_type": "stream",
     "text": [
      "09:39:23 - cmdstanpy - INFO - CmdStan done processing.\n",
      "09:39:23 - cmdstanpy - WARNING - Non-fatal error during sampling:\n",
      "Exception: normal_lpdf: Scale parameter is 0, but must be positive! (in '/home/br1/PythonProjects/bayesian_project/git_dir/bayes_colab/ARMA_bayesian_stan/code.stan', line 33, column 8 to column 31)\n",
      "Exception: normal_lpdf: Scale parameter is 0, but must be positive! (in '/home/br1/PythonProjects/bayesian_project/git_dir/bayes_colab/ARMA_bayesian_stan/code.stan', line 33, column 8 to column 31)\n",
      "Exception: normal_lpdf: Scale parameter is 0, but must be positive! (in '/home/br1/PythonProjects/bayesian_project/git_dir/bayes_colab/ARMA_bayesian_stan/code.stan', line 33, column 8 to column 31)\n",
      "Exception: normal_lpdf: Scale parameter is 0, but must be positive! (in '/home/br1/PythonProjects/bayesian_project/git_dir/bayes_colab/ARMA_bayesian_stan/code.stan', line 33, column 8 to column 31)\n",
      "Consider re-running with show_console=True if the above output is unclear!\n"
     ]
    },
    {
     "name": "stdout",
     "output_type": "stream",
     "text": [
      "\n"
     ]
    },
    {
     "name": "stderr",
     "output_type": "stream",
     "text": [
      "09:39:23 - cmdstanpy - INFO - CmdStan start processing\n"
     ]
    },
    {
     "data": {
      "application/vnd.jupyter.widget-view+json": {
       "model_id": "5b098c1d63d9413ba4c04bcc6d1b502f",
       "version_major": 2,
       "version_minor": 0
      },
      "text/plain": [
       "chain 1 |          | 00:00 Status"
      ]
     },
     "metadata": {},
     "output_type": "display_data"
    },
    {
     "data": {
      "application/vnd.jupyter.widget-view+json": {
       "model_id": "931693fb94fb48e897946d470cae3416",
       "version_major": 2,
       "version_minor": 0
      },
      "text/plain": [
       "chain 2 |          | 00:00 Status"
      ]
     },
     "metadata": {},
     "output_type": "display_data"
    },
    {
     "data": {
      "application/vnd.jupyter.widget-view+json": {
       "model_id": "6e93907db42c4f6795c13dff9d7e51a6",
       "version_major": 2,
       "version_minor": 0
      },
      "text/plain": [
       "chain 3 |          | 00:00 Status"
      ]
     },
     "metadata": {},
     "output_type": "display_data"
    },
    {
     "data": {
      "application/vnd.jupyter.widget-view+json": {
       "model_id": "db2fbdfefde84691be93b285a24906c2",
       "version_major": 2,
       "version_minor": 0
      },
      "text/plain": [
       "chain 4 |          | 00:00 Status"
      ]
     },
     "metadata": {},
     "output_type": "display_data"
    },
    {
     "name": "stdout",
     "output_type": "stream",
     "text": [
      "                                                                                                                                                                                                                                                                                                                                "
     ]
    },
    {
     "name": "stderr",
     "output_type": "stream",
     "text": [
      "09:39:33 - cmdstanpy - INFO - CmdStan done processing.\n",
      "09:39:33 - cmdstanpy - WARNING - Non-fatal error during sampling:\n",
      "Exception: normal_lpdf: Scale parameter is 0, but must be positive! (in '/home/br1/PythonProjects/bayesian_project/git_dir/bayes_colab/ARMA_bayesian_stan/code.stan', line 33, column 8 to column 31)\n",
      "Exception: normal_lpdf: Scale parameter is 0, but must be positive! (in '/home/br1/PythonProjects/bayesian_project/git_dir/bayes_colab/ARMA_bayesian_stan/code.stan', line 33, column 8 to column 31)\n",
      "Exception: normal_lpdf: Scale parameter is 0, but must be positive! (in '/home/br1/PythonProjects/bayesian_project/git_dir/bayes_colab/ARMA_bayesian_stan/code.stan', line 33, column 8 to column 31)\n",
      "Exception: normal_lpdf: Scale parameter is 0, but must be positive! (in '/home/br1/PythonProjects/bayesian_project/git_dir/bayes_colab/ARMA_bayesian_stan/code.stan', line 33, column 8 to column 31)\n",
      "Consider re-running with show_console=True if the above output is unclear!\n"
     ]
    },
    {
     "name": "stdout",
     "output_type": "stream",
     "text": [
      "\n"
     ]
    },
    {
     "name": "stderr",
     "output_type": "stream",
     "text": [
      "09:39:34 - cmdstanpy - INFO - CmdStan start processing\n"
     ]
    },
    {
     "data": {
      "application/vnd.jupyter.widget-view+json": {
       "model_id": "feec54df86c8400aadf9d4fd375d29d6",
       "version_major": 2,
       "version_minor": 0
      },
      "text/plain": [
       "chain 1 |          | 00:00 Status"
      ]
     },
     "metadata": {},
     "output_type": "display_data"
    },
    {
     "data": {
      "application/vnd.jupyter.widget-view+json": {
       "model_id": "8d2b5c7f5d1c4b62aa8bd2a1112ff7dd",
       "version_major": 2,
       "version_minor": 0
      },
      "text/plain": [
       "chain 2 |          | 00:00 Status"
      ]
     },
     "metadata": {},
     "output_type": "display_data"
    },
    {
     "data": {
      "application/vnd.jupyter.widget-view+json": {
       "model_id": "09f9f6969a6e4e6a881922278f6258fb",
       "version_major": 2,
       "version_minor": 0
      },
      "text/plain": [
       "chain 3 |          | 00:00 Status"
      ]
     },
     "metadata": {},
     "output_type": "display_data"
    },
    {
     "data": {
      "application/vnd.jupyter.widget-view+json": {
       "model_id": "91d9e489c7044ea9a2121055dbcd9623",
       "version_major": 2,
       "version_minor": 0
      },
      "text/plain": [
       "chain 4 |          | 00:00 Status"
      ]
     },
     "metadata": {},
     "output_type": "display_data"
    },
    {
     "name": "stdout",
     "output_type": "stream",
     "text": [
      "                                                                                                                                                                                                                                                                                                                                "
     ]
    },
    {
     "name": "stderr",
     "output_type": "stream",
     "text": [
      "09:39:46 - cmdstanpy - INFO - CmdStan done processing.\n",
      "09:39:46 - cmdstanpy - WARNING - Non-fatal error during sampling:\n",
      "Exception: normal_lpdf: Scale parameter is 0, but must be positive! (in '/home/br1/PythonProjects/bayesian_project/git_dir/bayes_colab/ARMA_bayesian_stan/code.stan', line 33, column 8 to column 31)\n",
      "Exception: normal_lpdf: Scale parameter is 0, but must be positive! (in '/home/br1/PythonProjects/bayesian_project/git_dir/bayes_colab/ARMA_bayesian_stan/code.stan', line 33, column 8 to column 31)\n",
      "Consider re-running with show_console=True if the above output is unclear!\n"
     ]
    },
    {
     "name": "stdout",
     "output_type": "stream",
     "text": [
      "\n"
     ]
    },
    {
     "name": "stderr",
     "output_type": "stream",
     "text": [
      "09:39:46 - cmdstanpy - INFO - CmdStan start processing\n"
     ]
    },
    {
     "data": {
      "application/vnd.jupyter.widget-view+json": {
       "model_id": "efd134b579e24d7ba08cade4e7001dd6",
       "version_major": 2,
       "version_minor": 0
      },
      "text/plain": [
       "chain 1 |          | 00:00 Status"
      ]
     },
     "metadata": {},
     "output_type": "display_data"
    },
    {
     "data": {
      "application/vnd.jupyter.widget-view+json": {
       "model_id": "aa9013c2bc0f4b6bb9e92a2cc34002a8",
       "version_major": 2,
       "version_minor": 0
      },
      "text/plain": [
       "chain 2 |          | 00:00 Status"
      ]
     },
     "metadata": {},
     "output_type": "display_data"
    },
    {
     "data": {
      "application/vnd.jupyter.widget-view+json": {
       "model_id": "bbd12c3df88241ccb148a4ddff01aa76",
       "version_major": 2,
       "version_minor": 0
      },
      "text/plain": [
       "chain 3 |          | 00:00 Status"
      ]
     },
     "metadata": {},
     "output_type": "display_data"
    },
    {
     "data": {
      "application/vnd.jupyter.widget-view+json": {
       "model_id": "44a6ea9fbd3e4d2abcc6c6d1a483b479",
       "version_major": 2,
       "version_minor": 0
      },
      "text/plain": [
       "chain 4 |          | 00:00 Status"
      ]
     },
     "metadata": {},
     "output_type": "display_data"
    },
    {
     "name": "stdout",
     "output_type": "stream",
     "text": [
      "                                                                                                                                                                                                                                                                                                                                "
     ]
    },
    {
     "name": "stderr",
     "output_type": "stream",
     "text": [
      "09:39:59 - cmdstanpy - INFO - CmdStan done processing.\n",
      "09:39:59 - cmdstanpy - WARNING - Non-fatal error during sampling:\n",
      "Exception: normal_lpdf: Scale parameter is 0, but must be positive! (in '/home/br1/PythonProjects/bayesian_project/git_dir/bayes_colab/ARMA_bayesian_stan/code.stan', line 33, column 8 to column 31)\n",
      "Exception: normal_lpdf: Scale parameter is 0, but must be positive! (in '/home/br1/PythonProjects/bayesian_project/git_dir/bayes_colab/ARMA_bayesian_stan/code.stan', line 33, column 8 to column 31)\n",
      "Exception: normal_lpdf: Scale parameter is 0, but must be positive! (in '/home/br1/PythonProjects/bayesian_project/git_dir/bayes_colab/ARMA_bayesian_stan/code.stan', line 33, column 8 to column 31)\n",
      "Consider re-running with show_console=True if the above output is unclear!\n"
     ]
    },
    {
     "name": "stdout",
     "output_type": "stream",
     "text": [
      "\n"
     ]
    },
    {
     "name": "stderr",
     "output_type": "stream",
     "text": [
      "09:39:59 - cmdstanpy - INFO - CmdStan start processing\n"
     ]
    },
    {
     "data": {
      "application/vnd.jupyter.widget-view+json": {
       "model_id": "133ba740a66b4cbf96048c9bcc15f3c5",
       "version_major": 2,
       "version_minor": 0
      },
      "text/plain": [
       "chain 1 |          | 00:00 Status"
      ]
     },
     "metadata": {},
     "output_type": "display_data"
    },
    {
     "data": {
      "application/vnd.jupyter.widget-view+json": {
       "model_id": "3a3b1d16fa9347c58a2f0444ef6b1f0c",
       "version_major": 2,
       "version_minor": 0
      },
      "text/plain": [
       "chain 2 |          | 00:00 Status"
      ]
     },
     "metadata": {},
     "output_type": "display_data"
    },
    {
     "data": {
      "application/vnd.jupyter.widget-view+json": {
       "model_id": "6b6a654eff224daba4338289174154e5",
       "version_major": 2,
       "version_minor": 0
      },
      "text/plain": [
       "chain 3 |          | 00:00 Status"
      ]
     },
     "metadata": {},
     "output_type": "display_data"
    },
    {
     "data": {
      "application/vnd.jupyter.widget-view+json": {
       "model_id": "8478ae035075481a94bb0bea344827ec",
       "version_major": 2,
       "version_minor": 0
      },
      "text/plain": [
       "chain 4 |          | 00:00 Status"
      ]
     },
     "metadata": {},
     "output_type": "display_data"
    },
    {
     "name": "stdout",
     "output_type": "stream",
     "text": [
      "                                                                                                                                                                                                                                                                                                                                "
     ]
    },
    {
     "name": "stderr",
     "output_type": "stream",
     "text": [
      "09:40:12 - cmdstanpy - INFO - CmdStan done processing.\n"
     ]
    },
    {
     "name": "stdout",
     "output_type": "stream",
     "text": [
      "\n"
     ]
    },
    {
     "name": "stderr",
     "output_type": "stream",
     "text": [
      "09:40:13 - cmdstanpy - INFO - CmdStan start processing\n"
     ]
    },
    {
     "data": {
      "application/vnd.jupyter.widget-view+json": {
       "model_id": "325878ae93f2425a99bd7ba1025be180",
       "version_major": 2,
       "version_minor": 0
      },
      "text/plain": [
       "chain 1 |          | 00:00 Status"
      ]
     },
     "metadata": {},
     "output_type": "display_data"
    },
    {
     "data": {
      "application/vnd.jupyter.widget-view+json": {
       "model_id": "169068cfbf174d329715682a83dabd3a",
       "version_major": 2,
       "version_minor": 0
      },
      "text/plain": [
       "chain 2 |          | 00:00 Status"
      ]
     },
     "metadata": {},
     "output_type": "display_data"
    },
    {
     "data": {
      "application/vnd.jupyter.widget-view+json": {
       "model_id": "cb69c382425f442aab392a855f67030e",
       "version_major": 2,
       "version_minor": 0
      },
      "text/plain": [
       "chain 3 |          | 00:00 Status"
      ]
     },
     "metadata": {},
     "output_type": "display_data"
    },
    {
     "data": {
      "application/vnd.jupyter.widget-view+json": {
       "model_id": "60412c58934c44c5aa36cdd9edf9e300",
       "version_major": 2,
       "version_minor": 0
      },
      "text/plain": [
       "chain 4 |          | 00:00 Status"
      ]
     },
     "metadata": {},
     "output_type": "display_data"
    },
    {
     "name": "stdout",
     "output_type": "stream",
     "text": [
      "                                                                                                                                                                                                                                                                                                                                "
     ]
    },
    {
     "name": "stderr",
     "output_type": "stream",
     "text": [
      "09:40:26 - cmdstanpy - INFO - CmdStan done processing.\n",
      "09:40:26 - cmdstanpy - WARNING - Non-fatal error during sampling:\n",
      "Exception: normal_lpdf: Scale parameter is 0, but must be positive! (in '/home/br1/PythonProjects/bayesian_project/git_dir/bayes_colab/ARMA_bayesian_stan/code.stan', line 33, column 8 to column 31)\n",
      "Exception: normal_lpdf: Scale parameter is 0, but must be positive! (in '/home/br1/PythonProjects/bayesian_project/git_dir/bayes_colab/ARMA_bayesian_stan/code.stan', line 33, column 8 to column 31)\n",
      "Consider re-running with show_console=True if the above output is unclear!\n"
     ]
    },
    {
     "name": "stdout",
     "output_type": "stream",
     "text": [
      "\n"
     ]
    },
    {
     "name": "stderr",
     "output_type": "stream",
     "text": [
      "09:40:26 - cmdstanpy - INFO - CmdStan start processing\n"
     ]
    },
    {
     "data": {
      "application/vnd.jupyter.widget-view+json": {
       "model_id": "7f17ae40cb8f482ea9f29c3aa9208a38",
       "version_major": 2,
       "version_minor": 0
      },
      "text/plain": [
       "chain 1 |          | 00:00 Status"
      ]
     },
     "metadata": {},
     "output_type": "display_data"
    },
    {
     "data": {
      "application/vnd.jupyter.widget-view+json": {
       "model_id": "bd9e4c63940f438c87bb9d762cf01ef2",
       "version_major": 2,
       "version_minor": 0
      },
      "text/plain": [
       "chain 2 |          | 00:00 Status"
      ]
     },
     "metadata": {},
     "output_type": "display_data"
    },
    {
     "data": {
      "application/vnd.jupyter.widget-view+json": {
       "model_id": "b5578231d8ec4926bc8e1e12c8f8a19d",
       "version_major": 2,
       "version_minor": 0
      },
      "text/plain": [
       "chain 3 |          | 00:00 Status"
      ]
     },
     "metadata": {},
     "output_type": "display_data"
    },
    {
     "data": {
      "application/vnd.jupyter.widget-view+json": {
       "model_id": "e88d3dc855cc4940b768a99611a61803",
       "version_major": 2,
       "version_minor": 0
      },
      "text/plain": [
       "chain 4 |          | 00:00 Status"
      ]
     },
     "metadata": {},
     "output_type": "display_data"
    },
    {
     "name": "stdout",
     "output_type": "stream",
     "text": [
      "                                                                                                                                                                                                                                                                                                                                "
     ]
    },
    {
     "name": "stderr",
     "output_type": "stream",
     "text": [
      "09:40:40 - cmdstanpy - INFO - CmdStan done processing.\n",
      "09:40:40 - cmdstanpy - WARNING - Non-fatal error during sampling:\n",
      "Exception: normal_lpdf: Scale parameter is 0, but must be positive! (in '/home/br1/PythonProjects/bayesian_project/git_dir/bayes_colab/ARMA_bayesian_stan/code.stan', line 33, column 8 to column 31)\n",
      "Exception: normal_lpdf: Scale parameter is 0, but must be positive! (in '/home/br1/PythonProjects/bayesian_project/git_dir/bayes_colab/ARMA_bayesian_stan/code.stan', line 33, column 8 to column 31)\n",
      "Exception: normal_lpdf: Scale parameter is 0, but must be positive! (in '/home/br1/PythonProjects/bayesian_project/git_dir/bayes_colab/ARMA_bayesian_stan/code.stan', line 33, column 8 to column 31)\n",
      "Consider re-running with show_console=True if the above output is unclear!\n"
     ]
    },
    {
     "name": "stdout",
     "output_type": "stream",
     "text": [
      "\n"
     ]
    },
    {
     "name": "stderr",
     "output_type": "stream",
     "text": [
      "09:40:40 - cmdstanpy - INFO - CmdStan start processing\n"
     ]
    },
    {
     "data": {
      "application/vnd.jupyter.widget-view+json": {
       "model_id": "ba6f7a3bd9ae4eee9c3547c73f78ab0d",
       "version_major": 2,
       "version_minor": 0
      },
      "text/plain": [
       "chain 1 |          | 00:00 Status"
      ]
     },
     "metadata": {},
     "output_type": "display_data"
    },
    {
     "data": {
      "application/vnd.jupyter.widget-view+json": {
       "model_id": "f24c6fec11a843419d06e51790151ee2",
       "version_major": 2,
       "version_minor": 0
      },
      "text/plain": [
       "chain 2 |          | 00:00 Status"
      ]
     },
     "metadata": {},
     "output_type": "display_data"
    },
    {
     "data": {
      "application/vnd.jupyter.widget-view+json": {
       "model_id": "dbcc2bf79cd14dd3b84988e1d569ffee",
       "version_major": 2,
       "version_minor": 0
      },
      "text/plain": [
       "chain 3 |          | 00:00 Status"
      ]
     },
     "metadata": {},
     "output_type": "display_data"
    },
    {
     "data": {
      "application/vnd.jupyter.widget-view+json": {
       "model_id": "aa2d7ba44c7e4bcd927f8b76b0bd25f2",
       "version_major": 2,
       "version_minor": 0
      },
      "text/plain": [
       "chain 4 |          | 00:00 Status"
      ]
     },
     "metadata": {},
     "output_type": "display_data"
    },
    {
     "name": "stdout",
     "output_type": "stream",
     "text": [
      "                                                                                                                                                                                                                                                                                                                                "
     ]
    },
    {
     "name": "stderr",
     "output_type": "stream",
     "text": [
      "09:40:54 - cmdstanpy - INFO - CmdStan done processing.\n",
      "09:40:54 - cmdstanpy - WARNING - Non-fatal error during sampling:\n",
      "Exception: normal_lpdf: Scale parameter is 0, but must be positive! (in '/home/br1/PythonProjects/bayesian_project/git_dir/bayes_colab/ARMA_bayesian_stan/code.stan', line 33, column 8 to column 31)\n",
      "Consider re-running with show_console=True if the above output is unclear!\n"
     ]
    },
    {
     "name": "stdout",
     "output_type": "stream",
     "text": [
      "\n"
     ]
    },
    {
     "name": "stderr",
     "output_type": "stream",
     "text": [
      "09:40:54 - cmdstanpy - INFO - CmdStan start processing\n"
     ]
    },
    {
     "data": {
      "application/vnd.jupyter.widget-view+json": {
       "model_id": "8499a38b74f04c7f8982d7a395964c89",
       "version_major": 2,
       "version_minor": 0
      },
      "text/plain": [
       "chain 1 |          | 00:00 Status"
      ]
     },
     "metadata": {},
     "output_type": "display_data"
    },
    {
     "data": {
      "application/vnd.jupyter.widget-view+json": {
       "model_id": "db00306c84aa40e6889cc71c43f53695",
       "version_major": 2,
       "version_minor": 0
      },
      "text/plain": [
       "chain 2 |          | 00:00 Status"
      ]
     },
     "metadata": {},
     "output_type": "display_data"
    },
    {
     "data": {
      "application/vnd.jupyter.widget-view+json": {
       "model_id": "47cbdf0648b943b79bab399e4f399dce",
       "version_major": 2,
       "version_minor": 0
      },
      "text/plain": [
       "chain 3 |          | 00:00 Status"
      ]
     },
     "metadata": {},
     "output_type": "display_data"
    },
    {
     "data": {
      "application/vnd.jupyter.widget-view+json": {
       "model_id": "d20450845b254fe78e2013687e06f049",
       "version_major": 2,
       "version_minor": 0
      },
      "text/plain": [
       "chain 4 |          | 00:00 Status"
      ]
     },
     "metadata": {},
     "output_type": "display_data"
    },
    {
     "name": "stdout",
     "output_type": "stream",
     "text": [
      "                                                                                                                                                                                                                                                                                                                                "
     ]
    },
    {
     "name": "stderr",
     "output_type": "stream",
     "text": [
      "09:41:07 - cmdstanpy - INFO - CmdStan done processing.\n",
      "09:41:07 - cmdstanpy - WARNING - Non-fatal error during sampling:\n",
      "Exception: normal_lpdf: Scale parameter is 0, but must be positive! (in '/home/br1/PythonProjects/bayesian_project/git_dir/bayes_colab/ARMA_bayesian_stan/code.stan', line 33, column 8 to column 31)\n",
      "Exception: normal_lpdf: Scale parameter is 0, but must be positive! (in '/home/br1/PythonProjects/bayesian_project/git_dir/bayes_colab/ARMA_bayesian_stan/code.stan', line 33, column 8 to column 31)\n",
      "Consider re-running with show_console=True if the above output is unclear!\n"
     ]
    },
    {
     "name": "stdout",
     "output_type": "stream",
     "text": [
      "\n"
     ]
    },
    {
     "name": "stderr",
     "output_type": "stream",
     "text": [
      "09:41:07 - cmdstanpy - INFO - CmdStan start processing\n"
     ]
    },
    {
     "data": {
      "application/vnd.jupyter.widget-view+json": {
       "model_id": "9371f2858f75439187f3686a5a1b5ef4",
       "version_major": 2,
       "version_minor": 0
      },
      "text/plain": [
       "chain 1 |          | 00:00 Status"
      ]
     },
     "metadata": {},
     "output_type": "display_data"
    },
    {
     "data": {
      "application/vnd.jupyter.widget-view+json": {
       "model_id": "742826bfb75b4a8cbf482300e0380676",
       "version_major": 2,
       "version_minor": 0
      },
      "text/plain": [
       "chain 2 |          | 00:00 Status"
      ]
     },
     "metadata": {},
     "output_type": "display_data"
    },
    {
     "data": {
      "application/vnd.jupyter.widget-view+json": {
       "model_id": "5fbe01dd0ec0420c8cdc7fb5d6e52fa5",
       "version_major": 2,
       "version_minor": 0
      },
      "text/plain": [
       "chain 3 |          | 00:00 Status"
      ]
     },
     "metadata": {},
     "output_type": "display_data"
    },
    {
     "data": {
      "application/vnd.jupyter.widget-view+json": {
       "model_id": "bfc1cf563d71491caf36891b7b119efa",
       "version_major": 2,
       "version_minor": 0
      },
      "text/plain": [
       "chain 4 |          | 00:00 Status"
      ]
     },
     "metadata": {},
     "output_type": "display_data"
    },
    {
     "name": "stdout",
     "output_type": "stream",
     "text": [
      "                                                                                                                                                                                                                                                                                                                                "
     ]
    },
    {
     "name": "stderr",
     "output_type": "stream",
     "text": [
      "09:41:20 - cmdstanpy - INFO - CmdStan done processing.\n",
      "09:41:20 - cmdstanpy - WARNING - Non-fatal error during sampling:\n",
      "Exception: normal_lpdf: Scale parameter is 0, but must be positive! (in '/home/br1/PythonProjects/bayesian_project/git_dir/bayes_colab/ARMA_bayesian_stan/code.stan', line 33, column 8 to column 31)\n",
      "Exception: normal_lpdf: Scale parameter is 0, but must be positive! (in '/home/br1/PythonProjects/bayesian_project/git_dir/bayes_colab/ARMA_bayesian_stan/code.stan', line 33, column 8 to column 31)\n",
      "Consider re-running with show_console=True if the above output is unclear!\n"
     ]
    },
    {
     "name": "stdout",
     "output_type": "stream",
     "text": [
      "\n"
     ]
    },
    {
     "name": "stderr",
     "output_type": "stream",
     "text": [
      "09:41:20 - cmdstanpy - INFO - CmdStan start processing\n"
     ]
    },
    {
     "data": {
      "application/vnd.jupyter.widget-view+json": {
       "model_id": "6d91fc08424f44499a8e4bb7e9c43bd8",
       "version_major": 2,
       "version_minor": 0
      },
      "text/plain": [
       "chain 1 |          | 00:00 Status"
      ]
     },
     "metadata": {},
     "output_type": "display_data"
    },
    {
     "data": {
      "application/vnd.jupyter.widget-view+json": {
       "model_id": "2515289564b94c64baf670451d43da33",
       "version_major": 2,
       "version_minor": 0
      },
      "text/plain": [
       "chain 2 |          | 00:00 Status"
      ]
     },
     "metadata": {},
     "output_type": "display_data"
    },
    {
     "data": {
      "application/vnd.jupyter.widget-view+json": {
       "model_id": "08a504248f1a43178849f5fecbc563ea",
       "version_major": 2,
       "version_minor": 0
      },
      "text/plain": [
       "chain 3 |          | 00:00 Status"
      ]
     },
     "metadata": {},
     "output_type": "display_data"
    },
    {
     "data": {
      "application/vnd.jupyter.widget-view+json": {
       "model_id": "db28fd10c73649b9afe13e2c9cd340e8",
       "version_major": 2,
       "version_minor": 0
      },
      "text/plain": [
       "chain 4 |          | 00:00 Status"
      ]
     },
     "metadata": {},
     "output_type": "display_data"
    },
    {
     "name": "stdout",
     "output_type": "stream",
     "text": [
      "                                                                                                                                                                                                                                                                                                                                "
     ]
    },
    {
     "name": "stderr",
     "output_type": "stream",
     "text": [
      "09:41:27 - cmdstanpy - INFO - CmdStan done processing.\n",
      "09:41:27 - cmdstanpy - WARNING - Non-fatal error during sampling:\n",
      "Exception: normal_lpdf: Scale parameter is 0, but must be positive! (in '/home/br1/PythonProjects/bayesian_project/git_dir/bayes_colab/ARMA_bayesian_stan/code.stan', line 33, column 8 to column 31)\n",
      "Exception: normal_lpdf: Scale parameter is 0, but must be positive! (in '/home/br1/PythonProjects/bayesian_project/git_dir/bayes_colab/ARMA_bayesian_stan/code.stan', line 33, column 8 to column 31)\n",
      "Exception: normal_lpdf: Scale parameter is 0, but must be positive! (in '/home/br1/PythonProjects/bayesian_project/git_dir/bayes_colab/ARMA_bayesian_stan/code.stan', line 33, column 8 to column 31)\n",
      "Exception: normal_lpdf: Scale parameter is 0, but must be positive! (in '/home/br1/PythonProjects/bayesian_project/git_dir/bayes_colab/ARMA_bayesian_stan/code.stan', line 33, column 8 to column 31)\n",
      "Consider re-running with show_console=True if the above output is unclear!\n"
     ]
    },
    {
     "name": "stdout",
     "output_type": "stream",
     "text": [
      "\n"
     ]
    },
    {
     "name": "stderr",
     "output_type": "stream",
     "text": [
      "09:41:27 - cmdstanpy - INFO - CmdStan start processing\n"
     ]
    },
    {
     "data": {
      "application/vnd.jupyter.widget-view+json": {
       "model_id": "aa1ec852e10e42129f696f924afd399f",
       "version_major": 2,
       "version_minor": 0
      },
      "text/plain": [
       "chain 1 |          | 00:00 Status"
      ]
     },
     "metadata": {},
     "output_type": "display_data"
    },
    {
     "data": {
      "application/vnd.jupyter.widget-view+json": {
       "model_id": "e79d5aa263634fbca7b2d06ad685b834",
       "version_major": 2,
       "version_minor": 0
      },
      "text/plain": [
       "chain 2 |          | 00:00 Status"
      ]
     },
     "metadata": {},
     "output_type": "display_data"
    },
    {
     "data": {
      "application/vnd.jupyter.widget-view+json": {
       "model_id": "92eeeed9c40049fc93fa3cd3ce9fc6ee",
       "version_major": 2,
       "version_minor": 0
      },
      "text/plain": [
       "chain 3 |          | 00:00 Status"
      ]
     },
     "metadata": {},
     "output_type": "display_data"
    },
    {
     "data": {
      "application/vnd.jupyter.widget-view+json": {
       "model_id": "b704d4b479c74f0092aa7a40bc364d15",
       "version_major": 2,
       "version_minor": 0
      },
      "text/plain": [
       "chain 4 |          | 00:00 Status"
      ]
     },
     "metadata": {},
     "output_type": "display_data"
    },
    {
     "name": "stdout",
     "output_type": "stream",
     "text": [
      "                                                                                                                                                                                                                                                                                                                                "
     ]
    },
    {
     "name": "stderr",
     "output_type": "stream",
     "text": [
      "09:41:40 - cmdstanpy - INFO - CmdStan done processing.\n",
      "09:41:40 - cmdstanpy - WARNING - Non-fatal error during sampling:\n",
      "Exception: normal_lpdf: Scale parameter is 0, but must be positive! (in '/home/br1/PythonProjects/bayesian_project/git_dir/bayes_colab/ARMA_bayesian_stan/code.stan', line 33, column 8 to column 31)\n",
      "Exception: normal_lpdf: Scale parameter is 0, but must be positive! (in '/home/br1/PythonProjects/bayesian_project/git_dir/bayes_colab/ARMA_bayesian_stan/code.stan', line 33, column 8 to column 31)\n",
      "Exception: normal_lpdf: Scale parameter is 0, but must be positive! (in '/home/br1/PythonProjects/bayesian_project/git_dir/bayes_colab/ARMA_bayesian_stan/code.stan', line 33, column 8 to column 31)\n",
      "Exception: normal_lpdf: Scale parameter is 0, but must be positive! (in '/home/br1/PythonProjects/bayesian_project/git_dir/bayes_colab/ARMA_bayesian_stan/code.stan', line 33, column 8 to column 31)\n",
      "Consider re-running with show_console=True if the above output is unclear!\n"
     ]
    },
    {
     "name": "stdout",
     "output_type": "stream",
     "text": [
      "\n"
     ]
    },
    {
     "name": "stderr",
     "output_type": "stream",
     "text": [
      "09:41:41 - cmdstanpy - INFO - CmdStan start processing\n"
     ]
    },
    {
     "data": {
      "application/vnd.jupyter.widget-view+json": {
       "model_id": "be5acc53dd424041ad46834f890266ff",
       "version_major": 2,
       "version_minor": 0
      },
      "text/plain": [
       "chain 1 |          | 00:00 Status"
      ]
     },
     "metadata": {},
     "output_type": "display_data"
    },
    {
     "data": {
      "application/vnd.jupyter.widget-view+json": {
       "model_id": "cd7d23c2ab894d7ba5138a90f51b9fab",
       "version_major": 2,
       "version_minor": 0
      },
      "text/plain": [
       "chain 2 |          | 00:00 Status"
      ]
     },
     "metadata": {},
     "output_type": "display_data"
    },
    {
     "data": {
      "application/vnd.jupyter.widget-view+json": {
       "model_id": "cf7ed6313ff14c98a64df0e8607ae50d",
       "version_major": 2,
       "version_minor": 0
      },
      "text/plain": [
       "chain 3 |          | 00:00 Status"
      ]
     },
     "metadata": {},
     "output_type": "display_data"
    },
    {
     "data": {
      "application/vnd.jupyter.widget-view+json": {
       "model_id": "0f94be0e5eec4872a8ffdb61719b07f5",
       "version_major": 2,
       "version_minor": 0
      },
      "text/plain": [
       "chain 4 |          | 00:00 Status"
      ]
     },
     "metadata": {},
     "output_type": "display_data"
    },
    {
     "name": "stdout",
     "output_type": "stream",
     "text": [
      "                                                                                                                                                                                                                                                                                                                                "
     ]
    },
    {
     "name": "stderr",
     "output_type": "stream",
     "text": [
      "09:41:49 - cmdstanpy - INFO - CmdStan done processing.\n",
      "09:41:49 - cmdstanpy - WARNING - Non-fatal error during sampling:\n",
      "Exception: normal_lpdf: Scale parameter is 0, but must be positive! (in '/home/br1/PythonProjects/bayesian_project/git_dir/bayes_colab/ARMA_bayesian_stan/code.stan', line 33, column 8 to column 31)\n",
      "Exception: normal_lpdf: Scale parameter is 0, but must be positive! (in '/home/br1/PythonProjects/bayesian_project/git_dir/bayes_colab/ARMA_bayesian_stan/code.stan', line 33, column 8 to column 31)\n",
      "Exception: normal_lpdf: Scale parameter is 0, but must be positive! (in '/home/br1/PythonProjects/bayesian_project/git_dir/bayes_colab/ARMA_bayesian_stan/code.stan', line 33, column 8 to column 31)\n",
      "Consider re-running with show_console=True if the above output is unclear!\n"
     ]
    },
    {
     "name": "stdout",
     "output_type": "stream",
     "text": [
      "\n"
     ]
    },
    {
     "name": "stderr",
     "output_type": "stream",
     "text": [
      "09:41:50 - cmdstanpy - INFO - CmdStan start processing\n"
     ]
    },
    {
     "data": {
      "application/vnd.jupyter.widget-view+json": {
       "model_id": "aea258fe285f4b33865d9a0ed7d18c1a",
       "version_major": 2,
       "version_minor": 0
      },
      "text/plain": [
       "chain 1 |          | 00:00 Status"
      ]
     },
     "metadata": {},
     "output_type": "display_data"
    },
    {
     "data": {
      "application/vnd.jupyter.widget-view+json": {
       "model_id": "505417275209426c8bf1ee2349b88f8a",
       "version_major": 2,
       "version_minor": 0
      },
      "text/plain": [
       "chain 2 |          | 00:00 Status"
      ]
     },
     "metadata": {},
     "output_type": "display_data"
    },
    {
     "data": {
      "application/vnd.jupyter.widget-view+json": {
       "model_id": "9c1c87d7638244dcbac28c0045a562bc",
       "version_major": 2,
       "version_minor": 0
      },
      "text/plain": [
       "chain 3 |          | 00:00 Status"
      ]
     },
     "metadata": {},
     "output_type": "display_data"
    },
    {
     "data": {
      "application/vnd.jupyter.widget-view+json": {
       "model_id": "56b90391a7b34544a228709b8a802ab9",
       "version_major": 2,
       "version_minor": 0
      },
      "text/plain": [
       "chain 4 |          | 00:00 Status"
      ]
     },
     "metadata": {},
     "output_type": "display_data"
    },
    {
     "name": "stdout",
     "output_type": "stream",
     "text": [
      "                                                                                                                                                                                                                                                                                                                                "
     ]
    },
    {
     "name": "stderr",
     "output_type": "stream",
     "text": [
      "09:42:04 - cmdstanpy - INFO - CmdStan done processing.\n",
      "09:42:04 - cmdstanpy - WARNING - Non-fatal error during sampling:\n",
      "Exception: normal_lpdf: Scale parameter is 0, but must be positive! (in '/home/br1/PythonProjects/bayesian_project/git_dir/bayes_colab/ARMA_bayesian_stan/code.stan', line 33, column 8 to column 31)\n",
      "Exception: normal_lpdf: Scale parameter is 0, but must be positive! (in '/home/br1/PythonProjects/bayesian_project/git_dir/bayes_colab/ARMA_bayesian_stan/code.stan', line 33, column 8 to column 31)\n",
      "Consider re-running with show_console=True if the above output is unclear!\n"
     ]
    },
    {
     "name": "stdout",
     "output_type": "stream",
     "text": [
      "\n"
     ]
    },
    {
     "name": "stderr",
     "output_type": "stream",
     "text": [
      "09:42:05 - cmdstanpy - INFO - CmdStan start processing\n"
     ]
    },
    {
     "data": {
      "application/vnd.jupyter.widget-view+json": {
       "model_id": "fbade432a2c644e0ab7f6c2dfeda616e",
       "version_major": 2,
       "version_minor": 0
      },
      "text/plain": [
       "chain 1 |          | 00:00 Status"
      ]
     },
     "metadata": {},
     "output_type": "display_data"
    },
    {
     "data": {
      "application/vnd.jupyter.widget-view+json": {
       "model_id": "e01c6287269b482caf14b1668533fb81",
       "version_major": 2,
       "version_minor": 0
      },
      "text/plain": [
       "chain 2 |          | 00:00 Status"
      ]
     },
     "metadata": {},
     "output_type": "display_data"
    },
    {
     "data": {
      "application/vnd.jupyter.widget-view+json": {
       "model_id": "472734f2ff8e446eb7df6d37e98dfa42",
       "version_major": 2,
       "version_minor": 0
      },
      "text/plain": [
       "chain 3 |          | 00:00 Status"
      ]
     },
     "metadata": {},
     "output_type": "display_data"
    },
    {
     "data": {
      "application/vnd.jupyter.widget-view+json": {
       "model_id": "2a94609cb2824812ad8130251c5f6da2",
       "version_major": 2,
       "version_minor": 0
      },
      "text/plain": [
       "chain 4 |          | 00:00 Status"
      ]
     },
     "metadata": {},
     "output_type": "display_data"
    },
    {
     "name": "stdout",
     "output_type": "stream",
     "text": [
      "                                                                                                                                                                                                                                                                                                                                "
     ]
    },
    {
     "name": "stderr",
     "output_type": "stream",
     "text": [
      "09:42:13 - cmdstanpy - INFO - CmdStan done processing.\n",
      "09:42:13 - cmdstanpy - WARNING - Non-fatal error during sampling:\n",
      "Exception: normal_lpdf: Scale parameter is 0, but must be positive! (in '/home/br1/PythonProjects/bayesian_project/git_dir/bayes_colab/ARMA_bayesian_stan/code.stan', line 33, column 8 to column 31)\n",
      "Exception: normal_lpdf: Scale parameter is 0, but must be positive! (in '/home/br1/PythonProjects/bayesian_project/git_dir/bayes_colab/ARMA_bayesian_stan/code.stan', line 33, column 8 to column 31)\n",
      "Consider re-running with show_console=True if the above output is unclear!\n"
     ]
    },
    {
     "name": "stdout",
     "output_type": "stream",
     "text": [
      "\n"
     ]
    },
    {
     "name": "stderr",
     "output_type": "stream",
     "text": [
      "09:42:13 - cmdstanpy - INFO - CmdStan start processing\n"
     ]
    },
    {
     "data": {
      "application/vnd.jupyter.widget-view+json": {
       "model_id": "7eeefde66493451eb7791a7ecf77994f",
       "version_major": 2,
       "version_minor": 0
      },
      "text/plain": [
       "chain 1 |          | 00:00 Status"
      ]
     },
     "metadata": {},
     "output_type": "display_data"
    },
    {
     "data": {
      "application/vnd.jupyter.widget-view+json": {
       "model_id": "c446399de57047b5ac156cf07cc39b8f",
       "version_major": 2,
       "version_minor": 0
      },
      "text/plain": [
       "chain 2 |          | 00:00 Status"
      ]
     },
     "metadata": {},
     "output_type": "display_data"
    },
    {
     "data": {
      "application/vnd.jupyter.widget-view+json": {
       "model_id": "42f9af8bf25a44aabd961d84c06d9e0c",
       "version_major": 2,
       "version_minor": 0
      },
      "text/plain": [
       "chain 3 |          | 00:00 Status"
      ]
     },
     "metadata": {},
     "output_type": "display_data"
    },
    {
     "data": {
      "application/vnd.jupyter.widget-view+json": {
       "model_id": "f24981b0f6274fd9a0546a8b054e2d84",
       "version_major": 2,
       "version_minor": 0
      },
      "text/plain": [
       "chain 4 |          | 00:00 Status"
      ]
     },
     "metadata": {},
     "output_type": "display_data"
    },
    {
     "name": "stdout",
     "output_type": "stream",
     "text": [
      "                                                                                                                                                                                                                                                                                                                                "
     ]
    },
    {
     "name": "stderr",
     "output_type": "stream",
     "text": [
      "09:42:28 - cmdstanpy - INFO - CmdStan done processing.\n"
     ]
    },
    {
     "name": "stdout",
     "output_type": "stream",
     "text": [
      "\n"
     ]
    },
    {
     "name": "stderr",
     "output_type": "stream",
     "text": [
      "09:42:28 - cmdstanpy - INFO - CmdStan start processing\n"
     ]
    },
    {
     "data": {
      "application/vnd.jupyter.widget-view+json": {
       "model_id": "2580ebd4a4024a8aafc59e96950d6b1f",
       "version_major": 2,
       "version_minor": 0
      },
      "text/plain": [
       "chain 1 |          | 00:00 Status"
      ]
     },
     "metadata": {},
     "output_type": "display_data"
    },
    {
     "data": {
      "application/vnd.jupyter.widget-view+json": {
       "model_id": "3296f57fa1d94b0ab80e19b72f6d9f8c",
       "version_major": 2,
       "version_minor": 0
      },
      "text/plain": [
       "chain 2 |          | 00:00 Status"
      ]
     },
     "metadata": {},
     "output_type": "display_data"
    },
    {
     "data": {
      "application/vnd.jupyter.widget-view+json": {
       "model_id": "75fc8eeedc4646629b283330d0a75962",
       "version_major": 2,
       "version_minor": 0
      },
      "text/plain": [
       "chain 3 |          | 00:00 Status"
      ]
     },
     "metadata": {},
     "output_type": "display_data"
    },
    {
     "data": {
      "application/vnd.jupyter.widget-view+json": {
       "model_id": "6a5a2bac56804769bcfe45b7406966a5",
       "version_major": 2,
       "version_minor": 0
      },
      "text/plain": [
       "chain 4 |          | 00:00 Status"
      ]
     },
     "metadata": {},
     "output_type": "display_data"
    },
    {
     "name": "stdout",
     "output_type": "stream",
     "text": [
      "                                                                                                                                                                                                                                                                                                                                "
     ]
    },
    {
     "name": "stderr",
     "output_type": "stream",
     "text": [
      "09:42:38 - cmdstanpy - INFO - CmdStan done processing.\n",
      "09:42:38 - cmdstanpy - WARNING - Non-fatal error during sampling:\n",
      "Exception: normal_lpdf: Scale parameter is 0, but must be positive! (in '/home/br1/PythonProjects/bayesian_project/git_dir/bayes_colab/ARMA_bayesian_stan/code.stan', line 33, column 8 to column 31)\n",
      "Exception: normal_lpdf: Scale parameter is 0, but must be positive! (in '/home/br1/PythonProjects/bayesian_project/git_dir/bayes_colab/ARMA_bayesian_stan/code.stan', line 33, column 8 to column 31)\n",
      "Exception: normal_lpdf: Scale parameter is 0, but must be positive! (in '/home/br1/PythonProjects/bayesian_project/git_dir/bayes_colab/ARMA_bayesian_stan/code.stan', line 33, column 8 to column 31)\n",
      "Consider re-running with show_console=True if the above output is unclear!\n"
     ]
    },
    {
     "name": "stdout",
     "output_type": "stream",
     "text": [
      "\n"
     ]
    },
    {
     "name": "stderr",
     "output_type": "stream",
     "text": [
      "09:42:39 - cmdstanpy - INFO - CmdStan start processing\n"
     ]
    },
    {
     "data": {
      "application/vnd.jupyter.widget-view+json": {
       "model_id": "122be7854fbd4259b4d2502bc97ee26f",
       "version_major": 2,
       "version_minor": 0
      },
      "text/plain": [
       "chain 1 |          | 00:00 Status"
      ]
     },
     "metadata": {},
     "output_type": "display_data"
    },
    {
     "data": {
      "application/vnd.jupyter.widget-view+json": {
       "model_id": "a3e29283ebf942bfbba79b7817d7839c",
       "version_major": 2,
       "version_minor": 0
      },
      "text/plain": [
       "chain 2 |          | 00:00 Status"
      ]
     },
     "metadata": {},
     "output_type": "display_data"
    },
    {
     "data": {
      "application/vnd.jupyter.widget-view+json": {
       "model_id": "54713f3452864068b3ae2a49ed87f111",
       "version_major": 2,
       "version_minor": 0
      },
      "text/plain": [
       "chain 3 |          | 00:00 Status"
      ]
     },
     "metadata": {},
     "output_type": "display_data"
    },
    {
     "data": {
      "application/vnd.jupyter.widget-view+json": {
       "model_id": "7b95d8b26afe4bd69992fa2a56e63263",
       "version_major": 2,
       "version_minor": 0
      },
      "text/plain": [
       "chain 4 |          | 00:00 Status"
      ]
     },
     "metadata": {},
     "output_type": "display_data"
    },
    {
     "name": "stdout",
     "output_type": "stream",
     "text": [
      "                                                                                                                                                                                                                                                                                                                                "
     ]
    },
    {
     "name": "stderr",
     "output_type": "stream",
     "text": [
      "09:42:52 - cmdstanpy - INFO - CmdStan done processing.\n",
      "09:42:52 - cmdstanpy - WARNING - Non-fatal error during sampling:\n",
      "Exception: normal_lpdf: Scale parameter is 0, but must be positive! (in '/home/br1/PythonProjects/bayesian_project/git_dir/bayes_colab/ARMA_bayesian_stan/code.stan', line 33, column 8 to column 31)\n",
      "Consider re-running with show_console=True if the above output is unclear!\n"
     ]
    },
    {
     "name": "stdout",
     "output_type": "stream",
     "text": [
      "\n"
     ]
    },
    {
     "name": "stderr",
     "output_type": "stream",
     "text": [
      "09:42:52 - cmdstanpy - INFO - CmdStan start processing\n"
     ]
    },
    {
     "data": {
      "application/vnd.jupyter.widget-view+json": {
       "model_id": "42ca3c3b65174d8b80ea0446f0d50493",
       "version_major": 2,
       "version_minor": 0
      },
      "text/plain": [
       "chain 1 |          | 00:00 Status"
      ]
     },
     "metadata": {},
     "output_type": "display_data"
    },
    {
     "data": {
      "application/vnd.jupyter.widget-view+json": {
       "model_id": "b8f2200a999440c2bf45b39bffd1f675",
       "version_major": 2,
       "version_minor": 0
      },
      "text/plain": [
       "chain 2 |          | 00:00 Status"
      ]
     },
     "metadata": {},
     "output_type": "display_data"
    },
    {
     "data": {
      "application/vnd.jupyter.widget-view+json": {
       "model_id": "0d36d70919fa4ed99d7b44876894ebbe",
       "version_major": 2,
       "version_minor": 0
      },
      "text/plain": [
       "chain 3 |          | 00:00 Status"
      ]
     },
     "metadata": {},
     "output_type": "display_data"
    },
    {
     "data": {
      "application/vnd.jupyter.widget-view+json": {
       "model_id": "3f8f577937a942ad986c32ca70f183d0",
       "version_major": 2,
       "version_minor": 0
      },
      "text/plain": [
       "chain 4 |          | 00:00 Status"
      ]
     },
     "metadata": {},
     "output_type": "display_data"
    },
    {
     "name": "stdout",
     "output_type": "stream",
     "text": [
      "                                                                                                                                                                                                                                                                                                                                "
     ]
    },
    {
     "name": "stderr",
     "output_type": "stream",
     "text": [
      "09:43:04 - cmdstanpy - INFO - CmdStan done processing.\n",
      "09:43:04 - cmdstanpy - WARNING - Non-fatal error during sampling:\n",
      "Exception: normal_lpdf: Scale parameter is 0, but must be positive! (in '/home/br1/PythonProjects/bayesian_project/git_dir/bayes_colab/ARMA_bayesian_stan/code.stan', line 33, column 8 to column 31)\n",
      "Exception: normal_lpdf: Scale parameter is 0, but must be positive! (in '/home/br1/PythonProjects/bayesian_project/git_dir/bayes_colab/ARMA_bayesian_stan/code.stan', line 33, column 8 to column 31)\n",
      "Exception: normal_lpdf: Scale parameter is 0, but must be positive! (in '/home/br1/PythonProjects/bayesian_project/git_dir/bayes_colab/ARMA_bayesian_stan/code.stan', line 33, column 8 to column 31)\n",
      "Exception: normal_lpdf: Scale parameter is 0, but must be positive! (in '/home/br1/PythonProjects/bayesian_project/git_dir/bayes_colab/ARMA_bayesian_stan/code.stan', line 33, column 8 to column 31)\n",
      "Consider re-running with show_console=True if the above output is unclear!\n"
     ]
    },
    {
     "name": "stdout",
     "output_type": "stream",
     "text": [
      "\n"
     ]
    },
    {
     "name": "stderr",
     "output_type": "stream",
     "text": [
      "09:43:05 - cmdstanpy - INFO - CmdStan start processing\n"
     ]
    },
    {
     "data": {
      "application/vnd.jupyter.widget-view+json": {
       "model_id": "63313dc1d92e411e957d419b1ac5772f",
       "version_major": 2,
       "version_minor": 0
      },
      "text/plain": [
       "chain 1 |          | 00:00 Status"
      ]
     },
     "metadata": {},
     "output_type": "display_data"
    },
    {
     "data": {
      "application/vnd.jupyter.widget-view+json": {
       "model_id": "1bdc02225cd64b88afcc4832bf487a75",
       "version_major": 2,
       "version_minor": 0
      },
      "text/plain": [
       "chain 2 |          | 00:00 Status"
      ]
     },
     "metadata": {},
     "output_type": "display_data"
    },
    {
     "data": {
      "application/vnd.jupyter.widget-view+json": {
       "model_id": "204e50d6dc1f4b44a306b38a08732628",
       "version_major": 2,
       "version_minor": 0
      },
      "text/plain": [
       "chain 3 |          | 00:00 Status"
      ]
     },
     "metadata": {},
     "output_type": "display_data"
    },
    {
     "data": {
      "application/vnd.jupyter.widget-view+json": {
       "model_id": "83f608b1681f43f7b2da3915177064ef",
       "version_major": 2,
       "version_minor": 0
      },
      "text/plain": [
       "chain 4 |          | 00:00 Status"
      ]
     },
     "metadata": {},
     "output_type": "display_data"
    },
    {
     "name": "stdout",
     "output_type": "stream",
     "text": [
      "                                                                                                                                                                                                                                                                                                                                "
     ]
    },
    {
     "name": "stderr",
     "output_type": "stream",
     "text": [
      "09:43:12 - cmdstanpy - INFO - CmdStan done processing.\n",
      "09:43:12 - cmdstanpy - WARNING - Non-fatal error during sampling:\n",
      "Exception: normal_lpdf: Scale parameter is 0, but must be positive! (in '/home/br1/PythonProjects/bayesian_project/git_dir/bayes_colab/ARMA_bayesian_stan/code.stan', line 33, column 8 to column 31)\n",
      "Exception: normal_lpdf: Scale parameter is 0, but must be positive! (in '/home/br1/PythonProjects/bayesian_project/git_dir/bayes_colab/ARMA_bayesian_stan/code.stan', line 33, column 8 to column 31)\n",
      "Exception: normal_lpdf: Scale parameter is 0, but must be positive! (in '/home/br1/PythonProjects/bayesian_project/git_dir/bayes_colab/ARMA_bayesian_stan/code.stan', line 33, column 8 to column 31)\n",
      "Consider re-running with show_console=True if the above output is unclear!\n"
     ]
    },
    {
     "name": "stdout",
     "output_type": "stream",
     "text": [
      "\n"
     ]
    },
    {
     "name": "stderr",
     "output_type": "stream",
     "text": [
      "09:43:13 - cmdstanpy - INFO - CmdStan start processing\n"
     ]
    },
    {
     "data": {
      "application/vnd.jupyter.widget-view+json": {
       "model_id": "5b5cd69c2a124327bd097378c93ad2c9",
       "version_major": 2,
       "version_minor": 0
      },
      "text/plain": [
       "chain 1 |          | 00:00 Status"
      ]
     },
     "metadata": {},
     "output_type": "display_data"
    },
    {
     "data": {
      "application/vnd.jupyter.widget-view+json": {
       "model_id": "a882200383be43afb5925dba364c4c31",
       "version_major": 2,
       "version_minor": 0
      },
      "text/plain": [
       "chain 2 |          | 00:00 Status"
      ]
     },
     "metadata": {},
     "output_type": "display_data"
    },
    {
     "data": {
      "application/vnd.jupyter.widget-view+json": {
       "model_id": "a4267a51b3524205973f6f781f41c951",
       "version_major": 2,
       "version_minor": 0
      },
      "text/plain": [
       "chain 3 |          | 00:00 Status"
      ]
     },
     "metadata": {},
     "output_type": "display_data"
    },
    {
     "data": {
      "application/vnd.jupyter.widget-view+json": {
       "model_id": "3c023fb0b1644a79ac6f19eb7ead3e83",
       "version_major": 2,
       "version_minor": 0
      },
      "text/plain": [
       "chain 4 |          | 00:00 Status"
      ]
     },
     "metadata": {},
     "output_type": "display_data"
    },
    {
     "name": "stdout",
     "output_type": "stream",
     "text": [
      "                                                                                                                                                                                                                                                                                                                                "
     ]
    },
    {
     "name": "stderr",
     "output_type": "stream",
     "text": [
      "09:43:21 - cmdstanpy - INFO - CmdStan done processing.\n",
      "09:43:21 - cmdstanpy - WARNING - Non-fatal error during sampling:\n",
      "Exception: normal_lpdf: Scale parameter is 0, but must be positive! (in '/home/br1/PythonProjects/bayesian_project/git_dir/bayes_colab/ARMA_bayesian_stan/code.stan', line 33, column 8 to column 31)\n",
      "Exception: normal_lpdf: Scale parameter is 0, but must be positive! (in '/home/br1/PythonProjects/bayesian_project/git_dir/bayes_colab/ARMA_bayesian_stan/code.stan', line 33, column 8 to column 31)\n",
      "Exception: normal_lpdf: Scale parameter is 0, but must be positive! (in '/home/br1/PythonProjects/bayesian_project/git_dir/bayes_colab/ARMA_bayesian_stan/code.stan', line 33, column 8 to column 31)\n",
      "Consider re-running with show_console=True if the above output is unclear!\n"
     ]
    },
    {
     "name": "stdout",
     "output_type": "stream",
     "text": [
      "\n"
     ]
    },
    {
     "name": "stderr",
     "output_type": "stream",
     "text": [
      "09:43:21 - cmdstanpy - INFO - CmdStan start processing\n"
     ]
    },
    {
     "data": {
      "application/vnd.jupyter.widget-view+json": {
       "model_id": "1d0b9b5fb6e043bca03d8bb9952a5f45",
       "version_major": 2,
       "version_minor": 0
      },
      "text/plain": [
       "chain 1 |          | 00:00 Status"
      ]
     },
     "metadata": {},
     "output_type": "display_data"
    },
    {
     "data": {
      "application/vnd.jupyter.widget-view+json": {
       "model_id": "3a19a9d3c1014e1a8467996c35416219",
       "version_major": 2,
       "version_minor": 0
      },
      "text/plain": [
       "chain 2 |          | 00:00 Status"
      ]
     },
     "metadata": {},
     "output_type": "display_data"
    },
    {
     "data": {
      "application/vnd.jupyter.widget-view+json": {
       "model_id": "d8bb1805895d4c63a6c3d218756aa68c",
       "version_major": 2,
       "version_minor": 0
      },
      "text/plain": [
       "chain 3 |          | 00:00 Status"
      ]
     },
     "metadata": {},
     "output_type": "display_data"
    },
    {
     "data": {
      "application/vnd.jupyter.widget-view+json": {
       "model_id": "1bfd6b4594de4c469f71d93470c74a43",
       "version_major": 2,
       "version_minor": 0
      },
      "text/plain": [
       "chain 4 |          | 00:00 Status"
      ]
     },
     "metadata": {},
     "output_type": "display_data"
    },
    {
     "name": "stdout",
     "output_type": "stream",
     "text": [
      "                                                                                                                                                                                                                                                                                                                                "
     ]
    },
    {
     "name": "stderr",
     "output_type": "stream",
     "text": [
      "09:43:34 - cmdstanpy - INFO - CmdStan done processing.\n",
      "09:43:34 - cmdstanpy - WARNING - Non-fatal error during sampling:\n",
      "Exception: normal_lpdf: Scale parameter is 0, but must be positive! (in '/home/br1/PythonProjects/bayesian_project/git_dir/bayes_colab/ARMA_bayesian_stan/code.stan', line 33, column 8 to column 31)\n",
      "Exception: normal_lpdf: Scale parameter is 0, but must be positive! (in '/home/br1/PythonProjects/bayesian_project/git_dir/bayes_colab/ARMA_bayesian_stan/code.stan', line 33, column 8 to column 31)\n",
      "Consider re-running with show_console=True if the above output is unclear!\n"
     ]
    },
    {
     "name": "stdout",
     "output_type": "stream",
     "text": [
      "\n"
     ]
    },
    {
     "name": "stderr",
     "output_type": "stream",
     "text": [
      "09:43:35 - cmdstanpy - INFO - CmdStan start processing\n"
     ]
    },
    {
     "data": {
      "application/vnd.jupyter.widget-view+json": {
       "model_id": "415dc8b6612e4495bf4ed3381f74195d",
       "version_major": 2,
       "version_minor": 0
      },
      "text/plain": [
       "chain 1 |          | 00:00 Status"
      ]
     },
     "metadata": {},
     "output_type": "display_data"
    },
    {
     "data": {
      "application/vnd.jupyter.widget-view+json": {
       "model_id": "27d0b1adfc8347caa704cbdc9f39b769",
       "version_major": 2,
       "version_minor": 0
      },
      "text/plain": [
       "chain 2 |          | 00:00 Status"
      ]
     },
     "metadata": {},
     "output_type": "display_data"
    },
    {
     "data": {
      "application/vnd.jupyter.widget-view+json": {
       "model_id": "cb47290659674c24b0e9b2091328a736",
       "version_major": 2,
       "version_minor": 0
      },
      "text/plain": [
       "chain 3 |          | 00:00 Status"
      ]
     },
     "metadata": {},
     "output_type": "display_data"
    },
    {
     "data": {
      "application/vnd.jupyter.widget-view+json": {
       "model_id": "0b545ee31161466ba46d447dc72aa410",
       "version_major": 2,
       "version_minor": 0
      },
      "text/plain": [
       "chain 4 |          | 00:00 Status"
      ]
     },
     "metadata": {},
     "output_type": "display_data"
    },
    {
     "name": "stdout",
     "output_type": "stream",
     "text": [
      "                                                                                                                                                                                                                                                                                                                                "
     ]
    },
    {
     "name": "stderr",
     "output_type": "stream",
     "text": [
      "09:43:42 - cmdstanpy - INFO - CmdStan done processing.\n",
      "09:43:42 - cmdstanpy - WARNING - Non-fatal error during sampling:\n",
      "Exception: normal_lpdf: Scale parameter is 0, but must be positive! (in '/home/br1/PythonProjects/bayesian_project/git_dir/bayes_colab/ARMA_bayesian_stan/code.stan', line 33, column 8 to column 31)\n",
      "Exception: normal_lpdf: Scale parameter is 0, but must be positive! (in '/home/br1/PythonProjects/bayesian_project/git_dir/bayes_colab/ARMA_bayesian_stan/code.stan', line 33, column 8 to column 31)\n",
      "Exception: normal_lpdf: Scale parameter is 0, but must be positive! (in '/home/br1/PythonProjects/bayesian_project/git_dir/bayes_colab/ARMA_bayesian_stan/code.stan', line 33, column 8 to column 31)\n",
      "Consider re-running with show_console=True if the above output is unclear!\n"
     ]
    },
    {
     "name": "stdout",
     "output_type": "stream",
     "text": [
      "\n"
     ]
    },
    {
     "name": "stderr",
     "output_type": "stream",
     "text": [
      "09:43:42 - cmdstanpy - INFO - CmdStan start processing\n"
     ]
    },
    {
     "data": {
      "application/vnd.jupyter.widget-view+json": {
       "model_id": "0cf4b6f1b5964fe18eaf59e53764b4d0",
       "version_major": 2,
       "version_minor": 0
      },
      "text/plain": [
       "chain 1 |          | 00:00 Status"
      ]
     },
     "metadata": {},
     "output_type": "display_data"
    },
    {
     "data": {
      "application/vnd.jupyter.widget-view+json": {
       "model_id": "1ac2a79193f2469d88e68aaf908d460d",
       "version_major": 2,
       "version_minor": 0
      },
      "text/plain": [
       "chain 2 |          | 00:00 Status"
      ]
     },
     "metadata": {},
     "output_type": "display_data"
    },
    {
     "data": {
      "application/vnd.jupyter.widget-view+json": {
       "model_id": "39835c57a5ca49568e5b9f473fd997f2",
       "version_major": 2,
       "version_minor": 0
      },
      "text/plain": [
       "chain 3 |          | 00:00 Status"
      ]
     },
     "metadata": {},
     "output_type": "display_data"
    },
    {
     "data": {
      "application/vnd.jupyter.widget-view+json": {
       "model_id": "cc02b74397d2419fa0ac785ce959c693",
       "version_major": 2,
       "version_minor": 0
      },
      "text/plain": [
       "chain 4 |          | 00:00 Status"
      ]
     },
     "metadata": {},
     "output_type": "display_data"
    },
    {
     "name": "stdout",
     "output_type": "stream",
     "text": [
      "                                                                                                                                                                                                                                                                                                                                "
     ]
    },
    {
     "name": "stderr",
     "output_type": "stream",
     "text": [
      "09:43:57 - cmdstanpy - INFO - CmdStan done processing.\n",
      "09:43:57 - cmdstanpy - WARNING - Non-fatal error during sampling:\n",
      "Exception: normal_lpdf: Scale parameter is 0, but must be positive! (in '/home/br1/PythonProjects/bayesian_project/git_dir/bayes_colab/ARMA_bayesian_stan/code.stan', line 33, column 8 to column 31)\n",
      "Exception: normal_lpdf: Scale parameter is 0, but must be positive! (in '/home/br1/PythonProjects/bayesian_project/git_dir/bayes_colab/ARMA_bayesian_stan/code.stan', line 33, column 8 to column 31)\n",
      "Consider re-running with show_console=True if the above output is unclear!\n"
     ]
    },
    {
     "name": "stdout",
     "output_type": "stream",
     "text": [
      "\n"
     ]
    }
   ],
   "source": [
    "import arma_2_1_no_nan\n",
    "\n",
    "dizionario = arma_2_1_no_nan.fit_all_arma(df)"
   ]
  },
  {
   "cell_type": "code",
   "execution_count": 25,
   "id": "29acde2f-5608-4e7a-b37e-31616d3a72dc",
   "metadata": {},
   "outputs": [],
   "source": [
    "for value in dizionario:\n",
    "    dizionario[value].to_netcdf(filename='./inference_data_211/'+value+'.ncdf')"
   ]
  }
 ],
 "metadata": {
  "kernelspec": {
   "display_name": "Python 3 (ipykernel)",
   "language": "python",
   "name": "python3"
  },
  "language_info": {
   "codemirror_mode": {
    "name": "ipython",
    "version": 3
   },
   "file_extension": ".py",
   "mimetype": "text/x-python",
   "name": "python",
   "nbconvert_exporter": "python",
   "pygments_lexer": "ipython3",
   "version": "3.10.6"
  }
 },
 "nbformat": 4,
 "nbformat_minor": 5
}
