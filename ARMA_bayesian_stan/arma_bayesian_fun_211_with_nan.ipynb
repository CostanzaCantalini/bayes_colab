{
 "cells": [
  {
   "cell_type": "code",
   "execution_count": 1,
   "id": "679f5520-bab3-443b-a55f-5a34d26a60ad",
   "metadata": {},
   "outputs": [],
   "source": [
    "import pandas as pd\n",
    "import numpy as np\n",
    "import scipy as sp\n",
    "import scipy.stats as spst\n",
    "import matplotlib as mpl\n",
    "import matplotlib.pyplot as plt\n",
    "import seaborn as sns\n",
    "\n",
    "import datetime\n",
    "\n",
    "import arviz as az\n",
    "from cmdstanpy import cmdstan_path, CmdStanModel"
   ]
  },
  {
   "cell_type": "code",
   "execution_count": 2,
   "id": "ea48e291",
   "metadata": {},
   "outputs": [
    {
     "data": {
      "text/html": [
       "<div>\n",
       "<style scoped>\n",
       "    .dataframe tbody tr th:only-of-type {\n",
       "        vertical-align: middle;\n",
       "    }\n",
       "\n",
       "    .dataframe tbody tr th {\n",
       "        vertical-align: top;\n",
       "    }\n",
       "\n",
       "    .dataframe thead th {\n",
       "        text-align: right;\n",
       "    }\n",
       "</style>\n",
       "<table border=\"1\" class=\"dataframe\">\n",
       "  <thead>\n",
       "    <tr style=\"text-align: right;\">\n",
       "      <th></th>\n",
       "      <th>02000003_005_202007.csv</th>\n",
       "      <th>COD_STAZ</th>\n",
       "      <th>ID_PARAM</th>\n",
       "      <th>DATA_INIZIO</th>\n",
       "      <th>DATA_FINE</th>\n",
       "      <th>VALORE</th>\n",
       "      <th>UM</th>\n",
       "      <th>Anno</th>\n",
       "      <th>Mese</th>\n",
       "      <th>Giorno</th>\n",
       "      <th>...</th>\n",
       "      <th>Mesenome</th>\n",
       "      <th>Stazione</th>\n",
       "      <th>COMUNE</th>\n",
       "      <th>INDIRIZZO</th>\n",
       "      <th>PROVINCIA</th>\n",
       "      <th>Altezza</th>\n",
       "      <th>PARAMETRO</th>\n",
       "      <th>TipoStazione</th>\n",
       "      <th>TipoArea</th>\n",
       "      <th>Zonizzazione</th>\n",
       "    </tr>\n",
       "  </thead>\n",
       "  <tbody>\n",
       "    <tr>\n",
       "      <th>0</th>\n",
       "      <td>02000003_005_202007.txt</td>\n",
       "      <td>2000003</td>\n",
       "      <td>5</td>\n",
       "      <td>43831</td>\n",
       "      <td>43832</td>\n",
       "      <td>52</td>\n",
       "      <td>ug/m3</td>\n",
       "      <td>2020</td>\n",
       "      <td>1</td>\n",
       "      <td>1</td>\n",
       "      <td>...</td>\n",
       "      <td>gennaio</td>\n",
       "      <td>CITTADELLA</td>\n",
       "      <td>PARMA</td>\n",
       "      <td>PARCO CITTADELLA</td>\n",
       "      <td>PR</td>\n",
       "      <td>60.0</td>\n",
       "      <td>PM10</td>\n",
       "      <td>Fondo</td>\n",
       "      <td>Urbano</td>\n",
       "      <td>Pianura Ovest</td>\n",
       "    </tr>\n",
       "    <tr>\n",
       "      <th>1</th>\n",
       "      <td>02000003_005_202007.txt</td>\n",
       "      <td>2000003</td>\n",
       "      <td>5</td>\n",
       "      <td>43832</td>\n",
       "      <td>43833</td>\n",
       "      <td>59</td>\n",
       "      <td>ug/m3</td>\n",
       "      <td>2020</td>\n",
       "      <td>1</td>\n",
       "      <td>2</td>\n",
       "      <td>...</td>\n",
       "      <td>gennaio</td>\n",
       "      <td>CITTADELLA</td>\n",
       "      <td>PARMA</td>\n",
       "      <td>PARCO CITTADELLA</td>\n",
       "      <td>PR</td>\n",
       "      <td>60.0</td>\n",
       "      <td>PM10</td>\n",
       "      <td>Fondo</td>\n",
       "      <td>Urbano</td>\n",
       "      <td>Pianura Ovest</td>\n",
       "    </tr>\n",
       "    <tr>\n",
       "      <th>2</th>\n",
       "      <td>02000003_005_202007.txt</td>\n",
       "      <td>2000003</td>\n",
       "      <td>5</td>\n",
       "      <td>43833</td>\n",
       "      <td>43834</td>\n",
       "      <td>45</td>\n",
       "      <td>ug/m3</td>\n",
       "      <td>2020</td>\n",
       "      <td>1</td>\n",
       "      <td>3</td>\n",
       "      <td>...</td>\n",
       "      <td>gennaio</td>\n",
       "      <td>CITTADELLA</td>\n",
       "      <td>PARMA</td>\n",
       "      <td>PARCO CITTADELLA</td>\n",
       "      <td>PR</td>\n",
       "      <td>60.0</td>\n",
       "      <td>PM10</td>\n",
       "      <td>Fondo</td>\n",
       "      <td>Urbano</td>\n",
       "      <td>Pianura Ovest</td>\n",
       "    </tr>\n",
       "    <tr>\n",
       "      <th>3</th>\n",
       "      <td>02000003_005_202007.txt</td>\n",
       "      <td>2000003</td>\n",
       "      <td>5</td>\n",
       "      <td>43834</td>\n",
       "      <td>43835</td>\n",
       "      <td>42</td>\n",
       "      <td>ug/m3</td>\n",
       "      <td>2020</td>\n",
       "      <td>1</td>\n",
       "      <td>4</td>\n",
       "      <td>...</td>\n",
       "      <td>gennaio</td>\n",
       "      <td>CITTADELLA</td>\n",
       "      <td>PARMA</td>\n",
       "      <td>PARCO CITTADELLA</td>\n",
       "      <td>PR</td>\n",
       "      <td>60.0</td>\n",
       "      <td>PM10</td>\n",
       "      <td>Fondo</td>\n",
       "      <td>Urbano</td>\n",
       "      <td>Pianura Ovest</td>\n",
       "    </tr>\n",
       "    <tr>\n",
       "      <th>4</th>\n",
       "      <td>02000003_005_202007.txt</td>\n",
       "      <td>2000003</td>\n",
       "      <td>5</td>\n",
       "      <td>43835</td>\n",
       "      <td>43836</td>\n",
       "      <td>31</td>\n",
       "      <td>ug/m3</td>\n",
       "      <td>2020</td>\n",
       "      <td>1</td>\n",
       "      <td>5</td>\n",
       "      <td>...</td>\n",
       "      <td>gennaio</td>\n",
       "      <td>CITTADELLA</td>\n",
       "      <td>PARMA</td>\n",
       "      <td>PARCO CITTADELLA</td>\n",
       "      <td>PR</td>\n",
       "      <td>60.0</td>\n",
       "      <td>PM10</td>\n",
       "      <td>Fondo</td>\n",
       "      <td>Urbano</td>\n",
       "      <td>Pianura Ovest</td>\n",
       "    </tr>\n",
       "  </tbody>\n",
       "</table>\n",
       "<p>5 rows × 21 columns</p>\n",
       "</div>"
      ],
      "text/plain": [
       "   02000003_005_202007.csv  COD_STAZ  ID_PARAM DATA_INIZIO  DATA_FINE  VALORE  \\\n",
       "0  02000003_005_202007.txt   2000003         5       43831      43832      52   \n",
       "1  02000003_005_202007.txt   2000003         5       43832      43833      59   \n",
       "2  02000003_005_202007.txt   2000003         5       43833      43834      45   \n",
       "3  02000003_005_202007.txt   2000003         5       43834      43835      42   \n",
       "4  02000003_005_202007.txt   2000003         5       43835      43836      31   \n",
       "\n",
       "      UM  Anno  Mese  Giorno  ... Mesenome    Stazione COMUNE  \\\n",
       "0  ug/m3  2020     1       1  ...  gennaio  CITTADELLA  PARMA   \n",
       "1  ug/m3  2020     1       2  ...  gennaio  CITTADELLA  PARMA   \n",
       "2  ug/m3  2020     1       3  ...  gennaio  CITTADELLA  PARMA   \n",
       "3  ug/m3  2020     1       4  ...  gennaio  CITTADELLA  PARMA   \n",
       "4  ug/m3  2020     1       5  ...  gennaio  CITTADELLA  PARMA   \n",
       "\n",
       "          INDIRIZZO PROVINCIA Altezza  PARAMETRO TipoStazione TipoArea  \\\n",
       "0  PARCO CITTADELLA        PR    60.0       PM10        Fondo   Urbano   \n",
       "1  PARCO CITTADELLA        PR    60.0       PM10        Fondo   Urbano   \n",
       "2  PARCO CITTADELLA        PR    60.0       PM10        Fondo   Urbano   \n",
       "3  PARCO CITTADELLA        PR    60.0       PM10        Fondo   Urbano   \n",
       "4  PARCO CITTADELLA        PR    60.0       PM10        Fondo   Urbano   \n",
       "\n",
       "    Zonizzazione  \n",
       "0  Pianura Ovest  \n",
       "1  Pianura Ovest  \n",
       "2  Pianura Ovest  \n",
       "3  Pianura Ovest  \n",
       "4  Pianura Ovest  \n",
       "\n",
       "[5 rows x 21 columns]"
      ]
     },
     "execution_count": 2,
     "metadata": {},
     "output_type": "execute_result"
    }
   ],
   "source": [
    "df = pd.read_csv(\"./dati_polveri/polveri_emilia_PM10.csv\")\n",
    "df.head()"
   ]
  },
  {
   "cell_type": "code",
   "execution_count": 3,
   "id": "ffb108ca-ba28-4869-a66f-43eedef97d8b",
   "metadata": {},
   "outputs": [],
   "source": [
    "def string_date(anno,mese,giorno):\n",
    "    return str(anno)+\"-\"+str(mese).zfill(2)+\"-\"+str(giorno).zfill(2)"
   ]
  },
  {
   "cell_type": "code",
   "execution_count": 4,
   "id": "4ee348d0-736a-42c9-b0cf-2621fafb3845",
   "metadata": {},
   "outputs": [
    {
     "data": {
      "text/html": [
       "<div>\n",
       "<style scoped>\n",
       "    .dataframe tbody tr th:only-of-type {\n",
       "        vertical-align: middle;\n",
       "    }\n",
       "\n",
       "    .dataframe tbody tr th {\n",
       "        vertical-align: top;\n",
       "    }\n",
       "\n",
       "    .dataframe thead th {\n",
       "        text-align: right;\n",
       "    }\n",
       "</style>\n",
       "<table border=\"1\" class=\"dataframe\">\n",
       "  <thead>\n",
       "    <tr style=\"text-align: right;\">\n",
       "      <th></th>\n",
       "      <th>Stazione</th>\n",
       "      <th>VALORE</th>\n",
       "      <th>TipoStazione</th>\n",
       "      <th>TipoArea</th>\n",
       "      <th>Zonizzazione</th>\n",
       "      <th>Altezza</th>\n",
       "      <th>Mese</th>\n",
       "      <th>Date</th>\n",
       "      <th>LogVal</th>\n",
       "    </tr>\n",
       "  </thead>\n",
       "  <tbody>\n",
       "    <tr>\n",
       "      <th>75727</th>\n",
       "      <td>BADIA</td>\n",
       "      <td>39</td>\n",
       "      <td>Fondo</td>\n",
       "      <td>Rurale</td>\n",
       "      <td>Pianura Ovest</td>\n",
       "      <td>202.0</td>\n",
       "      <td>Gennaio</td>\n",
       "      <td>2018-01-01</td>\n",
       "      <td>3.663562</td>\n",
       "    </tr>\n",
       "    <tr>\n",
       "      <th>75728</th>\n",
       "      <td>BADIA</td>\n",
       "      <td>13</td>\n",
       "      <td>Fondo</td>\n",
       "      <td>Rurale</td>\n",
       "      <td>Pianura Ovest</td>\n",
       "      <td>202.0</td>\n",
       "      <td>Gennaio</td>\n",
       "      <td>2018-01-02</td>\n",
       "      <td>2.564949</td>\n",
       "    </tr>\n",
       "    <tr>\n",
       "      <th>75729</th>\n",
       "      <td>BADIA</td>\n",
       "      <td>12</td>\n",
       "      <td>Fondo</td>\n",
       "      <td>Rurale</td>\n",
       "      <td>Pianura Ovest</td>\n",
       "      <td>202.0</td>\n",
       "      <td>Gennaio</td>\n",
       "      <td>2018-01-03</td>\n",
       "      <td>2.484907</td>\n",
       "    </tr>\n",
       "    <tr>\n",
       "      <th>75730</th>\n",
       "      <td>BADIA</td>\n",
       "      <td>15</td>\n",
       "      <td>Fondo</td>\n",
       "      <td>Rurale</td>\n",
       "      <td>Pianura Ovest</td>\n",
       "      <td>202.0</td>\n",
       "      <td>Gennaio</td>\n",
       "      <td>2018-01-04</td>\n",
       "      <td>2.708050</td>\n",
       "    </tr>\n",
       "    <tr>\n",
       "      <th>75731</th>\n",
       "      <td>BADIA</td>\n",
       "      <td>34</td>\n",
       "      <td>Fondo</td>\n",
       "      <td>Rurale</td>\n",
       "      <td>Pianura Ovest</td>\n",
       "      <td>202.0</td>\n",
       "      <td>Gennaio</td>\n",
       "      <td>2018-01-05</td>\n",
       "      <td>3.526361</td>\n",
       "    </tr>\n",
       "  </tbody>\n",
       "</table>\n",
       "</div>"
      ],
      "text/plain": [
       "      Stazione  VALORE TipoStazione TipoArea   Zonizzazione  Altezza     Mese  \\\n",
       "75727    BADIA      39        Fondo   Rurale  Pianura Ovest    202.0  Gennaio   \n",
       "75728    BADIA      13        Fondo   Rurale  Pianura Ovest    202.0  Gennaio   \n",
       "75729    BADIA      12        Fondo   Rurale  Pianura Ovest    202.0  Gennaio   \n",
       "75730    BADIA      15        Fondo   Rurale  Pianura Ovest    202.0  Gennaio   \n",
       "75731    BADIA      34        Fondo   Rurale  Pianura Ovest    202.0  Gennaio   \n",
       "\n",
       "             Date    LogVal  \n",
       "75727  2018-01-01  3.663562  \n",
       "75728  2018-01-02  2.564949  \n",
       "75729  2018-01-03  2.484907  \n",
       "75730  2018-01-04  2.708050  \n",
       "75731  2018-01-05  3.526361  "
      ]
     },
     "execution_count": 4,
     "metadata": {},
     "output_type": "execute_result"
    }
   ],
   "source": [
    "#res = df[(df['Stazione']=='MARECCHIA')]\n",
    "res = df[df['Anno'] == 2018].copy()\n",
    "aux_df = res[['Anno','Mese', 'Giorno', 'Stazione', 'VALORE']].copy()\n",
    "aux_df['VALORE'].replace(to_replace=0, value=1, inplace=True)\n",
    "lista_date = aux_df.apply(lambda vec : string_date(vec[0],vec[1],vec[2]),axis=1).tolist()\n",
    "lista_log = aux_df.apply(lambda vec : np.log(vec[4]),axis=1).tolist()\n",
    "\n",
    "final_df = res[['Stazione','VALORE','TipoStazione','TipoArea','Zonizzazione','Altezza','Mese']].copy()\n",
    "final_df['Date'] = lista_date\n",
    "final_df['LogVal'] = lista_log\n",
    "\n",
    "final_df['Mese'].replace(to_replace=1, value='Gennaio', inplace=True)\n",
    "final_df['Mese'].replace(to_replace=2, value='Febbraio', inplace=True)\n",
    "final_df['Mese'].replace(to_replace=3, value='Marzo', inplace=True)\n",
    "final_df['Mese'].replace(to_replace=4, value='Aprile', inplace=True)\n",
    "final_df['Mese'].replace(to_replace=5, value='Maggio', inplace=True)\n",
    "final_df['Mese'].replace(to_replace=6, value='Giugno', inplace=True)\n",
    "final_df['Mese'].replace(to_replace=7, value='Luglio', inplace=True)\n",
    "final_df['Mese'].replace(to_replace=8, value='Agosto', inplace=True)\n",
    "final_df['Mese'].replace(to_replace=9, value='Settembre', inplace=True)\n",
    "final_df['Mese'].replace(to_replace=10, value='Ottobre', inplace=True)\n",
    "final_df['Mese'].replace(to_replace=11, value='Novembre', inplace=True)\n",
    "final_df['Mese'].replace(to_replace=12, value='Dicembre', inplace=True)\n",
    "\n",
    "\n",
    "final_df = final_df.sort_values(by=['Stazione','Date'])\n",
    "final_df.head()"
   ]
  },
  {
   "cell_type": "code",
   "execution_count": 5,
   "id": "3d371c8e-3870-4354-a57e-0d4c5fff6650",
   "metadata": {},
   "outputs": [],
   "source": [
    "stazioni_df = final_df.copy()\n",
    "stazioni_df = stazioni_df.sort_values(by=['Stazione'])\n",
    "## Ordine: alfabetico\n",
    "stazioni_df = stazioni_df[['Stazione']]\n",
    "stazioni_df.drop_duplicates(inplace=True)\n",
    "stazioni_df = stazioni_df.reset_index()\n",
    "stazioni_df = stazioni_df[['Stazione']]\n",
    "lista_stazioni = stazioni_df['Stazione'].tolist()"
   ]
  },
  {
   "cell_type": "code",
   "execution_count": 6,
   "id": "58eb9111-eca1-49aa-a3b4-b33f3a006268",
   "metadata": {},
   "outputs": [
    {
     "name": "stdout",
     "output_type": "stream",
     "text": [
      "[2.8903717578961645, 3.1354942159291497, 3.2188758248682006, 3.1354942159291497, 3.091042453358316, 2.1972245773362196, 3.2188758248682006, 3.1780538303479458, 3.332204510175204, 2.302585092994046, 2.995732273553991, 3.1354942159291497, 2.302585092994046, 3.295836866004329, 3.044522437723423, 3.091042453358316, 3.4011973816621555, 3.1354942159291497, 3.332204510175204, 2.9444389791664403, 3.258096538021482, 3.2188758248682006, 3.044522437723423, 3.295836866004329, 2.995732273553991, 3.332204510175204, 3.2188758248682006, 2.995732273553991, 3.091042453358316, 3.1780538303479458, 3.1780538303479458, 2.9700856263602153, 3.1354942159291497, 3.2188758248682006, 3.091042453358316, 3.258096538021482, 3.295836866004329, 3.367295829986474, 3.044522437723423, 2.70805020110221, 3.044522437723423, 3.2188758248682006, 3.044522437723423, 2.3978952727983707, 3.4657359027997265, 2.833213344056216, 3.044522437723423, 3.1354942159291497, 3.1354942159291497]\n"
     ]
    }
   ],
   "source": [
    "lista_mediane_stazioni = []\n",
    "for stazione in lista_stazioni:\n",
    "    aux_df = final_df[final_df['Stazione'] == stazione]\n",
    "    aux_df = aux_df[['LogVal']]\n",
    "    logvalori = aux_df.to_numpy()\n",
    "    lista_mediane_stazioni.append(np.median(logvalori))\n",
    "    \n",
    "    \n",
    "print(lista_mediane_stazioni)"
   ]
  },
  {
   "cell_type": "code",
   "execution_count": 7,
   "id": "1c3c1313-1be2-4849-8a34-75fbaa7e7695",
   "metadata": {},
   "outputs": [
    {
     "data": {
      "text/html": [
       "<div>\n",
       "<style scoped>\n",
       "    .dataframe tbody tr th:only-of-type {\n",
       "        vertical-align: middle;\n",
       "    }\n",
       "\n",
       "    .dataframe tbody tr th {\n",
       "        vertical-align: top;\n",
       "    }\n",
       "\n",
       "    .dataframe thead th {\n",
       "        text-align: right;\n",
       "    }\n",
       "</style>\n",
       "<table border=\"1\" class=\"dataframe\">\n",
       "  <thead>\n",
       "    <tr style=\"text-align: right;\">\n",
       "      <th></th>\n",
       "      <th>Stazione</th>\n",
       "      <th>Mediana</th>\n",
       "    </tr>\n",
       "  </thead>\n",
       "  <tbody>\n",
       "    <tr>\n",
       "      <th>5</th>\n",
       "      <td>CASTELLUCCIO</td>\n",
       "      <td>2.197225</td>\n",
       "    </tr>\n",
       "    <tr>\n",
       "      <th>12</th>\n",
       "      <td>FEBBIO</td>\n",
       "      <td>2.302585</td>\n",
       "    </tr>\n",
       "    <tr>\n",
       "      <th>9</th>\n",
       "      <td>CORTE BRUGNATELLA</td>\n",
       "      <td>2.302585</td>\n",
       "    </tr>\n",
       "    <tr>\n",
       "      <th>43</th>\n",
       "      <td>SAVIGNANO DI RIGO</td>\n",
       "      <td>2.397895</td>\n",
       "    </tr>\n",
       "    <tr>\n",
       "      <th>39</th>\n",
       "      <td>SAN LEO</td>\n",
       "      <td>2.708050</td>\n",
       "    </tr>\n",
       "  </tbody>\n",
       "</table>\n",
       "</div>"
      ],
      "text/plain": [
       "             Stazione   Mediana\n",
       "5        CASTELLUCCIO  2.197225\n",
       "12             FEBBIO  2.302585\n",
       "9   CORTE BRUGNATELLA  2.302585\n",
       "43  SAVIGNANO DI RIGO  2.397895\n",
       "39            SAN LEO  2.708050"
      ]
     },
     "execution_count": 7,
     "metadata": {},
     "output_type": "execute_result"
    }
   ],
   "source": [
    "stazioni_df['Mediana'] = lista_mediane_stazioni\n",
    "stazioni_df = stazioni_df.sort_values(by='Mediana')\n",
    "stazioni_df.head()"
   ]
  },
  {
   "cell_type": "code",
   "execution_count": 8,
   "id": "58d6c38f-3ea4-47de-bcf5-173e255f4efc",
   "metadata": {},
   "outputs": [],
   "source": [
    "lista_stazioni_ordinata_per_mediana = stazioni_df['Stazione'].tolist()\n",
    "final_df['Cat_Stazione_Order_By_Median'] = pd.Categorical(final_df['Stazione'], lista_stazioni_ordinata_per_mediana)\n",
    "sorted_final_df = final_df.sort_values(by='Cat_Stazione_Order_By_Median')"
   ]
  },
  {
   "cell_type": "code",
   "execution_count": 9,
   "id": "f019292d-93a5-4080-b02b-dacf87bdd6fb",
   "metadata": {},
   "outputs": [
    {
     "data": {
      "text/html": [
       "<div>\n",
       "<style scoped>\n",
       "    .dataframe tbody tr th:only-of-type {\n",
       "        vertical-align: middle;\n",
       "    }\n",
       "\n",
       "    .dataframe tbody tr th {\n",
       "        vertical-align: top;\n",
       "    }\n",
       "\n",
       "    .dataframe thead th {\n",
       "        text-align: right;\n",
       "    }\n",
       "</style>\n",
       "<table border=\"1\" class=\"dataframe\">\n",
       "  <thead>\n",
       "    <tr style=\"text-align: right;\">\n",
       "      <th></th>\n",
       "      <th>Stazione</th>\n",
       "      <th>VALORE</th>\n",
       "      <th>TipoStazione</th>\n",
       "      <th>TipoArea</th>\n",
       "      <th>Zonizzazione</th>\n",
       "      <th>Altezza</th>\n",
       "      <th>Mese</th>\n",
       "      <th>Date</th>\n",
       "    </tr>\n",
       "  </thead>\n",
       "  <tbody>\n",
       "    <tr>\n",
       "      <th>75727</th>\n",
       "      <td>BADIA</td>\n",
       "      <td>39</td>\n",
       "      <td>Fondo</td>\n",
       "      <td>Rurale</td>\n",
       "      <td>Pianura Ovest</td>\n",
       "      <td>202.0</td>\n",
       "      <td>Gennaio</td>\n",
       "      <td>2018-01-01</td>\n",
       "    </tr>\n",
       "    <tr>\n",
       "      <th>75728</th>\n",
       "      <td>BADIA</td>\n",
       "      <td>13</td>\n",
       "      <td>Fondo</td>\n",
       "      <td>Rurale</td>\n",
       "      <td>Pianura Ovest</td>\n",
       "      <td>202.0</td>\n",
       "      <td>Gennaio</td>\n",
       "      <td>2018-01-02</td>\n",
       "    </tr>\n",
       "    <tr>\n",
       "      <th>75729</th>\n",
       "      <td>BADIA</td>\n",
       "      <td>12</td>\n",
       "      <td>Fondo</td>\n",
       "      <td>Rurale</td>\n",
       "      <td>Pianura Ovest</td>\n",
       "      <td>202.0</td>\n",
       "      <td>Gennaio</td>\n",
       "      <td>2018-01-03</td>\n",
       "    </tr>\n",
       "    <tr>\n",
       "      <th>75730</th>\n",
       "      <td>BADIA</td>\n",
       "      <td>15</td>\n",
       "      <td>Fondo</td>\n",
       "      <td>Rurale</td>\n",
       "      <td>Pianura Ovest</td>\n",
       "      <td>202.0</td>\n",
       "      <td>Gennaio</td>\n",
       "      <td>2018-01-04</td>\n",
       "    </tr>\n",
       "    <tr>\n",
       "      <th>75731</th>\n",
       "      <td>BADIA</td>\n",
       "      <td>34</td>\n",
       "      <td>Fondo</td>\n",
       "      <td>Rurale</td>\n",
       "      <td>Pianura Ovest</td>\n",
       "      <td>202.0</td>\n",
       "      <td>Gennaio</td>\n",
       "      <td>2018-01-05</td>\n",
       "    </tr>\n",
       "  </tbody>\n",
       "</table>\n",
       "</div>"
      ],
      "text/plain": [
       "      Stazione  VALORE TipoStazione TipoArea   Zonizzazione  Altezza     Mese  \\\n",
       "75727    BADIA      39        Fondo   Rurale  Pianura Ovest    202.0  Gennaio   \n",
       "75728    BADIA      13        Fondo   Rurale  Pianura Ovest    202.0  Gennaio   \n",
       "75729    BADIA      12        Fondo   Rurale  Pianura Ovest    202.0  Gennaio   \n",
       "75730    BADIA      15        Fondo   Rurale  Pianura Ovest    202.0  Gennaio   \n",
       "75731    BADIA      34        Fondo   Rurale  Pianura Ovest    202.0  Gennaio   \n",
       "\n",
       "             Date  \n",
       "75727  2018-01-01  \n",
       "75728  2018-01-02  \n",
       "75729  2018-01-03  \n",
       "75730  2018-01-04  \n",
       "75731  2018-01-05  "
      ]
     },
     "execution_count": 9,
     "metadata": {},
     "output_type": "execute_result"
    }
   ],
   "source": [
    "#res = df[(df['Stazione']=='MARECCHIA')]\n",
    "res = df[df['Anno'] == 2018].copy()\n",
    "aux_df = res[['Anno','Mese', 'Giorno', 'Stazione', 'VALORE']].copy()\n",
    "\n",
    "lista_date = aux_df.apply(lambda vec : string_date(vec[0],vec[1],vec[2]),axis=1).tolist()\n",
    "\n",
    "final_df = res[['Stazione','VALORE','TipoStazione','TipoArea','Zonizzazione','Altezza','Mese']].copy()\n",
    "final_df['Date'] = lista_date\n",
    "\n",
    "final_df['Mese'].replace(to_replace=1, value='Gennaio', inplace=True)\n",
    "final_df['Mese'].replace(to_replace=2, value='Febbraio', inplace=True)\n",
    "final_df['Mese'].replace(to_replace=3, value='Marzo', inplace=True)\n",
    "final_df['Mese'].replace(to_replace=4, value='Aprile', inplace=True)\n",
    "final_df['Mese'].replace(to_replace=5, value='Maggio', inplace=True)\n",
    "final_df['Mese'].replace(to_replace=6, value='Giugno', inplace=True)\n",
    "final_df['Mese'].replace(to_replace=7, value='Luglio', inplace=True)\n",
    "final_df['Mese'].replace(to_replace=8, value='Agosto', inplace=True)\n",
    "final_df['Mese'].replace(to_replace=9, value='Settembre', inplace=True)\n",
    "final_df['Mese'].replace(to_replace=10, value='Ottobre', inplace=True)\n",
    "final_df['Mese'].replace(to_replace=11, value='Novembre', inplace=True)\n",
    "final_df['Mese'].replace(to_replace=12, value='Dicembre', inplace=True)\n",
    "\n",
    "\n",
    "final_df = final_df.sort_values(by=['Stazione','Date'])\n",
    "final_df.head()"
   ]
  },
  {
   "cell_type": "code",
   "execution_count": 10,
   "id": "a37094b5-689b-451c-8ad0-c4ca459e0479",
   "metadata": {},
   "outputs": [],
   "source": [
    "lista_stazioni_ordinata_per_mediana = stazioni_df['Stazione'].tolist()\n",
    "final_df['Cat_Stazione_Order_By_Median'] = pd.Categorical(final_df['Stazione'], lista_stazioni_ordinata_per_mediana)\n",
    "sorted_final_df = final_df.sort_values(by='Cat_Stazione_Order_By_Median')"
   ]
  },
  {
   "cell_type": "code",
   "execution_count": 11,
   "id": "50432fb6-0296-4e99-873c-59c4d9a7870a",
   "metadata": {},
   "outputs": [],
   "source": [
    "date_list = [datetime.date(2018,1,1)]\n",
    "for i in range(1,365):\n",
    "    date_list.append(datetime.date(2018,1,1) + datetime.timedelta(days=i))\n",
    "    \n",
    "#df_with_stations_as_cols = pd.DataFrame()\n",
    "#df_with_stations_as_cols['Date'] = date_list\n",
    "#df_with_stations_as_cols.tail()"
   ]
  },
  {
   "cell_type": "code",
   "execution_count": 12,
   "id": "196b2053-6667-4254-a90d-3be986121e24",
   "metadata": {},
   "outputs": [
    {
     "name": "stdout",
     "output_type": "stream",
     "text": [
      "(365, 49)\n"
     ]
    }
   ],
   "source": [
    "aux_df = final_df.copy()\n",
    "aux_df = aux_df.sort_values(by=['Cat_Stazione_Order_By_Median'])\n",
    "## Ordine: alfabetico\n",
    "aux_df = aux_df[['Stazione']]\n",
    "aux_df.drop_duplicates(inplace=True)\n",
    "aux_df = aux_df.reset_index()\n",
    "aux_df = aux_df[['Stazione']]\n",
    "\n",
    "N_stazioni = aux_df.size\n",
    "\n",
    "matrix_with_stations_as_cols = np.empty((365,N_stazioni))\n",
    "matrix_with_stations_as_cols[:] = np.nan\n",
    "print(matrix_with_stations_as_cols.shape)"
   ]
  },
  {
   "cell_type": "code",
   "execution_count": 13,
   "id": "49c61e8d-c151-482c-bbe0-b507f0be1cf1",
   "metadata": {},
   "outputs": [
    {
     "data": {
      "text/html": [
       "<div>\n",
       "<style scoped>\n",
       "    .dataframe tbody tr th:only-of-type {\n",
       "        vertical-align: middle;\n",
       "    }\n",
       "\n",
       "    .dataframe tbody tr th {\n",
       "        vertical-align: top;\n",
       "    }\n",
       "\n",
       "    .dataframe thead th {\n",
       "        text-align: right;\n",
       "    }\n",
       "</style>\n",
       "<table border=\"1\" class=\"dataframe\">\n",
       "  <thead>\n",
       "    <tr style=\"text-align: right;\">\n",
       "      <th></th>\n",
       "      <th>Stazione</th>\n",
       "    </tr>\n",
       "  </thead>\n",
       "  <tbody>\n",
       "    <tr>\n",
       "      <th>0</th>\n",
       "      <td>CASTELLUCCIO</td>\n",
       "    </tr>\n",
       "    <tr>\n",
       "      <th>1</th>\n",
       "      <td>FEBBIO</td>\n",
       "    </tr>\n",
       "    <tr>\n",
       "      <th>2</th>\n",
       "      <td>CORTE BRUGNATELLA</td>\n",
       "    </tr>\n",
       "    <tr>\n",
       "      <th>3</th>\n",
       "      <td>SAVIGNANO DI RIGO</td>\n",
       "    </tr>\n",
       "    <tr>\n",
       "      <th>4</th>\n",
       "      <td>SAN LEO</td>\n",
       "    </tr>\n",
       "  </tbody>\n",
       "</table>\n",
       "</div>"
      ],
      "text/plain": [
       "            Stazione\n",
       "0       CASTELLUCCIO\n",
       "1             FEBBIO\n",
       "2  CORTE BRUGNATELLA\n",
       "3  SAVIGNANO DI RIGO\n",
       "4            SAN LEO"
      ]
     },
     "execution_count": 13,
     "metadata": {},
     "output_type": "execute_result"
    }
   ],
   "source": [
    "aux_df.head()"
   ]
  },
  {
   "cell_type": "code",
   "execution_count": 14,
   "id": "8b63d94f-77fd-44ea-9a9c-bf4ddb672252",
   "metadata": {},
   "outputs": [],
   "source": [
    "primo_giorno = datetime.date(2018,1,1)\n",
    "\n",
    "for stazione_idx in range(N_stazioni):\n",
    "    #print(stazione[0])\n",
    "    stazione = aux_df.values.tolist()[stazione_idx]\n",
    "    staz_internal = stazione[0]\n",
    "    df_solo_stazione = final_df[final_df['Stazione'] == staz_internal]\n",
    "    \n",
    "    for val in df_solo_stazione.values.tolist():\n",
    "        giorno = datetime.date.fromisoformat(val[7])   \n",
    "        giorno_idx = (giorno - primo_giorno).days        \n",
    "        matrix_with_stations_as_cols[giorno_idx,stazione_idx] = val[1]\n",
    "            "
   ]
  },
  {
   "cell_type": "code",
   "execution_count": 15,
   "id": "b5c09789-ab68-44e9-827b-50307d7fcc74",
   "metadata": {},
   "outputs": [
    {
     "data": {
      "text/plain": [
       "array([[ 4.,  6., 10., ..., nan, 47., 62.],\n",
       "       [ 3.,  3.,  4., ..., nan, 27., 40.],\n",
       "       [ 0.,  5.,  5., ..., nan, 37., 36.],\n",
       "       ...,\n",
       "       [ 8., 12.,  4., ..., 39., 59., 56.],\n",
       "       [ 7.,  6.,  5., ..., 32., 54., 57.],\n",
       "       [nan, nan, nan, ..., nan, nan, nan]])"
      ]
     },
     "execution_count": 15,
     "metadata": {},
     "output_type": "execute_result"
    }
   ],
   "source": [
    "matrix_with_stations_as_cols"
   ]
  },
  {
   "cell_type": "code",
   "execution_count": 16,
   "id": "459f1328-d9ee-49ef-9864-06aba0a1708b",
   "metadata": {},
   "outputs": [],
   "source": [
    "lista_stazioni = []\n",
    "for val in aux_df.values.tolist():\n",
    "    lista_stazioni.append(val[0])\n",
    "\n",
    "df_with_stations_as_cols = pd.DataFrame(matrix_with_stations_as_cols, columns = lista_stazioni, index = date_list)"
   ]
  },
  {
   "cell_type": "code",
   "execution_count": 17,
   "id": "77181c2a-5348-41d7-a517-5c1d08e92ae0",
   "metadata": {
    "tags": []
   },
   "outputs": [
    {
     "data": {
      "text/html": [
       "<div>\n",
       "<style scoped>\n",
       "    .dataframe tbody tr th:only-of-type {\n",
       "        vertical-align: middle;\n",
       "    }\n",
       "\n",
       "    .dataframe tbody tr th {\n",
       "        vertical-align: top;\n",
       "    }\n",
       "\n",
       "    .dataframe thead th {\n",
       "        text-align: right;\n",
       "    }\n",
       "</style>\n",
       "<table border=\"1\" class=\"dataframe\">\n",
       "  <thead>\n",
       "    <tr style=\"text-align: right;\">\n",
       "      <th></th>\n",
       "      <th>CASTELLUCCIO</th>\n",
       "      <th>FEBBIO</th>\n",
       "      <th>CORTE BRUGNATELLA</th>\n",
       "      <th>SAVIGNANO DI RIGO</th>\n",
       "      <th>SAN LEO</th>\n",
       "      <th>VERUCCHIO</th>\n",
       "      <th>BADIA</th>\n",
       "      <th>GIARDINI MARGHERITA</th>\n",
       "      <th>PARCO RESISTENZA</th>\n",
       "      <th>PARCO BERTOZZI</th>\n",
       "      <th>...</th>\n",
       "      <th>S. LAZZARO</th>\n",
       "      <th>S. ROCCO</th>\n",
       "      <th>MALCANTONE</th>\n",
       "      <th>FLAMINIA</th>\n",
       "      <th>GIARDINI</th>\n",
       "      <th>MONTEBELLO</th>\n",
       "      <th>CITTADELLA</th>\n",
       "      <th>SAN FRANCESCO</th>\n",
       "      <th>GERBIDO</th>\n",
       "      <th>TIMAVO</th>\n",
       "    </tr>\n",
       "  </thead>\n",
       "  <tbody>\n",
       "    <tr>\n",
       "      <th>2018-01-01</th>\n",
       "      <td>4.0</td>\n",
       "      <td>6.0</td>\n",
       "      <td>10.0</td>\n",
       "      <td>12.0</td>\n",
       "      <td>13.0</td>\n",
       "      <td>25.0</td>\n",
       "      <td>39.0</td>\n",
       "      <td>43.0</td>\n",
       "      <td>51.0</td>\n",
       "      <td>44.0</td>\n",
       "      <td>...</td>\n",
       "      <td>48.0</td>\n",
       "      <td>45.0</td>\n",
       "      <td>44.0</td>\n",
       "      <td>45.0</td>\n",
       "      <td>61.0</td>\n",
       "      <td>51.0</td>\n",
       "      <td>53.0</td>\n",
       "      <td>NaN</td>\n",
       "      <td>47.0</td>\n",
       "      <td>62.0</td>\n",
       "    </tr>\n",
       "    <tr>\n",
       "      <th>2018-01-02</th>\n",
       "      <td>3.0</td>\n",
       "      <td>3.0</td>\n",
       "      <td>4.0</td>\n",
       "      <td>3.0</td>\n",
       "      <td>7.0</td>\n",
       "      <td>12.0</td>\n",
       "      <td>13.0</td>\n",
       "      <td>18.0</td>\n",
       "      <td>28.0</td>\n",
       "      <td>22.0</td>\n",
       "      <td>...</td>\n",
       "      <td>22.0</td>\n",
       "      <td>25.0</td>\n",
       "      <td>26.0</td>\n",
       "      <td>36.0</td>\n",
       "      <td>26.0</td>\n",
       "      <td>35.0</td>\n",
       "      <td>25.0</td>\n",
       "      <td>NaN</td>\n",
       "      <td>27.0</td>\n",
       "      <td>40.0</td>\n",
       "    </tr>\n",
       "    <tr>\n",
       "      <th>2018-01-03</th>\n",
       "      <td>0.0</td>\n",
       "      <td>5.0</td>\n",
       "      <td>5.0</td>\n",
       "      <td>2.0</td>\n",
       "      <td>0.0</td>\n",
       "      <td>6.0</td>\n",
       "      <td>12.0</td>\n",
       "      <td>16.0</td>\n",
       "      <td>17.0</td>\n",
       "      <td>19.0</td>\n",
       "      <td>...</td>\n",
       "      <td>26.0</td>\n",
       "      <td>28.0</td>\n",
       "      <td>25.0</td>\n",
       "      <td>27.0</td>\n",
       "      <td>30.0</td>\n",
       "      <td>25.0</td>\n",
       "      <td>22.0</td>\n",
       "      <td>NaN</td>\n",
       "      <td>37.0</td>\n",
       "      <td>36.0</td>\n",
       "    </tr>\n",
       "    <tr>\n",
       "      <th>2018-01-04</th>\n",
       "      <td>0.0</td>\n",
       "      <td>2.0</td>\n",
       "      <td>3.0</td>\n",
       "      <td>5.0</td>\n",
       "      <td>5.0</td>\n",
       "      <td>21.0</td>\n",
       "      <td>15.0</td>\n",
       "      <td>23.0</td>\n",
       "      <td>39.0</td>\n",
       "      <td>37.0</td>\n",
       "      <td>...</td>\n",
       "      <td>34.0</td>\n",
       "      <td>35.0</td>\n",
       "      <td>30.0</td>\n",
       "      <td>NaN</td>\n",
       "      <td>42.0</td>\n",
       "      <td>37.0</td>\n",
       "      <td>29.0</td>\n",
       "      <td>36.0</td>\n",
       "      <td>38.0</td>\n",
       "      <td>37.0</td>\n",
       "    </tr>\n",
       "    <tr>\n",
       "      <th>2018-01-05</th>\n",
       "      <td>4.0</td>\n",
       "      <td>5.0</td>\n",
       "      <td>13.0</td>\n",
       "      <td>7.0</td>\n",
       "      <td>13.0</td>\n",
       "      <td>45.0</td>\n",
       "      <td>34.0</td>\n",
       "      <td>43.0</td>\n",
       "      <td>58.0</td>\n",
       "      <td>51.0</td>\n",
       "      <td>...</td>\n",
       "      <td>52.0</td>\n",
       "      <td>40.0</td>\n",
       "      <td>39.0</td>\n",
       "      <td>71.0</td>\n",
       "      <td>62.0</td>\n",
       "      <td>52.0</td>\n",
       "      <td>48.0</td>\n",
       "      <td>57.0</td>\n",
       "      <td>50.0</td>\n",
       "      <td>53.0</td>\n",
       "    </tr>\n",
       "    <tr>\n",
       "      <th>...</th>\n",
       "      <td>...</td>\n",
       "      <td>...</td>\n",
       "      <td>...</td>\n",
       "      <td>...</td>\n",
       "      <td>...</td>\n",
       "      <td>...</td>\n",
       "      <td>...</td>\n",
       "      <td>...</td>\n",
       "      <td>...</td>\n",
       "      <td>...</td>\n",
       "      <td>...</td>\n",
       "      <td>...</td>\n",
       "      <td>...</td>\n",
       "      <td>...</td>\n",
       "      <td>...</td>\n",
       "      <td>...</td>\n",
       "      <td>...</td>\n",
       "      <td>...</td>\n",
       "      <td>...</td>\n",
       "      <td>...</td>\n",
       "      <td>...</td>\n",
       "    </tr>\n",
       "    <tr>\n",
       "      <th>2018-12-27</th>\n",
       "      <td>8.0</td>\n",
       "      <td>6.0</td>\n",
       "      <td>8.0</td>\n",
       "      <td>8.0</td>\n",
       "      <td>NaN</td>\n",
       "      <td>NaN</td>\n",
       "      <td>19.0</td>\n",
       "      <td>NaN</td>\n",
       "      <td>23.0</td>\n",
       "      <td>21.0</td>\n",
       "      <td>...</td>\n",
       "      <td>24.0</td>\n",
       "      <td>30.0</td>\n",
       "      <td>27.0</td>\n",
       "      <td>30.0</td>\n",
       "      <td>28.0</td>\n",
       "      <td>38.0</td>\n",
       "      <td>34.0</td>\n",
       "      <td>44.0</td>\n",
       "      <td>41.0</td>\n",
       "      <td>34.0</td>\n",
       "    </tr>\n",
       "    <tr>\n",
       "      <th>2018-12-28</th>\n",
       "      <td>5.0</td>\n",
       "      <td>6.0</td>\n",
       "      <td>6.0</td>\n",
       "      <td>7.0</td>\n",
       "      <td>NaN</td>\n",
       "      <td>NaN</td>\n",
       "      <td>16.0</td>\n",
       "      <td>NaN</td>\n",
       "      <td>39.0</td>\n",
       "      <td>36.0</td>\n",
       "      <td>...</td>\n",
       "      <td>44.0</td>\n",
       "      <td>48.0</td>\n",
       "      <td>43.0</td>\n",
       "      <td>52.0</td>\n",
       "      <td>59.0</td>\n",
       "      <td>50.0</td>\n",
       "      <td>45.0</td>\n",
       "      <td>33.0</td>\n",
       "      <td>57.0</td>\n",
       "      <td>57.0</td>\n",
       "    </tr>\n",
       "    <tr>\n",
       "      <th>2018-12-29</th>\n",
       "      <td>8.0</td>\n",
       "      <td>12.0</td>\n",
       "      <td>4.0</td>\n",
       "      <td>10.0</td>\n",
       "      <td>12.0</td>\n",
       "      <td>24.0</td>\n",
       "      <td>14.0</td>\n",
       "      <td>NaN</td>\n",
       "      <td>43.0</td>\n",
       "      <td>42.0</td>\n",
       "      <td>...</td>\n",
       "      <td>48.0</td>\n",
       "      <td>54.0</td>\n",
       "      <td>49.0</td>\n",
       "      <td>51.0</td>\n",
       "      <td>57.0</td>\n",
       "      <td>48.0</td>\n",
       "      <td>48.0</td>\n",
       "      <td>39.0</td>\n",
       "      <td>59.0</td>\n",
       "      <td>56.0</td>\n",
       "    </tr>\n",
       "    <tr>\n",
       "      <th>2018-12-30</th>\n",
       "      <td>7.0</td>\n",
       "      <td>6.0</td>\n",
       "      <td>5.0</td>\n",
       "      <td>11.0</td>\n",
       "      <td>16.0</td>\n",
       "      <td>33.0</td>\n",
       "      <td>19.0</td>\n",
       "      <td>NaN</td>\n",
       "      <td>52.0</td>\n",
       "      <td>48.0</td>\n",
       "      <td>...</td>\n",
       "      <td>49.0</td>\n",
       "      <td>66.0</td>\n",
       "      <td>58.0</td>\n",
       "      <td>60.0</td>\n",
       "      <td>64.0</td>\n",
       "      <td>51.0</td>\n",
       "      <td>51.0</td>\n",
       "      <td>32.0</td>\n",
       "      <td>54.0</td>\n",
       "      <td>57.0</td>\n",
       "    </tr>\n",
       "    <tr>\n",
       "      <th>2018-12-31</th>\n",
       "      <td>NaN</td>\n",
       "      <td>NaN</td>\n",
       "      <td>NaN</td>\n",
       "      <td>NaN</td>\n",
       "      <td>NaN</td>\n",
       "      <td>NaN</td>\n",
       "      <td>NaN</td>\n",
       "      <td>NaN</td>\n",
       "      <td>NaN</td>\n",
       "      <td>NaN</td>\n",
       "      <td>...</td>\n",
       "      <td>NaN</td>\n",
       "      <td>NaN</td>\n",
       "      <td>NaN</td>\n",
       "      <td>NaN</td>\n",
       "      <td>NaN</td>\n",
       "      <td>NaN</td>\n",
       "      <td>NaN</td>\n",
       "      <td>NaN</td>\n",
       "      <td>NaN</td>\n",
       "      <td>NaN</td>\n",
       "    </tr>\n",
       "  </tbody>\n",
       "</table>\n",
       "<p>365 rows × 49 columns</p>\n",
       "</div>"
      ],
      "text/plain": [
       "            CASTELLUCCIO  FEBBIO  CORTE BRUGNATELLA  SAVIGNANO DI RIGO  \\\n",
       "2018-01-01           4.0     6.0               10.0               12.0   \n",
       "2018-01-02           3.0     3.0                4.0                3.0   \n",
       "2018-01-03           0.0     5.0                5.0                2.0   \n",
       "2018-01-04           0.0     2.0                3.0                5.0   \n",
       "2018-01-05           4.0     5.0               13.0                7.0   \n",
       "...                  ...     ...                ...                ...   \n",
       "2018-12-27           8.0     6.0                8.0                8.0   \n",
       "2018-12-28           5.0     6.0                6.0                7.0   \n",
       "2018-12-29           8.0    12.0                4.0               10.0   \n",
       "2018-12-30           7.0     6.0                5.0               11.0   \n",
       "2018-12-31           NaN     NaN                NaN                NaN   \n",
       "\n",
       "            SAN LEO  VERUCCHIO  BADIA  GIARDINI MARGHERITA  PARCO RESISTENZA  \\\n",
       "2018-01-01     13.0       25.0   39.0                 43.0              51.0   \n",
       "2018-01-02      7.0       12.0   13.0                 18.0              28.0   \n",
       "2018-01-03      0.0        6.0   12.0                 16.0              17.0   \n",
       "2018-01-04      5.0       21.0   15.0                 23.0              39.0   \n",
       "2018-01-05     13.0       45.0   34.0                 43.0              58.0   \n",
       "...             ...        ...    ...                  ...               ...   \n",
       "2018-12-27      NaN        NaN   19.0                  NaN              23.0   \n",
       "2018-12-28      NaN        NaN   16.0                  NaN              39.0   \n",
       "2018-12-29     12.0       24.0   14.0                  NaN              43.0   \n",
       "2018-12-30     16.0       33.0   19.0                  NaN              52.0   \n",
       "2018-12-31      NaN        NaN    NaN                  NaN               NaN   \n",
       "\n",
       "            PARCO BERTOZZI  ...  S. LAZZARO  S. ROCCO  MALCANTONE  FLAMINIA  \\\n",
       "2018-01-01            44.0  ...        48.0      45.0        44.0      45.0   \n",
       "2018-01-02            22.0  ...        22.0      25.0        26.0      36.0   \n",
       "2018-01-03            19.0  ...        26.0      28.0        25.0      27.0   \n",
       "2018-01-04            37.0  ...        34.0      35.0        30.0       NaN   \n",
       "2018-01-05            51.0  ...        52.0      40.0        39.0      71.0   \n",
       "...                    ...  ...         ...       ...         ...       ...   \n",
       "2018-12-27            21.0  ...        24.0      30.0        27.0      30.0   \n",
       "2018-12-28            36.0  ...        44.0      48.0        43.0      52.0   \n",
       "2018-12-29            42.0  ...        48.0      54.0        49.0      51.0   \n",
       "2018-12-30            48.0  ...        49.0      66.0        58.0      60.0   \n",
       "2018-12-31             NaN  ...         NaN       NaN         NaN       NaN   \n",
       "\n",
       "            GIARDINI  MONTEBELLO  CITTADELLA  SAN FRANCESCO  GERBIDO  TIMAVO  \n",
       "2018-01-01      61.0        51.0        53.0            NaN     47.0    62.0  \n",
       "2018-01-02      26.0        35.0        25.0            NaN     27.0    40.0  \n",
       "2018-01-03      30.0        25.0        22.0            NaN     37.0    36.0  \n",
       "2018-01-04      42.0        37.0        29.0           36.0     38.0    37.0  \n",
       "2018-01-05      62.0        52.0        48.0           57.0     50.0    53.0  \n",
       "...              ...         ...         ...            ...      ...     ...  \n",
       "2018-12-27      28.0        38.0        34.0           44.0     41.0    34.0  \n",
       "2018-12-28      59.0        50.0        45.0           33.0     57.0    57.0  \n",
       "2018-12-29      57.0        48.0        48.0           39.0     59.0    56.0  \n",
       "2018-12-30      64.0        51.0        51.0           32.0     54.0    57.0  \n",
       "2018-12-31       NaN         NaN         NaN            NaN      NaN     NaN  \n",
       "\n",
       "[365 rows x 49 columns]"
      ]
     },
     "execution_count": 17,
     "metadata": {},
     "output_type": "execute_result"
    }
   ],
   "source": [
    "df_with_stations_as_cols"
   ]
  },
  {
   "cell_type": "code",
   "execution_count": 18,
   "id": "49c05cc3-b298-4e9a-a570-a17978efa031",
   "metadata": {},
   "outputs": [],
   "source": [
    "df = df_with_stations_as_cols.copy()"
   ]
  },
  {
   "cell_type": "code",
   "execution_count": 19,
   "id": "109d6de3-bac7-4bb7-a56b-516ab6c9e9e0",
   "metadata": {},
   "outputs": [],
   "source": [
    "df['day'] = np.arange(0,365,1)"
   ]
  },
  {
   "cell_type": "code",
   "execution_count": 20,
   "id": "4803b726-8955-4c6f-a33e-c3d70cc27f42",
   "metadata": {},
   "outputs": [],
   "source": [
    "df = df.set_index('day')"
   ]
  },
  {
   "cell_type": "code",
   "execution_count": 21,
   "id": "20ffc6d7-8248-4952-a535-1cd4cccf2ac9",
   "metadata": {},
   "outputs": [
    {
     "data": {
      "text/html": [
       "<div>\n",
       "<style scoped>\n",
       "    .dataframe tbody tr th:only-of-type {\n",
       "        vertical-align: middle;\n",
       "    }\n",
       "\n",
       "    .dataframe tbody tr th {\n",
       "        vertical-align: top;\n",
       "    }\n",
       "\n",
       "    .dataframe thead th {\n",
       "        text-align: right;\n",
       "    }\n",
       "</style>\n",
       "<table border=\"1\" class=\"dataframe\">\n",
       "  <thead>\n",
       "    <tr style=\"text-align: right;\">\n",
       "      <th></th>\n",
       "      <th>CASTELLUCCIO</th>\n",
       "      <th>FEBBIO</th>\n",
       "      <th>CORTE BRUGNATELLA</th>\n",
       "      <th>SAVIGNANO DI RIGO</th>\n",
       "      <th>SAN LEO</th>\n",
       "      <th>VERUCCHIO</th>\n",
       "      <th>BADIA</th>\n",
       "      <th>GIARDINI MARGHERITA</th>\n",
       "      <th>PARCO RESISTENZA</th>\n",
       "      <th>PARCO BERTOZZI</th>\n",
       "      <th>...</th>\n",
       "      <th>S. LAZZARO</th>\n",
       "      <th>S. ROCCO</th>\n",
       "      <th>MALCANTONE</th>\n",
       "      <th>FLAMINIA</th>\n",
       "      <th>GIARDINI</th>\n",
       "      <th>MONTEBELLO</th>\n",
       "      <th>CITTADELLA</th>\n",
       "      <th>SAN FRANCESCO</th>\n",
       "      <th>GERBIDO</th>\n",
       "      <th>TIMAVO</th>\n",
       "    </tr>\n",
       "    <tr>\n",
       "      <th>day</th>\n",
       "      <th></th>\n",
       "      <th></th>\n",
       "      <th></th>\n",
       "      <th></th>\n",
       "      <th></th>\n",
       "      <th></th>\n",
       "      <th></th>\n",
       "      <th></th>\n",
       "      <th></th>\n",
       "      <th></th>\n",
       "      <th></th>\n",
       "      <th></th>\n",
       "      <th></th>\n",
       "      <th></th>\n",
       "      <th></th>\n",
       "      <th></th>\n",
       "      <th></th>\n",
       "      <th></th>\n",
       "      <th></th>\n",
       "      <th></th>\n",
       "      <th></th>\n",
       "    </tr>\n",
       "  </thead>\n",
       "  <tbody>\n",
       "    <tr>\n",
       "      <th>0</th>\n",
       "      <td>4.0</td>\n",
       "      <td>6.0</td>\n",
       "      <td>10.0</td>\n",
       "      <td>12.0</td>\n",
       "      <td>13.0</td>\n",
       "      <td>25.0</td>\n",
       "      <td>39.0</td>\n",
       "      <td>43.0</td>\n",
       "      <td>51.0</td>\n",
       "      <td>44.0</td>\n",
       "      <td>...</td>\n",
       "      <td>48.0</td>\n",
       "      <td>45.0</td>\n",
       "      <td>44.0</td>\n",
       "      <td>45.0</td>\n",
       "      <td>61.0</td>\n",
       "      <td>51.0</td>\n",
       "      <td>53.0</td>\n",
       "      <td>NaN</td>\n",
       "      <td>47.0</td>\n",
       "      <td>62.0</td>\n",
       "    </tr>\n",
       "    <tr>\n",
       "      <th>1</th>\n",
       "      <td>3.0</td>\n",
       "      <td>3.0</td>\n",
       "      <td>4.0</td>\n",
       "      <td>3.0</td>\n",
       "      <td>7.0</td>\n",
       "      <td>12.0</td>\n",
       "      <td>13.0</td>\n",
       "      <td>18.0</td>\n",
       "      <td>28.0</td>\n",
       "      <td>22.0</td>\n",
       "      <td>...</td>\n",
       "      <td>22.0</td>\n",
       "      <td>25.0</td>\n",
       "      <td>26.0</td>\n",
       "      <td>36.0</td>\n",
       "      <td>26.0</td>\n",
       "      <td>35.0</td>\n",
       "      <td>25.0</td>\n",
       "      <td>NaN</td>\n",
       "      <td>27.0</td>\n",
       "      <td>40.0</td>\n",
       "    </tr>\n",
       "    <tr>\n",
       "      <th>2</th>\n",
       "      <td>0.0</td>\n",
       "      <td>5.0</td>\n",
       "      <td>5.0</td>\n",
       "      <td>2.0</td>\n",
       "      <td>0.0</td>\n",
       "      <td>6.0</td>\n",
       "      <td>12.0</td>\n",
       "      <td>16.0</td>\n",
       "      <td>17.0</td>\n",
       "      <td>19.0</td>\n",
       "      <td>...</td>\n",
       "      <td>26.0</td>\n",
       "      <td>28.0</td>\n",
       "      <td>25.0</td>\n",
       "      <td>27.0</td>\n",
       "      <td>30.0</td>\n",
       "      <td>25.0</td>\n",
       "      <td>22.0</td>\n",
       "      <td>NaN</td>\n",
       "      <td>37.0</td>\n",
       "      <td>36.0</td>\n",
       "    </tr>\n",
       "    <tr>\n",
       "      <th>3</th>\n",
       "      <td>0.0</td>\n",
       "      <td>2.0</td>\n",
       "      <td>3.0</td>\n",
       "      <td>5.0</td>\n",
       "      <td>5.0</td>\n",
       "      <td>21.0</td>\n",
       "      <td>15.0</td>\n",
       "      <td>23.0</td>\n",
       "      <td>39.0</td>\n",
       "      <td>37.0</td>\n",
       "      <td>...</td>\n",
       "      <td>34.0</td>\n",
       "      <td>35.0</td>\n",
       "      <td>30.0</td>\n",
       "      <td>NaN</td>\n",
       "      <td>42.0</td>\n",
       "      <td>37.0</td>\n",
       "      <td>29.0</td>\n",
       "      <td>36.0</td>\n",
       "      <td>38.0</td>\n",
       "      <td>37.0</td>\n",
       "    </tr>\n",
       "    <tr>\n",
       "      <th>4</th>\n",
       "      <td>4.0</td>\n",
       "      <td>5.0</td>\n",
       "      <td>13.0</td>\n",
       "      <td>7.0</td>\n",
       "      <td>13.0</td>\n",
       "      <td>45.0</td>\n",
       "      <td>34.0</td>\n",
       "      <td>43.0</td>\n",
       "      <td>58.0</td>\n",
       "      <td>51.0</td>\n",
       "      <td>...</td>\n",
       "      <td>52.0</td>\n",
       "      <td>40.0</td>\n",
       "      <td>39.0</td>\n",
       "      <td>71.0</td>\n",
       "      <td>62.0</td>\n",
       "      <td>52.0</td>\n",
       "      <td>48.0</td>\n",
       "      <td>57.0</td>\n",
       "      <td>50.0</td>\n",
       "      <td>53.0</td>\n",
       "    </tr>\n",
       "    <tr>\n",
       "      <th>...</th>\n",
       "      <td>...</td>\n",
       "      <td>...</td>\n",
       "      <td>...</td>\n",
       "      <td>...</td>\n",
       "      <td>...</td>\n",
       "      <td>...</td>\n",
       "      <td>...</td>\n",
       "      <td>...</td>\n",
       "      <td>...</td>\n",
       "      <td>...</td>\n",
       "      <td>...</td>\n",
       "      <td>...</td>\n",
       "      <td>...</td>\n",
       "      <td>...</td>\n",
       "      <td>...</td>\n",
       "      <td>...</td>\n",
       "      <td>...</td>\n",
       "      <td>...</td>\n",
       "      <td>...</td>\n",
       "      <td>...</td>\n",
       "      <td>...</td>\n",
       "    </tr>\n",
       "    <tr>\n",
       "      <th>360</th>\n",
       "      <td>8.0</td>\n",
       "      <td>6.0</td>\n",
       "      <td>8.0</td>\n",
       "      <td>8.0</td>\n",
       "      <td>NaN</td>\n",
       "      <td>NaN</td>\n",
       "      <td>19.0</td>\n",
       "      <td>NaN</td>\n",
       "      <td>23.0</td>\n",
       "      <td>21.0</td>\n",
       "      <td>...</td>\n",
       "      <td>24.0</td>\n",
       "      <td>30.0</td>\n",
       "      <td>27.0</td>\n",
       "      <td>30.0</td>\n",
       "      <td>28.0</td>\n",
       "      <td>38.0</td>\n",
       "      <td>34.0</td>\n",
       "      <td>44.0</td>\n",
       "      <td>41.0</td>\n",
       "      <td>34.0</td>\n",
       "    </tr>\n",
       "    <tr>\n",
       "      <th>361</th>\n",
       "      <td>5.0</td>\n",
       "      <td>6.0</td>\n",
       "      <td>6.0</td>\n",
       "      <td>7.0</td>\n",
       "      <td>NaN</td>\n",
       "      <td>NaN</td>\n",
       "      <td>16.0</td>\n",
       "      <td>NaN</td>\n",
       "      <td>39.0</td>\n",
       "      <td>36.0</td>\n",
       "      <td>...</td>\n",
       "      <td>44.0</td>\n",
       "      <td>48.0</td>\n",
       "      <td>43.0</td>\n",
       "      <td>52.0</td>\n",
       "      <td>59.0</td>\n",
       "      <td>50.0</td>\n",
       "      <td>45.0</td>\n",
       "      <td>33.0</td>\n",
       "      <td>57.0</td>\n",
       "      <td>57.0</td>\n",
       "    </tr>\n",
       "    <tr>\n",
       "      <th>362</th>\n",
       "      <td>8.0</td>\n",
       "      <td>12.0</td>\n",
       "      <td>4.0</td>\n",
       "      <td>10.0</td>\n",
       "      <td>12.0</td>\n",
       "      <td>24.0</td>\n",
       "      <td>14.0</td>\n",
       "      <td>NaN</td>\n",
       "      <td>43.0</td>\n",
       "      <td>42.0</td>\n",
       "      <td>...</td>\n",
       "      <td>48.0</td>\n",
       "      <td>54.0</td>\n",
       "      <td>49.0</td>\n",
       "      <td>51.0</td>\n",
       "      <td>57.0</td>\n",
       "      <td>48.0</td>\n",
       "      <td>48.0</td>\n",
       "      <td>39.0</td>\n",
       "      <td>59.0</td>\n",
       "      <td>56.0</td>\n",
       "    </tr>\n",
       "    <tr>\n",
       "      <th>363</th>\n",
       "      <td>7.0</td>\n",
       "      <td>6.0</td>\n",
       "      <td>5.0</td>\n",
       "      <td>11.0</td>\n",
       "      <td>16.0</td>\n",
       "      <td>33.0</td>\n",
       "      <td>19.0</td>\n",
       "      <td>NaN</td>\n",
       "      <td>52.0</td>\n",
       "      <td>48.0</td>\n",
       "      <td>...</td>\n",
       "      <td>49.0</td>\n",
       "      <td>66.0</td>\n",
       "      <td>58.0</td>\n",
       "      <td>60.0</td>\n",
       "      <td>64.0</td>\n",
       "      <td>51.0</td>\n",
       "      <td>51.0</td>\n",
       "      <td>32.0</td>\n",
       "      <td>54.0</td>\n",
       "      <td>57.0</td>\n",
       "    </tr>\n",
       "    <tr>\n",
       "      <th>364</th>\n",
       "      <td>NaN</td>\n",
       "      <td>NaN</td>\n",
       "      <td>NaN</td>\n",
       "      <td>NaN</td>\n",
       "      <td>NaN</td>\n",
       "      <td>NaN</td>\n",
       "      <td>NaN</td>\n",
       "      <td>NaN</td>\n",
       "      <td>NaN</td>\n",
       "      <td>NaN</td>\n",
       "      <td>...</td>\n",
       "      <td>NaN</td>\n",
       "      <td>NaN</td>\n",
       "      <td>NaN</td>\n",
       "      <td>NaN</td>\n",
       "      <td>NaN</td>\n",
       "      <td>NaN</td>\n",
       "      <td>NaN</td>\n",
       "      <td>NaN</td>\n",
       "      <td>NaN</td>\n",
       "      <td>NaN</td>\n",
       "    </tr>\n",
       "  </tbody>\n",
       "</table>\n",
       "<p>365 rows × 49 columns</p>\n",
       "</div>"
      ],
      "text/plain": [
       "     CASTELLUCCIO  FEBBIO  CORTE BRUGNATELLA  SAVIGNANO DI RIGO  SAN LEO  \\\n",
       "day                                                                        \n",
       "0             4.0     6.0               10.0               12.0     13.0   \n",
       "1             3.0     3.0                4.0                3.0      7.0   \n",
       "2             0.0     5.0                5.0                2.0      0.0   \n",
       "3             0.0     2.0                3.0                5.0      5.0   \n",
       "4             4.0     5.0               13.0                7.0     13.0   \n",
       "..            ...     ...                ...                ...      ...   \n",
       "360           8.0     6.0                8.0                8.0      NaN   \n",
       "361           5.0     6.0                6.0                7.0      NaN   \n",
       "362           8.0    12.0                4.0               10.0     12.0   \n",
       "363           7.0     6.0                5.0               11.0     16.0   \n",
       "364           NaN     NaN                NaN                NaN      NaN   \n",
       "\n",
       "     VERUCCHIO  BADIA  GIARDINI MARGHERITA  PARCO RESISTENZA  PARCO BERTOZZI  \\\n",
       "day                                                                            \n",
       "0         25.0   39.0                 43.0              51.0            44.0   \n",
       "1         12.0   13.0                 18.0              28.0            22.0   \n",
       "2          6.0   12.0                 16.0              17.0            19.0   \n",
       "3         21.0   15.0                 23.0              39.0            37.0   \n",
       "4         45.0   34.0                 43.0              58.0            51.0   \n",
       "..         ...    ...                  ...               ...             ...   \n",
       "360        NaN   19.0                  NaN              23.0            21.0   \n",
       "361        NaN   16.0                  NaN              39.0            36.0   \n",
       "362       24.0   14.0                  NaN              43.0            42.0   \n",
       "363       33.0   19.0                  NaN              52.0            48.0   \n",
       "364        NaN    NaN                  NaN               NaN             NaN   \n",
       "\n",
       "     ...  S. LAZZARO  S. ROCCO  MALCANTONE  FLAMINIA  GIARDINI  MONTEBELLO  \\\n",
       "day  ...                                                                     \n",
       "0    ...        48.0      45.0        44.0      45.0      61.0        51.0   \n",
       "1    ...        22.0      25.0        26.0      36.0      26.0        35.0   \n",
       "2    ...        26.0      28.0        25.0      27.0      30.0        25.0   \n",
       "3    ...        34.0      35.0        30.0       NaN      42.0        37.0   \n",
       "4    ...        52.0      40.0        39.0      71.0      62.0        52.0   \n",
       "..   ...         ...       ...         ...       ...       ...         ...   \n",
       "360  ...        24.0      30.0        27.0      30.0      28.0        38.0   \n",
       "361  ...        44.0      48.0        43.0      52.0      59.0        50.0   \n",
       "362  ...        48.0      54.0        49.0      51.0      57.0        48.0   \n",
       "363  ...        49.0      66.0        58.0      60.0      64.0        51.0   \n",
       "364  ...         NaN       NaN         NaN       NaN       NaN         NaN   \n",
       "\n",
       "     CITTADELLA  SAN FRANCESCO  GERBIDO  TIMAVO  \n",
       "day                                              \n",
       "0          53.0            NaN     47.0    62.0  \n",
       "1          25.0            NaN     27.0    40.0  \n",
       "2          22.0            NaN     37.0    36.0  \n",
       "3          29.0           36.0     38.0    37.0  \n",
       "4          48.0           57.0     50.0    53.0  \n",
       "..          ...            ...      ...     ...  \n",
       "360        34.0           44.0     41.0    34.0  \n",
       "361        45.0           33.0     57.0    57.0  \n",
       "362        48.0           39.0     59.0    56.0  \n",
       "363        51.0           32.0     54.0    57.0  \n",
       "364         NaN            NaN      NaN     NaN  \n",
       "\n",
       "[365 rows x 49 columns]"
      ]
     },
     "execution_count": 21,
     "metadata": {},
     "output_type": "execute_result"
    }
   ],
   "source": [
    "df"
   ]
  },
  {
   "cell_type": "code",
   "execution_count": 22,
   "id": "4ab61e1e-b128-4cbb-a0ee-a380fc4d2947",
   "metadata": {},
   "outputs": [],
   "source": [
    "df.replace(to_replace=0.0, value=np.NaN, inplace=True)\n",
    "df.fillna(np.NaN, inplace=True)\n",
    "df = df.apply(np.log10)"
   ]
  },
  {
   "cell_type": "code",
   "execution_count": 23,
   "id": "071415a0-b26a-4382-8ea1-2cfd5a946e51",
   "metadata": {},
   "outputs": [
    {
     "data": {
      "text/html": [
       "<div>\n",
       "<style scoped>\n",
       "    .dataframe tbody tr th:only-of-type {\n",
       "        vertical-align: middle;\n",
       "    }\n",
       "\n",
       "    .dataframe tbody tr th {\n",
       "        vertical-align: top;\n",
       "    }\n",
       "\n",
       "    .dataframe thead th {\n",
       "        text-align: right;\n",
       "    }\n",
       "</style>\n",
       "<table border=\"1\" class=\"dataframe\">\n",
       "  <thead>\n",
       "    <tr style=\"text-align: right;\">\n",
       "      <th></th>\n",
       "      <th>CASTELLUCCIO</th>\n",
       "      <th>FEBBIO</th>\n",
       "      <th>CORTE BRUGNATELLA</th>\n",
       "      <th>SAVIGNANO DI RIGO</th>\n",
       "      <th>SAN LEO</th>\n",
       "      <th>VERUCCHIO</th>\n",
       "      <th>BADIA</th>\n",
       "      <th>GIARDINI MARGHERITA</th>\n",
       "      <th>PARCO RESISTENZA</th>\n",
       "      <th>PARCO BERTOZZI</th>\n",
       "      <th>...</th>\n",
       "      <th>S. LAZZARO</th>\n",
       "      <th>S. ROCCO</th>\n",
       "      <th>MALCANTONE</th>\n",
       "      <th>FLAMINIA</th>\n",
       "      <th>GIARDINI</th>\n",
       "      <th>MONTEBELLO</th>\n",
       "      <th>CITTADELLA</th>\n",
       "      <th>SAN FRANCESCO</th>\n",
       "      <th>GERBIDO</th>\n",
       "      <th>TIMAVO</th>\n",
       "    </tr>\n",
       "    <tr>\n",
       "      <th>day</th>\n",
       "      <th></th>\n",
       "      <th></th>\n",
       "      <th></th>\n",
       "      <th></th>\n",
       "      <th></th>\n",
       "      <th></th>\n",
       "      <th></th>\n",
       "      <th></th>\n",
       "      <th></th>\n",
       "      <th></th>\n",
       "      <th></th>\n",
       "      <th></th>\n",
       "      <th></th>\n",
       "      <th></th>\n",
       "      <th></th>\n",
       "      <th></th>\n",
       "      <th></th>\n",
       "      <th></th>\n",
       "      <th></th>\n",
       "      <th></th>\n",
       "      <th></th>\n",
       "    </tr>\n",
       "  </thead>\n",
       "  <tbody>\n",
       "    <tr>\n",
       "      <th>0</th>\n",
       "      <td>0.602060</td>\n",
       "      <td>0.778151</td>\n",
       "      <td>1.000000</td>\n",
       "      <td>1.079181</td>\n",
       "      <td>1.113943</td>\n",
       "      <td>1.397940</td>\n",
       "      <td>1.591065</td>\n",
       "      <td>1.633468</td>\n",
       "      <td>1.707570</td>\n",
       "      <td>1.643453</td>\n",
       "      <td>...</td>\n",
       "      <td>1.681241</td>\n",
       "      <td>1.653213</td>\n",
       "      <td>1.643453</td>\n",
       "      <td>1.653213</td>\n",
       "      <td>1.785330</td>\n",
       "      <td>1.707570</td>\n",
       "      <td>1.724276</td>\n",
       "      <td>NaN</td>\n",
       "      <td>1.672098</td>\n",
       "      <td>1.792392</td>\n",
       "    </tr>\n",
       "    <tr>\n",
       "      <th>1</th>\n",
       "      <td>0.477121</td>\n",
       "      <td>0.477121</td>\n",
       "      <td>0.602060</td>\n",
       "      <td>0.477121</td>\n",
       "      <td>0.845098</td>\n",
       "      <td>1.079181</td>\n",
       "      <td>1.113943</td>\n",
       "      <td>1.255273</td>\n",
       "      <td>1.447158</td>\n",
       "      <td>1.342423</td>\n",
       "      <td>...</td>\n",
       "      <td>1.342423</td>\n",
       "      <td>1.397940</td>\n",
       "      <td>1.414973</td>\n",
       "      <td>1.556303</td>\n",
       "      <td>1.414973</td>\n",
       "      <td>1.544068</td>\n",
       "      <td>1.397940</td>\n",
       "      <td>NaN</td>\n",
       "      <td>1.431364</td>\n",
       "      <td>1.602060</td>\n",
       "    </tr>\n",
       "    <tr>\n",
       "      <th>2</th>\n",
       "      <td>NaN</td>\n",
       "      <td>0.698970</td>\n",
       "      <td>0.698970</td>\n",
       "      <td>0.301030</td>\n",
       "      <td>NaN</td>\n",
       "      <td>0.778151</td>\n",
       "      <td>1.079181</td>\n",
       "      <td>1.204120</td>\n",
       "      <td>1.230449</td>\n",
       "      <td>1.278754</td>\n",
       "      <td>...</td>\n",
       "      <td>1.414973</td>\n",
       "      <td>1.447158</td>\n",
       "      <td>1.397940</td>\n",
       "      <td>1.431364</td>\n",
       "      <td>1.477121</td>\n",
       "      <td>1.397940</td>\n",
       "      <td>1.342423</td>\n",
       "      <td>NaN</td>\n",
       "      <td>1.568202</td>\n",
       "      <td>1.556303</td>\n",
       "    </tr>\n",
       "    <tr>\n",
       "      <th>3</th>\n",
       "      <td>NaN</td>\n",
       "      <td>0.301030</td>\n",
       "      <td>0.477121</td>\n",
       "      <td>0.698970</td>\n",
       "      <td>0.698970</td>\n",
       "      <td>1.322219</td>\n",
       "      <td>1.176091</td>\n",
       "      <td>1.361728</td>\n",
       "      <td>1.591065</td>\n",
       "      <td>1.568202</td>\n",
       "      <td>...</td>\n",
       "      <td>1.531479</td>\n",
       "      <td>1.544068</td>\n",
       "      <td>1.477121</td>\n",
       "      <td>NaN</td>\n",
       "      <td>1.623249</td>\n",
       "      <td>1.568202</td>\n",
       "      <td>1.462398</td>\n",
       "      <td>1.556303</td>\n",
       "      <td>1.579784</td>\n",
       "      <td>1.568202</td>\n",
       "    </tr>\n",
       "    <tr>\n",
       "      <th>4</th>\n",
       "      <td>0.602060</td>\n",
       "      <td>0.698970</td>\n",
       "      <td>1.113943</td>\n",
       "      <td>0.845098</td>\n",
       "      <td>1.113943</td>\n",
       "      <td>1.653213</td>\n",
       "      <td>1.531479</td>\n",
       "      <td>1.633468</td>\n",
       "      <td>1.763428</td>\n",
       "      <td>1.707570</td>\n",
       "      <td>...</td>\n",
       "      <td>1.716003</td>\n",
       "      <td>1.602060</td>\n",
       "      <td>1.591065</td>\n",
       "      <td>1.851258</td>\n",
       "      <td>1.792392</td>\n",
       "      <td>1.716003</td>\n",
       "      <td>1.681241</td>\n",
       "      <td>1.755875</td>\n",
       "      <td>1.698970</td>\n",
       "      <td>1.724276</td>\n",
       "    </tr>\n",
       "    <tr>\n",
       "      <th>...</th>\n",
       "      <td>...</td>\n",
       "      <td>...</td>\n",
       "      <td>...</td>\n",
       "      <td>...</td>\n",
       "      <td>...</td>\n",
       "      <td>...</td>\n",
       "      <td>...</td>\n",
       "      <td>...</td>\n",
       "      <td>...</td>\n",
       "      <td>...</td>\n",
       "      <td>...</td>\n",
       "      <td>...</td>\n",
       "      <td>...</td>\n",
       "      <td>...</td>\n",
       "      <td>...</td>\n",
       "      <td>...</td>\n",
       "      <td>...</td>\n",
       "      <td>...</td>\n",
       "      <td>...</td>\n",
       "      <td>...</td>\n",
       "      <td>...</td>\n",
       "    </tr>\n",
       "    <tr>\n",
       "      <th>360</th>\n",
       "      <td>0.903090</td>\n",
       "      <td>0.778151</td>\n",
       "      <td>0.903090</td>\n",
       "      <td>0.903090</td>\n",
       "      <td>NaN</td>\n",
       "      <td>NaN</td>\n",
       "      <td>1.278754</td>\n",
       "      <td>NaN</td>\n",
       "      <td>1.361728</td>\n",
       "      <td>1.322219</td>\n",
       "      <td>...</td>\n",
       "      <td>1.380211</td>\n",
       "      <td>1.477121</td>\n",
       "      <td>1.431364</td>\n",
       "      <td>1.477121</td>\n",
       "      <td>1.447158</td>\n",
       "      <td>1.579784</td>\n",
       "      <td>1.531479</td>\n",
       "      <td>1.643453</td>\n",
       "      <td>1.612784</td>\n",
       "      <td>1.531479</td>\n",
       "    </tr>\n",
       "    <tr>\n",
       "      <th>361</th>\n",
       "      <td>0.698970</td>\n",
       "      <td>0.778151</td>\n",
       "      <td>0.778151</td>\n",
       "      <td>0.845098</td>\n",
       "      <td>NaN</td>\n",
       "      <td>NaN</td>\n",
       "      <td>1.204120</td>\n",
       "      <td>NaN</td>\n",
       "      <td>1.591065</td>\n",
       "      <td>1.556303</td>\n",
       "      <td>...</td>\n",
       "      <td>1.643453</td>\n",
       "      <td>1.681241</td>\n",
       "      <td>1.633468</td>\n",
       "      <td>1.716003</td>\n",
       "      <td>1.770852</td>\n",
       "      <td>1.698970</td>\n",
       "      <td>1.653213</td>\n",
       "      <td>1.518514</td>\n",
       "      <td>1.755875</td>\n",
       "      <td>1.755875</td>\n",
       "    </tr>\n",
       "    <tr>\n",
       "      <th>362</th>\n",
       "      <td>0.903090</td>\n",
       "      <td>1.079181</td>\n",
       "      <td>0.602060</td>\n",
       "      <td>1.000000</td>\n",
       "      <td>1.079181</td>\n",
       "      <td>1.380211</td>\n",
       "      <td>1.146128</td>\n",
       "      <td>NaN</td>\n",
       "      <td>1.633468</td>\n",
       "      <td>1.623249</td>\n",
       "      <td>...</td>\n",
       "      <td>1.681241</td>\n",
       "      <td>1.732394</td>\n",
       "      <td>1.690196</td>\n",
       "      <td>1.707570</td>\n",
       "      <td>1.755875</td>\n",
       "      <td>1.681241</td>\n",
       "      <td>1.681241</td>\n",
       "      <td>1.591065</td>\n",
       "      <td>1.770852</td>\n",
       "      <td>1.748188</td>\n",
       "    </tr>\n",
       "    <tr>\n",
       "      <th>363</th>\n",
       "      <td>0.845098</td>\n",
       "      <td>0.778151</td>\n",
       "      <td>0.698970</td>\n",
       "      <td>1.041393</td>\n",
       "      <td>1.204120</td>\n",
       "      <td>1.518514</td>\n",
       "      <td>1.278754</td>\n",
       "      <td>NaN</td>\n",
       "      <td>1.716003</td>\n",
       "      <td>1.681241</td>\n",
       "      <td>...</td>\n",
       "      <td>1.690196</td>\n",
       "      <td>1.819544</td>\n",
       "      <td>1.763428</td>\n",
       "      <td>1.778151</td>\n",
       "      <td>1.806180</td>\n",
       "      <td>1.707570</td>\n",
       "      <td>1.707570</td>\n",
       "      <td>1.505150</td>\n",
       "      <td>1.732394</td>\n",
       "      <td>1.755875</td>\n",
       "    </tr>\n",
       "    <tr>\n",
       "      <th>364</th>\n",
       "      <td>NaN</td>\n",
       "      <td>NaN</td>\n",
       "      <td>NaN</td>\n",
       "      <td>NaN</td>\n",
       "      <td>NaN</td>\n",
       "      <td>NaN</td>\n",
       "      <td>NaN</td>\n",
       "      <td>NaN</td>\n",
       "      <td>NaN</td>\n",
       "      <td>NaN</td>\n",
       "      <td>...</td>\n",
       "      <td>NaN</td>\n",
       "      <td>NaN</td>\n",
       "      <td>NaN</td>\n",
       "      <td>NaN</td>\n",
       "      <td>NaN</td>\n",
       "      <td>NaN</td>\n",
       "      <td>NaN</td>\n",
       "      <td>NaN</td>\n",
       "      <td>NaN</td>\n",
       "      <td>NaN</td>\n",
       "    </tr>\n",
       "  </tbody>\n",
       "</table>\n",
       "<p>365 rows × 49 columns</p>\n",
       "</div>"
      ],
      "text/plain": [
       "     CASTELLUCCIO    FEBBIO  CORTE BRUGNATELLA  SAVIGNANO DI RIGO   SAN LEO  \\\n",
       "day                                                                           \n",
       "0        0.602060  0.778151           1.000000           1.079181  1.113943   \n",
       "1        0.477121  0.477121           0.602060           0.477121  0.845098   \n",
       "2             NaN  0.698970           0.698970           0.301030       NaN   \n",
       "3             NaN  0.301030           0.477121           0.698970  0.698970   \n",
       "4        0.602060  0.698970           1.113943           0.845098  1.113943   \n",
       "..            ...       ...                ...                ...       ...   \n",
       "360      0.903090  0.778151           0.903090           0.903090       NaN   \n",
       "361      0.698970  0.778151           0.778151           0.845098       NaN   \n",
       "362      0.903090  1.079181           0.602060           1.000000  1.079181   \n",
       "363      0.845098  0.778151           0.698970           1.041393  1.204120   \n",
       "364           NaN       NaN                NaN                NaN       NaN   \n",
       "\n",
       "     VERUCCHIO     BADIA  GIARDINI MARGHERITA  PARCO RESISTENZA  \\\n",
       "day                                                               \n",
       "0     1.397940  1.591065             1.633468          1.707570   \n",
       "1     1.079181  1.113943             1.255273          1.447158   \n",
       "2     0.778151  1.079181             1.204120          1.230449   \n",
       "3     1.322219  1.176091             1.361728          1.591065   \n",
       "4     1.653213  1.531479             1.633468          1.763428   \n",
       "..         ...       ...                  ...               ...   \n",
       "360        NaN  1.278754                  NaN          1.361728   \n",
       "361        NaN  1.204120                  NaN          1.591065   \n",
       "362   1.380211  1.146128                  NaN          1.633468   \n",
       "363   1.518514  1.278754                  NaN          1.716003   \n",
       "364        NaN       NaN                  NaN               NaN   \n",
       "\n",
       "     PARCO BERTOZZI  ...  S. LAZZARO  S. ROCCO  MALCANTONE  FLAMINIA  \\\n",
       "day                  ...                                               \n",
       "0          1.643453  ...    1.681241  1.653213    1.643453  1.653213   \n",
       "1          1.342423  ...    1.342423  1.397940    1.414973  1.556303   \n",
       "2          1.278754  ...    1.414973  1.447158    1.397940  1.431364   \n",
       "3          1.568202  ...    1.531479  1.544068    1.477121       NaN   \n",
       "4          1.707570  ...    1.716003  1.602060    1.591065  1.851258   \n",
       "..              ...  ...         ...       ...         ...       ...   \n",
       "360        1.322219  ...    1.380211  1.477121    1.431364  1.477121   \n",
       "361        1.556303  ...    1.643453  1.681241    1.633468  1.716003   \n",
       "362        1.623249  ...    1.681241  1.732394    1.690196  1.707570   \n",
       "363        1.681241  ...    1.690196  1.819544    1.763428  1.778151   \n",
       "364             NaN  ...         NaN       NaN         NaN       NaN   \n",
       "\n",
       "     GIARDINI  MONTEBELLO  CITTADELLA  SAN FRANCESCO   GERBIDO    TIMAVO  \n",
       "day                                                                       \n",
       "0    1.785330    1.707570    1.724276            NaN  1.672098  1.792392  \n",
       "1    1.414973    1.544068    1.397940            NaN  1.431364  1.602060  \n",
       "2    1.477121    1.397940    1.342423            NaN  1.568202  1.556303  \n",
       "3    1.623249    1.568202    1.462398       1.556303  1.579784  1.568202  \n",
       "4    1.792392    1.716003    1.681241       1.755875  1.698970  1.724276  \n",
       "..        ...         ...         ...            ...       ...       ...  \n",
       "360  1.447158    1.579784    1.531479       1.643453  1.612784  1.531479  \n",
       "361  1.770852    1.698970    1.653213       1.518514  1.755875  1.755875  \n",
       "362  1.755875    1.681241    1.681241       1.591065  1.770852  1.748188  \n",
       "363  1.806180    1.707570    1.707570       1.505150  1.732394  1.755875  \n",
       "364       NaN         NaN         NaN            NaN       NaN       NaN  \n",
       "\n",
       "[365 rows x 49 columns]"
      ]
     },
     "execution_count": 23,
     "metadata": {},
     "output_type": "execute_result"
    }
   ],
   "source": [
    "df"
   ]
  },
  {
   "cell_type": "code",
   "execution_count": 24,
   "id": "528b049a-cd42-47fb-905d-aab6bc3c43b6",
   "metadata": {
    "tags": []
   },
   "outputs": [
    {
     "name": "stderr",
     "output_type": "stream",
     "text": [
      "08:24:40 - cmdstanpy - INFO - compiling stan file /home/br1/PythonProjects/bayesian_project/git_dir/bayes_colab/ARMA_bayesian_stan/code.stan to exe file /home/br1/PythonProjects/bayesian_project/git_dir/bayes_colab/ARMA_bayesian_stan/code\n",
      "08:24:54 - cmdstanpy - INFO - compiled model executable: /home/br1/PythonProjects/bayesian_project/git_dir/bayes_colab/ARMA_bayesian_stan/code\n",
      "08:24:54 - cmdstanpy - INFO - CmdStan start processing\n"
     ]
    },
    {
     "data": {
      "application/vnd.jupyter.widget-view+json": {
       "model_id": "c3598dcf846c4e859ed5588b2405c942",
       "version_major": 2,
       "version_minor": 0
      },
      "text/plain": [
       "chain 1 |          | 00:00 Status"
      ]
     },
     "metadata": {},
     "output_type": "display_data"
    },
    {
     "data": {
      "application/vnd.jupyter.widget-view+json": {
       "model_id": "2dcc60952c6d47d382b1170e23033cfa",
       "version_major": 2,
       "version_minor": 0
      },
      "text/plain": [
       "chain 2 |          | 00:00 Status"
      ]
     },
     "metadata": {},
     "output_type": "display_data"
    },
    {
     "data": {
      "application/vnd.jupyter.widget-view+json": {
       "model_id": "70e497560a474eb183856c8931cae6f9",
       "version_major": 2,
       "version_minor": 0
      },
      "text/plain": [
       "chain 3 |          | 00:00 Status"
      ]
     },
     "metadata": {},
     "output_type": "display_data"
    },
    {
     "data": {
      "application/vnd.jupyter.widget-view+json": {
       "model_id": "034fd787f22f41dea1b811035ca7da8f",
       "version_major": 2,
       "version_minor": 0
      },
      "text/plain": [
       "chain 4 |          | 00:00 Status"
      ]
     },
     "metadata": {},
     "output_type": "display_data"
    },
    {
     "name": "stdout",
     "output_type": "stream",
     "text": [
      "                                                                                                                                                                                                                                                                                                                                "
     ]
    },
    {
     "name": "stderr",
     "output_type": "stream",
     "text": [
      "08:25:22 - cmdstanpy - INFO - CmdStan done processing.\n"
     ]
    },
    {
     "name": "stdout",
     "output_type": "stream",
     "text": [
      "\n"
     ]
    },
    {
     "name": "stderr",
     "output_type": "stream",
     "text": [
      "08:25:23 - cmdstanpy - INFO - CmdStan start processing\n"
     ]
    },
    {
     "data": {
      "application/vnd.jupyter.widget-view+json": {
       "model_id": "4aba47e54a2a42049341963270b8018a",
       "version_major": 2,
       "version_minor": 0
      },
      "text/plain": [
       "chain 1 |          | 00:00 Status"
      ]
     },
     "metadata": {},
     "output_type": "display_data"
    },
    {
     "data": {
      "application/vnd.jupyter.widget-view+json": {
       "model_id": "e7fb21a3b4b1479aa79481d9121645da",
       "version_major": 2,
       "version_minor": 0
      },
      "text/plain": [
       "chain 2 |          | 00:00 Status"
      ]
     },
     "metadata": {},
     "output_type": "display_data"
    },
    {
     "data": {
      "application/vnd.jupyter.widget-view+json": {
       "model_id": "b878d4d9957c4441860492dff79b4c62",
       "version_major": 2,
       "version_minor": 0
      },
      "text/plain": [
       "chain 3 |          | 00:00 Status"
      ]
     },
     "metadata": {},
     "output_type": "display_data"
    },
    {
     "data": {
      "application/vnd.jupyter.widget-view+json": {
       "model_id": "dda8d3a43e4e4d8185e3f01f6339dc92",
       "version_major": 2,
       "version_minor": 0
      },
      "text/plain": [
       "chain 4 |          | 00:00 Status"
      ]
     },
     "metadata": {},
     "output_type": "display_data"
    },
    {
     "name": "stdout",
     "output_type": "stream",
     "text": [
      "                                                                                                                                                                                                                                                                                                                                "
     ]
    },
    {
     "name": "stderr",
     "output_type": "stream",
     "text": [
      "08:25:53 - cmdstanpy - INFO - CmdStan done processing.\n"
     ]
    },
    {
     "name": "stdout",
     "output_type": "stream",
     "text": [
      "\n"
     ]
    },
    {
     "name": "stderr",
     "output_type": "stream",
     "text": [
      "08:25:54 - cmdstanpy - INFO - CmdStan start processing\n"
     ]
    },
    {
     "data": {
      "application/vnd.jupyter.widget-view+json": {
       "model_id": "94726070418941daa4fa3dcf41589a2e",
       "version_major": 2,
       "version_minor": 0
      },
      "text/plain": [
       "chain 1 |          | 00:00 Status"
      ]
     },
     "metadata": {},
     "output_type": "display_data"
    },
    {
     "data": {
      "application/vnd.jupyter.widget-view+json": {
       "model_id": "cf72efc3e5a9488e925fb9b86e114584",
       "version_major": 2,
       "version_minor": 0
      },
      "text/plain": [
       "chain 2 |          | 00:00 Status"
      ]
     },
     "metadata": {},
     "output_type": "display_data"
    },
    {
     "data": {
      "application/vnd.jupyter.widget-view+json": {
       "model_id": "9db92f8a27e64dc9aa07b4d028ee5c66",
       "version_major": 2,
       "version_minor": 0
      },
      "text/plain": [
       "chain 3 |          | 00:00 Status"
      ]
     },
     "metadata": {},
     "output_type": "display_data"
    },
    {
     "data": {
      "application/vnd.jupyter.widget-view+json": {
       "model_id": "64132ee5adcc455ea8d0b1aec58c42e1",
       "version_major": 2,
       "version_minor": 0
      },
      "text/plain": [
       "chain 4 |          | 00:00 Status"
      ]
     },
     "metadata": {},
     "output_type": "display_data"
    },
    {
     "name": "stdout",
     "output_type": "stream",
     "text": [
      "                                                                                                                                                                                                                                                                                                                                "
     ]
    },
    {
     "name": "stderr",
     "output_type": "stream",
     "text": [
      "08:27:16 - cmdstanpy - INFO - CmdStan done processing.\n",
      "08:27:16 - cmdstanpy - WARNING - Non-fatal error during sampling:\n",
      "Exception: normal_lpdf: Scale parameter is 0, but must be positive! (in '/home/br1/PythonProjects/bayesian_project/git_dir/bayes_colab/ARMA_bayesian_stan/code.stan', line 85, column 8 to column 31)\n",
      "Consider re-running with show_console=True if the above output is unclear!\n",
      "08:27:17 - cmdstanpy - WARNING - Some chains may have failed to converge.\n",
      "\tChain 4 had 1250 iterations at max treedepth (100.0%)\n",
      "\tUse function \"diagnose()\" to see further information.\n"
     ]
    },
    {
     "name": "stdout",
     "output_type": "stream",
     "text": [
      "\n"
     ]
    },
    {
     "name": "stderr",
     "output_type": "stream",
     "text": [
      "08:27:17 - cmdstanpy - INFO - CmdStan start processing\n"
     ]
    },
    {
     "data": {
      "application/vnd.jupyter.widget-view+json": {
       "model_id": "1411967bbfba4dc480cc4b363a98bb5c",
       "version_major": 2,
       "version_minor": 0
      },
      "text/plain": [
       "chain 1 |          | 00:00 Status"
      ]
     },
     "metadata": {},
     "output_type": "display_data"
    },
    {
     "data": {
      "application/vnd.jupyter.widget-view+json": {
       "model_id": "9acec2fcac774668a88d6cd50fc7078a",
       "version_major": 2,
       "version_minor": 0
      },
      "text/plain": [
       "chain 2 |          | 00:00 Status"
      ]
     },
     "metadata": {},
     "output_type": "display_data"
    },
    {
     "data": {
      "application/vnd.jupyter.widget-view+json": {
       "model_id": "503b9a07514b48d1bc5ff5f7321deef0",
       "version_major": 2,
       "version_minor": 0
      },
      "text/plain": [
       "chain 3 |          | 00:00 Status"
      ]
     },
     "metadata": {},
     "output_type": "display_data"
    },
    {
     "data": {
      "application/vnd.jupyter.widget-view+json": {
       "model_id": "cdee1e6f70244b7987cc299ffa90d5a4",
       "version_major": 2,
       "version_minor": 0
      },
      "text/plain": [
       "chain 4 |          | 00:00 Status"
      ]
     },
     "metadata": {},
     "output_type": "display_data"
    },
    {
     "name": "stdout",
     "output_type": "stream",
     "text": [
      "                                                                                                                                                                                                                                                                                                                                "
     ]
    },
    {
     "name": "stderr",
     "output_type": "stream",
     "text": [
      "08:27:51 - cmdstanpy - INFO - CmdStan done processing.\n"
     ]
    },
    {
     "name": "stdout",
     "output_type": "stream",
     "text": [
      "\n"
     ]
    },
    {
     "name": "stderr",
     "output_type": "stream",
     "text": [
      "08:27:51 - cmdstanpy - INFO - CmdStan start processing\n"
     ]
    },
    {
     "data": {
      "application/vnd.jupyter.widget-view+json": {
       "model_id": "504b48208afc4a0097cd5d116181e9b0",
       "version_major": 2,
       "version_minor": 0
      },
      "text/plain": [
       "chain 1 |          | 00:00 Status"
      ]
     },
     "metadata": {},
     "output_type": "display_data"
    },
    {
     "data": {
      "application/vnd.jupyter.widget-view+json": {
       "model_id": "bdc0433f14ef4de98bf3ad0e84da9f1e",
       "version_major": 2,
       "version_minor": 0
      },
      "text/plain": [
       "chain 2 |          | 00:00 Status"
      ]
     },
     "metadata": {},
     "output_type": "display_data"
    },
    {
     "data": {
      "application/vnd.jupyter.widget-view+json": {
       "model_id": "c8afeda255ed449d893a30a9449a53a7",
       "version_major": 2,
       "version_minor": 0
      },
      "text/plain": [
       "chain 3 |          | 00:00 Status"
      ]
     },
     "metadata": {},
     "output_type": "display_data"
    },
    {
     "data": {
      "application/vnd.jupyter.widget-view+json": {
       "model_id": "e34215b148e94e73a790217234e81c2b",
       "version_major": 2,
       "version_minor": 0
      },
      "text/plain": [
       "chain 4 |          | 00:00 Status"
      ]
     },
     "metadata": {},
     "output_type": "display_data"
    },
    {
     "name": "stdout",
     "output_type": "stream",
     "text": [
      "                                                                                                                                                                                                                                                                                                                                "
     ]
    },
    {
     "name": "stderr",
     "output_type": "stream",
     "text": [
      "08:28:46 - cmdstanpy - INFO - CmdStan done processing.\n"
     ]
    },
    {
     "name": "stdout",
     "output_type": "stream",
     "text": [
      "\n"
     ]
    },
    {
     "name": "stderr",
     "output_type": "stream",
     "text": [
      "08:28:46 - cmdstanpy - INFO - CmdStan start processing\n"
     ]
    },
    {
     "data": {
      "application/vnd.jupyter.widget-view+json": {
       "model_id": "07100376f41640cfb7f9b1e01529429f",
       "version_major": 2,
       "version_minor": 0
      },
      "text/plain": [
       "chain 1 |          | 00:00 Status"
      ]
     },
     "metadata": {},
     "output_type": "display_data"
    },
    {
     "data": {
      "application/vnd.jupyter.widget-view+json": {
       "model_id": "1143b92e0a764061ad753fde50291bcf",
       "version_major": 2,
       "version_minor": 0
      },
      "text/plain": [
       "chain 2 |          | 00:00 Status"
      ]
     },
     "metadata": {},
     "output_type": "display_data"
    },
    {
     "data": {
      "application/vnd.jupyter.widget-view+json": {
       "model_id": "46f160d9af0b4c5898ad32a703d9dd59",
       "version_major": 2,
       "version_minor": 0
      },
      "text/plain": [
       "chain 3 |          | 00:00 Status"
      ]
     },
     "metadata": {},
     "output_type": "display_data"
    },
    {
     "data": {
      "application/vnd.jupyter.widget-view+json": {
       "model_id": "a2d39b0c101a420c9e8de1ec508a197b",
       "version_major": 2,
       "version_minor": 0
      },
      "text/plain": [
       "chain 4 |          | 00:00 Status"
      ]
     },
     "metadata": {},
     "output_type": "display_data"
    },
    {
     "name": "stdout",
     "output_type": "stream",
     "text": [
      "                                                                                                                                                                                                                                                                                                                                "
     ]
    },
    {
     "name": "stderr",
     "output_type": "stream",
     "text": [
      "08:29:33 - cmdstanpy - INFO - CmdStan done processing.\n"
     ]
    },
    {
     "name": "stdout",
     "output_type": "stream",
     "text": [
      "\n"
     ]
    },
    {
     "name": "stderr",
     "output_type": "stream",
     "text": [
      "08:29:34 - cmdstanpy - INFO - CmdStan start processing\n"
     ]
    },
    {
     "data": {
      "application/vnd.jupyter.widget-view+json": {
       "model_id": "5d2b5fd9571d4e79a6e0f42760936066",
       "version_major": 2,
       "version_minor": 0
      },
      "text/plain": [
       "chain 1 |          | 00:00 Status"
      ]
     },
     "metadata": {},
     "output_type": "display_data"
    },
    {
     "data": {
      "application/vnd.jupyter.widget-view+json": {
       "model_id": "56b0338d650c47088cb610cc82c1d31b",
       "version_major": 2,
       "version_minor": 0
      },
      "text/plain": [
       "chain 2 |          | 00:00 Status"
      ]
     },
     "metadata": {},
     "output_type": "display_data"
    },
    {
     "data": {
      "application/vnd.jupyter.widget-view+json": {
       "model_id": "877a0ea4b9084fcabfb195790ca501c9",
       "version_major": 2,
       "version_minor": 0
      },
      "text/plain": [
       "chain 3 |          | 00:00 Status"
      ]
     },
     "metadata": {},
     "output_type": "display_data"
    },
    {
     "data": {
      "application/vnd.jupyter.widget-view+json": {
       "model_id": "3a6f7fabf9734011be03a97ba6490fca",
       "version_major": 2,
       "version_minor": 0
      },
      "text/plain": [
       "chain 4 |          | 00:00 Status"
      ]
     },
     "metadata": {},
     "output_type": "display_data"
    },
    {
     "name": "stdout",
     "output_type": "stream",
     "text": [
      "                                                                                                                                                                                                                                                                                                                                "
     ]
    },
    {
     "name": "stderr",
     "output_type": "stream",
     "text": [
      "08:30:24 - cmdstanpy - INFO - CmdStan done processing.\n",
      "08:30:24 - cmdstanpy - WARNING - Non-fatal error during sampling:\n",
      "Exception: normal_lpdf: Scale parameter is 0, but must be positive! (in '/home/br1/PythonProjects/bayesian_project/git_dir/bayes_colab/ARMA_bayesian_stan/code.stan', line 85, column 8 to column 31)\n",
      "Exception: normal_lpdf: Scale parameter is 0, but must be positive! (in '/home/br1/PythonProjects/bayesian_project/git_dir/bayes_colab/ARMA_bayesian_stan/code.stan', line 85, column 8 to column 31)\n",
      "Consider re-running with show_console=True if the above output is unclear!\n"
     ]
    },
    {
     "name": "stdout",
     "output_type": "stream",
     "text": [
      "\n"
     ]
    },
    {
     "name": "stderr",
     "output_type": "stream",
     "text": [
      "08:30:25 - cmdstanpy - INFO - CmdStan start processing\n"
     ]
    },
    {
     "data": {
      "application/vnd.jupyter.widget-view+json": {
       "model_id": "b7ed26c361c74c1c992c3c54d0b60516",
       "version_major": 2,
       "version_minor": 0
      },
      "text/plain": [
       "chain 1 |          | 00:00 Status"
      ]
     },
     "metadata": {},
     "output_type": "display_data"
    },
    {
     "data": {
      "application/vnd.jupyter.widget-view+json": {
       "model_id": "02d7afcebe98431a85d42545515b5abf",
       "version_major": 2,
       "version_minor": 0
      },
      "text/plain": [
       "chain 2 |          | 00:00 Status"
      ]
     },
     "metadata": {},
     "output_type": "display_data"
    },
    {
     "data": {
      "application/vnd.jupyter.widget-view+json": {
       "model_id": "aa9e9e51c89f48c7a034afa720cffb1f",
       "version_major": 2,
       "version_minor": 0
      },
      "text/plain": [
       "chain 3 |          | 00:00 Status"
      ]
     },
     "metadata": {},
     "output_type": "display_data"
    },
    {
     "data": {
      "application/vnd.jupyter.widget-view+json": {
       "model_id": "b59dfc3eaacd4b5eaf29ac4c7fcbd2a7",
       "version_major": 2,
       "version_minor": 0
      },
      "text/plain": [
       "chain 4 |          | 00:00 Status"
      ]
     },
     "metadata": {},
     "output_type": "display_data"
    },
    {
     "name": "stdout",
     "output_type": "stream",
     "text": [
      "                                                                                                                                                                                                                                                                                                                                "
     ]
    },
    {
     "name": "stderr",
     "output_type": "stream",
     "text": [
      "08:30:57 - cmdstanpy - INFO - CmdStan done processing.\n",
      "08:30:57 - cmdstanpy - WARNING - Non-fatal error during sampling:\n",
      "Exception: normal_lpdf: Scale parameter is 0, but must be positive! (in '/home/br1/PythonProjects/bayesian_project/git_dir/bayes_colab/ARMA_bayesian_stan/code.stan', line 85, column 8 to column 31)\n",
      "Consider re-running with show_console=True if the above output is unclear!\n"
     ]
    },
    {
     "name": "stdout",
     "output_type": "stream",
     "text": [
      "\n"
     ]
    },
    {
     "name": "stderr",
     "output_type": "stream",
     "text": [
      "08:30:58 - cmdstanpy - INFO - CmdStan start processing\n"
     ]
    },
    {
     "data": {
      "application/vnd.jupyter.widget-view+json": {
       "model_id": "e621933cba184598b6964a1b9ca210f0",
       "version_major": 2,
       "version_minor": 0
      },
      "text/plain": [
       "chain 1 |          | 00:00 Status"
      ]
     },
     "metadata": {},
     "output_type": "display_data"
    },
    {
     "data": {
      "application/vnd.jupyter.widget-view+json": {
       "model_id": "4389e03fb3b14d7da7f45dfd8cee2126",
       "version_major": 2,
       "version_minor": 0
      },
      "text/plain": [
       "chain 2 |          | 00:00 Status"
      ]
     },
     "metadata": {},
     "output_type": "display_data"
    },
    {
     "data": {
      "application/vnd.jupyter.widget-view+json": {
       "model_id": "72720c2023d7479fbdd12fd76e4f6aff",
       "version_major": 2,
       "version_minor": 0
      },
      "text/plain": [
       "chain 3 |          | 00:00 Status"
      ]
     },
     "metadata": {},
     "output_type": "display_data"
    },
    {
     "data": {
      "application/vnd.jupyter.widget-view+json": {
       "model_id": "57d2d5c67cc64f89a8762f141a59453c",
       "version_major": 2,
       "version_minor": 0
      },
      "text/plain": [
       "chain 4 |          | 00:00 Status"
      ]
     },
     "metadata": {},
     "output_type": "display_data"
    },
    {
     "name": "stdout",
     "output_type": "stream",
     "text": [
      "                                                                                                                                                                                                                                                                                                                                "
     ]
    },
    {
     "name": "stderr",
     "output_type": "stream",
     "text": [
      "08:31:33 - cmdstanpy - INFO - CmdStan done processing.\n",
      "08:31:33 - cmdstanpy - WARNING - Non-fatal error during sampling:\n",
      "Exception: normal_lpdf: Scale parameter is 0, but must be positive! (in '/home/br1/PythonProjects/bayesian_project/git_dir/bayes_colab/ARMA_bayesian_stan/code.stan', line 85, column 8 to column 31)\n",
      "Consider re-running with show_console=True if the above output is unclear!\n"
     ]
    },
    {
     "name": "stdout",
     "output_type": "stream",
     "text": [
      "\n"
     ]
    },
    {
     "name": "stderr",
     "output_type": "stream",
     "text": [
      "08:31:34 - cmdstanpy - INFO - CmdStan start processing\n"
     ]
    },
    {
     "data": {
      "application/vnd.jupyter.widget-view+json": {
       "model_id": "987ab823b26b414c9bd5faee55712a87",
       "version_major": 2,
       "version_minor": 0
      },
      "text/plain": [
       "chain 1 |          | 00:00 Status"
      ]
     },
     "metadata": {},
     "output_type": "display_data"
    },
    {
     "data": {
      "application/vnd.jupyter.widget-view+json": {
       "model_id": "fc6e72352f36466694b57e30ebb470d2",
       "version_major": 2,
       "version_minor": 0
      },
      "text/plain": [
       "chain 2 |          | 00:00 Status"
      ]
     },
     "metadata": {},
     "output_type": "display_data"
    },
    {
     "data": {
      "application/vnd.jupyter.widget-view+json": {
       "model_id": "3f74e6dbe86f46c4ae10961241c5607a",
       "version_major": 2,
       "version_minor": 0
      },
      "text/plain": [
       "chain 3 |          | 00:00 Status"
      ]
     },
     "metadata": {},
     "output_type": "display_data"
    },
    {
     "data": {
      "application/vnd.jupyter.widget-view+json": {
       "model_id": "a571f2161829461c9f6c2773661f655c",
       "version_major": 2,
       "version_minor": 0
      },
      "text/plain": [
       "chain 4 |          | 00:00 Status"
      ]
     },
     "metadata": {},
     "output_type": "display_data"
    },
    {
     "name": "stdout",
     "output_type": "stream",
     "text": [
      "                                                                                                                                                                                                                                                                                                                                "
     ]
    },
    {
     "name": "stderr",
     "output_type": "stream",
     "text": [
      "08:32:05 - cmdstanpy - INFO - CmdStan done processing.\n",
      "08:32:05 - cmdstanpy - WARNING - Non-fatal error during sampling:\n",
      "Exception: normal_lpdf: Scale parameter is 0, but must be positive! (in '/home/br1/PythonProjects/bayesian_project/git_dir/bayes_colab/ARMA_bayesian_stan/code.stan', line 85, column 8 to column 31)\n",
      "Consider re-running with show_console=True if the above output is unclear!\n"
     ]
    },
    {
     "name": "stdout",
     "output_type": "stream",
     "text": [
      "\n"
     ]
    },
    {
     "name": "stderr",
     "output_type": "stream",
     "text": [
      "08:32:06 - cmdstanpy - INFO - CmdStan start processing\n"
     ]
    },
    {
     "data": {
      "application/vnd.jupyter.widget-view+json": {
       "model_id": "6bea09e126e24823ab05c430bcd1bad2",
       "version_major": 2,
       "version_minor": 0
      },
      "text/plain": [
       "chain 1 |          | 00:00 Status"
      ]
     },
     "metadata": {},
     "output_type": "display_data"
    },
    {
     "data": {
      "application/vnd.jupyter.widget-view+json": {
       "model_id": "7a6a8de7577f479bb4452691b13137c7",
       "version_major": 2,
       "version_minor": 0
      },
      "text/plain": [
       "chain 2 |          | 00:00 Status"
      ]
     },
     "metadata": {},
     "output_type": "display_data"
    },
    {
     "data": {
      "application/vnd.jupyter.widget-view+json": {
       "model_id": "375955875781430c9846ed22959be762",
       "version_major": 2,
       "version_minor": 0
      },
      "text/plain": [
       "chain 3 |          | 00:00 Status"
      ]
     },
     "metadata": {},
     "output_type": "display_data"
    },
    {
     "data": {
      "application/vnd.jupyter.widget-view+json": {
       "model_id": "77dbe1e3243e432bb3802997e527d890",
       "version_major": 2,
       "version_minor": 0
      },
      "text/plain": [
       "chain 4 |          | 00:00 Status"
      ]
     },
     "metadata": {},
     "output_type": "display_data"
    },
    {
     "name": "stdout",
     "output_type": "stream",
     "text": [
      "                                                                                                                                                                                                                                                                                                                                "
     ]
    },
    {
     "name": "stderr",
     "output_type": "stream",
     "text": [
      "08:32:38 - cmdstanpy - INFO - CmdStan done processing.\n",
      "08:32:38 - cmdstanpy - WARNING - Non-fatal error during sampling:\n",
      "Exception: normal_lpdf: Scale parameter is 0, but must be positive! (in '/home/br1/PythonProjects/bayesian_project/git_dir/bayes_colab/ARMA_bayesian_stan/code.stan', line 85, column 8 to column 31)\n",
      "Consider re-running with show_console=True if the above output is unclear!\n"
     ]
    },
    {
     "name": "stdout",
     "output_type": "stream",
     "text": [
      "\n"
     ]
    },
    {
     "name": "stderr",
     "output_type": "stream",
     "text": [
      "08:32:39 - cmdstanpy - INFO - CmdStan start processing\n"
     ]
    },
    {
     "data": {
      "application/vnd.jupyter.widget-view+json": {
       "model_id": "c741f5847d0f4300b8117f957a113d15",
       "version_major": 2,
       "version_minor": 0
      },
      "text/plain": [
       "chain 1 |          | 00:00 Status"
      ]
     },
     "metadata": {},
     "output_type": "display_data"
    },
    {
     "data": {
      "application/vnd.jupyter.widget-view+json": {
       "model_id": "d188bad09cac40f1902d29ee578c90b5",
       "version_major": 2,
       "version_minor": 0
      },
      "text/plain": [
       "chain 2 |          | 00:00 Status"
      ]
     },
     "metadata": {},
     "output_type": "display_data"
    },
    {
     "data": {
      "application/vnd.jupyter.widget-view+json": {
       "model_id": "68b3bfb0bed34030b0d7f63afb68d21d",
       "version_major": 2,
       "version_minor": 0
      },
      "text/plain": [
       "chain 3 |          | 00:00 Status"
      ]
     },
     "metadata": {},
     "output_type": "display_data"
    },
    {
     "data": {
      "application/vnd.jupyter.widget-view+json": {
       "model_id": "492a98f2599543e7923aa80f8f273ea9",
       "version_major": 2,
       "version_minor": 0
      },
      "text/plain": [
       "chain 4 |          | 00:00 Status"
      ]
     },
     "metadata": {},
     "output_type": "display_data"
    },
    {
     "name": "stdout",
     "output_type": "stream",
     "text": [
      "                                                                                                                                                                                                                                                                                                                                "
     ]
    },
    {
     "name": "stderr",
     "output_type": "stream",
     "text": [
      "08:33:08 - cmdstanpy - INFO - CmdStan done processing.\n",
      "08:33:08 - cmdstanpy - WARNING - Non-fatal error during sampling:\n",
      "Exception: normal_lpdf: Scale parameter is 0, but must be positive! (in '/home/br1/PythonProjects/bayesian_project/git_dir/bayes_colab/ARMA_bayesian_stan/code.stan', line 85, column 8 to column 31)\n",
      "Consider re-running with show_console=True if the above output is unclear!\n"
     ]
    },
    {
     "name": "stdout",
     "output_type": "stream",
     "text": [
      "\n"
     ]
    },
    {
     "name": "stderr",
     "output_type": "stream",
     "text": [
      "08:33:09 - cmdstanpy - INFO - CmdStan start processing\n"
     ]
    },
    {
     "data": {
      "application/vnd.jupyter.widget-view+json": {
       "model_id": "f263d7ce5f9b4fdd984e3026c97ed633",
       "version_major": 2,
       "version_minor": 0
      },
      "text/plain": [
       "chain 1 |          | 00:00 Status"
      ]
     },
     "metadata": {},
     "output_type": "display_data"
    },
    {
     "data": {
      "application/vnd.jupyter.widget-view+json": {
       "model_id": "7f1d64f86fff476b83638eff56a908c9",
       "version_major": 2,
       "version_minor": 0
      },
      "text/plain": [
       "chain 2 |          | 00:00 Status"
      ]
     },
     "metadata": {},
     "output_type": "display_data"
    },
    {
     "data": {
      "application/vnd.jupyter.widget-view+json": {
       "model_id": "a43320b9ea204065926ba314b9e8264a",
       "version_major": 2,
       "version_minor": 0
      },
      "text/plain": [
       "chain 3 |          | 00:00 Status"
      ]
     },
     "metadata": {},
     "output_type": "display_data"
    },
    {
     "data": {
      "application/vnd.jupyter.widget-view+json": {
       "model_id": "9f430110a7dd464f83ea411d4c378eee",
       "version_major": 2,
       "version_minor": 0
      },
      "text/plain": [
       "chain 4 |          | 00:00 Status"
      ]
     },
     "metadata": {},
     "output_type": "display_data"
    },
    {
     "name": "stdout",
     "output_type": "stream",
     "text": [
      "                                                                                                                                                                                                                                                                                                                                "
     ]
    },
    {
     "name": "stderr",
     "output_type": "stream",
     "text": [
      "08:33:58 - cmdstanpy - INFO - CmdStan done processing.\n"
     ]
    },
    {
     "name": "stdout",
     "output_type": "stream",
     "text": [
      "\n"
     ]
    },
    {
     "name": "stderr",
     "output_type": "stream",
     "text": [
      "08:33:59 - cmdstanpy - INFO - CmdStan start processing\n"
     ]
    },
    {
     "data": {
      "application/vnd.jupyter.widget-view+json": {
       "model_id": "edfa6d4f82a24edcaefc7f9376fe66d5",
       "version_major": 2,
       "version_minor": 0
      },
      "text/plain": [
       "chain 1 |          | 00:00 Status"
      ]
     },
     "metadata": {},
     "output_type": "display_data"
    },
    {
     "data": {
      "application/vnd.jupyter.widget-view+json": {
       "model_id": "780c881b25a74f2a83ae62da2a542809",
       "version_major": 2,
       "version_minor": 0
      },
      "text/plain": [
       "chain 2 |          | 00:00 Status"
      ]
     },
     "metadata": {},
     "output_type": "display_data"
    },
    {
     "data": {
      "application/vnd.jupyter.widget-view+json": {
       "model_id": "a94326397dc049eba8657a97915f4341",
       "version_major": 2,
       "version_minor": 0
      },
      "text/plain": [
       "chain 3 |          | 00:00 Status"
      ]
     },
     "metadata": {},
     "output_type": "display_data"
    },
    {
     "data": {
      "application/vnd.jupyter.widget-view+json": {
       "model_id": "cbb7dabef1a04d4fb5a7d7ed57100e28",
       "version_major": 2,
       "version_minor": 0
      },
      "text/plain": [
       "chain 4 |          | 00:00 Status"
      ]
     },
     "metadata": {},
     "output_type": "display_data"
    },
    {
     "name": "stdout",
     "output_type": "stream",
     "text": [
      "                                                                                                                                                                                                                                                                                                                                "
     ]
    },
    {
     "name": "stderr",
     "output_type": "stream",
     "text": [
      "08:34:32 - cmdstanpy - INFO - CmdStan done processing.\n"
     ]
    },
    {
     "name": "stdout",
     "output_type": "stream",
     "text": [
      "\n"
     ]
    },
    {
     "name": "stderr",
     "output_type": "stream",
     "text": [
      "08:34:33 - cmdstanpy - INFO - CmdStan start processing\n"
     ]
    },
    {
     "data": {
      "application/vnd.jupyter.widget-view+json": {
       "model_id": "761f078643954687867b010af7b93390",
       "version_major": 2,
       "version_minor": 0
      },
      "text/plain": [
       "chain 1 |          | 00:00 Status"
      ]
     },
     "metadata": {},
     "output_type": "display_data"
    },
    {
     "data": {
      "application/vnd.jupyter.widget-view+json": {
       "model_id": "2cd7402c37b447e4b4531173d0cf0b5d",
       "version_major": 2,
       "version_minor": 0
      },
      "text/plain": [
       "chain 2 |          | 00:00 Status"
      ]
     },
     "metadata": {},
     "output_type": "display_data"
    },
    {
     "data": {
      "application/vnd.jupyter.widget-view+json": {
       "model_id": "ee306de091014c8f878af3637a1d8ed3",
       "version_major": 2,
       "version_minor": 0
      },
      "text/plain": [
       "chain 3 |          | 00:00 Status"
      ]
     },
     "metadata": {},
     "output_type": "display_data"
    },
    {
     "data": {
      "application/vnd.jupyter.widget-view+json": {
       "model_id": "8b7db9862c2c4262b08eb98a02b11a38",
       "version_major": 2,
       "version_minor": 0
      },
      "text/plain": [
       "chain 4 |          | 00:00 Status"
      ]
     },
     "metadata": {},
     "output_type": "display_data"
    },
    {
     "name": "stdout",
     "output_type": "stream",
     "text": [
      "                                                                                                                                                                                                                                                                                                                                "
     ]
    },
    {
     "name": "stderr",
     "output_type": "stream",
     "text": [
      "08:34:53 - cmdstanpy - INFO - CmdStan done processing.\n",
      "08:34:53 - cmdstanpy - WARNING - Non-fatal error during sampling:\n",
      "Exception: normal_lpdf: Scale parameter is 0, but must be positive! (in '/home/br1/PythonProjects/bayesian_project/git_dir/bayes_colab/ARMA_bayesian_stan/code.stan', line 85, column 8 to column 31)\n",
      "Exception: normal_lpdf: Scale parameter is 0, but must be positive! (in '/home/br1/PythonProjects/bayesian_project/git_dir/bayes_colab/ARMA_bayesian_stan/code.stan', line 85, column 8 to column 31)\n",
      "Consider re-running with show_console=True if the above output is unclear!\n"
     ]
    },
    {
     "name": "stdout",
     "output_type": "stream",
     "text": [
      "\n"
     ]
    },
    {
     "name": "stderr",
     "output_type": "stream",
     "text": [
      "08:34:54 - cmdstanpy - INFO - CmdStan start processing\n"
     ]
    },
    {
     "data": {
      "application/vnd.jupyter.widget-view+json": {
       "model_id": "5789c1542f75476ea9732d21f4b28fb8",
       "version_major": 2,
       "version_minor": 0
      },
      "text/plain": [
       "chain 1 |          | 00:00 Status"
      ]
     },
     "metadata": {},
     "output_type": "display_data"
    },
    {
     "data": {
      "application/vnd.jupyter.widget-view+json": {
       "model_id": "c9d0b313c8b24835893e0803a4b4867b",
       "version_major": 2,
       "version_minor": 0
      },
      "text/plain": [
       "chain 2 |          | 00:00 Status"
      ]
     },
     "metadata": {},
     "output_type": "display_data"
    },
    {
     "data": {
      "application/vnd.jupyter.widget-view+json": {
       "model_id": "fdfce89b14064fa18104701d0fbb366a",
       "version_major": 2,
       "version_minor": 0
      },
      "text/plain": [
       "chain 3 |          | 00:00 Status"
      ]
     },
     "metadata": {},
     "output_type": "display_data"
    },
    {
     "data": {
      "application/vnd.jupyter.widget-view+json": {
       "model_id": "b257da75d1c543aca0475e18e2cda659",
       "version_major": 2,
       "version_minor": 0
      },
      "text/plain": [
       "chain 4 |          | 00:00 Status"
      ]
     },
     "metadata": {},
     "output_type": "display_data"
    },
    {
     "name": "stdout",
     "output_type": "stream",
     "text": [
      "                                                                                                                                                                                                                                                                                                                                "
     ]
    },
    {
     "name": "stderr",
     "output_type": "stream",
     "text": [
      "08:35:27 - cmdstanpy - INFO - CmdStan done processing.\n",
      "08:35:27 - cmdstanpy - WARNING - Non-fatal error during sampling:\n",
      "Exception: normal_lpdf: Scale parameter is 0, but must be positive! (in '/home/br1/PythonProjects/bayesian_project/git_dir/bayes_colab/ARMA_bayesian_stan/code.stan', line 85, column 8 to column 31)\n",
      "Consider re-running with show_console=True if the above output is unclear!\n"
     ]
    },
    {
     "name": "stdout",
     "output_type": "stream",
     "text": [
      "\n"
     ]
    },
    {
     "name": "stderr",
     "output_type": "stream",
     "text": [
      "08:35:28 - cmdstanpy - INFO - CmdStan start processing\n"
     ]
    },
    {
     "data": {
      "application/vnd.jupyter.widget-view+json": {
       "model_id": "7a5a39d04fd04f838b18aab4fd878f2b",
       "version_major": 2,
       "version_minor": 0
      },
      "text/plain": [
       "chain 1 |          | 00:00 Status"
      ]
     },
     "metadata": {},
     "output_type": "display_data"
    },
    {
     "data": {
      "application/vnd.jupyter.widget-view+json": {
       "model_id": "6bf7b91a8cff446dab65f27446b6c9ea",
       "version_major": 2,
       "version_minor": 0
      },
      "text/plain": [
       "chain 2 |          | 00:00 Status"
      ]
     },
     "metadata": {},
     "output_type": "display_data"
    },
    {
     "data": {
      "application/vnd.jupyter.widget-view+json": {
       "model_id": "ca887f95871442e096961b941d51259d",
       "version_major": 2,
       "version_minor": 0
      },
      "text/plain": [
       "chain 3 |          | 00:00 Status"
      ]
     },
     "metadata": {},
     "output_type": "display_data"
    },
    {
     "data": {
      "application/vnd.jupyter.widget-view+json": {
       "model_id": "896fa37632e947ce8053f1aa3f79f3a5",
       "version_major": 2,
       "version_minor": 0
      },
      "text/plain": [
       "chain 4 |          | 00:00 Status"
      ]
     },
     "metadata": {},
     "output_type": "display_data"
    },
    {
     "name": "stdout",
     "output_type": "stream",
     "text": [
      "                                                                                                                                                                                                                                                                                                                                "
     ]
    },
    {
     "name": "stderr",
     "output_type": "stream",
     "text": [
      "08:36:16 - cmdstanpy - INFO - CmdStan done processing.\n",
      "08:36:16 - cmdstanpy - WARNING - Non-fatal error during sampling:\n",
      "Exception: normal_lpdf: Scale parameter is 0, but must be positive! (in '/home/br1/PythonProjects/bayesian_project/git_dir/bayes_colab/ARMA_bayesian_stan/code.stan', line 85, column 8 to column 31)\n",
      "Exception: normal_lpdf: Scale parameter is 0, but must be positive! (in '/home/br1/PythonProjects/bayesian_project/git_dir/bayes_colab/ARMA_bayesian_stan/code.stan', line 85, column 8 to column 31)\n",
      "Exception: normal_lpdf: Scale parameter is 0, but must be positive! (in '/home/br1/PythonProjects/bayesian_project/git_dir/bayes_colab/ARMA_bayesian_stan/code.stan', line 85, column 8 to column 31)\n",
      "Exception: normal_lpdf: Scale parameter is 0, but must be positive! (in '/home/br1/PythonProjects/bayesian_project/git_dir/bayes_colab/ARMA_bayesian_stan/code.stan', line 85, column 8 to column 31)\n",
      "Consider re-running with show_console=True if the above output is unclear!\n"
     ]
    },
    {
     "name": "stdout",
     "output_type": "stream",
     "text": [
      "\n"
     ]
    },
    {
     "name": "stderr",
     "output_type": "stream",
     "text": [
      "08:36:16 - cmdstanpy - INFO - CmdStan start processing\n"
     ]
    },
    {
     "data": {
      "application/vnd.jupyter.widget-view+json": {
       "model_id": "d5fdcc4f1b80449d8adaad29cd47d6aa",
       "version_major": 2,
       "version_minor": 0
      },
      "text/plain": [
       "chain 1 |          | 00:00 Status"
      ]
     },
     "metadata": {},
     "output_type": "display_data"
    },
    {
     "data": {
      "application/vnd.jupyter.widget-view+json": {
       "model_id": "51d4e213667142d89a25f28dc489271d",
       "version_major": 2,
       "version_minor": 0
      },
      "text/plain": [
       "chain 2 |          | 00:00 Status"
      ]
     },
     "metadata": {},
     "output_type": "display_data"
    },
    {
     "data": {
      "application/vnd.jupyter.widget-view+json": {
       "model_id": "631fdc628ddc4420bd3c76d921c7cfb4",
       "version_major": 2,
       "version_minor": 0
      },
      "text/plain": [
       "chain 3 |          | 00:00 Status"
      ]
     },
     "metadata": {},
     "output_type": "display_data"
    },
    {
     "data": {
      "application/vnd.jupyter.widget-view+json": {
       "model_id": "fc1a071e4a164e73b034d2bebc45bc22",
       "version_major": 2,
       "version_minor": 0
      },
      "text/plain": [
       "chain 4 |          | 00:00 Status"
      ]
     },
     "metadata": {},
     "output_type": "display_data"
    },
    {
     "name": "stdout",
     "output_type": "stream",
     "text": [
      "                                                                                                                                                                                                                                                                                                                                "
     ]
    },
    {
     "name": "stderr",
     "output_type": "stream",
     "text": [
      "08:37:05 - cmdstanpy - INFO - CmdStan done processing.\n",
      "08:37:05 - cmdstanpy - WARNING - Non-fatal error during sampling:\n",
      "Exception: normal_lpdf: Scale parameter is 0, but must be positive! (in '/home/br1/PythonProjects/bayesian_project/git_dir/bayes_colab/ARMA_bayesian_stan/code.stan', line 85, column 8 to column 31)\n",
      "Exception: normal_lpdf: Scale parameter is 0, but must be positive! (in '/home/br1/PythonProjects/bayesian_project/git_dir/bayes_colab/ARMA_bayesian_stan/code.stan', line 85, column 8 to column 31)\n",
      "Consider re-running with show_console=True if the above output is unclear!\n"
     ]
    },
    {
     "name": "stdout",
     "output_type": "stream",
     "text": [
      "\n"
     ]
    },
    {
     "name": "stderr",
     "output_type": "stream",
     "text": [
      "08:37:06 - cmdstanpy - INFO - CmdStan start processing\n"
     ]
    },
    {
     "data": {
      "application/vnd.jupyter.widget-view+json": {
       "model_id": "e588643e5eba4f2aad1e0a0b008ef9aa",
       "version_major": 2,
       "version_minor": 0
      },
      "text/plain": [
       "chain 1 |          | 00:00 Status"
      ]
     },
     "metadata": {},
     "output_type": "display_data"
    },
    {
     "data": {
      "application/vnd.jupyter.widget-view+json": {
       "model_id": "46b1822b30e941e48352759e77d7ce63",
       "version_major": 2,
       "version_minor": 0
      },
      "text/plain": [
       "chain 2 |          | 00:00 Status"
      ]
     },
     "metadata": {},
     "output_type": "display_data"
    },
    {
     "data": {
      "application/vnd.jupyter.widget-view+json": {
       "model_id": "8c390c6e9b2b47cea0bb4ecb37a10068",
       "version_major": 2,
       "version_minor": 0
      },
      "text/plain": [
       "chain 3 |          | 00:00 Status"
      ]
     },
     "metadata": {},
     "output_type": "display_data"
    },
    {
     "data": {
      "application/vnd.jupyter.widget-view+json": {
       "model_id": "8dd65c23327d45e9b4230385162d4456",
       "version_major": 2,
       "version_minor": 0
      },
      "text/plain": [
       "chain 4 |          | 00:00 Status"
      ]
     },
     "metadata": {},
     "output_type": "display_data"
    },
    {
     "name": "stdout",
     "output_type": "stream",
     "text": [
      "                                                                                                                                                                                                                                                                                                                                "
     ]
    },
    {
     "name": "stderr",
     "output_type": "stream",
     "text": [
      "08:37:38 - cmdstanpy - INFO - CmdStan done processing.\n"
     ]
    },
    {
     "name": "stdout",
     "output_type": "stream",
     "text": [
      "\n"
     ]
    },
    {
     "name": "stderr",
     "output_type": "stream",
     "text": [
      "08:37:38 - cmdstanpy - INFO - CmdStan start processing\n"
     ]
    },
    {
     "data": {
      "application/vnd.jupyter.widget-view+json": {
       "model_id": "7ad04f70928e4d19bb4798f711ba82aa",
       "version_major": 2,
       "version_minor": 0
      },
      "text/plain": [
       "chain 1 |          | 00:00 Status"
      ]
     },
     "metadata": {},
     "output_type": "display_data"
    },
    {
     "data": {
      "application/vnd.jupyter.widget-view+json": {
       "model_id": "82d0c40c63674411aac1062b6f80592d",
       "version_major": 2,
       "version_minor": 0
      },
      "text/plain": [
       "chain 2 |          | 00:00 Status"
      ]
     },
     "metadata": {},
     "output_type": "display_data"
    },
    {
     "data": {
      "application/vnd.jupyter.widget-view+json": {
       "model_id": "75df7cc54caa445daaa02226c2403494",
       "version_major": 2,
       "version_minor": 0
      },
      "text/plain": [
       "chain 3 |          | 00:00 Status"
      ]
     },
     "metadata": {},
     "output_type": "display_data"
    },
    {
     "data": {
      "application/vnd.jupyter.widget-view+json": {
       "model_id": "a0186b5d1aed42ccb55603be0e3c117e",
       "version_major": 2,
       "version_minor": 0
      },
      "text/plain": [
       "chain 4 |          | 00:00 Status"
      ]
     },
     "metadata": {},
     "output_type": "display_data"
    },
    {
     "name": "stdout",
     "output_type": "stream",
     "text": [
      "                                                                                                                                                                                                                                                                                                                                "
     ]
    },
    {
     "name": "stderr",
     "output_type": "stream",
     "text": [
      "08:38:09 - cmdstanpy - INFO - CmdStan done processing.\n",
      "08:38:09 - cmdstanpy - WARNING - Non-fatal error during sampling:\n",
      "Exception: normal_lpdf: Scale parameter is 0, but must be positive! (in '/home/br1/PythonProjects/bayesian_project/git_dir/bayes_colab/ARMA_bayesian_stan/code.stan', line 85, column 8 to column 31)\n",
      "Consider re-running with show_console=True if the above output is unclear!\n"
     ]
    },
    {
     "name": "stdout",
     "output_type": "stream",
     "text": [
      "\n"
     ]
    },
    {
     "name": "stderr",
     "output_type": "stream",
     "text": [
      "08:38:09 - cmdstanpy - INFO - CmdStan start processing\n"
     ]
    },
    {
     "data": {
      "application/vnd.jupyter.widget-view+json": {
       "model_id": "3336bb97aada4bc09a63762b4f1ffe73",
       "version_major": 2,
       "version_minor": 0
      },
      "text/plain": [
       "chain 1 |          | 00:00 Status"
      ]
     },
     "metadata": {},
     "output_type": "display_data"
    },
    {
     "data": {
      "application/vnd.jupyter.widget-view+json": {
       "model_id": "e3f7e07806e0494487e4b16e5da148c3",
       "version_major": 2,
       "version_minor": 0
      },
      "text/plain": [
       "chain 2 |          | 00:00 Status"
      ]
     },
     "metadata": {},
     "output_type": "display_data"
    },
    {
     "data": {
      "application/vnd.jupyter.widget-view+json": {
       "model_id": "07a5280c043748bb961e21d5c4a6c674",
       "version_major": 2,
       "version_minor": 0
      },
      "text/plain": [
       "chain 3 |          | 00:00 Status"
      ]
     },
     "metadata": {},
     "output_type": "display_data"
    },
    {
     "data": {
      "application/vnd.jupyter.widget-view+json": {
       "model_id": "76cec73ff87044fb91e895759a35bf85",
       "version_major": 2,
       "version_minor": 0
      },
      "text/plain": [
       "chain 4 |          | 00:00 Status"
      ]
     },
     "metadata": {},
     "output_type": "display_data"
    },
    {
     "name": "stdout",
     "output_type": "stream",
     "text": [
      "                                                                                                                                                                                                                                                                                                                                "
     ]
    },
    {
     "name": "stderr",
     "output_type": "stream",
     "text": [
      "08:38:40 - cmdstanpy - INFO - CmdStan done processing.\n",
      "08:38:40 - cmdstanpy - WARNING - Non-fatal error during sampling:\n",
      "Exception: normal_lpdf: Scale parameter is 0, but must be positive! (in '/home/br1/PythonProjects/bayesian_project/git_dir/bayes_colab/ARMA_bayesian_stan/code.stan', line 85, column 8 to column 31)\n",
      "Exception: normal_lpdf: Scale parameter is 0, but must be positive! (in '/home/br1/PythonProjects/bayesian_project/git_dir/bayes_colab/ARMA_bayesian_stan/code.stan', line 85, column 8 to column 31)\n",
      "Consider re-running with show_console=True if the above output is unclear!\n"
     ]
    },
    {
     "name": "stdout",
     "output_type": "stream",
     "text": [
      "\n"
     ]
    },
    {
     "name": "stderr",
     "output_type": "stream",
     "text": [
      "08:38:40 - cmdstanpy - INFO - CmdStan start processing\n"
     ]
    },
    {
     "data": {
      "application/vnd.jupyter.widget-view+json": {
       "model_id": "17406269459c4c5a8c7c70d7b02c99c2",
       "version_major": 2,
       "version_minor": 0
      },
      "text/plain": [
       "chain 1 |          | 00:00 Status"
      ]
     },
     "metadata": {},
     "output_type": "display_data"
    },
    {
     "data": {
      "application/vnd.jupyter.widget-view+json": {
       "model_id": "5601b7989ab5431daf6a414467fb7078",
       "version_major": 2,
       "version_minor": 0
      },
      "text/plain": [
       "chain 2 |          | 00:00 Status"
      ]
     },
     "metadata": {},
     "output_type": "display_data"
    },
    {
     "data": {
      "application/vnd.jupyter.widget-view+json": {
       "model_id": "70bf1b46f5274335ae9c3697d753e65c",
       "version_major": 2,
       "version_minor": 0
      },
      "text/plain": [
       "chain 3 |          | 00:00 Status"
      ]
     },
     "metadata": {},
     "output_type": "display_data"
    },
    {
     "data": {
      "application/vnd.jupyter.widget-view+json": {
       "model_id": "1f608e77ee554d8e8230819507bf3751",
       "version_major": 2,
       "version_minor": 0
      },
      "text/plain": [
       "chain 4 |          | 00:00 Status"
      ]
     },
     "metadata": {},
     "output_type": "display_data"
    },
    {
     "name": "stdout",
     "output_type": "stream",
     "text": [
      "                                                                                                                                                                                                                                                                                                                                "
     ]
    },
    {
     "name": "stderr",
     "output_type": "stream",
     "text": [
      "08:39:11 - cmdstanpy - INFO - CmdStan done processing.\n",
      "08:39:11 - cmdstanpy - WARNING - Non-fatal error during sampling:\n",
      "Exception: normal_lpdf: Scale parameter is 0, but must be positive! (in '/home/br1/PythonProjects/bayesian_project/git_dir/bayes_colab/ARMA_bayesian_stan/code.stan', line 85, column 8 to column 31)\n",
      "Exception: normal_lpdf: Scale parameter is 0, but must be positive! (in '/home/br1/PythonProjects/bayesian_project/git_dir/bayes_colab/ARMA_bayesian_stan/code.stan', line 85, column 8 to column 31)\n",
      "Consider re-running with show_console=True if the above output is unclear!\n"
     ]
    },
    {
     "name": "stdout",
     "output_type": "stream",
     "text": [
      "\n"
     ]
    },
    {
     "name": "stderr",
     "output_type": "stream",
     "text": [
      "08:39:12 - cmdstanpy - INFO - CmdStan start processing\n"
     ]
    },
    {
     "data": {
      "application/vnd.jupyter.widget-view+json": {
       "model_id": "d448d1171335411bac57ddf3c9926428",
       "version_major": 2,
       "version_minor": 0
      },
      "text/plain": [
       "chain 1 |          | 00:00 Status"
      ]
     },
     "metadata": {},
     "output_type": "display_data"
    },
    {
     "data": {
      "application/vnd.jupyter.widget-view+json": {
       "model_id": "478fe76504234284a7f76e53d76af6a3",
       "version_major": 2,
       "version_minor": 0
      },
      "text/plain": [
       "chain 2 |          | 00:00 Status"
      ]
     },
     "metadata": {},
     "output_type": "display_data"
    },
    {
     "data": {
      "application/vnd.jupyter.widget-view+json": {
       "model_id": "600ceb38826b4dff81c0a26d49825fa0",
       "version_major": 2,
       "version_minor": 0
      },
      "text/plain": [
       "chain 3 |          | 00:00 Status"
      ]
     },
     "metadata": {},
     "output_type": "display_data"
    },
    {
     "data": {
      "application/vnd.jupyter.widget-view+json": {
       "model_id": "19f7cb90425443de809dd7f9fca7a26e",
       "version_major": 2,
       "version_minor": 0
      },
      "text/plain": [
       "chain 4 |          | 00:00 Status"
      ]
     },
     "metadata": {},
     "output_type": "display_data"
    },
    {
     "name": "stdout",
     "output_type": "stream",
     "text": [
      "                                                                                                                                                                                                                                                                                                                                "
     ]
    },
    {
     "name": "stderr",
     "output_type": "stream",
     "text": [
      "08:40:05 - cmdstanpy - INFO - CmdStan done processing.\n",
      "08:40:05 - cmdstanpy - WARNING - Non-fatal error during sampling:\n",
      "Exception: normal_lpdf: Scale parameter is 0, but must be positive! (in '/home/br1/PythonProjects/bayesian_project/git_dir/bayes_colab/ARMA_bayesian_stan/code.stan', line 85, column 8 to column 31)\n",
      "Consider re-running with show_console=True if the above output is unclear!\n"
     ]
    },
    {
     "name": "stdout",
     "output_type": "stream",
     "text": [
      "\n"
     ]
    },
    {
     "name": "stderr",
     "output_type": "stream",
     "text": [
      "08:40:06 - cmdstanpy - INFO - CmdStan start processing\n"
     ]
    },
    {
     "data": {
      "application/vnd.jupyter.widget-view+json": {
       "model_id": "909ee0e8b3d144dfa6fbdc39f24a0df1",
       "version_major": 2,
       "version_minor": 0
      },
      "text/plain": [
       "chain 1 |          | 00:00 Status"
      ]
     },
     "metadata": {},
     "output_type": "display_data"
    },
    {
     "data": {
      "application/vnd.jupyter.widget-view+json": {
       "model_id": "cdf644d6f65a4834b8088beea07b6bf7",
       "version_major": 2,
       "version_minor": 0
      },
      "text/plain": [
       "chain 2 |          | 00:00 Status"
      ]
     },
     "metadata": {},
     "output_type": "display_data"
    },
    {
     "data": {
      "application/vnd.jupyter.widget-view+json": {
       "model_id": "cd96059562ae478c94480b9f17e86ce0",
       "version_major": 2,
       "version_minor": 0
      },
      "text/plain": [
       "chain 3 |          | 00:00 Status"
      ]
     },
     "metadata": {},
     "output_type": "display_data"
    },
    {
     "data": {
      "application/vnd.jupyter.widget-view+json": {
       "model_id": "89874b2a2d9641cdb1465a997e7123cd",
       "version_major": 2,
       "version_minor": 0
      },
      "text/plain": [
       "chain 4 |          | 00:00 Status"
      ]
     },
     "metadata": {},
     "output_type": "display_data"
    },
    {
     "name": "stdout",
     "output_type": "stream",
     "text": [
      "                                                                                                                                                                                                                                                                                                                                "
     ]
    },
    {
     "name": "stderr",
     "output_type": "stream",
     "text": [
      "08:41:08 - cmdstanpy - INFO - CmdStan done processing.\n"
     ]
    },
    {
     "name": "stdout",
     "output_type": "stream",
     "text": [
      "\n"
     ]
    },
    {
     "name": "stderr",
     "output_type": "stream",
     "text": [
      "08:41:09 - cmdstanpy - INFO - CmdStan start processing\n"
     ]
    },
    {
     "data": {
      "application/vnd.jupyter.widget-view+json": {
       "model_id": "6eaf526f80184ab19a6d4c96ca59937f",
       "version_major": 2,
       "version_minor": 0
      },
      "text/plain": [
       "chain 1 |          | 00:00 Status"
      ]
     },
     "metadata": {},
     "output_type": "display_data"
    },
    {
     "data": {
      "application/vnd.jupyter.widget-view+json": {
       "model_id": "fc2c60d6dafd4285a3ea83f45d0c8766",
       "version_major": 2,
       "version_minor": 0
      },
      "text/plain": [
       "chain 2 |          | 00:00 Status"
      ]
     },
     "metadata": {},
     "output_type": "display_data"
    },
    {
     "data": {
      "application/vnd.jupyter.widget-view+json": {
       "model_id": "ec5c7a08f10d4bf8b976fd9c1551f197",
       "version_major": 2,
       "version_minor": 0
      },
      "text/plain": [
       "chain 3 |          | 00:00 Status"
      ]
     },
     "metadata": {},
     "output_type": "display_data"
    },
    {
     "data": {
      "application/vnd.jupyter.widget-view+json": {
       "model_id": "1b0aafd053c04f8085c6ecfe16aa4a85",
       "version_major": 2,
       "version_minor": 0
      },
      "text/plain": [
       "chain 4 |          | 00:00 Status"
      ]
     },
     "metadata": {},
     "output_type": "display_data"
    },
    {
     "name": "stdout",
     "output_type": "stream",
     "text": [
      "                                                                                                                                                                                                                                                                                                                                "
     ]
    },
    {
     "name": "stderr",
     "output_type": "stream",
     "text": [
      "08:41:38 - cmdstanpy - INFO - CmdStan done processing.\n",
      "08:41:38 - cmdstanpy - WARNING - Non-fatal error during sampling:\n",
      "Exception: normal_lpdf: Scale parameter is 0, but must be positive! (in '/home/br1/PythonProjects/bayesian_project/git_dir/bayes_colab/ARMA_bayesian_stan/code.stan', line 85, column 8 to column 31)\n",
      "Consider re-running with show_console=True if the above output is unclear!\n"
     ]
    },
    {
     "name": "stdout",
     "output_type": "stream",
     "text": [
      "\n"
     ]
    },
    {
     "name": "stderr",
     "output_type": "stream",
     "text": [
      "08:41:39 - cmdstanpy - INFO - CmdStan start processing\n"
     ]
    },
    {
     "data": {
      "application/vnd.jupyter.widget-view+json": {
       "model_id": "5888dffc843c4139a5d66042cf477685",
       "version_major": 2,
       "version_minor": 0
      },
      "text/plain": [
       "chain 1 |          | 00:00 Status"
      ]
     },
     "metadata": {},
     "output_type": "display_data"
    },
    {
     "data": {
      "application/vnd.jupyter.widget-view+json": {
       "model_id": "feed50809abf4863ab7da41bd76ad47f",
       "version_major": 2,
       "version_minor": 0
      },
      "text/plain": [
       "chain 2 |          | 00:00 Status"
      ]
     },
     "metadata": {},
     "output_type": "display_data"
    },
    {
     "data": {
      "application/vnd.jupyter.widget-view+json": {
       "model_id": "5c28a5cfee6c4dd1a3802c40de686ef5",
       "version_major": 2,
       "version_minor": 0
      },
      "text/plain": [
       "chain 3 |          | 00:00 Status"
      ]
     },
     "metadata": {},
     "output_type": "display_data"
    },
    {
     "data": {
      "application/vnd.jupyter.widget-view+json": {
       "model_id": "d2d358d7bf134a2084ea0ddccdd67411",
       "version_major": 2,
       "version_minor": 0
      },
      "text/plain": [
       "chain 4 |          | 00:00 Status"
      ]
     },
     "metadata": {},
     "output_type": "display_data"
    },
    {
     "name": "stdout",
     "output_type": "stream",
     "text": [
      "                                                                                                                                                                                                                                                                                                                                "
     ]
    },
    {
     "name": "stderr",
     "output_type": "stream",
     "text": [
      "08:42:11 - cmdstanpy - INFO - CmdStan done processing.\n",
      "08:42:11 - cmdstanpy - WARNING - Non-fatal error during sampling:\n",
      "Exception: normal_lpdf: Scale parameter is 0, but must be positive! (in '/home/br1/PythonProjects/bayesian_project/git_dir/bayes_colab/ARMA_bayesian_stan/code.stan', line 85, column 8 to column 31)\n",
      "Consider re-running with show_console=True if the above output is unclear!\n"
     ]
    },
    {
     "name": "stdout",
     "output_type": "stream",
     "text": [
      "\n"
     ]
    },
    {
     "name": "stderr",
     "output_type": "stream",
     "text": [
      "08:42:12 - cmdstanpy - INFO - CmdStan start processing\n"
     ]
    },
    {
     "data": {
      "application/vnd.jupyter.widget-view+json": {
       "model_id": "34b25c2a90e344d0b9cd98e2eae06c69",
       "version_major": 2,
       "version_minor": 0
      },
      "text/plain": [
       "chain 1 |          | 00:00 Status"
      ]
     },
     "metadata": {},
     "output_type": "display_data"
    },
    {
     "data": {
      "application/vnd.jupyter.widget-view+json": {
       "model_id": "0a2375714ca54669ab4c2e3e0629160e",
       "version_major": 2,
       "version_minor": 0
      },
      "text/plain": [
       "chain 2 |          | 00:00 Status"
      ]
     },
     "metadata": {},
     "output_type": "display_data"
    },
    {
     "data": {
      "application/vnd.jupyter.widget-view+json": {
       "model_id": "df30e9896af948f892f5326b89dcd658",
       "version_major": 2,
       "version_minor": 0
      },
      "text/plain": [
       "chain 3 |          | 00:00 Status"
      ]
     },
     "metadata": {},
     "output_type": "display_data"
    },
    {
     "data": {
      "application/vnd.jupyter.widget-view+json": {
       "model_id": "38ca90e6cb5b4447ab0f0a46f716b10b",
       "version_major": 2,
       "version_minor": 0
      },
      "text/plain": [
       "chain 4 |          | 00:00 Status"
      ]
     },
     "metadata": {},
     "output_type": "display_data"
    },
    {
     "name": "stdout",
     "output_type": "stream",
     "text": [
      "                                                                                                                                                                                                                                                                                                                                "
     ]
    },
    {
     "name": "stderr",
     "output_type": "stream",
     "text": [
      "08:42:40 - cmdstanpy - INFO - CmdStan done processing.\n",
      "08:42:40 - cmdstanpy - WARNING - Non-fatal error during sampling:\n",
      "Exception: normal_lpdf: Scale parameter is 0, but must be positive! (in '/home/br1/PythonProjects/bayesian_project/git_dir/bayes_colab/ARMA_bayesian_stan/code.stan', line 85, column 8 to column 31)\n",
      "Consider re-running with show_console=True if the above output is unclear!\n"
     ]
    },
    {
     "name": "stdout",
     "output_type": "stream",
     "text": [
      "\n"
     ]
    },
    {
     "name": "stderr",
     "output_type": "stream",
     "text": [
      "08:42:41 - cmdstanpy - INFO - CmdStan start processing\n"
     ]
    },
    {
     "data": {
      "application/vnd.jupyter.widget-view+json": {
       "model_id": "80ad83e28a2646a0babe93cc993cf1c4",
       "version_major": 2,
       "version_minor": 0
      },
      "text/plain": [
       "chain 1 |          | 00:00 Status"
      ]
     },
     "metadata": {},
     "output_type": "display_data"
    },
    {
     "data": {
      "application/vnd.jupyter.widget-view+json": {
       "model_id": "db0221718af84871a20b1e9396355ead",
       "version_major": 2,
       "version_minor": 0
      },
      "text/plain": [
       "chain 2 |          | 00:00 Status"
      ]
     },
     "metadata": {},
     "output_type": "display_data"
    },
    {
     "data": {
      "application/vnd.jupyter.widget-view+json": {
       "model_id": "46bd68dc8ab34315b7fb09b4b1f5e635",
       "version_major": 2,
       "version_minor": 0
      },
      "text/plain": [
       "chain 3 |          | 00:00 Status"
      ]
     },
     "metadata": {},
     "output_type": "display_data"
    },
    {
     "data": {
      "application/vnd.jupyter.widget-view+json": {
       "model_id": "423e77234f6542b1ace847455f02e0a2",
       "version_major": 2,
       "version_minor": 0
      },
      "text/plain": [
       "chain 4 |          | 00:00 Status"
      ]
     },
     "metadata": {},
     "output_type": "display_data"
    },
    {
     "name": "stdout",
     "output_type": "stream",
     "text": [
      "                                                                                                                                                                                                                                                                                                                                "
     ]
    },
    {
     "name": "stderr",
     "output_type": "stream",
     "text": [
      "08:43:23 - cmdstanpy - INFO - CmdStan done processing.\n",
      "08:43:23 - cmdstanpy - WARNING - Non-fatal error during sampling:\n",
      "Exception: normal_lpdf: Scale parameter is 0, but must be positive! (in '/home/br1/PythonProjects/bayesian_project/git_dir/bayes_colab/ARMA_bayesian_stan/code.stan', line 85, column 8 to column 31)\n",
      "Exception: normal_lpdf: Scale parameter is 0, but must be positive! (in '/home/br1/PythonProjects/bayesian_project/git_dir/bayes_colab/ARMA_bayesian_stan/code.stan', line 85, column 8 to column 31)\n",
      "Consider re-running with show_console=True if the above output is unclear!\n"
     ]
    },
    {
     "name": "stdout",
     "output_type": "stream",
     "text": [
      "\n"
     ]
    },
    {
     "name": "stderr",
     "output_type": "stream",
     "text": [
      "08:43:23 - cmdstanpy - INFO - CmdStan start processing\n"
     ]
    },
    {
     "data": {
      "application/vnd.jupyter.widget-view+json": {
       "model_id": "5a7f63b84fd74607aa7ad02bf729aafb",
       "version_major": 2,
       "version_minor": 0
      },
      "text/plain": [
       "chain 1 |          | 00:00 Status"
      ]
     },
     "metadata": {},
     "output_type": "display_data"
    },
    {
     "data": {
      "application/vnd.jupyter.widget-view+json": {
       "model_id": "108009689ee749d5bcbe7573ffa88caa",
       "version_major": 2,
       "version_minor": 0
      },
      "text/plain": [
       "chain 2 |          | 00:00 Status"
      ]
     },
     "metadata": {},
     "output_type": "display_data"
    },
    {
     "data": {
      "application/vnd.jupyter.widget-view+json": {
       "model_id": "05ece4a838b840e5b016d983ae10072e",
       "version_major": 2,
       "version_minor": 0
      },
      "text/plain": [
       "chain 3 |          | 00:00 Status"
      ]
     },
     "metadata": {},
     "output_type": "display_data"
    },
    {
     "data": {
      "application/vnd.jupyter.widget-view+json": {
       "model_id": "fe6d6d390aa6454e87964191fbc7552b",
       "version_major": 2,
       "version_minor": 0
      },
      "text/plain": [
       "chain 4 |          | 00:00 Status"
      ]
     },
     "metadata": {},
     "output_type": "display_data"
    },
    {
     "name": "stdout",
     "output_type": "stream",
     "text": [
      "                                                                                                                                                                                                                                                                                                                                "
     ]
    },
    {
     "name": "stderr",
     "output_type": "stream",
     "text": [
      "08:44:13 - cmdstanpy - INFO - CmdStan done processing.\n",
      "08:44:13 - cmdstanpy - WARNING - Non-fatal error during sampling:\n",
      "Exception: normal_lpdf: Scale parameter is 0, but must be positive! (in '/home/br1/PythonProjects/bayesian_project/git_dir/bayes_colab/ARMA_bayesian_stan/code.stan', line 85, column 8 to column 31)\n",
      "Exception: normal_lpdf: Scale parameter is 0, but must be positive! (in '/home/br1/PythonProjects/bayesian_project/git_dir/bayes_colab/ARMA_bayesian_stan/code.stan', line 85, column 8 to column 31)\n",
      "Consider re-running with show_console=True if the above output is unclear!\n"
     ]
    },
    {
     "name": "stdout",
     "output_type": "stream",
     "text": [
      "\n"
     ]
    },
    {
     "name": "stderr",
     "output_type": "stream",
     "text": [
      "08:44:14 - cmdstanpy - INFO - CmdStan start processing\n"
     ]
    },
    {
     "data": {
      "application/vnd.jupyter.widget-view+json": {
       "model_id": "64e435c9fb5c405b868a8d4c8666156f",
       "version_major": 2,
       "version_minor": 0
      },
      "text/plain": [
       "chain 1 |          | 00:00 Status"
      ]
     },
     "metadata": {},
     "output_type": "display_data"
    },
    {
     "data": {
      "application/vnd.jupyter.widget-view+json": {
       "model_id": "facfb22507194e13ad2f80ba05377e99",
       "version_major": 2,
       "version_minor": 0
      },
      "text/plain": [
       "chain 2 |          | 00:00 Status"
      ]
     },
     "metadata": {},
     "output_type": "display_data"
    },
    {
     "data": {
      "application/vnd.jupyter.widget-view+json": {
       "model_id": "081bdd44570d4fab97d5bd4309f4c726",
       "version_major": 2,
       "version_minor": 0
      },
      "text/plain": [
       "chain 3 |          | 00:00 Status"
      ]
     },
     "metadata": {},
     "output_type": "display_data"
    },
    {
     "data": {
      "application/vnd.jupyter.widget-view+json": {
       "model_id": "6de214653c9d4a249f17c63ef983ba89",
       "version_major": 2,
       "version_minor": 0
      },
      "text/plain": [
       "chain 4 |          | 00:00 Status"
      ]
     },
     "metadata": {},
     "output_type": "display_data"
    },
    {
     "name": "stdout",
     "output_type": "stream",
     "text": [
      "                                                                                                                                                                                                                                                                                                                                "
     ]
    },
    {
     "name": "stderr",
     "output_type": "stream",
     "text": [
      "08:44:45 - cmdstanpy - INFO - CmdStan done processing.\n",
      "08:44:45 - cmdstanpy - WARNING - Non-fatal error during sampling:\n",
      "Exception: normal_lpdf: Scale parameter is 0, but must be positive! (in '/home/br1/PythonProjects/bayesian_project/git_dir/bayes_colab/ARMA_bayesian_stan/code.stan', line 85, column 8 to column 31)\n",
      "Exception: normal_lpdf: Scale parameter is 0, but must be positive! (in '/home/br1/PythonProjects/bayesian_project/git_dir/bayes_colab/ARMA_bayesian_stan/code.stan', line 85, column 8 to column 31)\n",
      "Consider re-running with show_console=True if the above output is unclear!\n"
     ]
    },
    {
     "name": "stdout",
     "output_type": "stream",
     "text": [
      "\n"
     ]
    },
    {
     "name": "stderr",
     "output_type": "stream",
     "text": [
      "08:44:45 - cmdstanpy - INFO - CmdStan start processing\n"
     ]
    },
    {
     "data": {
      "application/vnd.jupyter.widget-view+json": {
       "model_id": "fe1d231ecd0c48a58fcb1e42146130a9",
       "version_major": 2,
       "version_minor": 0
      },
      "text/plain": [
       "chain 1 |          | 00:00 Status"
      ]
     },
     "metadata": {},
     "output_type": "display_data"
    },
    {
     "data": {
      "application/vnd.jupyter.widget-view+json": {
       "model_id": "4d01fd7cb26f4c49a4184ab2734170e7",
       "version_major": 2,
       "version_minor": 0
      },
      "text/plain": [
       "chain 2 |          | 00:00 Status"
      ]
     },
     "metadata": {},
     "output_type": "display_data"
    },
    {
     "data": {
      "application/vnd.jupyter.widget-view+json": {
       "model_id": "168d4334bfc84c9ea03f05185f92cd02",
       "version_major": 2,
       "version_minor": 0
      },
      "text/plain": [
       "chain 3 |          | 00:00 Status"
      ]
     },
     "metadata": {},
     "output_type": "display_data"
    },
    {
     "data": {
      "application/vnd.jupyter.widget-view+json": {
       "model_id": "61704a43fa794b40803baf65ce3869d8",
       "version_major": 2,
       "version_minor": 0
      },
      "text/plain": [
       "chain 4 |          | 00:00 Status"
      ]
     },
     "metadata": {},
     "output_type": "display_data"
    },
    {
     "name": "stdout",
     "output_type": "stream",
     "text": [
      "                                                                                                                                                                                                                                                                                                                                "
     ]
    },
    {
     "name": "stderr",
     "output_type": "stream",
     "text": [
      "08:45:14 - cmdstanpy - INFO - CmdStan done processing.\n",
      "08:45:14 - cmdstanpy - WARNING - Non-fatal error during sampling:\n",
      "Exception: normal_lpdf: Scale parameter is 0, but must be positive! (in '/home/br1/PythonProjects/bayesian_project/git_dir/bayes_colab/ARMA_bayesian_stan/code.stan', line 85, column 8 to column 31)\n",
      "Consider re-running with show_console=True if the above output is unclear!\n"
     ]
    },
    {
     "name": "stdout",
     "output_type": "stream",
     "text": [
      "\n"
     ]
    },
    {
     "name": "stderr",
     "output_type": "stream",
     "text": [
      "08:45:15 - cmdstanpy - INFO - CmdStan start processing\n"
     ]
    },
    {
     "data": {
      "application/vnd.jupyter.widget-view+json": {
       "model_id": "db5cb10344994ea0b2af0932eb639f1e",
       "version_major": 2,
       "version_minor": 0
      },
      "text/plain": [
       "chain 1 |          | 00:00 Status"
      ]
     },
     "metadata": {},
     "output_type": "display_data"
    },
    {
     "data": {
      "application/vnd.jupyter.widget-view+json": {
       "model_id": "414e80e255ca4ed1b2818b86865d2d3a",
       "version_major": 2,
       "version_minor": 0
      },
      "text/plain": [
       "chain 2 |          | 00:00 Status"
      ]
     },
     "metadata": {},
     "output_type": "display_data"
    },
    {
     "data": {
      "application/vnd.jupyter.widget-view+json": {
       "model_id": "c0dff926ce0a4f1f9e9e134373a4636c",
       "version_major": 2,
       "version_minor": 0
      },
      "text/plain": [
       "chain 3 |          | 00:00 Status"
      ]
     },
     "metadata": {},
     "output_type": "display_data"
    },
    {
     "data": {
      "application/vnd.jupyter.widget-view+json": {
       "model_id": "029eff80196c43f994c49842020dc106",
       "version_major": 2,
       "version_minor": 0
      },
      "text/plain": [
       "chain 4 |          | 00:00 Status"
      ]
     },
     "metadata": {},
     "output_type": "display_data"
    },
    {
     "name": "stdout",
     "output_type": "stream",
     "text": [
      "                                                                                                                                                                                                                                                                                                                                "
     ]
    },
    {
     "name": "stderr",
     "output_type": "stream",
     "text": [
      "08:45:37 - cmdstanpy - INFO - CmdStan done processing.\n",
      "08:45:37 - cmdstanpy - WARNING - Non-fatal error during sampling:\n",
      "Exception: normal_lpdf: Scale parameter is 0, but must be positive! (in '/home/br1/PythonProjects/bayesian_project/git_dir/bayes_colab/ARMA_bayesian_stan/code.stan', line 85, column 8 to column 31)\n",
      "Consider re-running with show_console=True if the above output is unclear!\n"
     ]
    },
    {
     "name": "stdout",
     "output_type": "stream",
     "text": [
      "\n"
     ]
    },
    {
     "name": "stderr",
     "output_type": "stream",
     "text": [
      "08:45:38 - cmdstanpy - INFO - CmdStan start processing\n"
     ]
    },
    {
     "data": {
      "application/vnd.jupyter.widget-view+json": {
       "model_id": "74c33b719ea042a1af2bea37c477e4c0",
       "version_major": 2,
       "version_minor": 0
      },
      "text/plain": [
       "chain 1 |          | 00:00 Status"
      ]
     },
     "metadata": {},
     "output_type": "display_data"
    },
    {
     "data": {
      "application/vnd.jupyter.widget-view+json": {
       "model_id": "870db2ac4c774c7585cb5e41fab07ae8",
       "version_major": 2,
       "version_minor": 0
      },
      "text/plain": [
       "chain 2 |          | 00:00 Status"
      ]
     },
     "metadata": {},
     "output_type": "display_data"
    },
    {
     "data": {
      "application/vnd.jupyter.widget-view+json": {
       "model_id": "8e1dcfb0273c471fa9a03a8b1ead7815",
       "version_major": 2,
       "version_minor": 0
      },
      "text/plain": [
       "chain 3 |          | 00:00 Status"
      ]
     },
     "metadata": {},
     "output_type": "display_data"
    },
    {
     "data": {
      "application/vnd.jupyter.widget-view+json": {
       "model_id": "1c23102eef484ed5a77add018bf548ba",
       "version_major": 2,
       "version_minor": 0
      },
      "text/plain": [
       "chain 4 |          | 00:00 Status"
      ]
     },
     "metadata": {},
     "output_type": "display_data"
    },
    {
     "name": "stdout",
     "output_type": "stream",
     "text": [
      "                                                                                                                                                                                                                                                                                                                                "
     ]
    },
    {
     "name": "stderr",
     "output_type": "stream",
     "text": [
      "08:46:08 - cmdstanpy - INFO - CmdStan done processing.\n"
     ]
    },
    {
     "name": "stdout",
     "output_type": "stream",
     "text": [
      "\n"
     ]
    },
    {
     "name": "stderr",
     "output_type": "stream",
     "text": [
      "08:46:09 - cmdstanpy - INFO - CmdStan start processing\n"
     ]
    },
    {
     "data": {
      "application/vnd.jupyter.widget-view+json": {
       "model_id": "43627650b65143b0aa64a54fb369bf9d",
       "version_major": 2,
       "version_minor": 0
      },
      "text/plain": [
       "chain 1 |          | 00:00 Status"
      ]
     },
     "metadata": {},
     "output_type": "display_data"
    },
    {
     "data": {
      "application/vnd.jupyter.widget-view+json": {
       "model_id": "a49baf75dede45efa434ed33f6756246",
       "version_major": 2,
       "version_minor": 0
      },
      "text/plain": [
       "chain 2 |          | 00:00 Status"
      ]
     },
     "metadata": {},
     "output_type": "display_data"
    },
    {
     "data": {
      "application/vnd.jupyter.widget-view+json": {
       "model_id": "c3dbc3f837744d48b7c0700feb16a430",
       "version_major": 2,
       "version_minor": 0
      },
      "text/plain": [
       "chain 3 |          | 00:00 Status"
      ]
     },
     "metadata": {},
     "output_type": "display_data"
    },
    {
     "data": {
      "application/vnd.jupyter.widget-view+json": {
       "model_id": "579d9cac90e247d38edc9b5196c10e4f",
       "version_major": 2,
       "version_minor": 0
      },
      "text/plain": [
       "chain 4 |          | 00:00 Status"
      ]
     },
     "metadata": {},
     "output_type": "display_data"
    },
    {
     "name": "stdout",
     "output_type": "stream",
     "text": [
      "                                                                                                                                                                                                                                                                                                                                "
     ]
    },
    {
     "name": "stderr",
     "output_type": "stream",
     "text": [
      "08:46:56 - cmdstanpy - INFO - CmdStan done processing.\n",
      "08:46:56 - cmdstanpy - WARNING - Non-fatal error during sampling:\n",
      "Exception: normal_lpdf: Scale parameter is 0, but must be positive! (in '/home/br1/PythonProjects/bayesian_project/git_dir/bayes_colab/ARMA_bayesian_stan/code.stan', line 85, column 8 to column 31)\n",
      "Consider re-running with show_console=True if the above output is unclear!\n"
     ]
    },
    {
     "name": "stdout",
     "output_type": "stream",
     "text": [
      "\n"
     ]
    },
    {
     "name": "stderr",
     "output_type": "stream",
     "text": [
      "08:46:57 - cmdstanpy - INFO - CmdStan start processing\n"
     ]
    },
    {
     "data": {
      "application/vnd.jupyter.widget-view+json": {
       "model_id": "c6870c0e8e4d4577a9741dfc1c3f0f8f",
       "version_major": 2,
       "version_minor": 0
      },
      "text/plain": [
       "chain 1 |          | 00:00 Status"
      ]
     },
     "metadata": {},
     "output_type": "display_data"
    },
    {
     "data": {
      "application/vnd.jupyter.widget-view+json": {
       "model_id": "e13c0a925f414b0fa59edd08bdee1c13",
       "version_major": 2,
       "version_minor": 0
      },
      "text/plain": [
       "chain 2 |          | 00:00 Status"
      ]
     },
     "metadata": {},
     "output_type": "display_data"
    },
    {
     "data": {
      "application/vnd.jupyter.widget-view+json": {
       "model_id": "26dfb8b24d78470a802fb1284dd7ff64",
       "version_major": 2,
       "version_minor": 0
      },
      "text/plain": [
       "chain 3 |          | 00:00 Status"
      ]
     },
     "metadata": {},
     "output_type": "display_data"
    },
    {
     "data": {
      "application/vnd.jupyter.widget-view+json": {
       "model_id": "58a076c34f814239b93a1dfb9ec32915",
       "version_major": 2,
       "version_minor": 0
      },
      "text/plain": [
       "chain 4 |          | 00:00 Status"
      ]
     },
     "metadata": {},
     "output_type": "display_data"
    },
    {
     "name": "stdout",
     "output_type": "stream",
     "text": [
      "                                                                                                                                                                                                                                                                                                                                "
     ]
    },
    {
     "name": "stderr",
     "output_type": "stream",
     "text": [
      "08:47:28 - cmdstanpy - INFO - CmdStan done processing.\n",
      "08:47:28 - cmdstanpy - WARNING - Non-fatal error during sampling:\n",
      "Exception: normal_lpdf: Scale parameter is 0, but must be positive! (in '/home/br1/PythonProjects/bayesian_project/git_dir/bayes_colab/ARMA_bayesian_stan/code.stan', line 85, column 8 to column 31)\n",
      "Exception: normal_lpdf: Scale parameter is 0, but must be positive! (in '/home/br1/PythonProjects/bayesian_project/git_dir/bayes_colab/ARMA_bayesian_stan/code.stan', line 85, column 8 to column 31)\n",
      "Consider re-running with show_console=True if the above output is unclear!\n"
     ]
    },
    {
     "name": "stdout",
     "output_type": "stream",
     "text": [
      "\n"
     ]
    },
    {
     "name": "stderr",
     "output_type": "stream",
     "text": [
      "08:47:29 - cmdstanpy - INFO - CmdStan start processing\n"
     ]
    },
    {
     "data": {
      "application/vnd.jupyter.widget-view+json": {
       "model_id": "6292201c55874f769489ff81f7174fbc",
       "version_major": 2,
       "version_minor": 0
      },
      "text/plain": [
       "chain 1 |          | 00:00 Status"
      ]
     },
     "metadata": {},
     "output_type": "display_data"
    },
    {
     "data": {
      "application/vnd.jupyter.widget-view+json": {
       "model_id": "a9f777e348cd431b8d1841cb7122a429",
       "version_major": 2,
       "version_minor": 0
      },
      "text/plain": [
       "chain 2 |          | 00:00 Status"
      ]
     },
     "metadata": {},
     "output_type": "display_data"
    },
    {
     "data": {
      "application/vnd.jupyter.widget-view+json": {
       "model_id": "ff2349a974da430ab52aa8dc9c82ba6d",
       "version_major": 2,
       "version_minor": 0
      },
      "text/plain": [
       "chain 3 |          | 00:00 Status"
      ]
     },
     "metadata": {},
     "output_type": "display_data"
    },
    {
     "data": {
      "application/vnd.jupyter.widget-view+json": {
       "model_id": "b1819754a33647e3a58572e36fb01d9d",
       "version_major": 2,
       "version_minor": 0
      },
      "text/plain": [
       "chain 4 |          | 00:00 Status"
      ]
     },
     "metadata": {},
     "output_type": "display_data"
    },
    {
     "name": "stdout",
     "output_type": "stream",
     "text": [
      "                                                                                                                                                                                                                                                                                                                                "
     ]
    },
    {
     "name": "stderr",
     "output_type": "stream",
     "text": [
      "08:47:57 - cmdstanpy - INFO - CmdStan done processing.\n",
      "08:47:57 - cmdstanpy - WARNING - Non-fatal error during sampling:\n",
      "Exception: normal_lpdf: Scale parameter is 0, but must be positive! (in '/home/br1/PythonProjects/bayesian_project/git_dir/bayes_colab/ARMA_bayesian_stan/code.stan', line 85, column 8 to column 31)\n",
      "Consider re-running with show_console=True if the above output is unclear!\n"
     ]
    },
    {
     "name": "stdout",
     "output_type": "stream",
     "text": [
      "\n"
     ]
    },
    {
     "name": "stderr",
     "output_type": "stream",
     "text": [
      "08:47:58 - cmdstanpy - INFO - CmdStan start processing\n"
     ]
    },
    {
     "data": {
      "application/vnd.jupyter.widget-view+json": {
       "model_id": "497c5dda47964d849e89a1d98b260390",
       "version_major": 2,
       "version_minor": 0
      },
      "text/plain": [
       "chain 1 |          | 00:00 Status"
      ]
     },
     "metadata": {},
     "output_type": "display_data"
    },
    {
     "data": {
      "application/vnd.jupyter.widget-view+json": {
       "model_id": "6743b2258d144346ad589ca5afc26311",
       "version_major": 2,
       "version_minor": 0
      },
      "text/plain": [
       "chain 2 |          | 00:00 Status"
      ]
     },
     "metadata": {},
     "output_type": "display_data"
    },
    {
     "data": {
      "application/vnd.jupyter.widget-view+json": {
       "model_id": "2ddd3382d0bd44179b3cda24852803c7",
       "version_major": 2,
       "version_minor": 0
      },
      "text/plain": [
       "chain 3 |          | 00:00 Status"
      ]
     },
     "metadata": {},
     "output_type": "display_data"
    },
    {
     "data": {
      "application/vnd.jupyter.widget-view+json": {
       "model_id": "a1fc9f01da3a4091baee615b7e2c130f",
       "version_major": 2,
       "version_minor": 0
      },
      "text/plain": [
       "chain 4 |          | 00:00 Status"
      ]
     },
     "metadata": {},
     "output_type": "display_data"
    },
    {
     "name": "stdout",
     "output_type": "stream",
     "text": [
      "                                                                                                                                                                                                                                                                                                                                "
     ]
    },
    {
     "name": "stderr",
     "output_type": "stream",
     "text": [
      "08:48:28 - cmdstanpy - INFO - CmdStan done processing.\n",
      "08:48:28 - cmdstanpy - WARNING - Non-fatal error during sampling:\n",
      "Exception: normal_lpdf: Scale parameter is 0, but must be positive! (in '/home/br1/PythonProjects/bayesian_project/git_dir/bayes_colab/ARMA_bayesian_stan/code.stan', line 85, column 8 to column 31)\n",
      "Consider re-running with show_console=True if the above output is unclear!\n"
     ]
    },
    {
     "name": "stdout",
     "output_type": "stream",
     "text": [
      "\n"
     ]
    },
    {
     "name": "stderr",
     "output_type": "stream",
     "text": [
      "08:48:29 - cmdstanpy - INFO - CmdStan start processing\n"
     ]
    },
    {
     "data": {
      "application/vnd.jupyter.widget-view+json": {
       "model_id": "28c6a3865e53418c8824d99509ec1ea9",
       "version_major": 2,
       "version_minor": 0
      },
      "text/plain": [
       "chain 1 |          | 00:00 Status"
      ]
     },
     "metadata": {},
     "output_type": "display_data"
    },
    {
     "data": {
      "application/vnd.jupyter.widget-view+json": {
       "model_id": "892c351f06b749c4bc2424a601ae51c1",
       "version_major": 2,
       "version_minor": 0
      },
      "text/plain": [
       "chain 2 |          | 00:00 Status"
      ]
     },
     "metadata": {},
     "output_type": "display_data"
    },
    {
     "data": {
      "application/vnd.jupyter.widget-view+json": {
       "model_id": "c74815142260435381fb4ee9b3b5863d",
       "version_major": 2,
       "version_minor": 0
      },
      "text/plain": [
       "chain 3 |          | 00:00 Status"
      ]
     },
     "metadata": {},
     "output_type": "display_data"
    },
    {
     "data": {
      "application/vnd.jupyter.widget-view+json": {
       "model_id": "71cec01951d0440fbd32116f7f3b83e3",
       "version_major": 2,
       "version_minor": 0
      },
      "text/plain": [
       "chain 4 |          | 00:00 Status"
      ]
     },
     "metadata": {},
     "output_type": "display_data"
    },
    {
     "name": "stdout",
     "output_type": "stream",
     "text": [
      "                                                                                                                                                                                                                                                                                                                                "
     ]
    },
    {
     "name": "stderr",
     "output_type": "stream",
     "text": [
      "08:48:57 - cmdstanpy - INFO - CmdStan done processing.\n",
      "08:48:57 - cmdstanpy - WARNING - Non-fatal error during sampling:\n",
      "Exception: normal_lpdf: Scale parameter is 0, but must be positive! (in '/home/br1/PythonProjects/bayesian_project/git_dir/bayes_colab/ARMA_bayesian_stan/code.stan', line 85, column 8 to column 31)\n",
      "Consider re-running with show_console=True if the above output is unclear!\n"
     ]
    },
    {
     "name": "stdout",
     "output_type": "stream",
     "text": [
      "\n"
     ]
    },
    {
     "name": "stderr",
     "output_type": "stream",
     "text": [
      "08:48:58 - cmdstanpy - INFO - CmdStan start processing\n"
     ]
    },
    {
     "data": {
      "application/vnd.jupyter.widget-view+json": {
       "model_id": "5771a47f194543cf977147424a2c80e4",
       "version_major": 2,
       "version_minor": 0
      },
      "text/plain": [
       "chain 1 |          | 00:00 Status"
      ]
     },
     "metadata": {},
     "output_type": "display_data"
    },
    {
     "data": {
      "application/vnd.jupyter.widget-view+json": {
       "model_id": "42ebcf45021d4ef5be6ddf8864036e8f",
       "version_major": 2,
       "version_minor": 0
      },
      "text/plain": [
       "chain 2 |          | 00:00 Status"
      ]
     },
     "metadata": {},
     "output_type": "display_data"
    },
    {
     "data": {
      "application/vnd.jupyter.widget-view+json": {
       "model_id": "d93fcd64f8e943de96367e783210204d",
       "version_major": 2,
       "version_minor": 0
      },
      "text/plain": [
       "chain 3 |          | 00:00 Status"
      ]
     },
     "metadata": {},
     "output_type": "display_data"
    },
    {
     "data": {
      "application/vnd.jupyter.widget-view+json": {
       "model_id": "0a4ba84c21604db5afd50f15d18c39db",
       "version_major": 2,
       "version_minor": 0
      },
      "text/plain": [
       "chain 4 |          | 00:00 Status"
      ]
     },
     "metadata": {},
     "output_type": "display_data"
    },
    {
     "name": "stdout",
     "output_type": "stream",
     "text": [
      "                                                                                                                                                                                                                                                                                                                                "
     ]
    },
    {
     "name": "stderr",
     "output_type": "stream",
     "text": [
      "08:49:26 - cmdstanpy - INFO - CmdStan done processing.\n",
      "08:49:26 - cmdstanpy - WARNING - Non-fatal error during sampling:\n",
      "Exception: normal_lpdf: Scale parameter is 0, but must be positive! (in '/home/br1/PythonProjects/bayesian_project/git_dir/bayes_colab/ARMA_bayesian_stan/code.stan', line 85, column 8 to column 31)\n",
      "Consider re-running with show_console=True if the above output is unclear!\n"
     ]
    },
    {
     "name": "stdout",
     "output_type": "stream",
     "text": [
      "\n"
     ]
    },
    {
     "name": "stderr",
     "output_type": "stream",
     "text": [
      "08:49:27 - cmdstanpy - INFO - CmdStan start processing\n"
     ]
    },
    {
     "data": {
      "application/vnd.jupyter.widget-view+json": {
       "model_id": "c8a159243bc443c783ca6cc5060d037a",
       "version_major": 2,
       "version_minor": 0
      },
      "text/plain": [
       "chain 1 |          | 00:00 Status"
      ]
     },
     "metadata": {},
     "output_type": "display_data"
    },
    {
     "data": {
      "application/vnd.jupyter.widget-view+json": {
       "model_id": "ebfea4c1fe034bcba0da985c30f381ca",
       "version_major": 2,
       "version_minor": 0
      },
      "text/plain": [
       "chain 2 |          | 00:00 Status"
      ]
     },
     "metadata": {},
     "output_type": "display_data"
    },
    {
     "data": {
      "application/vnd.jupyter.widget-view+json": {
       "model_id": "5be95928a3074ee0b301b27d99d04d7d",
       "version_major": 2,
       "version_minor": 0
      },
      "text/plain": [
       "chain 3 |          | 00:00 Status"
      ]
     },
     "metadata": {},
     "output_type": "display_data"
    },
    {
     "data": {
      "application/vnd.jupyter.widget-view+json": {
       "model_id": "2f69d321855640e0ad050677030611fe",
       "version_major": 2,
       "version_minor": 0
      },
      "text/plain": [
       "chain 4 |          | 00:00 Status"
      ]
     },
     "metadata": {},
     "output_type": "display_data"
    },
    {
     "name": "stdout",
     "output_type": "stream",
     "text": [
      "                                                                                                                                                                                                                                                                                                                                "
     ]
    },
    {
     "name": "stderr",
     "output_type": "stream",
     "text": [
      "08:49:58 - cmdstanpy - INFO - CmdStan done processing.\n",
      "08:49:58 - cmdstanpy - WARNING - Non-fatal error during sampling:\n",
      "Exception: normal_lpdf: Scale parameter is 0, but must be positive! (in '/home/br1/PythonProjects/bayesian_project/git_dir/bayes_colab/ARMA_bayesian_stan/code.stan', line 85, column 8 to column 31)\n",
      "Consider re-running with show_console=True if the above output is unclear!\n"
     ]
    },
    {
     "name": "stdout",
     "output_type": "stream",
     "text": [
      "\n"
     ]
    },
    {
     "name": "stderr",
     "output_type": "stream",
     "text": [
      "08:49:58 - cmdstanpy - INFO - CmdStan start processing\n"
     ]
    },
    {
     "data": {
      "application/vnd.jupyter.widget-view+json": {
       "model_id": "ac2f11139b7949fc9b32ba0878ed508b",
       "version_major": 2,
       "version_minor": 0
      },
      "text/plain": [
       "chain 1 |          | 00:00 Status"
      ]
     },
     "metadata": {},
     "output_type": "display_data"
    },
    {
     "data": {
      "application/vnd.jupyter.widget-view+json": {
       "model_id": "12d4657ae0b64e61b8b3b1d499d1af6d",
       "version_major": 2,
       "version_minor": 0
      },
      "text/plain": [
       "chain 2 |          | 00:00 Status"
      ]
     },
     "metadata": {},
     "output_type": "display_data"
    },
    {
     "data": {
      "application/vnd.jupyter.widget-view+json": {
       "model_id": "6e2364fb46274568b8583c427ab8771e",
       "version_major": 2,
       "version_minor": 0
      },
      "text/plain": [
       "chain 3 |          | 00:00 Status"
      ]
     },
     "metadata": {},
     "output_type": "display_data"
    },
    {
     "data": {
      "application/vnd.jupyter.widget-view+json": {
       "model_id": "6224ea720e2a4817bb90a0b6258600c1",
       "version_major": 2,
       "version_minor": 0
      },
      "text/plain": [
       "chain 4 |          | 00:00 Status"
      ]
     },
     "metadata": {},
     "output_type": "display_data"
    },
    {
     "name": "stdout",
     "output_type": "stream",
     "text": [
      "                                                                                                                                                                                                                                                                                                                                "
     ]
    },
    {
     "name": "stderr",
     "output_type": "stream",
     "text": [
      "08:50:51 - cmdstanpy - INFO - CmdStan done processing.\n",
      "08:50:51 - cmdstanpy - WARNING - Non-fatal error during sampling:\n",
      "Exception: normal_lpdf: Scale parameter is 0, but must be positive! (in '/home/br1/PythonProjects/bayesian_project/git_dir/bayes_colab/ARMA_bayesian_stan/code.stan', line 85, column 8 to column 31)\n",
      "Exception: normal_lpdf: Scale parameter is 0, but must be positive! (in '/home/br1/PythonProjects/bayesian_project/git_dir/bayes_colab/ARMA_bayesian_stan/code.stan', line 85, column 8 to column 31)\n",
      "Consider re-running with show_console=True if the above output is unclear!\n"
     ]
    },
    {
     "name": "stdout",
     "output_type": "stream",
     "text": [
      "\n"
     ]
    },
    {
     "name": "stderr",
     "output_type": "stream",
     "text": [
      "08:50:52 - cmdstanpy - INFO - CmdStan start processing\n"
     ]
    },
    {
     "data": {
      "application/vnd.jupyter.widget-view+json": {
       "model_id": "246ed5881f204b928bafe1f7a385b083",
       "version_major": 2,
       "version_minor": 0
      },
      "text/plain": [
       "chain 1 |          | 00:00 Status"
      ]
     },
     "metadata": {},
     "output_type": "display_data"
    },
    {
     "data": {
      "application/vnd.jupyter.widget-view+json": {
       "model_id": "656d1847363641728016aa10a8a6cc68",
       "version_major": 2,
       "version_minor": 0
      },
      "text/plain": [
       "chain 2 |          | 00:00 Status"
      ]
     },
     "metadata": {},
     "output_type": "display_data"
    },
    {
     "data": {
      "application/vnd.jupyter.widget-view+json": {
       "model_id": "b4cab16845d045848e22717a979b138d",
       "version_major": 2,
       "version_minor": 0
      },
      "text/plain": [
       "chain 3 |          | 00:00 Status"
      ]
     },
     "metadata": {},
     "output_type": "display_data"
    },
    {
     "data": {
      "application/vnd.jupyter.widget-view+json": {
       "model_id": "e2413a19e1c247a6be53cdf0141bd27b",
       "version_major": 2,
       "version_minor": 0
      },
      "text/plain": [
       "chain 4 |          | 00:00 Status"
      ]
     },
     "metadata": {},
     "output_type": "display_data"
    },
    {
     "name": "stdout",
     "output_type": "stream",
     "text": [
      "                                                                                                                                                                                                                                                                                                                                "
     ]
    },
    {
     "name": "stderr",
     "output_type": "stream",
     "text": [
      "08:51:24 - cmdstanpy - INFO - CmdStan done processing.\n",
      "08:51:24 - cmdstanpy - WARNING - Non-fatal error during sampling:\n",
      "Exception: normal_lpdf: Scale parameter is 0, but must be positive! (in '/home/br1/PythonProjects/bayesian_project/git_dir/bayes_colab/ARMA_bayesian_stan/code.stan', line 85, column 8 to column 31)\n",
      "Exception: normal_lpdf: Scale parameter is 0, but must be positive! (in '/home/br1/PythonProjects/bayesian_project/git_dir/bayes_colab/ARMA_bayesian_stan/code.stan', line 85, column 8 to column 31)\n",
      "Consider re-running with show_console=True if the above output is unclear!\n"
     ]
    },
    {
     "name": "stdout",
     "output_type": "stream",
     "text": [
      "\n"
     ]
    },
    {
     "name": "stderr",
     "output_type": "stream",
     "text": [
      "08:51:24 - cmdstanpy - INFO - CmdStan start processing\n"
     ]
    },
    {
     "data": {
      "application/vnd.jupyter.widget-view+json": {
       "model_id": "334fb3d8e59046ef9d78490afac03009",
       "version_major": 2,
       "version_minor": 0
      },
      "text/plain": [
       "chain 1 |          | 00:00 Status"
      ]
     },
     "metadata": {},
     "output_type": "display_data"
    },
    {
     "data": {
      "application/vnd.jupyter.widget-view+json": {
       "model_id": "ca1bf847f8e34de498f15359c9b522c3",
       "version_major": 2,
       "version_minor": 0
      },
      "text/plain": [
       "chain 2 |          | 00:00 Status"
      ]
     },
     "metadata": {},
     "output_type": "display_data"
    },
    {
     "data": {
      "application/vnd.jupyter.widget-view+json": {
       "model_id": "fccf6cf3830c431389e9634f249271c5",
       "version_major": 2,
       "version_minor": 0
      },
      "text/plain": [
       "chain 3 |          | 00:00 Status"
      ]
     },
     "metadata": {},
     "output_type": "display_data"
    },
    {
     "data": {
      "application/vnd.jupyter.widget-view+json": {
       "model_id": "1fb893bb4aef439eaea25761af4f6a48",
       "version_major": 2,
       "version_minor": 0
      },
      "text/plain": [
       "chain 4 |          | 00:00 Status"
      ]
     },
     "metadata": {},
     "output_type": "display_data"
    },
    {
     "name": "stdout",
     "output_type": "stream",
     "text": [
      "                                                                                                                                                                                                                                                                                                                                "
     ]
    },
    {
     "name": "stderr",
     "output_type": "stream",
     "text": [
      "08:51:55 - cmdstanpy - INFO - CmdStan done processing.\n",
      "08:51:55 - cmdstanpy - WARNING - Non-fatal error during sampling:\n",
      "Exception: normal_lpdf: Scale parameter is 0, but must be positive! (in '/home/br1/PythonProjects/bayesian_project/git_dir/bayes_colab/ARMA_bayesian_stan/code.stan', line 85, column 8 to column 31)\n",
      "Exception: normal_lpdf: Scale parameter is 0, but must be positive! (in '/home/br1/PythonProjects/bayesian_project/git_dir/bayes_colab/ARMA_bayesian_stan/code.stan', line 85, column 8 to column 31)\n",
      "Consider re-running with show_console=True if the above output is unclear!\n"
     ]
    },
    {
     "name": "stdout",
     "output_type": "stream",
     "text": [
      "\n"
     ]
    },
    {
     "name": "stderr",
     "output_type": "stream",
     "text": [
      "08:51:56 - cmdstanpy - INFO - CmdStan start processing\n"
     ]
    },
    {
     "data": {
      "application/vnd.jupyter.widget-view+json": {
       "model_id": "4f4cfc876d064d73b83b742fe897b214",
       "version_major": 2,
       "version_minor": 0
      },
      "text/plain": [
       "chain 1 |          | 00:00 Status"
      ]
     },
     "metadata": {},
     "output_type": "display_data"
    },
    {
     "data": {
      "application/vnd.jupyter.widget-view+json": {
       "model_id": "611cc470fed845a4a993d81540d6026e",
       "version_major": 2,
       "version_minor": 0
      },
      "text/plain": [
       "chain 2 |          | 00:00 Status"
      ]
     },
     "metadata": {},
     "output_type": "display_data"
    },
    {
     "data": {
      "application/vnd.jupyter.widget-view+json": {
       "model_id": "272f1af8da4d45709a30128d7302296b",
       "version_major": 2,
       "version_minor": 0
      },
      "text/plain": [
       "chain 3 |          | 00:00 Status"
      ]
     },
     "metadata": {},
     "output_type": "display_data"
    },
    {
     "data": {
      "application/vnd.jupyter.widget-view+json": {
       "model_id": "17e38db4fbd74824948052f30d9a84e7",
       "version_major": 2,
       "version_minor": 0
      },
      "text/plain": [
       "chain 4 |          | 00:00 Status"
      ]
     },
     "metadata": {},
     "output_type": "display_data"
    },
    {
     "name": "stdout",
     "output_type": "stream",
     "text": [
      "                                                                                                                                                                                                                                                                                                                                "
     ]
    },
    {
     "name": "stderr",
     "output_type": "stream",
     "text": [
      "08:52:27 - cmdstanpy - INFO - CmdStan done processing.\n"
     ]
    },
    {
     "name": "stdout",
     "output_type": "stream",
     "text": [
      "\n"
     ]
    },
    {
     "name": "stderr",
     "output_type": "stream",
     "text": [
      "08:52:28 - cmdstanpy - INFO - CmdStan start processing\n"
     ]
    },
    {
     "data": {
      "application/vnd.jupyter.widget-view+json": {
       "model_id": "82002e6423ef4d6ba8e9c8d26397a3ea",
       "version_major": 2,
       "version_minor": 0
      },
      "text/plain": [
       "chain 1 |          | 00:00 Status"
      ]
     },
     "metadata": {},
     "output_type": "display_data"
    },
    {
     "data": {
      "application/vnd.jupyter.widget-view+json": {
       "model_id": "ec5cfe20208c4672b913231f8ad2ae51",
       "version_major": 2,
       "version_minor": 0
      },
      "text/plain": [
       "chain 2 |          | 00:00 Status"
      ]
     },
     "metadata": {},
     "output_type": "display_data"
    },
    {
     "data": {
      "application/vnd.jupyter.widget-view+json": {
       "model_id": "a61933a1a2784fb8a773390117a0b58c",
       "version_major": 2,
       "version_minor": 0
      },
      "text/plain": [
       "chain 3 |          | 00:00 Status"
      ]
     },
     "metadata": {},
     "output_type": "display_data"
    },
    {
     "data": {
      "application/vnd.jupyter.widget-view+json": {
       "model_id": "053ecf54c0d04b7ab24b4524af125f4e",
       "version_major": 2,
       "version_minor": 0
      },
      "text/plain": [
       "chain 4 |          | 00:00 Status"
      ]
     },
     "metadata": {},
     "output_type": "display_data"
    },
    {
     "name": "stdout",
     "output_type": "stream",
     "text": [
      "                                                                                                                                                                                                                                                                                                                                "
     ]
    },
    {
     "name": "stderr",
     "output_type": "stream",
     "text": [
      "08:52:57 - cmdstanpy - INFO - CmdStan done processing.\n",
      "08:52:57 - cmdstanpy - WARNING - Non-fatal error during sampling:\n",
      "Exception: normal_lpdf: Scale parameter is 0, but must be positive! (in '/home/br1/PythonProjects/bayesian_project/git_dir/bayes_colab/ARMA_bayesian_stan/code.stan', line 85, column 8 to column 31)\n",
      "Consider re-running with show_console=True if the above output is unclear!\n"
     ]
    },
    {
     "name": "stdout",
     "output_type": "stream",
     "text": [
      "\n"
     ]
    },
    {
     "name": "stderr",
     "output_type": "stream",
     "text": [
      "08:52:58 - cmdstanpy - INFO - CmdStan start processing\n"
     ]
    },
    {
     "data": {
      "application/vnd.jupyter.widget-view+json": {
       "model_id": "226185afd5244df7bb5f210a4534ae21",
       "version_major": 2,
       "version_minor": 0
      },
      "text/plain": [
       "chain 1 |          | 00:00 Status"
      ]
     },
     "metadata": {},
     "output_type": "display_data"
    },
    {
     "data": {
      "application/vnd.jupyter.widget-view+json": {
       "model_id": "68353f5c25e94cdab75f05f816499abf",
       "version_major": 2,
       "version_minor": 0
      },
      "text/plain": [
       "chain 2 |          | 00:00 Status"
      ]
     },
     "metadata": {},
     "output_type": "display_data"
    },
    {
     "data": {
      "application/vnd.jupyter.widget-view+json": {
       "model_id": "aeb7bcde1b7c44d9a27186a5376b3941",
       "version_major": 2,
       "version_minor": 0
      },
      "text/plain": [
       "chain 3 |          | 00:00 Status"
      ]
     },
     "metadata": {},
     "output_type": "display_data"
    },
    {
     "data": {
      "application/vnd.jupyter.widget-view+json": {
       "model_id": "4085ebf7f0c84e04805ce31c85720b35",
       "version_major": 2,
       "version_minor": 0
      },
      "text/plain": [
       "chain 4 |          | 00:00 Status"
      ]
     },
     "metadata": {},
     "output_type": "display_data"
    },
    {
     "name": "stdout",
     "output_type": "stream",
     "text": [
      "                                                                                                                                                                                                                                                                                                                                "
     ]
    },
    {
     "name": "stderr",
     "output_type": "stream",
     "text": [
      "08:53:30 - cmdstanpy - INFO - CmdStan done processing.\n",
      "08:53:30 - cmdstanpy - WARNING - Non-fatal error during sampling:\n",
      "Exception: normal_lpdf: Scale parameter is 0, but must be positive! (in '/home/br1/PythonProjects/bayesian_project/git_dir/bayes_colab/ARMA_bayesian_stan/code.stan', line 85, column 8 to column 31)\n",
      "Consider re-running with show_console=True if the above output is unclear!\n"
     ]
    },
    {
     "name": "stdout",
     "output_type": "stream",
     "text": [
      "\n"
     ]
    },
    {
     "name": "stderr",
     "output_type": "stream",
     "text": [
      "08:53:31 - cmdstanpy - INFO - CmdStan start processing\n"
     ]
    },
    {
     "data": {
      "application/vnd.jupyter.widget-view+json": {
       "model_id": "7fe51993d7bf4caeb4201d1a4b53a65a",
       "version_major": 2,
       "version_minor": 0
      },
      "text/plain": [
       "chain 1 |          | 00:00 Status"
      ]
     },
     "metadata": {},
     "output_type": "display_data"
    },
    {
     "data": {
      "application/vnd.jupyter.widget-view+json": {
       "model_id": "d9950d96e429494fa212cff5edde9ff7",
       "version_major": 2,
       "version_minor": 0
      },
      "text/plain": [
       "chain 2 |          | 00:00 Status"
      ]
     },
     "metadata": {},
     "output_type": "display_data"
    },
    {
     "data": {
      "application/vnd.jupyter.widget-view+json": {
       "model_id": "b9cfcd3879af4ca58566d0023d549d50",
       "version_major": 2,
       "version_minor": 0
      },
      "text/plain": [
       "chain 3 |          | 00:00 Status"
      ]
     },
     "metadata": {},
     "output_type": "display_data"
    },
    {
     "data": {
      "application/vnd.jupyter.widget-view+json": {
       "model_id": "90e50e26872b4c5298c1839b1b34befa",
       "version_major": 2,
       "version_minor": 0
      },
      "text/plain": [
       "chain 4 |          | 00:00 Status"
      ]
     },
     "metadata": {},
     "output_type": "display_data"
    },
    {
     "name": "stdout",
     "output_type": "stream",
     "text": [
      "                                                                                                                                                                                                                                                                                                                                "
     ]
    },
    {
     "name": "stderr",
     "output_type": "stream",
     "text": [
      "08:54:23 - cmdstanpy - INFO - CmdStan done processing.\n",
      "08:54:23 - cmdstanpy - WARNING - Non-fatal error during sampling:\n",
      "Exception: normal_lpdf: Scale parameter is 0, but must be positive! (in '/home/br1/PythonProjects/bayesian_project/git_dir/bayes_colab/ARMA_bayesian_stan/code.stan', line 85, column 8 to column 31)\n",
      "Exception: normal_lpdf: Scale parameter is 0, but must be positive! (in '/home/br1/PythonProjects/bayesian_project/git_dir/bayes_colab/ARMA_bayesian_stan/code.stan', line 85, column 8 to column 31)\n",
      "Exception: normal_lpdf: Scale parameter is 0, but must be positive! (in '/home/br1/PythonProjects/bayesian_project/git_dir/bayes_colab/ARMA_bayesian_stan/code.stan', line 85, column 8 to column 31)\n",
      "Consider re-running with show_console=True if the above output is unclear!\n"
     ]
    },
    {
     "name": "stdout",
     "output_type": "stream",
     "text": [
      "\n"
     ]
    },
    {
     "name": "stderr",
     "output_type": "stream",
     "text": [
      "08:54:24 - cmdstanpy - INFO - CmdStan start processing\n"
     ]
    },
    {
     "data": {
      "application/vnd.jupyter.widget-view+json": {
       "model_id": "74382845fea94fa79814f4e641d31731",
       "version_major": 2,
       "version_minor": 0
      },
      "text/plain": [
       "chain 1 |          | 00:00 Status"
      ]
     },
     "metadata": {},
     "output_type": "display_data"
    },
    {
     "data": {
      "application/vnd.jupyter.widget-view+json": {
       "model_id": "d149524c5d1241b6b28d7ef54c9195a4",
       "version_major": 2,
       "version_minor": 0
      },
      "text/plain": [
       "chain 2 |          | 00:00 Status"
      ]
     },
     "metadata": {},
     "output_type": "display_data"
    },
    {
     "data": {
      "application/vnd.jupyter.widget-view+json": {
       "model_id": "bb8d0e237ddf4734a62c05ba93eb38ac",
       "version_major": 2,
       "version_minor": 0
      },
      "text/plain": [
       "chain 3 |          | 00:00 Status"
      ]
     },
     "metadata": {},
     "output_type": "display_data"
    },
    {
     "data": {
      "application/vnd.jupyter.widget-view+json": {
       "model_id": "563482c3581d4259ba35ac5b88b4381c",
       "version_major": 2,
       "version_minor": 0
      },
      "text/plain": [
       "chain 4 |          | 00:00 Status"
      ]
     },
     "metadata": {},
     "output_type": "display_data"
    },
    {
     "name": "stdout",
     "output_type": "stream",
     "text": [
      "                                                                                                                                                                                                                                                                                                                                "
     ]
    },
    {
     "name": "stderr",
     "output_type": "stream",
     "text": [
      "08:54:56 - cmdstanpy - INFO - CmdStan done processing.\n",
      "08:54:56 - cmdstanpy - WARNING - Non-fatal error during sampling:\n",
      "Exception: normal_lpdf: Scale parameter is 0, but must be positive! (in '/home/br1/PythonProjects/bayesian_project/git_dir/bayes_colab/ARMA_bayesian_stan/code.stan', line 85, column 8 to column 31)\n",
      "Exception: normal_lpdf: Scale parameter is 0, but must be positive! (in '/home/br1/PythonProjects/bayesian_project/git_dir/bayes_colab/ARMA_bayesian_stan/code.stan', line 85, column 8 to column 31)\n",
      "Consider re-running with show_console=True if the above output is unclear!\n"
     ]
    },
    {
     "name": "stdout",
     "output_type": "stream",
     "text": [
      "\n"
     ]
    },
    {
     "name": "stderr",
     "output_type": "stream",
     "text": [
      "08:54:57 - cmdstanpy - INFO - CmdStan start processing\n"
     ]
    },
    {
     "data": {
      "application/vnd.jupyter.widget-view+json": {
       "model_id": "f5f02db1f83947d586841db083a2acae",
       "version_major": 2,
       "version_minor": 0
      },
      "text/plain": [
       "chain 1 |          | 00:00 Status"
      ]
     },
     "metadata": {},
     "output_type": "display_data"
    },
    {
     "data": {
      "application/vnd.jupyter.widget-view+json": {
       "model_id": "b4e54f27ad824454bfacd501073ad675",
       "version_major": 2,
       "version_minor": 0
      },
      "text/plain": [
       "chain 2 |          | 00:00 Status"
      ]
     },
     "metadata": {},
     "output_type": "display_data"
    },
    {
     "data": {
      "application/vnd.jupyter.widget-view+json": {
       "model_id": "29ec26169a3540ac8d9735dc94329337",
       "version_major": 2,
       "version_minor": 0
      },
      "text/plain": [
       "chain 3 |          | 00:00 Status"
      ]
     },
     "metadata": {},
     "output_type": "display_data"
    },
    {
     "data": {
      "application/vnd.jupyter.widget-view+json": {
       "model_id": "758f771974b14a42984a2b9f3f3ff5ee",
       "version_major": 2,
       "version_minor": 0
      },
      "text/plain": [
       "chain 4 |          | 00:00 Status"
      ]
     },
     "metadata": {},
     "output_type": "display_data"
    },
    {
     "name": "stdout",
     "output_type": "stream",
     "text": [
      "                                                                                                                                                                                                                                                                                                                                "
     ]
    },
    {
     "name": "stderr",
     "output_type": "stream",
     "text": [
      "08:55:44 - cmdstanpy - INFO - CmdStan done processing.\n",
      "08:55:44 - cmdstanpy - WARNING - Non-fatal error during sampling:\n",
      "Exception: normal_lpdf: Scale parameter is 0, but must be positive! (in '/home/br1/PythonProjects/bayesian_project/git_dir/bayes_colab/ARMA_bayesian_stan/code.stan', line 85, column 8 to column 31)\n",
      "Consider re-running with show_console=True if the above output is unclear!\n"
     ]
    },
    {
     "name": "stdout",
     "output_type": "stream",
     "text": [
      "\n"
     ]
    }
   ],
   "source": [
    "import arma_2_1_with_nan\n",
    "\n",
    "dizionario = arma_2_1_with_nan.fit_all_arma(df)"
   ]
  },
  {
   "cell_type": "code",
   "execution_count": 25,
   "id": "4ad95567-8417-4d20-aa5e-5ac0cb1efb6f",
   "metadata": {},
   "outputs": [],
   "source": [
    "for value in dizionario:\n",
    "    dizionario[value].to_netcdf(filename='./inference_data_211_with_nan/'+value+'.ncdf')"
   ]
  },
  {
   "cell_type": "code",
   "execution_count": null,
   "id": "a2d972cb-e9b2-43bd-a91b-0ce3c98d8c63",
   "metadata": {},
   "outputs": [],
   "source": []
  }
 ],
 "metadata": {
  "kernelspec": {
   "display_name": "Python 3 (ipykernel)",
   "language": "python",
   "name": "python3"
  },
  "language_info": {
   "codemirror_mode": {
    "name": "ipython",
    "version": 3
   },
   "file_extension": ".py",
   "mimetype": "text/x-python",
   "name": "python",
   "nbconvert_exporter": "python",
   "pygments_lexer": "ipython3",
   "version": "3.10.6"
  }
 },
 "nbformat": 4,
 "nbformat_minor": 5
}
