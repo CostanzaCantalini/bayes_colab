{
 "cells": [
  {
   "cell_type": "code",
   "execution_count": 1,
   "id": "d55eaeaa-be70-4f4f-aea1-74ec3833ac01",
   "metadata": {
    "scrolled": false
   },
   "outputs": [
    {
     "name": "stderr",
     "output_type": "stream",
     "text": [
      "22:25:49 - cmdstanpy - INFO - compiling stan file C:\\Users\\enogj\\Desktop\\ARIMA_STAN_matrices tutti\\code.stan to exe file C:\\Users\\enogj\\Desktop\\ARIMA_STAN_matrices tutti\\code.exe\n",
      "22:26:22 - cmdstanpy - INFO - compiled model executable: C:\\Users\\enogj\\Desktop\\ARIMA_STAN_matrices tutti\\code.exe\n",
      "22:26:22 - cmdstanpy - WARNING - Stan compiler has produced 1 warnings:\n",
      "22:26:22 - cmdstanpy - WARNING - \n",
      "--- Translating Stan model to C++ code ---\n",
      "bin/stanc.exe  --o=C:/Users/enogj/Desktop/ARIMA_~3/code.hpp C:/Users/enogj/Desktop/ARIMA_~3/code.stan\n",
      "Warning in 'C:/Users/enogj/Desktop/ARIMA_~3/code.stan', line 193, column 42: Comments\n",
      "    beginning with # are deprecated and this syntax will be removed in Stan\n",
      "    2.32.0. Use // to begin line comments; this can be done automatically\n",
      "    using the auto-format flag to stanc\n",
      "\n",
      "--- Compiling, linking C++ code ---\n",
      "g++ -std=c++1y -m64 -D_REENTRANT -Wall -Wno-unused-function -Wno-uninitialized -Wno-unused-but-set-variable -Wno-unused-variable -Wno-sign-compare -Wno-unused-local-typedefs -Wno-int-in-bool-context -Wno-attributes -Wno-ignored-attributes      -I stan/lib/stan_math/lib/tbb_2020.3/include    -O3 -I src -I stan/src -I lib/rapidjson_1.1.0/ -I lib/CLI11-1.9.1/ -I stan/lib/stan_math/ -I stan/lib/stan_math/lib/eigen_3.3.9 -I stan/lib/stan_math/lib/boost_1.78.0 -I stan/lib/stan_math/lib/sundials_6.1.1/include -I stan/lib/stan_math/lib/sundials_6.1.1/src/sundials  -D_USE_MATH_DEFINES  -DBOOST_DISABLE_ASSERTS          -c  -x c++ -o C:/Users/enogj/Desktop/ARIMA_~3/code.o C:/Users/enogj/Desktop/ARIMA_~3/code.hpp\n",
      "g++ -std=c++1y -m64 -D_REENTRANT -Wall -Wno-unused-function -Wno-uninitialized -Wno-unused-but-set-variable -Wno-unused-variable -Wno-sign-compare -Wno-unused-local-typedefs -Wno-int-in-bool-context -Wno-attributes -Wno-ignored-attributes      -I stan/lib/stan_math/lib/tbb_2020.3/include    -O3 -I src -I stan/src -I lib/rapidjson_1.1.0/ -I lib/CLI11-1.9.1/ -I stan/lib/stan_math/ -I stan/lib/stan_math/lib/eigen_3.3.9 -I stan/lib/stan_math/lib/boost_1.78.0 -I stan/lib/stan_math/lib/sundials_6.1.1/include -I stan/lib/stan_math/lib/sundials_6.1.1/src/sundials  -D_USE_MATH_DEFINES  -DBOOST_DISABLE_ASSERTS                -Wl,-L,\"C:/Users/enogj/anaconda3/envs/my-env/Library/bin/cmdstan/stan/lib/stan_math/lib/tbb\" -Wl,-rpath,\"C:/Users/enogj/anaconda3/envs/my-env/Library/bin/cmdstan/stan/lib/stan_math/lib/tbb\"      C:/Users/enogj/Desktop/ARIMA_~3/code.o src/cmdstan/main.o  -static-libgcc -static-libstdc++      -Wl,-L,\"C:/Users/enogj/anaconda3/envs/my-env/Library/bin/cmdstan/stan/lib/stan_math/lib/tbb\" -Wl,-rpath,\"C:/Users/enogj/anaconda3/envs/my-env/Library/bin/cmdstan/stan/lib/stan_math/lib/tbb\"   stan/lib/stan_math/lib/sundials_6.1.1/lib/libsundials_nvecserial.a stan/lib/stan_math/lib/sundials_6.1.1/lib/libsundials_cvodes.a stan/lib/stan_math/lib/sundials_6.1.1/lib/libsundials_idas.a stan/lib/stan_math/lib/sundials_6.1.1/lib/libsundials_kinsol.a  stan/lib/stan_math/lib/tbb/tbb.dll -o C:/Users/enogj/Desktop/ARIMA_~3/code.exe\n",
      "rm -f C:/Users/enogj/Desktop/ARIMA_~3/code.o\n",
      "\n"
     ]
    }
   ],
   "source": [
    "from cmdstanpy import cmdstan_path, CmdStanModel\n",
    "stan_model = CmdStanModel(stan_file='code.stan')"
   ]
  },
  {
   "cell_type": "code",
   "execution_count": null,
   "id": "463130fb-919a-418a-849c-8fbef318bd04",
   "metadata": {},
   "outputs": [],
   "source": []
  }
 ],
 "metadata": {
  "kernelspec": {
   "display_name": "Python 3 (ipykernel)",
   "language": "python",
   "name": "python3"
  },
  "language_info": {
   "codemirror_mode": {
    "name": "ipython",
    "version": 3
   },
   "file_extension": ".py",
   "mimetype": "text/x-python",
   "name": "python",
   "nbconvert_exporter": "python",
   "pygments_lexer": "ipython3",
   "version": "3.9.13"
  }
 },
 "nbformat": 4,
 "nbformat_minor": 5
}
