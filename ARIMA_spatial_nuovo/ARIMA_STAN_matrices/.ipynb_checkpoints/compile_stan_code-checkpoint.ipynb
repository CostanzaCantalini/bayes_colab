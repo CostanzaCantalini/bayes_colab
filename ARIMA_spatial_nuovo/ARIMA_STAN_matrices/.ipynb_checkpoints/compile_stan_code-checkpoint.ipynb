{
 "cells": [
  {
   "cell_type": "code",
   "execution_count": 1,
   "id": "d55eaeaa-be70-4f4f-aea1-74ec3833ac01",
   "metadata": {},
   "outputs": [
    {
     "name": "stderr",
     "output_type": "stream",
     "text": [
      "18:29:56 - cmdstanpy - INFO - compiling stan file /home/br1/PythonProjects/PythonStats/git_bayesian_copie/ARIMA_spatial_versione_con_condizioni_iniziali_costanti/ARIMA_STAN_matrices/code.stan to exe file /home/br1/PythonProjects/PythonStats/git_bayesian_copie/ARIMA_spatial_versione_con_condizioni_iniziali_costanti/ARIMA_STAN_matrices/code\n",
      "18:30:29 - cmdstanpy - INFO - compiled model executable: /home/br1/PythonProjects/PythonStats/git_bayesian_copie/ARIMA_spatial_versione_con_condizioni_iniziali_costanti/ARIMA_STAN_matrices/code\n",
      "18:30:29 - cmdstanpy - WARNING - Stan compiler has produced 1 warnings:\n",
      "18:30:29 - cmdstanpy - WARNING - \n",
      "--- Translating Stan model to C++ code ---\n",
      "bin/stanc --O1 --o=/home/br1/PythonProjects/PythonStats/git_bayesian_copie/ARIMA_spatial_versione_con_condizioni_iniziali_costanti/ARIMA_STAN_matrices/code.hpp /home/br1/PythonProjects/PythonStats/git_bayesian_copie/ARIMA_spatial_versione_con_condizioni_iniziali_costanti/ARIMA_STAN_matrices/code.stan\n",
      "Warning in '/home/br1/PythonProjects/PythonStats/git_bayesian_copie/ARIMA_spatial_versione_con_condizioni_iniziali_costanti/ARIMA_STAN_matrices/code.stan', line 49, column 38: Found\n",
      "    int division:\n",
      "      S * (S - 1) / 2\n",
      "    Values will be rounded towards zero. If rounding is not desired you can\n",
      "    write\n",
      "    the division as\n",
      "      S * (S - 1) / 2.0\n",
      "    If rounding is intended please use the integer division operator %/%.\n",
      "\n",
      "--- Compiling, linking C++ code ---\n",
      "g++ -std=c++1y -pthread -D_REENTRANT -Wno-sign-compare -Wno-ignored-attributes      -I stan/lib/stan_math/lib/tbb_2020.3/include    -O3 -I src -I stan/src -I stan/lib/rapidjson_1.1.0/ -I lib/CLI11-1.9.1/ -I stan/lib/stan_math/ -I stan/lib/stan_math/lib/eigen_3.3.9 -I stan/lib/stan_math/lib/boost_1.78.0 -I stan/lib/stan_math/lib/sundials_6.1.1/include -I stan/lib/stan_math/lib/sundials_6.1.1/src/sundials    -DBOOST_DISABLE_ASSERTS          -c -Wno-ignored-attributes   -x c++ -o /home/br1/PythonProjects/PythonStats/git_bayesian_copie/ARIMA_spatial_versione_con_condizioni_iniziali_costanti/ARIMA_STAN_matrices/code.o /home/br1/PythonProjects/PythonStats/git_bayesian_copie/ARIMA_spatial_versione_con_condizioni_iniziali_costanti/ARIMA_STAN_matrices/code.hpp\n",
      "g++ -std=c++1y -pthread -D_REENTRANT -Wno-sign-compare -Wno-ignored-attributes      -I stan/lib/stan_math/lib/tbb_2020.3/include    -O3 -I src -I stan/src -I stan/lib/rapidjson_1.1.0/ -I lib/CLI11-1.9.1/ -I stan/lib/stan_math/ -I stan/lib/stan_math/lib/eigen_3.3.9 -I stan/lib/stan_math/lib/boost_1.78.0 -I stan/lib/stan_math/lib/sundials_6.1.1/include -I stan/lib/stan_math/lib/sundials_6.1.1/src/sundials    -DBOOST_DISABLE_ASSERTS                -Wl,-L,\"/home/br1/.cmdstan/cmdstan-2.31.0/stan/lib/stan_math/lib/tbb\" -Wl,-rpath,\"/home/br1/.cmdstan/cmdstan-2.31.0/stan/lib/stan_math/lib/tbb\"      /home/br1/PythonProjects/PythonStats/git_bayesian_copie/ARIMA_spatial_versione_con_condizioni_iniziali_costanti/ARIMA_STAN_matrices/code.o src/cmdstan/main.o        -Wl,-L,\"/home/br1/.cmdstan/cmdstan-2.31.0/stan/lib/stan_math/lib/tbb\" -Wl,-rpath,\"/home/br1/.cmdstan/cmdstan-2.31.0/stan/lib/stan_math/lib/tbb\"   stan/lib/stan_math/lib/sundials_6.1.1/lib/libsundials_nvecserial.a stan/lib/stan_math/lib/sundials_6.1.1/lib/libsundials_cvodes.a stan/lib/stan_math/lib/sundials_6.1.1/lib/libsundials_idas.a stan/lib/stan_math/lib/sundials_6.1.1/lib/libsundials_kinsol.a  stan/lib/stan_math/lib/tbb/libtbb.so.2 -o /home/br1/PythonProjects/PythonStats/git_bayesian_copie/ARIMA_spatial_versione_con_condizioni_iniziali_costanti/ARIMA_STAN_matrices/code\n",
      "rm -f /home/br1/PythonProjects/PythonStats/git_bayesian_copie/ARIMA_spatial_versione_con_condizioni_iniziali_costanti/ARIMA_STAN_matrices/code.o\n",
      "\n"
     ]
    }
   ],
   "source": [
    "from cmdstanpy import cmdstan_path, CmdStanModel\n",
    "stan_model = CmdStanModel(stan_file='code.stan', compile=\"force\",stanc_options={\"O1\":\"\"})"
   ]
  },
  {
   "cell_type": "code",
   "execution_count": null,
   "id": "463130fb-919a-418a-849c-8fbef318bd04",
   "metadata": {},
   "outputs": [],
   "source": []
  }
 ],
 "metadata": {
  "kernelspec": {
   "display_name": "Python 3 (ipykernel)",
   "language": "python",
   "name": "python3"
  },
  "language_info": {
   "codemirror_mode": {
    "name": "ipython",
    "version": 3
   },
   "file_extension": ".py",
   "mimetype": "text/x-python",
   "name": "python",
   "nbconvert_exporter": "python",
   "pygments_lexer": "ipython3",
   "version": "3.10.6"
  }
 },
 "nbformat": 4,
 "nbformat_minor": 5
}
