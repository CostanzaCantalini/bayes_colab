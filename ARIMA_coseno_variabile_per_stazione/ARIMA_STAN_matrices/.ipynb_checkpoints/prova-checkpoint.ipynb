{
 "cells": [
  {
   "cell_type": "code",
   "execution_count": 1,
   "id": "6328475a-62a5-403f-9859-2955f5c18ba1",
   "metadata": {},
   "outputs": [],
   "source": [
    "import pandas as pd\n",
    "import numpy as np\n",
    "import matplotlib.pyplot as plt\n",
    "import matplotlib as mplt\n",
    "import seaborn as sns\n",
    "import arviz as az\n",
    "import datetime"
   ]
  },
  {
   "cell_type": "code",
   "execution_count": 2,
   "id": "1ed11dfd-8c02-4bb8-9e54-aa1ab4aac8cc",
   "metadata": {},
   "outputs": [],
   "source": [
    "import fit_arima"
   ]
  },
  {
   "cell_type": "markdown",
   "id": "978b9746-641d-4285-ba5c-8b42f16d3ea0",
   "metadata": {},
   "source": [
    "### TO-DOs:\n",
    "\n",
    "- Ripristinare la posterior_predictive (commentata nel codice STAN e non aggiornata per gestire le varie stazioni)\n",
    "- Ripristinare la registrazione dei dati mancanti (commentata nel codice fit_arima.py e non aggiornata per gestire le varie stazioni)"
   ]
  },
  {
   "cell_type": "markdown",
   "id": "7a392ed9-efbe-4ef1-8127-ee35399e7a16",
   "metadata": {},
   "source": [
    "## Day Planner\n",
    "Il modello attualmente considerato è il seguente:\n",
    "\n",
    "Definita la funzione $\\text{sigmoide}$:\n",
    "$$\n",
    "\\Sigma(z) = \\frac{e^z - 1}{e^z + 1}\n",
    "$$\n",
    "\n",
    "Sia $s$ l'indice che scorre le stazioni:\n",
    "$$\n",
    "s \\in \\left\\{ 1,\\dots, S \\right\\}\n",
    "$$\n",
    "allora:\n",
    "$$\n",
    "\\left. \\mathbf{y}_s \\right| \\gamma_\\theta, \\underline{\\gamma_\\phi}, \\sigma, \\underline{\\mu_\\phi}, \\underline{\\sigma_\\phi} \\sim \\text{ARIMA}_{2,1,1}\\left( \\Sigma(\\gamma_{\\phi,s}[0]), \\Sigma(\\gamma_{\\phi,s}[1]), \\Sigma(\\gamma_\\theta) , \\sigma\\right)\\\\\n",
    "\\left. \\gamma_{\\phi,s}[j] \\right| \\underline{\\mu_\\phi}, \\underline{\\sigma_\\phi} \\sim \\mathcal{N}\\left( \\mu_{\\phi}[j], \\sigma_{\\phi}[j] \\right), \\qquad j \\in \\left\\{ 1,\\dots,p \\right\\} = \\left\\{ 1,2 \\right\\}\\\\\n",
    "\\left. \\gamma_\\theta \\right. \\sim \\mathcal{N}\\left( 0,1 \\right)\\\\\n",
    "\\left. \\mu_\\phi[j] \\right. \\sim \\mathcal{N}\\left( 0,5 \\right) \\qquad j \\in \\left\\{ 1,\\dots,p \\right\\}\\\\\n",
    "\\left. \\sigma_\\phi[j] \\right. \\sim \\mathcal{IG}\\left( 2.1,1.1 \\right) \\qquad j \\in \\left\\{ 1,\\dots,p \\right\\}\n",
    "$$\n",
    "\n",
    "L'ARIMA utilizza anche dati precedenti al giorno iniziale trattati come dati mancanti.\n",
    "I dati mancanti in generale hanno bisogno di prior, che sono state scelte come segue:\n",
    "$$\n",
    "y[missing] \\sim \\mathcal{N}\\left( 1,1 \\right)\n",
    "$$\n",
    "(nel codice STAN sono la variabile 'w')\n",
    "\n",
    "Tuttavia i dati precedenti i giorni iniziali sono stati trattati diversamente, secondo il modello:\n",
    "$$\n",
    "y_{start} | \\mu_{start}, \\sigma_{start} \\sim \\mathcal{N}\\left( \\mu_{start}, \\sigma_{start} \\right)\\\\\n",
    "\\mu_{start} \\sim \\mathcal{N}\\left( 1,1 \\right)\\\\\n",
    "\\sigma_{start} \\sim \\mathcal{IG}\\left( 3,2 \\right)\n",
    "$$\n",
    "\n",
    "Naturalmente se scrivessimo le cose per bene, la likelihood dell'ARIMA dovrebbe essere condizionata anche ai dati mancanti"
   ]
  },
  {
   "cell_type": "code",
   "execution_count": 3,
   "id": "d5ee25a2-faba-46d1-a8d2-722facdac5e6",
   "metadata": {},
   "outputs": [],
   "source": [
    "import open_data\n",
    "df = open_data.open()"
   ]
  },
  {
   "cell_type": "markdown",
   "id": "06e2691d-757b-44b9-9a8c-0ff42ddb9ab1",
   "metadata": {},
   "source": [
    "Nel mio PC (br1) la porzione STAN del codice che segue è stata eseguita in ~ 26 minuti (da notare che prima di inserire le \"hyper prior\" che rendono il modello gerarchico, si ottenevano tempistiche di ~ 60 minuti)\n",
    "\n",
    "(Sarebbe bello eseguire tutti il codice correggendo opportunamente in funzione dei core e segnare quanto ci vuole, quindi ad esempio con 4 core inserire catene=4 e samples_per_chain=1000, 6 core catene=6, samples = 750, il tempo da registrare sarebbe quello che appare a destra della barra di caricamento quando STAN termina la computazione)"
   ]
  },
  {
   "cell_type": "code",
   "execution_count": 4,
   "id": "b9b1abce-5698-44c1-9c34-159700d9ae17",
   "metadata": {
    "tags": []
   },
   "outputs": [
    {
     "name": "stderr",
     "output_type": "stream",
     "text": [
      "11:57:47 - cmdstanpy - INFO - CmdStan start processing\n"
     ]
    },
    {
     "data": {
      "application/vnd.jupyter.widget-view+json": {
       "model_id": "b214dfcfc19846b5b951dca39f56bd92",
       "version_major": 2,
       "version_minor": 0
      },
      "text/plain": [
       "chain 1 |          | 00:00 Status"
      ]
     },
     "metadata": {},
     "output_type": "display_data"
    },
    {
     "data": {
      "application/vnd.jupyter.widget-view+json": {
       "model_id": "b14b82b536e44659bccc2fb631d82422",
       "version_major": 2,
       "version_minor": 0
      },
      "text/plain": [
       "chain 2 |          | 00:00 Status"
      ]
     },
     "metadata": {},
     "output_type": "display_data"
    },
    {
     "data": {
      "application/vnd.jupyter.widget-view+json": {
       "model_id": "ed78532e763544c9ac749efec6175251",
       "version_major": 2,
       "version_minor": 0
      },
      "text/plain": [
       "chain 3 |          | 00:00 Status"
      ]
     },
     "metadata": {},
     "output_type": "display_data"
    },
    {
     "data": {
      "application/vnd.jupyter.widget-view+json": {
       "model_id": "f30ce9ee2ca94586afacb2621be29e8b",
       "version_major": 2,
       "version_minor": 0
      },
      "text/plain": [
       "chain 4 |          | 00:00 Status"
      ]
     },
     "metadata": {},
     "output_type": "display_data"
    },
    {
     "data": {
      "application/vnd.jupyter.widget-view+json": {
       "model_id": "6984b6a83c2248ef9b58f624add9960d",
       "version_major": 2,
       "version_minor": 0
      },
      "text/plain": [
       "chain 5 |          | 00:00 Status"
      ]
     },
     "metadata": {},
     "output_type": "display_data"
    },
    {
     "data": {
      "application/vnd.jupyter.widget-view+json": {
       "model_id": "347748230ef84804aba361d72825ba37",
       "version_major": 2,
       "version_minor": 0
      },
      "text/plain": [
       "chain 6 |          | 00:00 Status"
      ]
     },
     "metadata": {},
     "output_type": "display_data"
    },
    {
     "data": {
      "application/vnd.jupyter.widget-view+json": {
       "model_id": "2257ae974b2142818a28a8043363195f",
       "version_major": 2,
       "version_minor": 0
      },
      "text/plain": [
       "chain 7 |          | 00:00 Status"
      ]
     },
     "metadata": {},
     "output_type": "display_data"
    },
    {
     "data": {
      "application/vnd.jupyter.widget-view+json": {
       "model_id": "d54988913bec4f72bcbee67df29fce1e",
       "version_major": 2,
       "version_minor": 0
      },
      "text/plain": [
       "chain 8 |          | 00:00 Status"
      ]
     },
     "metadata": {},
     "output_type": "display_data"
    },
    {
     "name": "stderr",
     "output_type": "stream",
     "text": [
      "12:00:51 - cmdstanpy - ERROR - Chain [6] error: terminated by signal 2 Unknown error -2\n",
      "12:00:51 - cmdstanpy - ERROR - Chain [4] error: terminated by signal 2 Unknown error -2\n",
      "12:00:51 - cmdstanpy - ERROR - Chain [7] error: terminated by signal 2 Unknown error -2\n",
      "12:00:51 - cmdstanpy - ERROR - Chain [5] error: terminated by signal 2 Unknown error -2\n",
      "12:00:51 - cmdstanpy - ERROR - Chain [2] error: terminated by signal 2 Unknown error -2\n",
      "12:00:51 - cmdstanpy - ERROR - Chain [3] error: terminated by signal 2 Unknown error -2\n",
      "12:00:51 - cmdstanpy - ERROR - Chain [8] error: terminated by signal 2 Unknown error -2\n",
      "12:00:51 - cmdstanpy - ERROR - Chain [1] error: terminated by signal 2 Unknown error -2\n",
      "\n",
      "KeyboardInterrupt\n",
      "\n"
     ]
    }
   ],
   "source": [
    "ritorno = fit_arima.compute(2, 1, catene=8, samples_per_chain=500, burnin=500)"
   ]
  },
  {
   "cell_type": "code",
   "execution_count": null,
   "id": "a6eeec7d-f239-41b6-9ed3-0149465f8098",
   "metadata": {},
   "outputs": [],
   "source": [
    "az.summary(ritorno['inference_data'], var_names=['theta','sigma','gamma_th', 'hyper_y_start_m', 'hyper_y_start_s', 'hyper_gamma_phi_m', 'hyper_gamma_phi_s'])"
   ]
  },
  {
   "cell_type": "code",
   "execution_count": null,
   "id": "634d119b-399e-491e-8bec-de570b702d4b",
   "metadata": {},
   "outputs": [],
   "source": [
    "az.plot_pair(ritorno['inference_data'], var_names=['hyper_gamma_phi_m', 'hyper_gamma_phi_s', 'theta', 'sigma'], divergences=True)"
   ]
  },
  {
   "cell_type": "code",
   "execution_count": null,
   "id": "3448e9b5-3930-4988-a698-959c11def53a",
   "metadata": {},
   "outputs": [],
   "source": [
    "az.plot_trace(ritorno['inference_data'], var_names=['phi','theta','sigma'])"
   ]
  },
  {
   "cell_type": "code",
   "execution_count": null,
   "id": "cfcb0c9f-9ad4-444b-89dc-7ea87ee0b052",
   "metadata": {},
   "outputs": [],
   "source": [
    "az.plot_posterior(ritorno['inference_data'], var_names=['theta','sigma','hyper_y_start_m','hyper_y_start_s', 'hyper_gamma_phi_m', 'hyper_gamma_phi_s'], hdi_prob=0.95)"
   ]
  },
  {
   "cell_type": "code",
   "execution_count": null,
   "id": "b353afbf-4406-4331-ad72-2748317dae68",
   "metadata": {},
   "outputs": [],
   "source": [
    "aux_shape = ritorno['inference_data'].posterior.phi.values.shape\n",
    "sns.kdeplot(ritorno['inference_data'].posterior.phi.values.reshape((aux_shape[0]*aux_shape[1],aux_shape[2],aux_shape[3]))[:,0,:], legend=False)"
   ]
  },
  {
   "cell_type": "code",
   "execution_count": null,
   "id": "8b6540f0-3902-427e-9ba0-fb30b88491d7",
   "metadata": {},
   "outputs": [],
   "source": [
    "aux_shape = ritorno['inference_data'].posterior.phi.values.shape\n",
    "sns.kdeplot(ritorno['inference_data'].posterior.phi.values.reshape((aux_shape[0]*aux_shape[1],aux_shape[2],aux_shape[3]))[:,1,:], legend=False)"
   ]
  },
  {
   "cell_type": "code",
   "execution_count": null,
   "id": "a444ef7f-402d-4aac-bf46-c83641d4612f",
   "metadata": {},
   "outputs": [],
   "source": [
    "y_post_pred = ritorno['inference_data'].posterior.y_post_pred.to_numpy()\n",
    "y_post_pred = y_post_pred.reshape(y_post_pred.shape[0]*y_post_pred.shape[1], y_post_pred.shape[2], y_post_pred.shape[3])\n",
    "y_post_pred.shape"
   ]
  },
  {
   "cell_type": "code",
   "execution_count": null,
   "id": "a31907ab-0fdb-476f-b006-ad00f7d51159",
   "metadata": {},
   "outputs": [],
   "source": [
    "import ipywidgets as widgets\n",
    "from ipywidgets import HBox, VBox\n",
    "from IPython.display import display"
   ]
  },
  {
   "cell_type": "code",
   "execution_count": null,
   "id": "1c2ca037-3908-47b1-9052-e6050a886403",
   "metadata": {},
   "outputs": [],
   "source": [
    "@widgets.interact(stazione = df.columns)\n",
    "def f(stazione):\n",
    "    col_map = sns.light_palette((20, 75, 70), input='husl', as_cmap=True)\n",
    "\n",
    "    plt.figure(figsize=(14,8))\n",
    "    ax = plt.subplot(1,1,1)\n",
    "\n",
    "    idx_stazione = df.columns.to_list().index(stazione)\n",
    "    \n",
    "    \"\"\"\n",
    "    sns.lineplot(np.transpose(y_post_pred[0:50,:,idx_stazione]))\n",
    "    \"\"\"\n",
    "\n",
    "    lower_lim = np.zeros(len(df.index))\n",
    "    upper_lim = np.zeros(len(df.index))    \n",
    "    for i in range(len(df.index)):\n",
    "        lower_lim[i] = np.percentile(y_post_pred[:,i,idx_stazione],2.5)\n",
    "        upper_lim[i] = np.percentile(y_post_pred[:,i,idx_stazione],97.5)\n",
    "    \n",
    "    \n",
    "#    sns.lineplot(lower_lim)\n",
    "#    sns.lineplot(upper_lim)\n",
    "    \n",
    "    for i in range(len(df.index)):\n",
    "        ax.add_patch(mplt.patches.Rectangle((i,lower_lim[i]),1,upper_lim[i]-lower_lim[i], fill=True, color=col_map(180)))\n",
    "\n",
    "    sns.lineplot(df[stazione])    \n",
    "    sns.lineplot(np.mean(y_post_pred[:,:,idx_stazione], axis=0))\n",
    "\n",
    "\n",
    "    index = 0\n",
    "    for line in ax.get_lines():\n",
    "        if index == 0:\n",
    "            col_map = sns.dark_palette((230,90,65), input='husl', as_cmap=True)\n",
    "            line.set_c(col_map(155))\n",
    "        else:\n",
    "            col_map = sns.dark_palette((10,90,65), input='husl', as_cmap=True)\n",
    "            line.set_c(col_map(175))\n",
    "        index += 1\n",
    "        \n",
    "    plt.ylim(bottom=0,top=2.5)\n",
    "\n",
    "    primo_giorno = datetime.date(2018,1,1)\n",
    "    date_da_segnare = []\n",
    "    date_da_segnare_posizioni = []\n",
    "\n",
    "    for i in range(12):\n",
    "        date_da_segnare.append(datetime.date(2018,i+1,1))\n",
    "        date_da_segnare_posizioni.append((date_da_segnare[2*i] - primo_giorno).days)\n",
    "        date_da_segnare.append(datetime.date(2018,i+1,15))\n",
    "        date_da_segnare_posizioni.append((date_da_segnare[2*i+1] - primo_giorno).days)\n",
    "        date_da_segnare[2*i] = date_da_segnare[2*i].isoformat()\n",
    "        date_da_segnare[2*i+1] = date_da_segnare[2*i+1].isoformat()\n",
    "\n",
    "    plt.xticks(date_da_segnare_posizioni,date_da_segnare,rotation=65)\n",
    "    plt.tick_params(\n",
    "        axis='x',          # changes apply to the x-axis\n",
    "        which='both',      # both major and minor ticks are affected\n",
    "        bottom=True,      # ticks along the bottom edge are off\n",
    "        top=False,         # ticks along the top edge are off\n",
    "        labelbottom=True)\n",
    "    plt.grid()\n",
    "    \n",
    "    \"\"\"\n",
    "    ax.get_legend().remove()\n",
    "    col_vals = np.linspace(1,255,num=len(df.columns))\n",
    "    index = 0\n",
    "    for line in ax.get_lines():\n",
    "        if(index == len(ax.get_lines()) - 1):\n",
    "            col_map = sns.dark_palette((230,90,65), input='husl', as_cmap=True)\n",
    "            line.set_c(col_map(175))\n",
    "            continue\n",
    "        if(index == len(ax.get_lines()) - 2):\n",
    "            col_map = sns.dark_palette((120,90,65), input='husl', as_cmap=True)\n",
    "            line.set_c(col_map(175))\n",
    "            index += 1\n",
    "            continue\n",
    "\n",
    "        #line.set_c(col_map(int(np.round(col_vals[index]))))\n",
    "        line.set_c(col_map(220))\n",
    "        line.set_alpha(0.3)\n",
    "        index += 1\n",
    "    \"\"\"\n",
    "    \n",
    "    \n",
    "\n",
    "    plt.show()"
   ]
  },
  {
   "cell_type": "code",
   "execution_count": null,
   "id": "6b84db1d-9989-4b89-bc82-0c1632147ef3",
   "metadata": {},
   "outputs": [],
   "source": [
    "def f(stazione):\n",
    "    col_map = sns.light_palette((20, 75, 70), input='husl', as_cmap=True)\n",
    "\n",
    "    plt.figure(figsize=(14,8))\n",
    "    ax = plt.subplot(1,1,1)\n",
    "\n",
    "    idx_stazione = df.columns.to_list().index(stazione)\n",
    "    \n",
    "    \"\"\"\n",
    "    sns.lineplot(np.transpose(y_post_pred[0:50,:,idx_stazione]))\n",
    "    \"\"\"\n",
    "\n",
    "    lower_lim = np.zeros(len(df.index))\n",
    "    upper_lim = np.zeros(len(df.index))    \n",
    "    for i in range(len(df.index)):\n",
    "        lower_lim[i] = np.percentile(y_post_pred[:,i,idx_stazione],2.5)\n",
    "        upper_lim[i] = np.percentile(y_post_pred[:,i,idx_stazione],97.5)\n",
    "    \n",
    "    \n",
    "#    sns.lineplot(lower_lim)\n",
    "#    sns.lineplot(upper_lim)\n",
    "    \n",
    "    for i in range(len(df.index)):\n",
    "        ax.add_patch(mplt.patches.Rectangle((i,lower_lim[i]),1,upper_lim[i]-lower_lim[i], fill=True, color=col_map(180)))\n",
    "\n",
    "    sns.lineplot(df[stazione])    \n",
    "    sns.lineplot(np.mean(y_post_pred[:,:,idx_stazione], axis=0))\n",
    "\n",
    "\n",
    "    index = 0\n",
    "    for line in ax.get_lines():\n",
    "        if index == 0:\n",
    "            col_map = sns.dark_palette((230,90,65), input='husl', as_cmap=True)\n",
    "            line.set_c(col_map(155))\n",
    "        else:\n",
    "            col_map = sns.dark_palette((10,90,65), input='husl', as_cmap=True)\n",
    "            line.set_c(col_map(175))\n",
    "        index += 1\n",
    "        \n",
    "    plt.ylim(bottom=0,top=2.5)\n",
    "\n",
    "    primo_giorno = datetime.date(2018,1,1)\n",
    "    date_da_segnare = []\n",
    "    date_da_segnare_posizioni = []\n",
    "\n",
    "    for i in range(12):\n",
    "        date_da_segnare.append(datetime.date(2018,i+1,1))\n",
    "        date_da_segnare_posizioni.append((date_da_segnare[2*i] - primo_giorno).days)\n",
    "        date_da_segnare.append(datetime.date(2018,i+1,15))\n",
    "        date_da_segnare_posizioni.append((date_da_segnare[2*i+1] - primo_giorno).days)\n",
    "        date_da_segnare[2*i] = date_da_segnare[2*i].isoformat()\n",
    "        date_da_segnare[2*i+1] = date_da_segnare[2*i+1].isoformat()\n",
    "\n",
    "    plt.xticks(date_da_segnare_posizioni,date_da_segnare,rotation=65)\n",
    "    plt.tick_params(\n",
    "        axis='x',          # changes apply to the x-axis\n",
    "        which='both',      # both major and minor ticks are affected\n",
    "        bottom=True,      # ticks along the bottom edge are off\n",
    "        top=False,         # ticks along the top edge are off\n",
    "        labelbottom=True)\n",
    "    plt.grid()\n",
    "    \n",
    "    \"\"\"\n",
    "    ax.get_legend().remove()\n",
    "    col_vals = np.linspace(1,255,num=len(df.columns))\n",
    "    index = 0\n",
    "    for line in ax.get_lines():\n",
    "        if(index == len(ax.get_lines()) - 1):\n",
    "            col_map = sns.dark_palette((230,90,65), input='husl', as_cmap=True)\n",
    "            line.set_c(col_map(175))\n",
    "            continue\n",
    "        if(index == len(ax.get_lines()) - 2):\n",
    "            col_map = sns.dark_palette((120,90,65), input='husl', as_cmap=True)\n",
    "            line.set_c(col_map(175))\n",
    "            index += 1\n",
    "            continue\n",
    "\n",
    "        #line.set_c(col_map(int(np.round(col_vals[index]))))\n",
    "        line.set_c(col_map(220))\n",
    "        line.set_alpha(0.3)\n",
    "        index += 1\n",
    "    \"\"\"\n",
    "    \n",
    "    \n",
    "\n",
    "    plt.show()"
   ]
  },
  {
   "cell_type": "code",
   "execution_count": null,
   "id": "82e0bc2a-9cc9-4eef-bf3f-dab4ef5d7d29",
   "metadata": {},
   "outputs": [],
   "source": [
    "f('CAORLE')"
   ]
  },
  {
   "cell_type": "code",
   "execution_count": null,
   "id": "049d8f3c-b0e7-4911-803e-d4a9f701ff58",
   "metadata": {},
   "outputs": [],
   "source": [
    "f('SAVIGNANO DI RIGO')"
   ]
  }
 ],
 "metadata": {
  "kernelspec": {
   "display_name": "Python 3 (ipykernel)",
   "language": "python",
   "name": "python3"
  },
  "language_info": {
   "codemirror_mode": {
    "name": "ipython",
    "version": 3
   },
   "file_extension": ".py",
   "mimetype": "text/x-python",
   "name": "python",
   "nbconvert_exporter": "python",
   "pygments_lexer": "ipython3",
   "version": "3.10.6"
  }
 },
 "nbformat": 4,
 "nbformat_minor": 5
}
